{
 "cells": [
  {
   "cell_type": "markdown",
   "metadata": {},
   "source": [
    "# FFTRecon using NBODYKIT"
   ]
  },
  {
   "cell_type": "code",
   "execution_count": 1,
   "metadata": {},
   "outputs": [],
   "source": [
    "\"\"\"\n",
    "    The plan is\n",
    "    1. Simulate a set of data and random catalogs\n",
    "    2. Run FFTRecon to perform FFT based BAO reconstruction\n",
    "\"\"\"\n",
    "%matplotlib inline\n",
    "import matplotlib.pyplot as plt\n",
    "import nbodykit.lab as nb\n",
    "from nbodykit.cosmology import Planck15"
   ]
  },
  {
   "cell_type": "code",
   "execution_count": 2,
   "metadata": {},
   "outputs": [],
   "source": [
    "# cosmology\n",
    "Plin = nb.cosmology.LinearPower(Planck15, 0.0, transfer='CLASS')"
   ]
  },
  {
   "cell_type": "code",
   "execution_count": 3,
   "metadata": {},
   "outputs": [],
   "source": [
    "# generate the 'data' catalog\n",
    "cat = nb.LogNormalCatalog(Plin=Plin, nbar=1.0e-4, \n",
    "                          BoxSize=256., Nmesh=256, bias=1.0, seed=82)"
   ]
  },
  {
   "cell_type": "code",
   "execution_count": null,
   "metadata": {},
   "outputs": [],
   "source": []
  }
 ],
 "metadata": {
  "kernelspec": {
   "display_name": "python (py3p6)",
   "language": "python",
   "name": "py3p6"
  },
  "language_info": {
   "codemirror_mode": {
    "name": "ipython",
    "version": 3
   },
   "file_extension": ".py",
   "mimetype": "text/x-python",
   "name": "python",
   "nbconvert_exporter": "python",
   "pygments_lexer": "ipython3",
   "version": "3.7.4"
  }
 },
 "nbformat": 4,
 "nbformat_minor": 4
}
