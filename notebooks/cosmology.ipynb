{
 "cells": [
  {
   "cell_type": "markdown",
   "metadata": {},
   "source": [
    "# Calculate Angular Scale of BAO"
   ]
  },
  {
   "cell_type": "markdown",
   "metadata": {},
   "source": [
    "A notebook for calculating the scale of the BAO in CMB. To do the integrations, we make use of `scipy.integrate.quad`   \n",
    "Comoving sound horizon s = $\\int^{\\infty}_{z_{rec}} \\frac{c_{s}dz}{H(z)}$    \n",
    "Comoving distance r = $\\int_{0}^{z_{rec}} \\frac{c dz}{H(z)}$   \n",
    "Scale of the acoustic peak $l = S[r(z)]/s$   "
   ]
  },
  {
   "cell_type": "code",
   "execution_count": 2,
   "metadata": {
    "collapsed": true
   },
   "outputs": [],
   "source": [
    "%matplotlib inline\n",
    "import numpy as np\n",
    "from scipy import integrate\n",
    "from scipy.constants import *\n",
    "import matplotlib.pyplot as plt"
   ]
  },
  {
   "cell_type": "code",
   "execution_count": 3,
   "metadata": {
    "collapsed": true
   },
   "outputs": [],
   "source": [
    "h = 1.0\n",
    "omega_r = "
   ]
  },
  {
   "cell_type": "code",
   "execution_count": 38,
   "metadata": {
    "collapsed": true
   },
   "outputs": [],
   "source": [
    "def invadot(a, om_m=0.3, om_L=0.0, h=.696):\n",
    "    om_r = 4.165e-5*h**-2 # T0 = 2.72528K\n",
    "    answ = 1/np.sqrt(om_r/(a * a) + om_m / a\\\n",
    "            + om_L*a*a + (1.0-om_r-om_m-om_L))\n",
    "    return answ\n",
    "\n",
    "def invaadot(a, om_m=0.3, om_L=0.0, h=.696):\n",
    "    om_r = 4.165e-5*h**-2 # T0 = 2.72528K\n",
    "    answ = 1/np.sqrt(om_r/(a * a) + om_m / a\\\n",
    "            + om_L*a*a + (1.0-om_r-om_m-om_L))\n",
    "    return answ/a\n",
    "\n",
    "\n",
    "\n",
    "class cosmology(object):\n",
    "    '''\n",
    "       cosmology\n",
    "    '''    \n",
    "    def __init__(self, om_m=1.0, om_L=0.0, h=.696):\n",
    "        self.om_m = om_m\n",
    "        self.om_L = om_L\n",
    "        self.h    = h\n",
    "        self.om_r = 4.165e-5*h**-2 # T0 = 2.72528K\n",
    "        self.Tyr  = 9.778/h\n",
    "        self.Mpc  = c*1.e-5/h\n",
    "    \n",
    "    def zage_Gyr(self, z):\n",
    "        az = 1 / (1+z)\n",
    "        answ,_ = integrate.quad(invadot, 0, az,\n",
    "                               args=(self.om_m, self.om_L, self.h))\n",
    "        return answ * self.Tyr\n",
    "    \n",
    "    def age_Gyr_now(self):\n",
    "        answ,_ = integrate.quad(invadot, 0, 1,\n",
    "                               args=(self.om_m, self.om_L, self.h))\n",
    "        return answ * self.Tyr\n",
    "    \n",
    "    def DCMR(self, z):\n",
    "        az = 1 / (1+z)\n",
    "        answ,_ = integrate.quad(invaadot, az, 1,\n",
    "                               args=(self.om_m, self.om_L, self.h))\n",
    "        return answ * self.Mpc\n",
    "    \n",
    "    def DA(self, z):\n",
    "        az = 1 / (1+z)\n",
    "        r,_ = integrate.quad(invaadot, az, 1,\n",
    "                               args=(self.om_m, self.om_L, self.h))\n",
    "        r *= self.Mpc\n",
    "        om_k = (1.0-self.om_r-self.om_m-self.om_L)\n",
    "        if om_k != 0.0:DHabsk = self.Mpc/np.sqrt(np.abs(om_k))\n",
    "        if om_k > 0.0:\n",
    "            Sr = DHabsk * np.sinh(r/DHabsk)\n",
    "        elif om_k < 0.0:\n",
    "            Sr = DHabsk * np.sin(r/DHabsk)\n",
    "        else:\n",
    "            Sr = r\n",
    "        return Sr*az\n",
    "    \n",
    "    def DL(self, z):\n",
    "        az = 1 / (1+z)\n",
    "        da = self.DA(z)\n",
    "        return da / (az * az)\n",
    "        \n",
    "    \n",
    "    \n",
    "\n",
    "\n",
    "\n",
    "# def invH(z, om_m=0.3, om_L=0.0, h=.696):\n",
    "#     om_r = 4.165e-5*h**-2 # T0 = 2.72528K\n",
    "#     answ = 1./(np.sqrt(om_r*(1.+z)**4 + om_m*(1.+z)**3+\\\n",
    "#           om_L+(1.0-om_r-om_m-om_L)*(1+z)**2))\n",
    "#     return answ\n",
    "\n",
    "# def zage(z, om_m, om_L, h=.696):\n",
    "#     Tyr = 9.778 # 1/h to Gyr\n",
    "#     az = 1 / (1+z)\n",
    "#     answ,_ = integrate.quad(invadot, 0, az,\n",
    "#                                args=(om_m, om_L, h))\n",
    "#     return answ*(Tyr/h)\n",
    "\n",
    "\n",
    "# def sound_horizon(om_r, om_m, om_L=0.0, h=1.0, z_rec=1000., \n",
    "#                   funct=H, verbose=False):\n",
    "#     \"\"\"\n",
    "#        computes the sound horizon for a given cosmology\n",
    "#     \"\"\"\n",
    "#     DH = c*1.e-5/h\n",
    "#     answ, err = integrate.quad(funct, z_rec, np.inf,\n",
    "#                                args=(om_r, om_m, om_L))\n",
    "#     answ *= DH/np.sqrt(3.)\n",
    "#     if verbose:\n",
    "#         print(\"for h {}, om_r {}, om_m {}, & om_L {}\\\n",
    "#         the sound horizon is : {:.1f} Mpc\"\\\n",
    "#         .format(h, om_r, om_m, om_L, answ))\n",
    "#     return answ\n",
    "\n",
    "\n",
    "# def comov_dist(om_r, om_m, om_L=0.0, h=1.0, z_rec=1000., \n",
    "#                funct=H, verbose=False):\n",
    "#     \"\"\"\n",
    "#        comoving diameter distance using Quadpack to do the integral\n",
    "#     \"\"\"\n",
    "#     DH = c*1.e-5/h\n",
    "#     answ, err = integrate.quad(funct, 0.0, z_rec, args=(om_r, om_m, om_L))\n",
    "#     answ *= DH # 3000/h Mpc\n",
    "#     if verbose:\n",
    "#         print(\"for h {}, om_r {}, om_m {}, & om_L {} \\\n",
    "#         the comov. dist. is : {:.1f} Mpc\"\\\n",
    "#         .format(h, om_r, om_m, om_L, answ))\n",
    "#     return answ\n",
    "\n",
    "\n",
    "# def metric_dist(om_r, om_m, om_L=0.0, h=1.0, z_rec=1000., \n",
    "#                 funct=H, verbose=False):\n",
    "#     \"\"\"\n",
    "#         metric distance ie. S[r(z)] depends on the curvature\n",
    "#     \"\"\"\n",
    "#     DH = c*1.e-5/h\n",
    "#     om_k = 1.0-om_r-om_m-om_L\n",
    "#     r = comov_dist(om_r, om_m, om_L=om_L, h=h, z_rec=z_rec, funct=funct)\n",
    "#     if om_k != 0.0:DHabsk = DH/np.sqrt(np.abs(om_k))\n",
    "#     if om_k > 0.0:\n",
    "#         Sr = DHabsk * np.sinh(r/DHabsk)\n",
    "#     elif om_k < 0.0:\n",
    "#         Sr = DHabsk * np.sin(r/DHabsk)\n",
    "#     else:\n",
    "#         Sr = r\n",
    "#     if verbose:\n",
    "#         print(\"curvature is : \", om_k)\n",
    "#         print(\"S[r(z)] is : {:.1f} Mpc\".format(Sr))\n",
    "#     return Sr\n",
    "\n",
    "# def lacoustic(om_r, om_m, om_L=0.0, h=1.0, z_rec=1000., funct=H, verbose=False):\n",
    "    \n",
    "#     Sr = metric_dist(om_r, om_m, om_L=om_L, h=h, verbose=verbose)\n",
    "#     s = sound_horizon(om_r, om_m, om_L=om_L, h=h, verbose=verbose)\n",
    "#     lacous = 4.*Sr/s\n",
    "#     print(\"l_peak : \", int(lacous))"
   ]
  },
  {
   "cell_type": "code",
   "execution_count": 39,
   "metadata": {
    "collapsed": false
   },
   "outputs": [],
   "source": [
    "universe = cosmology(0.286, 0.714, h=.696)"
   ]
  },
  {
   "cell_type": "code",
   "execution_count": 53,
   "metadata": {
    "collapsed": false
   },
   "outputs": [
    {
     "data": {
      "text/plain": [
       "13.720706530961097"
      ]
     },
     "execution_count": 53,
     "metadata": {},
     "output_type": "execute_result"
    }
   ],
   "source": [
    "universe.zage_Gyr(0)"
   ]
  },
  {
   "cell_type": "code",
   "execution_count": 46,
   "metadata": {
    "collapsed": false
   },
   "outputs": [
    {
     "data": {
      "text/plain": [
       "13.720706530961097"
      ]
     },
     "execution_count": 46,
     "metadata": {},
     "output_type": "execute_result"
    }
   ],
   "source": [
    "universe.age_Gyr_now()"
   ]
  },
  {
   "cell_type": "code",
   "execution_count": 47,
   "metadata": {
    "collapsed": false
   },
   "outputs": [
    {
     "data": {
      "text/plain": [
       "13937.765156807156"
      ]
     },
     "execution_count": 47,
     "metadata": {},
     "output_type": "execute_result"
    }
   ],
   "source": [
    "universe.DCMR(1000)"
   ]
  },
  {
   "cell_type": "code",
   "execution_count": 51,
   "metadata": {
    "collapsed": false
   },
   "outputs": [
    {
     "data": {
      "text/plain": [
       "13.921752268778331"
      ]
     },
     "execution_count": 51,
     "metadata": {},
     "output_type": "execute_result"
    }
   ],
   "source": [
    "universe.DA(1000)"
   ]
  },
  {
   "cell_type": "code",
   "execution_count": 52,
   "metadata": {
    "collapsed": false
   },
   "outputs": [
    {
     "data": {
      "text/plain": [
       "13949609.695068156"
      ]
     },
     "execution_count": 52,
     "metadata": {},
     "output_type": "execute_result"
    }
   ],
   "source": [
    "universe.DL(1000)"
   ]
  }
 ],
 "metadata": {
  "kernelspec": {
   "display_name": "Python 3",
   "language": "python",
   "name": "python3"
  },
  "language_info": {
   "codemirror_mode": {
    "name": "ipython",
    "version": 3
   },
   "file_extension": ".py",
   "mimetype": "text/x-python",
   "name": "python",
   "nbconvert_exporter": "python",
   "pygments_lexer": "ipython3",
   "version": "3.6.0"
  }
 },
 "nbformat": 4,
 "nbformat_minor": 2
}
