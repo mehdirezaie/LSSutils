{
 "cells": [
  {
   "cell_type": "markdown",
   "metadata": {},
   "source": [
    "From Mehdi's Notebook"
   ]
  },
  {
   "cell_type": "code",
   "execution_count": 1,
   "metadata": {},
   "outputs": [],
   "source": [
    "%matplotlib inline\n",
    "import matplotlib.pyplot as plt\n",
    "import matplotlib\n",
    "import numpy as np\n",
    "import nbodykit.lab as nb\n",
    "import nbodykit\n",
    "import fitsio as ft\n",
    "from time import time\n",
    "from   glob import glob\n",
    "import mcfit\n",
    "from scipy.interpolate import InterpolatedUnivariateSpline as IUS\n",
    "\n",
    "font = {'size': 16, 'family': 'STIXGeneral'}\n",
    "axislabelfontsize='large'\n",
    "matplotlib.rc('font', **font)\n",
    "matplotlib.mathtext.rcParams['legend.fontsize']='medium'\n",
    "plt.rcParams[\"figure.figsize\"] = [8.0,6.0]"
   ]
  },
  {
   "cell_type": "code",
   "execution_count": 2,
   "metadata": {},
   "outputs": [],
   "source": [
    "from scipy.special import legendre\n",
    "\n",
    "def RR_to_ell(RR, mu_bins, ell):\n",
    "    mu_mid       = 0.5*(mu_bins[:-1]+mu_bins[1:])\n",
    "    legendre_pol = (2*ell+1.)*legendre(ell)(mu_mid)\n",
    "    mu_diff      = np.diff(mu_bins) \n",
    "    result       = RR * legendre_pol * mu_diff\n",
    "    print(result.shape)\n",
    "    RR_ell       = np.sum(result, axis=-1) / np.sum(mu_bins)\n",
    "    return RR_ell    \n",
    "\n",
    "def plot_RRellr(RR, ells=[0, 2, 4]):    \n",
    "    for ell in ells:\n",
    "        x   = RR.pairs.edges['r']\n",
    "        y   = RR_to_ell(RR.pairs['wnpairs'], RR.pairs.edges['mu'], ell)\n",
    "        dx  = np.diff(x)\n",
    "        xc  = 0.5*(x[1:]+x[:-1])\n",
    "        vol = 4*np.pi*xc**2*dx    \n",
    "        y  /= vol\n",
    "        #print(y[0])\n",
    "        #y /= y[3]\n",
    "        plt.plot(xc, y, label='ell=%d'%ell)\n",
    "    plt.legend()\n",
    "    plt.xscale('log')\n",
    "    plt.xlim(.1, 4e3)\n",
    "    plt.xlabel('r')\n",
    "    plt.ylabel('W$^{0}_{\\ell}$(r)')\n",
    "    #plt.ylim(-1.5, 1.1)\n",
    "    # plt.xlim(xmin=1)\n",
    "    \n",
    "\n",
    "def read_florian():    \n",
    "    lbls = 'W^0_0(k) W^0_1(k) W^0_2(k) W^0_3(k) W^0_4(k) W^1_0(k)'\\\n",
    "        +' W^1_1(k) W^1_2(k) W^1_3(k) W^1_4(k) W^2_0(k) W^2_1(k) W^2_2(k) W^2_3(k) W^2_4(k) Nmodes'\n",
    "    tlb = lbls.split(' ')    \n",
    "    d = np.loadtxt('/home/mehdi/data/eboss/v6/win_eBOSS_DR16_QSO_v6_NGC_TSC_600_600_600_10000_merged.dat', \n",
    "                   skiprows=30)\n",
    "    w_dicts = {}\n",
    "    for i, j in enumerate(range(2, 17)):\n",
    "        k = d[:, 0]\n",
    "        w = d[:, j]\n",
    "        w_dicts[tlb[i]] = w\n",
    "    return k, w_dicts    \n",
    "\n",
    "\n",
    "\n",
    "def plot_W0ellr(k, w_dicts, ax=None, ells=[0, 2, 4]):\n",
    "    Klog = np.logspace(np.log10(k.min()), np.log10(2.0), num=1024, endpoint=True)\n",
    "    if ax is None:\n",
    "        fig,ax = plt.subplots(figsize=(8, 6))\n",
    "    for ell in ells:\n",
    "        wius = IUS(k, w_dicts['W^0_%d(k)'%ell], ext=1)\n",
    "        wk   = wius(Klog)        \n",
    "        print(Klog[-10:], wk[-10:])\n",
    "        #for i in range(Klog.size):\n",
    "        #    print([Klog[i], wk[i]])\n",
    "        #break\n",
    "        r, wr = mcfit.P2xi(Klog, l=ell)(wk)\n",
    "        sf = 1 if ell==2 else 1\n",
    "        ax.plot(r, sf*wr, label=r'$W^0_%d$'%ell)\n",
    "    ax.axhline(0.0, color='k')\n",
    "    ax.set_xscale('log')\n",
    "    ax.set_xlim(10, 4e3)\n",
    "    # plt.ylim(0, 2.e-10)\n",
    "    ax.set_xlabel('r')\n",
    "    ax.legend(fontsize=20)\n",
    "    \n",
    "    \n",
    "def plot_W0ellk(k, w_dicts, ax=None, ells=[0, 2, 4]):\n",
    "    if ax is None:fig, ax = plt.subplots(figsize=(8, 6))\n",
    "    for l in ells:\n",
    "        w = w_dicts['W^0_%d(k)'%l]\n",
    "        ax.plot(k, w, label=r'$W^0_%d$'%l, marker='.')\n",
    "\n",
    "    #ax.axhline(0.0, color='k')\n",
    "    ax.set_xscale('log')\n",
    "    #ax.set_xlim(1.e-4, 2e-2)\n",
    "    #ax.set_xlim(1.e-4, 0.5)\n",
    "    #plt.ylim(0, 2.e-10)\n",
    "    ax.set_xlabel('k')\n",
    "    ax.legend(fontsize=20)    \n",
    "    \n",
    "    \n",
    "# def plot_RRr(RR):\n",
    "#     dr = np.diff(edges)\n",
    "#     plt.plot(edges[:-1], RR1d.pairs['wnpairs']/ ((4*np.pi*edges[:-1]**2*dr)))\n",
    "#     plt.xscale('log')\n",
    "#     plt.xlim(xmin=1)    \n",
    "    \n",
    "    \n",
    "def plot_RRrmu(RR):\n",
    "    for j, mu_j in enumerate(RR.pairs.edges['mu'][:-1]):\n",
    "        #print(j)\n",
    "        plt.plot(RR.pairs.edges['r'][:-1], RR.pairs['wnpairs'][:, j], label=r'$\\mu$=%.1f'%mu_j)\n",
    "    plt.legend(bbox_to_anchor=(1.1, 1.1))\n",
    "    plt.ylabel('RR(r)')\n",
    "    plt.xlabel('r')"
   ]
  },
  {
   "cell_type": "code",
   "execution_count": 3,
   "metadata": {},
   "outputs": [],
   "source": [
    "class WINDOW(object):\n",
    "    def __init__(self, path2file='/home/merz/workdir/emcee/eBOSS_QSO_clustering_NGC_v6.ran'):\n",
    "        self.RR = nb.SurveyDataPairCount.load(path2file)\n",
    "    def __call__(self, ell):\n",
    "        print('ell = %d'%ell)\n",
    "        x   = self.RR.pairs.edges['r']\n",
    "        y   = RR_to_ell(self.RR.pairs['wnpairs'], \n",
    "                        self.RR.pairs.edges['mu'], ell)\n",
    "        dx  = np.diff(x)\n",
    "        xc  = 0.5*(x[1:]+x[:-1])\n",
    "        vol = 4*np.pi*xc**2*dx    \n",
    "        y  /= vol\n",
    "        self.r  = xc\n",
    "        self.wr = y\n",
    "        #return xc, y        \n",
    "    def Wr2Wk(self, rmin=None, rmax=None, zero=False):\n",
    "        if rmin is None:\n",
    "            rmin = self.r.min()\n",
    "        if rmax is None:\n",
    "            rmax = self.r.max()\n",
    "        rgrid   = np.logspace(np.log10(rmin), np.log10(rmax), \n",
    "                              self.r.size, endpoint=True)  \n",
    "        if zero:self.wr[self.r<5] = 0.0\n",
    "        w_inter = IUS(self.r, self.wr, ext=1)\n",
    "        #w_inter.set_smoothing_factor(100)\n",
    "        wr      = w_inter(rgrid)\n",
    "        k, wk   = mcfit.xi2P(rgrid)(wr)\n",
    "        self.k  = k\n",
    "        self.wk = wk\n",
    "        self.re = rgrid\n",
    "        self.wre = wr"
   ]
  },
  {
   "cell_type": "markdown",
   "metadata": {},
   "source": [
    "Scaling RR_ell and smoothing at small r "
   ]
  },
  {
   "cell_type": "code",
   "execution_count": 4,
   "metadata": {},
   "outputs": [
    {
     "name": "stdout",
     "output_type": "stream",
     "text": [
      "ell = 0\n",
      "(99, 20)\n",
      "ell = 2\n",
      "(99, 20)\n",
      "ell = 4\n",
      "(99, 20)\n"
     ]
    },
    {
     "data": {
      "text/plain": [
       "(0.1, 4000.0)"
      ]
     },
     "execution_count": 4,
     "metadata": {},
     "output_type": "execute_result"
    },
    {
     "data": {
      "image/png": "[encoded data removed]",
      "text/plain": [
       "<Figure size 432x288 with 1 Axes>"
      ]
     },
     "metadata": {
      "needs_background": "light"
     },
     "output_type": "display_data"
    }
   ],
   "source": [
    "\n",
    "#(RR_0-1)exp(-(s0-s)^2)+1\n",
    "R  = []\n",
    "WR = []\n",
    "for ell in [0,2,4]:\n",
    "    win = WINDOW()\n",
    "    win(ell)\n",
    "    if ell==0:\n",
    "        valid = (win.r >0.95) & (win.r<1.05)\n",
    "        turn = (win.r >9.5) & (win.r<10.5)\n",
    "        rturn = win.r[turn]\n",
    "        R.append(win.r)\n",
    "\n",
    "        scale = win.wr[turn]\n",
    "        lowk0 = win.r<rturn\n",
    "        low_mono =(win.wr[lowk0]/scale-1)*np.exp(-(rturn-win.r[lowk0])**2/4)+1\n",
    "        highk0 = win.r>=rturn\n",
    "        plt.plot(win.r,np.append(low_mono,win.wr[highk0]/scale))\n",
    "        WR.append(np.append(low_mono,win.wr[highk0]/scale))\n",
    "\n",
    "        \n",
    "    if ell==2 or ell==4:\n",
    "        turn = (win.r >9.5) & (win.r<10.5)\n",
    "        rturn = win.r[turn]\n",
    "        lowk2 = win.r<rturn\n",
    "        low_ell = win.wr[lowk2]/scale*np.exp(-(rturn-win.r[lowk2])**2/4)\n",
    "        highk2 = win.r>=rturn\n",
    "        plt.plot(win.r,np.append(low_ell,win.wr[highk2]/scale))\n",
    "        WR.append(np.append(low_ell,win.wr[highk2]/scale))\n",
    "    #R.append(win.r)\n",
    "    #WR.append(win.wr/scale)\n",
    "    #w_inter = IUS(win.r, win.wr/scale, ext=1)\n",
    "    #w_inter.set_smoothing_factor(100)\n",
    "    \n",
    "    #plt.plot(win.r,w_inter(win.r))\n",
    "\n",
    "    \n",
    "#plt.plot(win.r,1.5*win.r**(-.31))\n",
    "#np.savetxt('/home/merz/workdir/emcee/Window/Wr_ell_norm_sm_6.txt', np.column_stack([R[0], WR[0], WR[1], WR[2], WR[3]]), header=' r W0 W2 W4 W6')\n",
    "plt.xscale('log')\n",
    "plt.xlim(.1, 4e3)\n",
    "#plt.ylim(-0.5,1.55)\n",
    "#plt.savefig('/home/merz/workdir/plots/window_norm_smooth')\n",
    "\n",
    "\n"
   ]
  },
  {
   "cell_type": "markdown",
   "metadata": {},
   "source": [
    "Fit a power law to RR_0"
   ]
  },
  {
   "cell_type": "code",
   "execution_count": 6,
   "metadata": {},
   "outputs": [
    {
     "data": {
      "text/plain": [
       "array([1.05774328e-01, 1.17989842e-01, 1.31616083e-01, 1.46815972e-01,\n",
       "       1.63771245e-01, 1.82684623e-01, 2.03782242e-01, 2.27316353e-01,\n",
       "       2.53568338e-01, 2.82852074e-01, 3.15517688e-01, 3.51955741e-01,\n",
       "       3.92601900e-01, 4.37942145e-01, 4.88518578e-01, 5.44935910e-01,\n",
       "       6.07868686e-01, 6.78069351e-01, 7.56377251e-01, 8.43728660e-01,\n",
       "       9.41167984e-01, 1.04986024e+00, 1.17110499e+00, 1.30635188e+00,\n",
       "       1.45721797e+00, 1.62550707e+00, 1.81323130e+00, 2.02263515e+00,\n",
       "       2.25622233e+00, 2.51678569e+00, 2.80744062e+00, 3.13166229e+00,\n",
       "       3.49332721e+00, 3.89675957e+00, 4.34678294e+00, 4.84877796e+00,\n",
       "       5.40874667e+00, 6.03338424e+00, 6.73015905e+00, 7.50740199e+00,\n",
       "       8.37440605e+00, 9.34153743e+00, 1.04203595e+01, 1.16237710e+01,\n",
       "       1.29661604e+01, 1.44635777e+01, 1.61339266e+01, 1.79971783e+01,\n",
       "       2.00756106e+01, 2.23940738e+01, 2.49802885e+01, 2.78651762e+01,\n",
       "       3.10832296e+01, 3.46729250e+01, 3.86771819e+01, 4.31438768e+01,\n",
       "       4.81264149e+01, 5.36843691e+01, 5.98841924e+01, 6.68000121e+01,\n",
       "       7.45145159e+01, 8.31199413e+01, 9.27191777e+01, 1.03426997e+02,\n",
       "       1.15371425e+02, 1.28695275e+02, 1.43557850e+02, 1.60136853e+02,\n",
       "       1.78630508e+02, 1.99259931e+02, 2.22271776e+02, 2.47941179e+02,\n",
       "       2.76575054e+02, 3.08515757e+02, 3.44145181e+02, 3.83889326e+02,\n",
       "       4.28223385e+02, 4.77677432e+02, 5.32842757e+02, 5.94378936e+02,\n",
       "       6.63021717e+02, 7.39591817e+02, 8.25004734e+02, 9.20281696e+02,\n",
       "       1.02656187e+03, 1.14511597e+03, 1.27736148e+03, 1.42487957e+03,\n",
       "       1.58943401e+03, 1.77299228e+03, 1.97774907e+03, 2.20615251e+03,\n",
       "       2.46093349e+03, 2.74513824e+03, 3.06216482e+03, 3.41580371e+03,\n",
       "       3.81028314e+03, 4.25031965e+03, 4.74117446e+03])"
      ]
     },
     "execution_count": 6,
     "metadata": {},
     "output_type": "execute_result"
    }
   ],
   "source": [
    "wind.r"
   ]
  },
  {
   "cell_type": "code",
   "execution_count": 149,
   "metadata": {},
   "outputs": [
    {
     "name": "stdout",
     "output_type": "stream",
     "text": [
      "ell = 0\n",
      "(99, 20)\n"
     ]
    }
   ],
   "source": [
    "from scipy.optimize import curve_fit\n",
    "\n",
    "def powlaw(x,a,b):\n",
    "    y = a*np.exp(x*b/4000.)\n",
    "    return y\n",
    "\n",
    "wind = WINDOW()\n",
    "wind(0)\n",
    "size = wind.r.size\n",
    "valid = (wind.r>0.95) & (wind.r<1.05)\n",
    "turn = (wind.r>9.5) & (wind.r<10.5)\n",
    "rturn = wind.r[turn]\n",
    "scale = wind.wr[turn]\n",
    "\n",
    "lowk0 = wind.r<rturn\n",
    "low_mono =(wind.wr[lowk0]/scale-1)*np.exp(-(rturn-wind.r[lowk0])**2/4)+1\n",
    "highk0 = wind.r>=rturn\n",
    "\n",
    "#smoothed on small scales\n",
    "wrsm = np.append(low_mono, wind.wr[highk0]/scale)\n",
    "\n",
    "#tried to see if spline improved fitting\n",
    "winter = IUS(wind.r, wrsm)"
   ]
  },
  {
   "cell_type": "code",
   "execution_count": 150,
   "metadata": {},
   "outputs": [
    {
     "name": "stdout",
     "output_type": "stream",
     "text": [
      "1.4278865120977684 -5.468941026271555\n"
     ]
    }
   ],
   "source": [
    "rlog = np.logspace(np.log10(wind.r[size-10]),np.log10(wind.r[size-1]),1000)\n",
    "rhigh = np.logspace(np.log10(wind.r[size-1]),4,1000)\n",
    "rfull = np.append(wind.r,rhigh)\n",
    "\n",
    "\n",
    "\n",
    "#Fit power law to the upper range of RR_0 to try to extrapolate\n",
    "params = curve_fit(powlaw, rlog, winter(rlog))\n",
    "p = params[0]\n",
    "print(*p)"
   ]
  },
  {
   "cell_type": "code",
   "execution_count": 151,
   "metadata": {},
   "outputs": [
    {
     "data": {
      "text/plain": [
       "(0.0001, 0.05)"
      ]
     },
     "execution_count": 151,
     "metadata": {},
     "output_type": "execute_result"
    },
    {
     "data": {
      "image/png": "[encoded data removed]",
      "text/plain": [
       "<Figure size 432x288 with 1 Axes>"
      ]
     },
     "metadata": {
      "needs_background": "light"
     },
     "output_type": "display_data"
    }
   ],
   "source": [
    "plt.plot(wind.r,wrsm,label='RR_0')\n",
    "plt.plot(rlog,powlaw(rlog,*p),'--',label='power law fit')\n",
    "plt.plot(rfull,np.append(wrsm,powlaw(rhigh,*p)),':', label='extrapolated RR_0')\n",
    "\n",
    "plt.legend(loc=0)\n",
    "plt.xscale('log')\n",
    "# plt.yscale('log')\n",
    "plt.xlim(1700, 1e4)\n",
    "plt.ylim(0.0001,0.05)"
   ]
  },
  {
   "cell_type": "code",
   "execution_count": null,
   "metadata": {},
   "outputs": [],
   "source": []
  },
  {
   "cell_type": "code",
   "execution_count": null,
   "metadata": {},
   "outputs": [],
   "source": []
  },
  {
   "cell_type": "code",
   "execution_count": 7,
   "metadata": {},
   "outputs": [
    {
     "data": {
      "image/png": "[encoded data removed]",
      "text/plain": [
       "<Figure size 576x432 with 1 Axes>"
      ]
     },
     "metadata": {
      "needs_background": "light"
     },
     "output_type": "display_data"
    }
   ],
   "source": [
    "Florwin = np.loadtxt('/home/merz/workdir/pybird/montepython_tree/data/pybird/Window/window_BOSS_CMASS_NGC_z057.dat')\n",
    "for i in range(1,4):\n",
    "    plt.plot(Florwin[:,0],Florwin[:,i])\n",
    "plt.xscale('log')\n",
    "\n",
    "\n"
   ]
  },
  {
   "cell_type": "code",
   "execution_count": null,
   "metadata": {},
   "outputs": [],
   "source": [
    "def Wk2Wr(k, w):\n",
    "    klog = np.logspace(np.log10(k.min()), np.log10(k.max()), \n",
    "                       num=k.size, endpoint=True)\n",
    "    \n",
    "    w_interpolated = IUS(k, w, ext=1)\n",
    "    wk   = w_interpolated(klog)        \n",
    "    return mcfit.P2xi(klog, l=0)(wk)    \n",
    "\n",
    "class WINDOWf(object):\n",
    "    def __init__(self):\n",
    "        k, w_dicts = read_florian()\n",
    "        self.k     = k\n",
    "        self.wdict = w_dicts\n",
    "        \n",
    "    def __call__(self, ell, fix):\n",
    "        self.ell = ell\n",
    "        self.wk  = self.wdict['W^0_%d(k)'%ell]\n",
    "        self._fixWk(fix) # fix Wk\n",
    "        #\n",
    "        \n",
    "    def _fixWk(self, fix):\n",
    "        if fix:\n",
    "            funct     = lambda x:5.e-12*np.power(x, -3.8)\n",
    "            mask      = self.k > 0.02            \n",
    "            wk_last   = self.wk[~mask][-1]\n",
    "            k_last    = self.k[~mask][-1]\n",
    "            self.wk[mask] = funct(self.k[mask])/funct(k_last)*wk_last\n",
    "            \n",
    "                             \n",
    "    def Wk2Wr(self, kmin=None, kmax=None):\n",
    "        if kmin is None:\n",
    "            kmin = self.k.min()\n",
    "        if kmax is None:\n",
    "            kmax = self.k.max()\n",
    "        klog = np.logspace(np.log10(kmin), np.log10(kmax), \n",
    "                           num=self.k.size, endpoint=True)\n",
    "\n",
    "        w_interpolated = IUS(self.k, self.wk, ext=1)\n",
    "        wk   = w_interpolated(klog)        \n",
    "        r,wr = mcfit.P2xi(klog, l=self.ell)(wk)           \n",
    "        self.r = r\n",
    "        self.wr= wr                \n",
    "        self.ke  = klog\n",
    "        self.wke = wk\n",
    "        \n",
    "    # def _IUS(self):\n",
    "    #     funct     = lambda x:5.e-12*np.power(x, -3.8)\n",
    "    #     myk       = self.k.copy()\n",
    "    #     dk        = myk[1]-myk[0] \n",
    "    #     mask      = myk>=2.e-2\n",
    "    #     myw       = self.wk.copy()\n",
    "    #     mykc      = myk[mask]\n",
    "    #     myw[mask] = funct(mykc)\n",
    "    #     kextra    = np.arange(1.001*mykc.max(), 10., dk)\n",
    "    #     wextra    = funct(kextra)\n",
    "\n",
    "    #     myk_e     = np.concatenate([myk, kextra])\n",
    "    #     myw_e     = np.concatenate([myw, wextra])        \n",
    "    #     self.kef  = myk_e\n",
    "    #     self.wkef = myw_e\n",
    "\n",
    "    #     self.rwr_f = Wk2Wr(myk_e, myw_e)"
   ]
  },
  {
   "cell_type": "code",
   "execution_count": null,
   "metadata": {},
   "outputs": [],
   "source": []
  }
 ],
 "metadata": {
  "kernelspec": {
   "display_name": "python (py3p6)",
   "language": "python",
   "name": "py3p6"
  },
  "language_info": {
   "codemirror_mode": {
    "name": "ipython",
    "version": 3
   },
   "file_extension": ".py",
   "mimetype": "text/x-python",
   "name": "python",
   "nbconvert_exporter": "python",
   "pygments_lexer": "ipython3",
   "version": "3.7.4"
  }
 },
 "nbformat": 4,
 "nbformat_minor": 4
}
