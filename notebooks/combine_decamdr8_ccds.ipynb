{
 "cells": [
  {
   "cell_type": "markdown",
   "metadata": {},
   "source": [
    "# Combine DESI Imaging ccds"
   ]
  },
  {
   "cell_type": "markdown",
   "metadata": {},
   "source": [
    "The eboss ccd files did not have the same dtype, therefore we could not easily combine them. We have to enfore a dtype to all of them."
   ]
  },
  {
   "cell_type": "code",
   "execution_count": 1,
   "metadata": {},
   "outputs": [],
   "source": [
    "# import modules\n",
    "import fitsio as ft\n",
    "import numpy as np\n",
    "from glob import glob"
   ]
  },
  {
   "cell_type": "code",
   "execution_count": 2,
   "metadata": {},
   "outputs": [
    {
     "name": "stdout",
     "output_type": "stream",
     "text": [
      "['/Volumes/TimeMachine/data/DR8/ccds/ccds-annotated-90prime-new.fits', '/Volumes/TimeMachine/data/DR8/ccds/ccds-annotated-decam-dr8.fits', '/Volumes/TimeMachine/data/DR8/ccds/ccds-annotated-mosaic-dr8.fits']\n",
      "[('camera', 'S7'), ('filter', 'S1'), ('exptime', '>f4'), ('mjd_obs', '>f8'), ('airmass', '>f4'), ('fwhm', '>f4'), ('ra', '>f8'), ('dec', '>f8'), ('ccdzpt', '>f4'), ('ccdskycounts', '>f4'), ('ra0', '>f8'), ('dec0', '>f8'), ('ra1', '>f8'), ('dec1', '>f8'), ('ra2', '>f8'), ('dec2', '>f8'), ('ra3', '>f8'), ('dec3', '>f8'), ('pixscale_mean', '>f4'), ('ebv', '>f4'), ('galdepth', '>f4')]\n"
     ]
    }
   ],
   "source": [
    "# read files \n",
    "ccdsn = glob('/Volumes/TimeMachine/data/DR8/ccds/ccds-annotated-*')\n",
    "print(ccdsn)  # ccdfiles names\n",
    "\n",
    "\n",
    "prt_keep = ['camera', 'filter', 'fwhm', 'mjd_obs', 'exptime', \n",
    "            'ra', 'dec', 'ra0','ra1','ra2','ra3','dec0','dec1','dec2','dec3',\n",
    "           'galdepth', 'ebv', 'airmass', 'ccdskycounts', 'pixscale_mean', 'ccdzpt']\n",
    "\n",
    "# read one file to check the columns\n",
    "d = ft.read(ccdsn[0], columns=prt_keep)\n",
    "print(d.dtype)"
   ]
  },
  {
   "cell_type": "code",
   "execution_count": 3,
   "metadata": {},
   "outputs": [],
   "source": [
    "#  attrs for the general quicksip\n",
    "#  'crval1', 'crval2', 'crpix1', 'crpix2', 'cd1_1',\n",
    "#  'cd1_2', 'cd2_1', 'cd2_2', 'width', 'height'\n",
    "# dtype = np.dtype([('filter', 'S1'), ('exptime', '>f4'), ('mjd_obs', '>f8'), ('airmass', '>f4'),\\\n",
    "#                   ('fwhm', '>f4'), ('width', '>i2'), ('height', '>i2'), ('crpix1', '>f4'), ('crpix2', '>f4'),\\\n",
    "#                   ('crval1', '>f8'), ('crval2', '>f8'), ('cd1_1', '>f4'), ('cd1_2', '>f4'), ('cd2_1', '>f4'),\\\n",
    "#                   ('cd2_2', '>f4'), ('ra', '>f8'), ('dec', '>f8'), ('ccdzpt', '>f4'), ('ccdskycounts', '>f4'),\n",
    "#                   ('pixscale_mean', '>f4'), ('ebv', '>f4'), ('galdepth', '>f4')])\n",
    "#\n",
    "# only read & combine the following columns\n",
    "# this is what the pipeline need to make the MJD maps\n",
    "\n",
    "prt_keep = ['camera', 'filter', 'fwhm', 'mjd_obs', 'exptime', \n",
    "            'ra', 'dec', 'ra0','ra1','ra2','ra3','dec0','dec1','dec2','dec3',\n",
    "           'galdepth', 'ebv', 'airmass', 'ccdskycounts', 'pixscale_mean', 'ccdzpt']\n",
    "\n",
    "# camera could be different for 90prime, decam, mosaic -- we pick S7\n",
    "dtype = np.dtype([('camera', 'S7'),('filter', 'S1'), ('exptime', '>f4'), ('mjd_obs', '>f8'), \n",
    "                  ('airmass', '>f4'), ('fwhm', '>f4'), ('ra', '>f8'), ('dec', '>f8'), ('ccdzpt', '>f4'),\n",
    "                  ('ccdskycounts', '>f4'), ('ra0', '>f8'), ('dec0', '>f8'), ('ra1', '>f8'),\n",
    "                  ('dec1', '>f8'), ('ra2', '>f8'), ('dec2', '>f8'), ('ra3', '>f8'), ('dec3', '>f8'),\n",
    "                  ('pixscale_mean', '>f4'), ('ebv', '>f4'), ('galdepth', '>f4')])\n",
    "\n",
    "\n",
    "def fixdtype(data_in, indtype=dtype):\n",
    "    m = data_in.size\n",
    "    data_out = np.zeros(m, dtype=dtype)\n",
    "    for name in dtype.names:\n",
    "        data_out[name] = data_in[name].astype(dtype[name])\n",
    "    return data_out"
   ]
  },
  {
   "cell_type": "code",
   "execution_count": 4,
   "metadata": {},
   "outputs": [
    {
     "name": "stdout",
     "output_type": "stream",
     "text": [
      "working on .... /Volumes/TimeMachine/data/DR8/ccds/ccds-annotated-90prime-new.fits\n",
      "number of ccds in this file         : 145092\n",
      "number of different dtypes (before) : 0 []\n",
      "number of different dtypes (after)  : 0 []\n",
      "working on .... /Volumes/TimeMachine/data/DR8/ccds/ccds-annotated-decam-dr8.fits\n",
      "number of ccds in this file         : 8675339\n",
      "number of different dtypes (before) : 1 ['|S7']\n",
      "number of different dtypes (after)  : 0 []\n",
      "working on .... /Volumes/TimeMachine/data/DR8/ccds/ccds-annotated-mosaic-dr8.fits\n",
      "number of ccds in this file         : 241724\n",
      "number of different dtypes (before) : 1 ['|S7']\n",
      "number of different dtypes (after)  : 0 []\n"
     ]
    }
   ],
   "source": [
    "#\n",
    "# read each ccd file > fix its dtype > move on to the next\n",
    "ccds_data = []\n",
    "for ccd_i in ccdsn:\n",
    "    print('working on .... %s'%ccd_i)\n",
    "    data_in = ft.FITS(ccd_i)[1].read(columns=prt_keep)\n",
    "    #print(data_in.dtype)\n",
    "    data_out = fixdtype(data_in)\n",
    "    print('number of ccds in this file         : %d'%data_in.size)\n",
    "    print('number of different dtypes (before) : %d'%len(np.setdiff1d(dtype.descr, data_in.dtype.descr)), np.setdiff1d(dtype.descr, data_in.dtype.descr))\n",
    "    print('number of different dtypes (after)  : %d'%len(np.setdiff1d(dtype.descr, data_out.dtype.descr)), np.setdiff1d(dtype.descr, data_out.dtype.descr))\n",
    "    ccds_data.append(data_out)"
   ]
  },
  {
   "cell_type": "code",
   "execution_count": 5,
   "metadata": {},
   "outputs": [
    {
     "name": "stdout",
     "output_type": "stream",
     "text": [
      "Total number of combined ccds : 9062155\n"
     ]
    }
   ],
   "source": [
    "ccds_data_c = np.concatenate(ccds_data)\n",
    "print('Total number of combined ccds : %d'%ccds_data_c.size)"
   ]
  },
  {
   "cell_type": "code",
   "execution_count": 6,
   "metadata": {},
   "outputs": [],
   "source": [
    "ft.write('/Volumes/TimeMachine/data/DR8/ccds/ccds-annotated-dr8_combined.fits',\n",
    "        ccds_data_c, header=dict(NOTE='dr8 combined'), clobber=True)"
   ]
  }
 ],
 "metadata": {
  "kernelspec": {
   "display_name": "python (py3p6)",
   "language": "python",
   "name": "py3p6"
  },
  "language_info": {
   "codemirror_mode": {
    "name": "ipython",
    "version": 3
   },
   "file_extension": ".py",
   "mimetype": "text/x-python",
   "name": "python",
   "nbconvert_exporter": "python",
   "pygments_lexer": "ipython3",
   "version": "3.7.4"
  }
 },
 "nbformat": 4,
 "nbformat_minor": 2
}
