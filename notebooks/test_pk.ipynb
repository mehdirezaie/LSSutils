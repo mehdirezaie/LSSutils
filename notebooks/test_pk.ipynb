{
 "cells": [
  {
   "cell_type": "code",
   "execution_count": 1,
   "metadata": {},
   "outputs": [],
   "source": [
    "%matplotlib inline\n",
    "import matplotlib.pyplot as plt\n",
    "import sys\n",
    "sys.path.insert(0, '/home/mehdi/github/LSSutils')\n",
    "from lssutils import setup_logging\n",
    "from lssutils.stats.pk import run_ConvolvedFFTPower\n",
    "import nbodykit.lab as nb"
   ]
  },
  {
   "cell_type": "code",
   "execution_count": 2,
   "metadata": {},
   "outputs": [],
   "source": [
    "setup_logging('info')"
   ]
  },
  {
   "cell_type": "code",
   "execution_count": 6,
   "metadata": {},
   "outputs": [
    {
     "name": "stderr",
     "output_type": "stream",
     "text": [
      "[ 000515.28 ]   0: 02-08 15:05  CatalogSource   INFO     Extra arguments to FileType: ('/home/mehdi/data/eboss/data/v7_2/eBOSS_QSO_clustering_NGC_v7_2.dat.fits',) {}\n",
      "[ 000515.28 ]   0: 02-08 15:05  CatalogSource   INFO     Extra arguments to FileType: ('/home/mehdi/data/eboss/data/v7_2/eBOSS_QSO_clustering_NGC_v7_2.ran.fits',) {}\n",
      "[ 000610.97 ]   0: 02-08 15:07  FKPCatalog      INFO     cartesian coordinate range: [-3299.48355181 -3219.34693867   536.8960886 ] : [-192.24569414 3298.05846647 3277.34110426]\n",
      "[ 000610.97 ]   0: 02-08 15:07  FKPCatalog      INFO     BoxSize = [6600. 6600. 6600.]\n",
      "[ 000610.97 ]   0: 02-08 15:07  FKPCatalog      INFO     BoxCenter = [-1745.86462298    39.3557639   1907.11859643]\n",
      "[ 000610.97 ]   0: 02-08 15:07  ConvolvedFFTPower INFO     using compensation function CompensateTSC for source 'first'\n",
      "[ 000610.97 ]   0: 02-08 15:07  ConvolvedFFTPower INFO     using compensation function CompensateTSC for source 'second'\n",
      "[ 000641.12 ]   0: 02-08 15:07  CatalogMesh     INFO     Chunk 0 ~ 4194304 / 218209 \n",
      "[ 000643.36 ]   0: 02-08 15:07  CatalogMesh     INFO     painted 218209 out of 218209 objects to mesh\n",
      "[ 000661.01 ]   0: 02-08 15:07  CatalogMesh     INFO     painted 218209 out of 218209 objects to mesh\n",
      "[ 000661.02 ]   0: 02-08 15:07  CatalogMesh     INFO     mean particles per cell is 0.00155925\n",
      "[ 000661.02 ]   0: 02-08 15:07  CatalogMesh     INFO     sum is 209279 \n",
      "[ 000661.03 ]   0: 02-08 15:07  FKPCatalogMesh  INFO     data painted.\n",
      "[ 000661.50 ]   0: 02-08 15:07  CatalogMesh     INFO     Chunk 0 ~ 4194304 / 11099858 \n",
      "[ 000691.89 ]   0: 02-08 15:08  CatalogMesh     INFO     painted 4194304 out of 11099858 objects to mesh\n",
      "[ 000691.89 ]   0: 02-08 15:08  CatalogMesh     INFO     Chunk 4194304 ~ 8388608 / 11099858 \n",
      "[ 000722.82 ]   0: 02-08 15:08  CatalogMesh     INFO     painted 8388608 out of 11099858 objects to mesh\n",
      "[ 000722.82 ]   0: 02-08 15:08  CatalogMesh     INFO     Chunk 8388608 ~ 12582912 / 11099858 \n",
      "[ 000743.54 ]   0: 02-08 15:09  CatalogMesh     INFO     painted 11099858 out of 11099858 objects to mesh\n",
      "[ 000759.75 ]   0: 02-08 15:09  CatalogMesh     INFO     painted 11099858 out of 11099858 objects to mesh\n",
      "[ 000759.75 ]   0: 02-08 15:09  CatalogMesh     INFO     mean particles per cell is 0.0775753\n",
      "[ 000759.75 ]   0: 02-08 15:09  CatalogMesh     INFO     sum is 1.0412e+07 \n",
      "[ 000760.04 ]   0: 02-08 15:09  FKPCatalogMesh  INFO     randoms painted.\n",
      "[ 000761.14 ]   0: 02-08 15:09  FKPCatalogMesh  INFO     volume per cell is 2142.01\n",
      "[ 000761.15 ]   0: 02-08 15:09  FKPCatalogMesh  INFO     field: (FKPCatalog(species=['data', 'randoms']) as CatalogMesh) painting done\n",
      "[ 000761.15 ]   0: 02-08 15:09  ConvolvedFFTPower INFO     tsc painting of 'first' done\n",
      "[ 000767.56 ]   0: 02-08 15:09  ConvolvedFFTPower INFO     ell = 0 done; 1 r2c completed\n",
      "[ 000826.14 ]   0: 02-08 15:10  ConvolvedFFTPower INFO     normalized power spectrum with `randoms.norm = 3.319633`\n",
      "[ 000826.14 ]   0: 02-08 15:10  ConvolvedFFTPower INFO     higher order multipoles computed in elapsed time 00:00:00.00\n",
      "[ 000895.09 ]   0: 02-08 15:11  ConvolvedFFTPower INFO     saving ConvolvedFFTPower result to ./test_pk_ngc.json\n"
     ]
    }
   ],
   "source": [
    "g = '/home/mehdi/data/eboss/data/v7_2/eBOSS_QSO_clustering_NGC_v7_2.dat.fits'\n",
    "r = g.replace('.dat.', '.ran.')\n",
    "res_ = run_ConvolvedFFTPower(g, r, './test_pk_ngc.json', zmin=0.8, zmax=2.2, boxsize=6600., \n",
    "                             return_pk=True, poles=[0], dk=0.001903995548)"
   ]
  },
  {
   "cell_type": "code",
   "execution_count": 9,
   "metadata": {},
   "outputs": [
    {
     "name": "stderr",
     "output_type": "stream",
     "text": [
      "[ 001443.32 ]   0: 02-08 15:20  CatalogSource   INFO     Extra arguments to FileType: ('/home/mehdi/data/eboss/data/v7_2/eBOSS_QSO_full_NGC_v7_2.dat.fits',) {}\n",
      "[ 001443.32 ]   0: 02-08 15:20  CatalogSource   INFO     Extra arguments to FileType: ('/home/mehdi/data/eboss/data/v7_2/eBOSS_QSO_full_NGC_v7_2.ran.fits',) {}\n",
      "[ 001889.78 ]   0: 02-08 15:28  FKPCatalog      INFO     cartesian coordinate range: [-3304.19152107 -3225.80255649   539.05623342] : [-190.08713301 3299.25919732 3277.64791791]\n",
      "[ 001889.79 ]   0: 02-08 15:28  FKPCatalog      INFO     BoxSize = [6600. 6600. 6600.]\n",
      "[ 001889.80 ]   0: 02-08 15:28  FKPCatalog      INFO     BoxCenter = [-1747.13932704    36.72832041  1908.35207566]\n",
      "[ 001889.80 ]   0: 02-08 15:28  ConvolvedFFTPower INFO     using compensation function CompensateTSC for source 'first'\n",
      "[ 001889.80 ]   0: 02-08 15:28  ConvolvedFFTPower INFO     using compensation function CompensateTSC for source 'second'\n",
      "[ 001937.58 ]   0: 02-08 15:29  CatalogMesh     INFO     Chunk 0 ~ 4194304 / 218209 \n",
      "[ 001942.97 ]   0: 02-08 15:29  CatalogMesh     INFO     painted 218209 out of 218209 objects to mesh\n",
      "[ 001961.13 ]   0: 02-08 15:29  CatalogMesh     INFO     painted 218209 out of 218209 objects to mesh\n",
      "[ 001961.14 ]   0: 02-08 15:29  CatalogMesh     INFO     mean particles per cell is 0.00155925\n",
      "[ 001961.14 ]   0: 02-08 15:29  CatalogMesh     INFO     sum is 209279 \n",
      "[ 001961.15 ]   0: 02-08 15:29  FKPCatalogMesh  INFO     data painted.\n",
      "[ 001961.82 ]   0: 02-08 15:29  CatalogMesh     INFO     Chunk 0 ~ 4194304 / 11099858 \n",
      "[ 002004.44 ]   0: 02-08 15:30  CatalogMesh     INFO     painted 4194304 out of 11099858 objects to mesh\n",
      "[ 002004.45 ]   0: 02-08 15:30  CatalogMesh     INFO     Chunk 4194304 ~ 8388608 / 11099858 \n",
      "[ 002045.10 ]   0: 02-08 15:30  CatalogMesh     INFO     painted 8388608 out of 11099858 objects to mesh\n",
      "[ 002045.10 ]   0: 02-08 15:30  CatalogMesh     INFO     Chunk 8388608 ~ 12582912 / 11099858 \n",
      "[ 002073.23 ]   0: 02-08 15:31  CatalogMesh     INFO     painted 11099858 out of 11099858 objects to mesh\n",
      "[ 002089.64 ]   0: 02-08 15:31  CatalogMesh     INFO     painted 11099858 out of 11099858 objects to mesh\n",
      "[ 002089.64 ]   0: 02-08 15:31  CatalogMesh     INFO     mean particles per cell is 0.0731836\n",
      "[ 002089.64 ]   0: 02-08 15:31  CatalogMesh     INFO     sum is 9.82254e+06 \n",
      "[ 002089.89 ]   0: 02-08 15:31  FKPCatalogMesh  INFO     randoms painted.\n",
      "[ 002091.03 ]   0: 02-08 15:31  FKPCatalogMesh  INFO     volume per cell is 2142.01\n",
      "[ 002091.04 ]   0: 02-08 15:31  FKPCatalogMesh  INFO     field: (FKPCatalog(species=['data', 'randoms']) as CatalogMesh) painting done\n",
      "[ 002091.04 ]   0: 02-08 15:31  ConvolvedFFTPower INFO     tsc painting of 'first' done\n",
      "[ 002098.84 ]   0: 02-08 15:31  ConvolvedFFTPower INFO     ell = 0 done; 1 r2c completed\n",
      "[ 002191.37 ]   0: 02-08 15:33  ConvolvedFFTPower INFO     normalized power spectrum with `randoms.norm = 3.317665`\n",
      "[ 002191.37 ]   0: 02-08 15:33  ConvolvedFFTPower INFO     higher order multipoles computed in elapsed time 00:00:00.00\n",
      "[ 002290.06 ]   0: 02-08 15:35  ConvolvedFFTPower INFO     saving ConvolvedFFTPower result to ./test_pk_ngc_full.json\n"
     ]
    }
   ],
   "source": [
    "g = '/home/mehdi/data/eboss/data/v7_2/eBOSS_QSO_full_NGC_v7_2.dat.fits'\n",
    "r = g.replace('.dat.', '.ran.')\n",
    "res_f = run_ConvolvedFFTPower(g, r, './test_pk_ngc_full.json', zmin=0.8, zmax=2.2, boxsize=6600., \n",
    "                             return_pk=True, poles=[0], dk=0.001903995548)"
   ]
  },
  {
   "cell_type": "code",
   "execution_count": 20,
   "metadata": {},
   "outputs": [
    {
     "name": "stderr",
     "output_type": "stream",
     "text": [
      "[ 002959.12 ]   0: 02-08 15:46  CatalogSource   INFO     Extra arguments to FileType: ('/home/mehdi/data/eboss/data/v7_2/eBOSS_QSO_full_NGC_v7_2.dat.fits',) {}\n",
      "[ 002959.13 ]   0: 02-08 15:46  CatalogSource   INFO     Extra arguments to FileType: ('/home/mehdi/data/eboss/data/v7_2/eBOSS_QSO_clustering_NGC_v7_2.ran.fits',) {}\n",
      "[ 003070.15 ]   0: 02-08 15:48  FKPCatalog      INFO     cartesian coordinate range: [-3299.48355181 -3219.34693867   536.8960886 ] : [-192.24569414 3298.05846647 3277.34110426]\n",
      "[ 003070.15 ]   0: 02-08 15:48  FKPCatalog      INFO     BoxSize = [6600. 6600. 6600.]\n",
      "[ 003070.15 ]   0: 02-08 15:48  FKPCatalog      INFO     BoxCenter = [-1745.86462298    39.3557639   1907.11859643]\n",
      "[ 003070.16 ]   0: 02-08 15:48  ConvolvedFFTPower INFO     using compensation function CompensateTSC for source 'first'\n",
      "[ 003070.16 ]   0: 02-08 15:48  ConvolvedFFTPower INFO     using compensation function CompensateTSC for source 'second'\n",
      "[ 003103.93 ]   0: 02-08 15:48  CatalogMesh     INFO     Chunk 0 ~ 4194304 / 218209 \n",
      "[ 003109.05 ]   0: 02-08 15:48  CatalogMesh     INFO     painted 218209 out of 218209 objects to mesh\n",
      "[ 003127.83 ]   0: 02-08 15:48  CatalogMesh     INFO     painted 218209 out of 218209 objects to mesh\n",
      "[ 003127.83 ]   0: 02-08 15:48  CatalogMesh     INFO     mean particles per cell is 0.00155925\n",
      "[ 003127.83 ]   0: 02-08 15:48  CatalogMesh     INFO     sum is 209279 \n",
      "[ 003127.86 ]   0: 02-08 15:48  FKPCatalogMesh  INFO     data painted.\n",
      "[ 003128.56 ]   0: 02-08 15:49  CatalogMesh     INFO     Chunk 0 ~ 4194304 / 11099858 \n",
      "[ 003161.12 ]   0: 02-08 15:49  CatalogMesh     INFO     painted 4194304 out of 11099858 objects to mesh\n",
      "[ 003161.13 ]   0: 02-08 15:49  CatalogMesh     INFO     Chunk 4194304 ~ 8388608 / 11099858 \n",
      "[ 003192.15 ]   0: 02-08 15:50  CatalogMesh     INFO     painted 8388608 out of 11099858 objects to mesh\n",
      "[ 003192.16 ]   0: 02-08 15:50  CatalogMesh     INFO     Chunk 8388608 ~ 12582912 / 11099858 \n",
      "[ 003212.81 ]   0: 02-08 15:50  CatalogMesh     INFO     painted 11099858 out of 11099858 objects to mesh\n",
      "[ 003230.35 ]   0: 02-08 15:50  CatalogMesh     INFO     painted 11099858 out of 11099858 objects to mesh\n",
      "[ 003230.36 ]   0: 02-08 15:50  CatalogMesh     INFO     mean particles per cell is 0.0775753\n",
      "[ 003230.36 ]   0: 02-08 15:50  CatalogMesh     INFO     sum is 1.0412e+07 \n",
      "[ 003230.67 ]   0: 02-08 15:50  FKPCatalogMesh  INFO     randoms painted.\n",
      "[ 003231.86 ]   0: 02-08 15:50  FKPCatalogMesh  INFO     volume per cell is 2142.01\n",
      "[ 003231.86 ]   0: 02-08 15:50  FKPCatalogMesh  INFO     field: (FKPCatalog(species=['data', 'randoms']) as CatalogMesh) painting done\n",
      "[ 003231.86 ]   0: 02-08 15:50  ConvolvedFFTPower INFO     tsc painting of 'first' done\n",
      "[ 003239.29 ]   0: 02-08 15:50  ConvolvedFFTPower INFO     ell = 0 done; 1 r2c completed\n",
      "[ 003313.14 ]   0: 02-08 15:52  ConvolvedFFTPower INFO     normalized power spectrum with `randoms.norm = 3.319633`\n",
      "[ 003313.14 ]   0: 02-08 15:52  ConvolvedFFTPower INFO     higher order multipoles computed in elapsed time 00:00:00.00\n",
      "[ 003398.83 ]   0: 02-08 15:53  ConvolvedFFTPower INFO     saving ConvolvedFFTPower result to ./test_pk_ngc_fullclus.json\n"
     ]
    }
   ],
   "source": [
    "g = '/home/mehdi/data/eboss/data/v7_2/eBOSS_QSO_full_NGC_v7_2.dat.fits'\n",
    "r = '/home/mehdi/data/eboss/data/v7_2/eBOSS_QSO_clustering_NGC_v7_2.ran.fits'\n",
    "res_fc = run_ConvolvedFFTPower(g, r, './test_pk_ngc_fullclus.json', zmin=0.8, zmax=2.2, boxsize=6600., \n",
    "                             return_pk=True, poles=[0], dk=0.001903995548)"
   ]
  },
  {
   "cell_type": "code",
   "execution_count": 29,
   "metadata": {},
   "outputs": [],
   "source": [
    "res = nb.ConvolvedFFTPower.load('/home/mehdi/data/eboss/data/v7_2/3.0/measurements/spectra/spectra_NGC_knownsystot_mainhighz_512_v7_2_main.json')"
   ]
  },
  {
   "cell_type": "code",
   "execution_count": 30,
   "metadata": {},
   "outputs": [
    {
     "data": {
      "text/plain": [
       "Text(0, 0.5, 'P0 [Mpc/h]$^{3}$')"
      ]
     },
     "execution_count": 30,
     "metadata": {},
     "output_type": "execute_result"
    },
    {
     "data": {
      "image/png": "[encoded data removed]",
      "text/plain": [
       "<Figure size 432x288 with 1 Axes>"
      ]
     },
     "metadata": {
      "needs_background": "light"
     },
     "output_type": "display_data"
    }
   ],
   "source": [
    "ls = ['--', '-', 'None']\n",
    "mk = ['.', '.', 'x']\n",
    "\n",
    "i = 0\n",
    "for res_i in [res, res_, res_fc]:\n",
    "    plt.plot(res_i.poles['k'], res_i.poles['power_0'].real-res_i.attrs['shotnoise'], \n",
    "             marker=mk[i], mfc='w', ls=ls[i], alpha=0.7)\n",
    "    i +=1 \n",
    "    \n",
    "plt.xscale('log')    \n",
    "plt.legend(['Full', 'Clustering', 'Full D w/ Clustering R'], \n",
    "           title='NGC (0.8<z<2.2) - Standard', frameon=False)\n",
    "plt.xlabel('k [h/Mpc]')\n",
    "plt.ylabel(r'P0 [Mpc/h]$^{3}$')\n",
    "# plt.savefig('p0_fullvsclus.png', dpi=300, bbox_inches='tight')"
   ]
  },
  {
   "cell_type": "code",
   "execution_count": null,
   "metadata": {},
   "outputs": [],
   "source": []
  }
 ],
 "metadata": {
  "kernelspec": {
   "display_name": "python (py3p6)",
   "language": "python",
   "name": "py3p6"
  },
  "language_info": {
   "codemirror_mode": {
    "name": "ipython",
    "version": 3
   },
   "file_extension": ".py",
   "mimetype": "text/x-python",
   "name": "python",
   "nbconvert_exporter": "python",
   "pygments_lexer": "ipython3",
   "version": "3.7.4"
  }
 },
 "nbformat": 4,
 "nbformat_minor": 2
}
