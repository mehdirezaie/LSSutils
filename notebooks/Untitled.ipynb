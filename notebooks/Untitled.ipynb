{
 "cells": [
  {
   "cell_type": "code",
   "execution_count": 1,
   "metadata": {},
   "outputs": [],
   "source": [
    "%matplotlib inline\n",
    "import matplotlib.pyplot as plt\n",
    "import numpy as np\n",
    "import nbodykit.lab as nb"
   ]
  },
  {
   "cell_type": "code",
   "execution_count": 19,
   "metadata": {},
   "outputs": [],
   "source": [
    "from scipy.interpolate import interp1d"
   ]
  },
  {
   "cell_type": "code",
   "execution_count": 2,
   "metadata": {},
   "outputs": [
    {
     "data": {
      "text/plain": [
       "(63, 2)"
      ]
     },
     "execution_count": 2,
     "metadata": {},
     "output_type": "execute_result"
    }
   ],
   "source": [
    "pk_th = np.loadtxt('/home/mehdi/data/eboss/theory/eBOSS_QSO_NGC_nnknown_512_cont_nnknown_512_kmin1_kmax64_fNL0.dat')\n",
    "pk_th.shape"
   ]
  },
  {
   "cell_type": "code",
   "execution_count": 7,
   "metadata": {},
   "outputs": [],
   "source": [
    "pk_obs = nb.ConvolvedFFTPower.load('/home/mehdi/data/eboss/data/v7_2/3.0/measurements/spectra/spectra_NGC_known_mainhighz_512_v7_2_main.json')"
   ]
  },
  {
   "cell_type": "code",
   "execution_count": 21,
   "metadata": {},
   "outputs": [],
   "source": [
    "k_obs = pk_obs.poles['k']\n",
    "pk_obs = pk_obs.poles['power_0'].real-pk_obs.attrs['shotnoise']\n",
    "\n",
    "k_th = pk_th[:, 0]\n",
    "pk_th = pk_th[:, 1]\n",
    "\n",
    "is_good = (k_obs >= k_th.min()-1.0e-3) & (k_obs <= k_th.max()+1.0e-3)\n"
   ]
  },
  {
   "cell_type": "code",
   "execution_count": 29,
   "metadata": {},
   "outputs": [],
   "source": [
    "pk_th_spl = interp1d(k_th, pk_th, bounds_error=False, fill_value=0.0)"
   ]
  },
  {
   "cell_type": "code",
   "execution_count": 30,
   "metadata": {},
   "outputs": [
    {
     "data": {
      "image/png": "[encoded data removed]",
      "text/plain": [
       "<Figure size 432x288 with 1 Axes>"
      ]
     },
     "metadata": {
      "needs_background": "light"
     },
     "output_type": "display_data"
    }
   ],
   "source": [
    "plt.plot(k_obs, pk_obs, \n",
    "         marker='o', ls='None', mfc='w')\n",
    "plt.plot(k_th, pk_th, 'r-')\n",
    "plt.xscale('log')\n",
    "# plt.yscale('log')"
   ]
  },
  {
   "cell_type": "code",
   "execution_count": 37,
   "metadata": {},
   "outputs": [
    {
     "data": {
      "text/plain": [
       "63"
      ]
     },
     "execution_count": 37,
     "metadata": {},
     "output_type": "execute_result"
    }
   ],
   "source": [
    "is_good.sum()"
   ]
  },
  {
   "cell_type": "code",
   "execution_count": 38,
   "metadata": {},
   "outputs": [
    {
     "data": {
      "image/png": "[encoded data removed]",
      "text/plain": [
       "<Figure size 432x288 with 1 Axes>"
      ]
     },
     "metadata": {
      "needs_background": "light"
     },
     "output_type": "display_data"
    }
   ],
   "source": [
    "\n",
    "\n",
    "\n",
    "plt.plot(k_obs[is_good], pk_obs[is_good]-pk_th, \n",
    "         marker='o', ls='None', mfc='w')\n",
    "plt.xscale('log')\n",
    "# plt.yscale('log')"
   ]
  },
  {
   "cell_type": "code",
   "execution_count": null,
   "metadata": {},
   "outputs": [],
   "source": []
  },
  {
   "cell_type": "code",
   "execution_count": null,
   "metadata": {},
   "outputs": [],
   "source": []
  },
  {
   "cell_type": "code",
   "execution_count": null,
   "metadata": {},
   "outputs": [],
   "source": []
  },
  {
   "cell_type": "code",
   "execution_count": 12,
   "metadata": {},
   "outputs": [
    {
     "data": {
      "text/plain": [
       "array([0.00296536, 0.00485405, 0.00672024, 0.00859752, 0.0104781 ,\n",
       "       0.01240322, 0.01430933, 0.01619877, 0.01809619, 0.01999708,\n",
       "       0.02189994, 0.02381046, 0.02572181, 0.02762477, 0.02951929,\n",
       "       0.03142386, 0.03332648, 0.03522548, 0.0371274 , 0.03903086,\n",
       "       0.04093864, 0.04284642, 0.04474594, 0.04664614, 0.04855568,\n",
       "       0.05046539, 0.05236764, 0.05426115, 0.05616004, 0.05806777,\n",
       "       0.05997866, 0.06188669, 0.06378625, 0.06568809, 0.06758914,\n",
       "       0.06949623, 0.07140641, 0.0733069 , 0.07520529, 0.07710662,\n",
       "       0.0790127 , 0.08092043, 0.08282535, 0.08473014, 0.08663306,\n",
       "       0.08853524, 0.090439  , 0.09234341, 0.0942469 , 0.09615152,\n",
       "       0.09805671, 0.09995956, 0.10186497, 0.1037693 , 0.1056717 ,\n",
       "       0.10757492, 0.10947978, 0.11138522, 0.11328652, 0.11518938,\n",
       "       0.11709612, 0.119003  , 0.12090464])"
      ]
     },
     "execution_count": 12,
     "metadata": {},
     "output_type": "execute_result"
    }
   ],
   "source": [
    "pk_th[:, 0]"
   ]
  },
  {
   "cell_type": "code",
   "execution_count": 14,
   "metadata": {},
   "outputs": [
    {
     "data": {
      "text/plain": [
       "array([0.00296536, 0.00485405, 0.00672024, 0.00859752, 0.0104781 ,\n",
       "       0.01240322, 0.01430933, 0.01619877, 0.01809619, 0.01999708,\n",
       "       0.02189994, 0.02381046, 0.02572181, 0.02762477, 0.02951929,\n",
       "       0.03142386, 0.03332648, 0.03522548, 0.0371274 , 0.03903086,\n",
       "       0.04093864, 0.04284642, 0.04474594, 0.04664614, 0.04855568,\n",
       "       0.05046539, 0.05236764, 0.05426115, 0.05616004, 0.05806777,\n",
       "       0.05997866, 0.06188669, 0.06378625, 0.06568809, 0.06758914,\n",
       "       0.06949622, 0.07140641, 0.0733069 , 0.07520529, 0.07710662,\n",
       "       0.0790127 , 0.08092043, 0.08282535, 0.08473014, 0.08663306,\n",
       "       0.08853524, 0.090439  , 0.09234341, 0.09424691, 0.09615152,\n",
       "       0.09805671, 0.09995956, 0.10186497, 0.1037693 , 0.1056717 ,\n",
       "       0.10757493, 0.10947978, 0.11138522, 0.11328652, 0.11518938,\n",
       "       0.11709612, 0.119003  , 0.12090464, 0.12280564, 0.12470987,\n",
       "       0.12661699, 0.12852113, 0.13042153, 0.13232486, 0.13422873,\n",
       "       0.13613412, 0.13804075, 0.13994534, 0.14185   , 0.1437527 ,\n",
       "       0.14565596, 0.14756016, 0.14946144, 0.1513649 , 0.15327035,\n",
       "       0.15517425, 0.1570793 , 0.15898389, 0.16088749, 0.16279144,\n",
       "       0.16469528, 0.16659967, 0.16850197, 0.17040468, 0.17230884,\n",
       "       0.17421438, 0.17612072, 0.17802593, 0.17992925, 0.18183195,\n",
       "       0.18373608, 0.18563993, 0.18754226, 0.18944509, 0.19135025,\n",
       "       0.19325566, 0.19516102, 0.1970644 , 0.1989667 , 0.2008699 ,\n",
       "       0.20277509, 0.20467952, 0.20658126, 0.20848484, 0.2103897 ,\n",
       "       0.21229486, 0.21419958, 0.21610342, 0.21800798, 0.21991164,\n",
       "       0.22181556, 0.22371972, 0.22562238, 0.22752555, 0.22942993,\n",
       "       0.23133498, 0.23323958, 0.2351442 , 0.23704761, 0.23895072,\n",
       "       0.24085391, 0.24275799])"
      ]
     },
     "execution_count": 14,
     "metadata": {},
     "output_type": "execute_result"
    }
   ],
   "source": [
    "pk_obs.poles['k'][1:]"
   ]
  },
  {
   "cell_type": "code",
   "execution_count": 6,
   "metadata": {},
   "outputs": [
    {
     "name": "stdout",
     "output_type": "stream",
     "text": [
      "\u001b[0m\u001b[01;34mcatalogs\u001b[0m/           \u001b[01;34mcatalogs_boosting_ran\u001b[0m/  \u001b[01;34mNGC\u001b[0m/\r\n",
      "\u001b[01;34mcatalogs_boosting\u001b[0m/  \u001b[01;34mmeasurements\u001b[0m/           \u001b[01;34mSGC\u001b[0m/\r\n"
     ]
    }
   ],
   "source": [
    "ls /home/mehdi/data/eboss/data/v7_2/3.0"
   ]
  },
  {
   "cell_type": "code",
   "execution_count": null,
   "metadata": {},
   "outputs": [],
   "source": []
  }
 ],
 "metadata": {
  "kernelspec": {
   "display_name": "python (py3p6)",
   "language": "python",
   "name": "py3p6"
  },
  "language_info": {
   "codemirror_mode": {
    "name": "ipython",
    "version": 3
   },
   "file_extension": ".py",
   "mimetype": "text/x-python",
   "name": "python",
   "nbconvert_exporter": "python",
   "pygments_lexer": "ipython3",
   "version": "3.7.4"
  }
 },
 "nbformat": 4,
 "nbformat_minor": 2
}
