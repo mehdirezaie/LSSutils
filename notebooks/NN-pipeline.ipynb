{
 "cells": [
  {
   "cell_type": "code",
   "execution_count": 1,
   "metadata": {},
   "outputs": [],
   "source": [
    "%load_ext autoreload"
   ]
  },
  {
   "cell_type": "code",
   "execution_count": 2,
   "metadata": {},
   "outputs": [],
   "source": [
    "%autoreload 2"
   ]
  },
  {
   "cell_type": "code",
   "execution_count": null,
   "metadata": {},
   "outputs": [],
   "source": [
    "# read imaging templates (only read once)\n",
    "## check the ordering and resolution\n",
    "\n",
    "# read galaxy and random\n",
    "## apply required cuts\n",
    "## project to healpix \n",
    "\n",
    "# construct the label and features \n",
    "# split into train, validation, and test\n",
    "\n",
    "# perform training\n",
    "\n",
    "# swap the weights\n",
    "\n",
    "# derive the power spectrum"
   ]
  },
  {
   "cell_type": "code",
   "execution_count": 3,
   "metadata": {},
   "outputs": [],
   "source": [
    "%matplotlib inline\n",
    "import healpy as hp"
   ]
  },
  {
   "cell_type": "code",
   "execution_count": 4,
   "metadata": {},
   "outputs": [],
   "source": [
    "import numpy as np\n",
    "import fitsio as ft\n",
    "import sys\n",
    "sys.path.append('/home/mehdi/github/LSSutils')"
   ]
  },
  {
   "cell_type": "code",
   "execution_count": 5,
   "metadata": {},
   "outputs": [
    {
     "name": "stdout",
     "output_type": "stream",
     "text": [
      "camb is not installed!\n"
     ]
    }
   ],
   "source": [
    "from LSSutils.utils import hpixsum, makennbar"
   ]
  },
  {
   "cell_type": "code",
   "execution_count": 6,
   "metadata": {},
   "outputs": [],
   "source": [
    "from LSSutils.stats.pcc import BTPCC, PCC"
   ]
  },
  {
   "cell_type": "code",
   "execution_count": 7,
   "metadata": {},
   "outputs": [
    {
     "data": {
      "text/plain": [
       "('NRAN',\n",
       " 'SKY_G',\n",
       " 'SKY_R',\n",
       " 'SKY_I',\n",
       " 'SKY_Z',\n",
       " 'AIRMASS',\n",
       " 'EBV',\n",
       " 'DEPTH_G',\n",
       " 'DEPTH_R',\n",
       " 'DEPTH_I',\n",
       " 'DEPTH_Z',\n",
       " 'PSF_G',\n",
       " 'PSF_R',\n",
       " 'PSF_I',\n",
       " 'PSF_Z',\n",
       " 'W1_MED',\n",
       " 'W1_COVMED',\n",
       " 'W1_MOON',\n",
       " 'STAR_DENSITY')"
      ]
     },
     "execution_count": 7,
     "metadata": {},
     "output_type": "execute_result"
    }
   ],
   "source": [
    "templates = ft.read('/home/mehdi/data/templates/SDSS_WISE_imageprop_nside512.fits')\n",
    "templates.dtype.names"
   ]
  },
  {
   "cell_type": "code",
   "execution_count": 8,
   "metadata": {},
   "outputs": [],
   "source": [
    "import matplotlib.pyplot as plt"
   ]
  },
  {
   "cell_type": "code",
   "execution_count": 9,
   "metadata": {},
   "outputs": [],
   "source": [
    "from LSSutils.stats.nnbar import NNBAR"
   ]
  },
  {
   "cell_type": "code",
   "execution_count": 10,
   "metadata": {},
   "outputs": [],
   "source": [
    "import logging\n",
    "logging.basicConfig(level=logging.INFO)\n",
    "logger = logging.getLogger('--- Systematic Weights ---')"
   ]
  },
  {
   "cell_type": "code",
   "execution_count": 11,
   "metadata": {},
   "outputs": [
    {
     "name": "stderr",
     "output_type": "stream",
     "text": [
      "INFO:--- Systematic Weights ---:TEST\n"
     ]
    }
   ],
   "source": [
    "logger.info('TEST')"
   ]
  },
  {
   "cell_type": "code",
   "execution_count": 91,
   "metadata": {},
   "outputs": [],
   "source": [
    "class EbossCatalog:\n",
    "    \n",
    "    logger = logging.getLogger('EbossCatalog')\n",
    "    \n",
    "    def __init__(self, filename, kind='galaxy'):\n",
    "        self.kind  = kind\n",
    "        self.data  = ft.read(filename)\n",
    "        \n",
    "        self.select()\n",
    "    \n",
    "    def select(self, compmin=0.5, zmin=0.8, zmax=2.2):\n",
    "        ''' `Full` to `Clustering` Catalog\n",
    "        '''\n",
    "        \n",
    "        #-- apply cuts on galaxy or randoms\n",
    "        if self.kind == 'galaxy':            \n",
    "            \n",
    "            # galaxy\n",
    "            wd  = (self.data['IMATCH']==1) | (self.data['IMATCH']==2)\n",
    "            wd &= (self.data['Z'] >= zmin) & (self.data['Z'] <= zmax)\n",
    "            wd &= self.data['COMP_BOSS'] > compmin\n",
    "            wd &= self.data['sector_SSR'] > compmin\n",
    "            self.logger.info(f'{wd.sum()} galaxies pass the cuts')\n",
    "            self.logger.info(f'% of galaxies after cut {np.mean(wd):0.2f}')\n",
    "            self.data = self.data[wd]\n",
    "            \n",
    "        elif self.kind == 'random':\n",
    "            \n",
    "            # random\n",
    "            wr  = (self.data['Z'] >= zmin) & (self.data['Z'] <= zmax)\n",
    "            wr &= self.data['COMP_BOSS'] > compmin\n",
    "            wr &= self.data['sector_SSR'] > compmin\n",
    "            self.logger.info(f'{wr.sum()} randoms pass the cuts')\n",
    "            self.logger.info(f'% of randoms after cut {np.mean(wr):0.2f}')        \n",
    "            self.data = self.data[wr]\n",
    "            \n",
    "    \n",
    "    def cutz(self, zlim):\n",
    "        \n",
    "        #datat = self.data.copy()\n",
    "        \n",
    "        zmin, zmax = zlim\n",
    "        self.logger.info(f'Grab a slice with {zlim}')        \n",
    "        myz   = (self.data['Z']>= zmin) & (self.data['Z']<= zmax)\n",
    "        self.logger.info(f'# of data that pass this cut {myz.sum()}')\n",
    "        self.cdata = self.data[myz]\n",
    "        \n",
    "    def tohp(self, nside):\n",
    "        \n",
    "        assert hasattr(self, 'cdata'), f'cdata not found'\n",
    "        \n",
    "        self.logger.info(f'Projecting to HEALPIX as {self.kind} with {nside}')\n",
    "        \n",
    "        if self.kind == 'galaxy':\n",
    "            #weight = self.cdata['WEIGHT_CP']*self.cdata['WEIGHT_FKP']*self.cdata['WEIGHT_NOZ']\n",
    "            weight = self.cdata['WEIGHT_CP']*self.cdata['WEIGHT_FKP']*self.cdata['WEIGHT_NOZ']*self.cdata['WEIGHT_SYSTOT']\n",
    "        elif self.kind == 'random':\n",
    "            #weight = self.cdata['COMP_BOSS']*self.cdata['WEIGHT_FKP']\n",
    "            weight = self.cdata['WEIGHT_CP']*self.cdata['WEIGHT_FKP']*self.cdata['WEIGHT_NOZ']*self.cdata['WEIGHT_SYSTOT']\n",
    "        else:\n",
    "            raise ValueError(f'{self.kind} not defined')\n",
    "            \n",
    "        self.hpmap = hpixsum(nside, self.cdata['RA'], self.cdata['DEC'], value=weight)"
   ]
  },
  {
   "cell_type": "code",
   "execution_count": 106,
   "metadata": {},
   "outputs": [],
   "source": [
    "class SystematicsTree:\n",
    "    \n",
    "    logger = logging.getLogger('SystematicsTree')\n",
    "    \n",
    "    def __init__(self, galaxy, random, templates, nside=512):\n",
    "        self.galaxy    = galaxy\n",
    "        self.random    = random\n",
    "        self.templates = templates\n",
    "        self.nside     = nside\n",
    "        \n",
    "    def _read_imaging(self, template_names=['EBV', 'DEPTH_G']):   \n",
    "        self.logger.info(f'reading {template_names}')\n",
    "        self.template_names = template_names\n",
    "        \n",
    "        #-- imaging maps\n",
    "        x   = []\n",
    "        nonan = np.ones(12*self.nside*self.nside, '?')\n",
    "        for name_i in template_names:\n",
    "            x_i = self.templates[name_i]\n",
    "            nonan &= ~np.isnan(x_i)\n",
    "            x.append(x_i)\n",
    "        self.features = np.array(x).T        \n",
    "        self.nonan    = nonan\n",
    "\n",
    "        \n",
    "    def combine(self, zlim, mask=None, \n",
    "                fracmin=0.2, select_fun=None,\n",
    "               template_names=['EBV', 'DEPTH_G']):\n",
    "        \n",
    "        if not hasattr(self, 'features'):\n",
    "            self._read_imaging(template_names=template_names)\n",
    "            \n",
    "        self.logger.info(f'Slice galaxy and randoms with `zlim` : {zlim}')\n",
    "        \n",
    "        #-- cut galaxy and random, and project to Healpix\n",
    "        self.galaxy.cutz(zlim)\n",
    "        self.galaxy.tohp(self.nside)\n",
    "        \n",
    "        self.random.cutz([0.8, 2.2])#zlim)\n",
    "        self.random.tohp(self.nside)\n",
    "        \n",
    "        #-- apply a cut on the footprint\n",
    "        self.mask = self.random.hpmap > fracmin\n",
    "        if not mask is None:\n",
    "            self.mask &= mask       \n",
    "        self.mask &= self.nonan            \n",
    "            \n",
    "        #-- construct the N/Nbar map\n",
    "        self.nnbar = makennbar(self.galaxy.hpmap, self.random.hpmap, self.mask,\n",
    "                               select_fun=select_fun, is_sys=False)                \n",
    "                \n",
    "        self.logger.info(f'{self.mask.sum() - self.nonan.sum()} pixels removed due to nan imaging')\n",
    "        \n",
    "    def run_pcc(self, plot=False, title='TEST', figax=None):\n",
    "        \n",
    "        self.pcc  = PCC(self.features[MyTree.mask,:],   self.nnbar[self.mask])\n",
    "        self.bpcc = BTPCC(self.features[MyTree.mask,:], self.nnbar[self.mask])\n",
    "        \n",
    "        if plot:\n",
    "            if not figax is None:\n",
    "                fig, ax = figax\n",
    "            else:\n",
    "                fig, ax = plt.subplots()\n",
    "            \n",
    "            x = np.arange(len(self.pcc))\n",
    "            prcntiles = np.percentile(self.bpcc, [0.5, 99.5], axis=0)\n",
    "            \n",
    "            #ax.bar(x, self.pcc, color='crimson', alpha=0.5)\n",
    "            #ax.fill_between(x, y1=prcntiles[0], y2=prcntiles[1], alpha=0.2, color='b')\n",
    "            ax.errorbar(x, np.zeros_like(x), \n",
    "                        yerr=[-prcntiles[0], prcntiles[1]], \n",
    "                        alpha=1., color='grey',\n",
    "                        ls='None', capsize=5)\n",
    "\n",
    "            ax.scatter(x, self.pcc, 80, color='red',\n",
    "                       alpha=0.8, marker='o')\n",
    "            \n",
    "            ax.set_xticks(x)\n",
    "            ax.grid(True, ls=':', color='grey')\n",
    "            ax.set_xticklabels(self.template_names, rotation=90)\n",
    "            ax.set(ylabel='PCC')\n",
    "            ax.axhline(0, color='k')\n",
    "            ax.text(0.1, 0.9, title, transform=ax.transAxes)\n",
    "            \n",
    "            \n",
    "    def run_nnbar(self, nbins=8, njack=20, plot=False):\n",
    "        \n",
    "        self.logger.info(f'nbins={nbins} njack={njack}')\n",
    "        self.nnbar = {}\n",
    "        \n",
    "        for name_i in self.template_names:\n",
    "            \n",
    "            self.logger.info(f'run NNBAR on {name_i}')\n",
    "            \n",
    "            #--- no weight\n",
    "            nnbar_i = NNBAR(self.galaxy.hpmap, self.random.hpmap,\n",
    "                            self.mask, self.templates[name_i],\n",
    "                            nbins=nbins)\n",
    "            nnbar_i.run(njack=njack)            \n",
    "            self.nnbar[name_i] = {'No Weight':nnbar_i.output}\n",
    "            \n",
    "        if plot:\n",
    "            ncols=len(self.nnbar)\n",
    "            fig, ax = plt.subplots(1, ncols=ncols, figsize=(6*ncols, 4),\n",
    "                                  sharey=True)\n",
    "            fig.subplots_adjust(wspace=0.0)\n",
    "            for i,keyi in enumerate(self.nnbar):\n",
    "                for j, keyj in enumerate(self.nnbar[keyi]):                    \n",
    "                    output_i = self.nnbar[keyi][keyj]\n",
    "                    x  = 0.5*(output_i['bin_edges'][1:]+output_i['bin_edges'][:-1])\n",
    "                    y  = output_i['nnbar']\n",
    "                    ye = output_i['nnbar_err']\n",
    "\n",
    "                    ax[i].errorbar(x, y, yerr=ye, ls='-', color='k', label=keyj)\n",
    "                ax[i].set(xlabel=keyi)\n",
    "                ax[i].grid(True, ls=':', color='grey')\n",
    "                if i==0:ax[0].legend()"
   ]
  },
  {
   "cell_type": "code",
   "execution_count": 107,
   "metadata": {},
   "outputs": [
    {
     "name": "stderr",
     "output_type": "stream",
     "text": [
      "INFO:EbossCatalog:218202 galaxies pass the cuts\n",
      "INFO:EbossCatalog:% of galaxies after cut 0.54\n",
      "INFO:EbossCatalog:11096305 randoms pass the cuts\n",
      "INFO:EbossCatalog:% of randoms after cut 0.64\n"
     ]
    }
   ],
   "source": [
    "#--- read galaxy and random \n",
    "galaxy = EbossCatalog('/home/mehdi/data/eboss/v7_1/eBOSS_QSO_full_NGC_v7_1.dat.fits', 'galaxy')\n",
    "random = EbossCatalog('/home/mehdi/data/eboss/v7_1/eBOSS_QSO_full_NGC_v7_1.ran.fits', 'random')"
   ]
  },
  {
   "cell_type": "code",
   "execution_count": 130,
   "metadata": {},
   "outputs": [],
   "source": [
    "zcuts     = {'0.8': [0.80, 1.14],\n",
    "             '1.1': [1.14, 1.39],\n",
    "             '1.4': [1.39, 1.63],\n",
    "             '1.6': [1.63, 1.88],\n",
    "             '1.9': [1.88, 2.20]}\n",
    "# zcuts     = {'0.8': [0.80, 1.5],\n",
    "#              '1.5': [1.5, 2.2]}"
   ]
  },
  {
   "cell_type": "code",
   "execution_count": 137,
   "metadata": {
    "scrolled": false
   },
   "outputs": [
    {
     "name": "stderr",
     "output_type": "stream",
     "text": [
      "INFO:SystematicsTree:reading ['EBV', 'DEPTH_G']\n",
      "INFO:SystematicsTree:Slice galaxy and randoms with `zlim` : [0.8, 1.14]\n",
      "INFO:EbossCatalog:Grab a slice with [0.8, 1.14]\n"
     ]
    },
    {
     "name": "stdout",
     "output_type": "stream",
     "text": [
      "0.8 [0.8, 1.14]\n"
     ]
    },
    {
     "name": "stderr",
     "output_type": "stream",
     "text": [
      "INFO:EbossCatalog:# of data that pass this cut 43265\n",
      "INFO:EbossCatalog:Projecting to HEALPIX as galaxy with 512\n",
      "INFO:EbossCatalog:Grab a slice with [0.8, 2.2]\n",
      "INFO:EbossCatalog:# of data that pass this cut 11096305\n",
      "INFO:EbossCatalog:Projecting to HEALPIX as random with 512\n",
      "INFO:SystematicsTree:-586686 pixels removed due to nan imaging\n",
      "INFO:SystematicsTree:Slice galaxy and randoms with `zlim` : [1.14, 1.39]\n",
      "INFO:EbossCatalog:Grab a slice with [1.14, 1.39]\n",
      "INFO:EbossCatalog:# of data that pass this cut 44685\n",
      "INFO:EbossCatalog:Projecting to HEALPIX as galaxy with 512\n",
      "INFO:EbossCatalog:Grab a slice with [0.8, 2.2]\n"
     ]
    },
    {
     "name": "stdout",
     "output_type": "stream",
     "text": [
      "1.1 [1.14, 1.39]\n"
     ]
    },
    {
     "name": "stderr",
     "output_type": "stream",
     "text": [
      "INFO:EbossCatalog:# of data that pass this cut 11096305\n",
      "INFO:EbossCatalog:Projecting to HEALPIX as random with 512\n",
      "INFO:SystematicsTree:-586686 pixels removed due to nan imaging\n",
      "INFO:SystematicsTree:Slice galaxy and randoms with `zlim` : [1.39, 1.63]\n",
      "INFO:EbossCatalog:Grab a slice with [1.39, 1.63]\n",
      "INFO:EbossCatalog:# of data that pass this cut 42558\n",
      "INFO:EbossCatalog:Projecting to HEALPIX as galaxy with 512\n",
      "INFO:EbossCatalog:Grab a slice with [0.8, 2.2]\n"
     ]
    },
    {
     "name": "stdout",
     "output_type": "stream",
     "text": [
      "1.4 [1.39, 1.63]\n"
     ]
    },
    {
     "name": "stderr",
     "output_type": "stream",
     "text": [
      "INFO:EbossCatalog:# of data that pass this cut 11096305\n",
      "INFO:EbossCatalog:Projecting to HEALPIX as random with 512\n",
      "INFO:SystematicsTree:-586686 pixels removed due to nan imaging\n",
      "INFO:SystematicsTree:Slice galaxy and randoms with `zlim` : [1.63, 1.88]\n",
      "INFO:EbossCatalog:Grab a slice with [1.63, 1.88]\n",
      "INFO:EbossCatalog:# of data that pass this cut 43594\n",
      "INFO:EbossCatalog:Projecting to HEALPIX as galaxy with 512\n",
      "INFO:EbossCatalog:Grab a slice with [0.8, 2.2]\n"
     ]
    },
    {
     "name": "stdout",
     "output_type": "stream",
     "text": [
      "1.6 [1.63, 1.88]\n"
     ]
    },
    {
     "name": "stderr",
     "output_type": "stream",
     "text": [
      "INFO:EbossCatalog:# of data that pass this cut 11096305\n",
      "INFO:EbossCatalog:Projecting to HEALPIX as random with 512\n",
      "INFO:SystematicsTree:-586686 pixels removed due to nan imaging\n",
      "INFO:SystematicsTree:Slice galaxy and randoms with `zlim` : [1.88, 2.2]\n",
      "INFO:EbossCatalog:Grab a slice with [1.88, 2.2]\n",
      "INFO:EbossCatalog:# of data that pass this cut 44100\n",
      "INFO:EbossCatalog:Projecting to HEALPIX as galaxy with 512\n",
      "INFO:EbossCatalog:Grab a slice with [0.8, 2.2]\n"
     ]
    },
    {
     "name": "stdout",
     "output_type": "stream",
     "text": [
      "1.9 [1.88, 2.2]\n"
     ]
    },
    {
     "name": "stderr",
     "output_type": "stream",
     "text": [
      "INFO:EbossCatalog:# of data that pass this cut 11096305\n",
      "INFO:EbossCatalog:Projecting to HEALPIX as random with 512\n",
      "INFO:SystematicsTree:-586686 pixels removed due to nan imaging\n"
     ]
    },
    {
     "data": {
      "image/png": "[encoded data removed]",
      "text/plain": [
       "<Figure size 432x288 with 5 Axes>"
      ]
     },
     "metadata": {
      "needs_background": "light"
     },
     "output_type": "display_data"
    }
   ],
   "source": [
    "fig, ax = plt.subplots(ncols=5, sharey=True)\n",
    "MyTree = SystematicsTree(galaxy, random, templates)\n",
    "for i,key in enumerate(zcuts.keys()):\n",
    "    print(key, zcuts[key])\n",
    "    MyTree.combine(zcuts[key])\n",
    "    MyTree.run_pcc(plot=True, figax=(fig, ax[i]), title=key)"
   ]
  },
  {
   "cell_type": "code",
   "execution_count": 135,
   "metadata": {},
   "outputs": [
    {
     "data": {
      "text/plain": [
       "<matplotlib.collections.PathCollection at 0x7f76394e4ed0>"
      ]
     },
     "execution_count": 135,
     "metadata": {},
     "output_type": "execute_result"
    },
    {
     "data": {
      "image/png": "[encoded data removed]",
      "text/plain": [
       "<Figure size 432x288 with 1 Axes>"
      ]
     },
     "metadata": {
      "needs_background": "light"
     },
     "output_type": "display_data"
    }
   ],
   "source": [
    "plt.xlabel('EBV')\n",
    "plt.ylabel('Nqso/Nran*')\n",
    "plt.scatter(MyTree.features[MyTree.mask,0], MyTree.nnbar[MyTree.mask])"
   ]
  },
  {
   "cell_type": "code",
   "execution_count": 136,
   "metadata": {},
   "outputs": [
    {
     "data": {
      "text/plain": [
       "Text(0, 0.5, 'Npix')"
      ]
     },
     "execution_count": 136,
     "metadata": {},
     "output_type": "execute_result"
    },
    {
     "data": {
      "image/png": "[encoded data removed]",
      "text/plain": [
       "<Figure size 432x288 with 1 Axes>"
      ]
     },
     "metadata": {
      "needs_background": "light"
     },
     "output_type": "display_data"
    }
   ],
   "source": [
    "_=plt.hist(MyTree.nnbar[MyTree.mask], bins=[0, 1]+[i for i in range(2, 20)])\n",
    "plt.xlabel('Nqso/Nran*')\n",
    "plt.ylabel('Npix')"
   ]
  },
  {
   "cell_type": "code",
   "execution_count": 85,
   "metadata": {},
   "outputs": [
    {
     "name": "stderr",
     "output_type": "stream",
     "text": [
      "INFO:SystematicsTree:reading ['EBV', 'DEPTH_G']\n",
      "INFO:SystematicsTree:Slice galaxy and randoms with `zlim` : [0.8, 2.2]\n",
      "INFO:EbossCatalog:Grab a slice with [0.8, 2.2]\n",
      "INFO:EbossCatalog:# of data that pass this cut 218202\n"
     ]
    },
    {
     "name": "stdout",
     "output_type": "stream",
     "text": [
      "0.8 [0.8, 2.2]\n"
     ]
    },
    {
     "name": "stderr",
     "output_type": "stream",
     "text": [
      "INFO:EbossCatalog:Projecting to HEALPIX as galaxy with 512\n",
      "INFO:EbossCatalog:Grab a slice with [0.8, 2.2]\n",
      "INFO:EbossCatalog:# of data that pass this cut 11096305\n",
      "INFO:EbossCatalog:Projecting to HEALPIX as random with 512\n",
      "INFO:SystematicsTree:-586686 pixels removed due to nan imaging\n"
     ]
    },
    {
     "data": {
      "image/png": "[encoded data removed]",
      "text/plain": [
       "<Figure size 432x288 with 5 Axes>"
      ]
     },
     "metadata": {
      "needs_background": "light"
     },
     "output_type": "display_data"
    }
   ],
   "source": [
    "zcuts     = {'0.8': [0.80, 2.2]}\n",
    "fig, ax = plt.subplots(ncols=5, sharey=True)\n",
    "MyTree = SystematicsTree(galaxy, random, templates)\n",
    "for i,key in enumerate(zcuts.keys()):\n",
    "    print(key, zcuts[key])\n",
    "    MyTree.combine(zcuts[key])\n",
    "    MyTree.run_pcc(plot=True, figax=(fig, ax[i]))"
   ]
  },
  {
   "cell_type": "code",
   "execution_count": 59,
   "metadata": {},
   "outputs": [
    {
     "name": "stderr",
     "output_type": "stream",
     "text": [
      "INFO:SystematicsTree:Slice galaxy and randoms with `zlim` : [0.8, 2.2]\n",
      "INFO:EbossCatalog:Grab a slice with [0.8, 2.2]\n",
      "INFO:EbossCatalog:# of data that pass this cut 218202\n",
      "INFO:EbossCatalog:Projecting to HEALPIX as galaxy with 512\n",
      "INFO:EbossCatalog:Grab a slice with [0.8, 2.2]\n",
      "INFO:EbossCatalog:# of data that pass this cut 11096305\n",
      "INFO:EbossCatalog:Projecting to HEALPIX as random with 512\n",
      "INFO:SystematicsTree:43 pixels removed due to nan imaging\n"
     ]
    }
   ],
   "source": [
    "MyTree.combine([0.8, 2.2])"
   ]
  },
  {
   "cell_type": "code",
   "execution_count": 60,
   "metadata": {},
   "outputs": [
    {
     "data": {
      "image/png": "[encoded data removed]",
      "text/plain": [
       "<Figure size 432x288 with 1 Axes>"
      ]
     },
     "metadata": {
      "needs_background": "light"
     },
     "output_type": "display_data"
    }
   ],
   "source": [
    "MyTree.run_pcc(plot=True)"
   ]
  },
  {
   "cell_type": "code",
   "execution_count": 120,
   "metadata": {},
   "outputs": [
    {
     "name": "stderr",
     "output_type": "stream",
     "text": [
      "INFO:SystematicsTree:nbins=8 njack=20\n",
      "INFO:SystematicsTree:run NNBAR on EBV\n",
      "INFO:SystematicsTree:run NNBAR on DEPTH_G\n"
     ]
    },
    {
     "data": {
      "image/png": "[encoded data removed]",
      "text/plain": [
       "<Figure size 864x288 with 2 Axes>"
      ]
     },
     "metadata": {
      "needs_background": "light"
     },
     "output_type": "display_data"
    }
   ],
   "source": [
    "MyTree.run_nnbar(plot=True)"
   ]
  },
  {
   "cell_type": "code",
   "execution_count": 121,
   "metadata": {},
   "outputs": [],
   "source": [
    "from sklearn.neural_network import MLPRegressor"
   ]
  },
  {
   "cell_type": "code",
   "execution_count": 122,
   "metadata": {
    "scrolled": false
   },
   "outputs": [
    {
     "name": "stdout",
     "output_type": "stream",
     "text": [
      "Help on class MLPRegressor in module sklearn.neural_network.multilayer_perceptron:\n",
      "\n",
      "class MLPRegressor(BaseMultilayerPerceptron, sklearn.base.RegressorMixin)\n",
      " |  MLPRegressor(hidden_layer_sizes=(100,), activation='relu', solver='adam', alpha=0.0001, batch_size='auto', learning_rate='constant', learning_rate_init=0.001, power_t=0.5, max_iter=200, shuffle=True, random_state=None, tol=0.0001, verbose=False, warm_start=False, momentum=0.9, nesterovs_momentum=True, early_stopping=False, validation_fraction=0.1, beta_1=0.9, beta_2=0.999, epsilon=1e-08, n_iter_no_change=10)\n",
      " |  \n",
      " |  Multi-layer Perceptron regressor.\n",
      " |  \n",
      " |  This model optimizes the squared-loss using LBFGS or stochastic gradient\n",
      " |  descent.\n",
      " |  \n",
      " |  .. versionadded:: 0.18\n",
      " |  \n",
      " |  Parameters\n",
      " |  ----------\n",
      " |  hidden_layer_sizes : tuple, length = n_layers - 2, default (100,)\n",
      " |      The ith element represents the number of neurons in the ith\n",
      " |      hidden layer.\n",
      " |  \n",
      " |  activation : {'identity', 'logistic', 'tanh', 'relu'}, default 'relu'\n",
      " |      Activation function for the hidden layer.\n",
      " |  \n",
      " |      - 'identity', no-op activation, useful to implement linear bottleneck,\n",
      " |        returns f(x) = x\n",
      " |  \n",
      " |      - 'logistic', the logistic sigmoid function,\n",
      " |        returns f(x) = 1 / (1 + exp(-x)).\n",
      " |  \n",
      " |      - 'tanh', the hyperbolic tan function,\n",
      " |        returns f(x) = tanh(x).\n",
      " |  \n",
      " |      - 'relu', the rectified linear unit function,\n",
      " |        returns f(x) = max(0, x)\n",
      " |  \n",
      " |  solver : {'lbfgs', 'sgd', 'adam'}, default 'adam'\n",
      " |      The solver for weight optimization.\n",
      " |  \n",
      " |      - 'lbfgs' is an optimizer in the family of quasi-Newton methods.\n",
      " |  \n",
      " |      - 'sgd' refers to stochastic gradient descent.\n",
      " |  \n",
      " |      - 'adam' refers to a stochastic gradient-based optimizer proposed by\n",
      " |        Kingma, Diederik, and Jimmy Ba\n",
      " |  \n",
      " |      Note: The default solver 'adam' works pretty well on relatively\n",
      " |      large datasets (with thousands of training samples or more) in terms of\n",
      " |      both training time and validation score.\n",
      " |      For small datasets, however, 'lbfgs' can converge faster and perform\n",
      " |      better.\n",
      " |  \n",
      " |  alpha : float, optional, default 0.0001\n",
      " |      L2 penalty (regularization term) parameter.\n",
      " |  \n",
      " |  batch_size : int, optional, default 'auto'\n",
      " |      Size of minibatches for stochastic optimizers.\n",
      " |      If the solver is 'lbfgs', the classifier will not use minibatch.\n",
      " |      When set to \"auto\", `batch_size=min(200, n_samples)`\n",
      " |  \n",
      " |  learning_rate : {'constant', 'invscaling', 'adaptive'}, default 'constant'\n",
      " |      Learning rate schedule for weight updates.\n",
      " |  \n",
      " |      - 'constant' is a constant learning rate given by\n",
      " |        'learning_rate_init'.\n",
      " |  \n",
      " |      - 'invscaling' gradually decreases the learning rate ``learning_rate_``\n",
      " |        at each time step 't' using an inverse scaling exponent of 'power_t'.\n",
      " |        effective_learning_rate = learning_rate_init / pow(t, power_t)\n",
      " |  \n",
      " |      - 'adaptive' keeps the learning rate constant to\n",
      " |        'learning_rate_init' as long as training loss keeps decreasing.\n",
      " |        Each time two consecutive epochs fail to decrease training loss by at\n",
      " |        least tol, or fail to increase validation score by at least tol if\n",
      " |        'early_stopping' is on, the current learning rate is divided by 5.\n",
      " |  \n",
      " |      Only used when solver='sgd'.\n",
      " |  \n",
      " |  learning_rate_init : double, optional, default 0.001\n",
      " |      The initial learning rate used. It controls the step-size\n",
      " |      in updating the weights. Only used when solver='sgd' or 'adam'.\n",
      " |  \n",
      " |  power_t : double, optional, default 0.5\n",
      " |      The exponent for inverse scaling learning rate.\n",
      " |      It is used in updating effective learning rate when the learning_rate\n",
      " |      is set to 'invscaling'. Only used when solver='sgd'.\n",
      " |  \n",
      " |  max_iter : int, optional, default 200\n",
      " |      Maximum number of iterations. The solver iterates until convergence\n",
      " |      (determined by 'tol') or this number of iterations. For stochastic\n",
      " |      solvers ('sgd', 'adam'), note that this determines the number of epochs\n",
      " |      (how many times each data point will be used), not the number of\n",
      " |      gradient steps.\n",
      " |  \n",
      " |  shuffle : bool, optional, default True\n",
      " |      Whether to shuffle samples in each iteration. Only used when\n",
      " |      solver='sgd' or 'adam'.\n",
      " |  \n",
      " |  random_state : int, RandomState instance or None, optional, default None\n",
      " |      If int, random_state is the seed used by the random number generator;\n",
      " |      If RandomState instance, random_state is the random number generator;\n",
      " |      If None, the random number generator is the RandomState instance used\n",
      " |      by `np.random`.\n",
      " |  \n",
      " |  tol : float, optional, default 1e-4\n",
      " |      Tolerance for the optimization. When the loss or score is not improving\n",
      " |      by at least ``tol`` for ``n_iter_no_change`` consecutive iterations,\n",
      " |      unless ``learning_rate`` is set to 'adaptive', convergence is\n",
      " |      considered to be reached and training stops.\n",
      " |  \n",
      " |  verbose : bool, optional, default False\n",
      " |      Whether to print progress messages to stdout.\n",
      " |  \n",
      " |  warm_start : bool, optional, default False\n",
      " |      When set to True, reuse the solution of the previous\n",
      " |      call to fit as initialization, otherwise, just erase the\n",
      " |      previous solution. See :term:`the Glossary <warm_start>`.\n",
      " |  \n",
      " |  momentum : float, default 0.9\n",
      " |      Momentum for gradient descent update.  Should be between 0 and 1. Only\n",
      " |      used when solver='sgd'.\n",
      " |  \n",
      " |  nesterovs_momentum : boolean, default True\n",
      " |      Whether to use Nesterov's momentum. Only used when solver='sgd' and\n",
      " |      momentum > 0.\n",
      " |  \n",
      " |  early_stopping : bool, default False\n",
      " |      Whether to use early stopping to terminate training when validation\n",
      " |      score is not improving. If set to true, it will automatically set\n",
      " |      aside 10% of training data as validation and terminate training when\n",
      " |      validation score is not improving by at least ``tol`` for\n",
      " |      ``n_iter_no_change`` consecutive epochs.\n",
      " |      Only effective when solver='sgd' or 'adam'\n",
      " |  \n",
      " |  validation_fraction : float, optional, default 0.1\n",
      " |      The proportion of training data to set aside as validation set for\n",
      " |      early stopping. Must be between 0 and 1.\n",
      " |      Only used if early_stopping is True\n",
      " |  \n",
      " |  beta_1 : float, optional, default 0.9\n",
      " |      Exponential decay rate for estimates of first moment vector in adam,\n",
      " |      should be in [0, 1). Only used when solver='adam'\n",
      " |  \n",
      " |  beta_2 : float, optional, default 0.999\n",
      " |      Exponential decay rate for estimates of second moment vector in adam,\n",
      " |      should be in [0, 1). Only used when solver='adam'\n",
      " |  \n",
      " |  epsilon : float, optional, default 1e-8\n",
      " |      Value for numerical stability in adam. Only used when solver='adam'\n",
      " |  \n",
      " |  n_iter_no_change : int, optional, default 10\n",
      " |      Maximum number of epochs to not meet ``tol`` improvement.\n",
      " |      Only effective when solver='sgd' or 'adam'\n",
      " |  \n",
      " |      .. versionadded:: 0.20\n",
      " |  \n",
      " |  Attributes\n",
      " |  ----------\n",
      " |  loss_ : float\n",
      " |      The current loss computed with the loss function.\n",
      " |  \n",
      " |  coefs_ : list, length n_layers - 1\n",
      " |      The ith element in the list represents the weight matrix corresponding\n",
      " |      to layer i.\n",
      " |  \n",
      " |  intercepts_ : list, length n_layers - 1\n",
      " |      The ith element in the list represents the bias vector corresponding to\n",
      " |      layer i + 1.\n",
      " |  \n",
      " |  n_iter_ : int,\n",
      " |      The number of iterations the solver has ran.\n",
      " |  \n",
      " |  n_layers_ : int\n",
      " |      Number of layers.\n",
      " |  \n",
      " |  n_outputs_ : int\n",
      " |      Number of outputs.\n",
      " |  \n",
      " |  out_activation_ : string\n",
      " |      Name of the output activation function.\n",
      " |  \n",
      " |  Notes\n",
      " |  -----\n",
      " |  MLPRegressor trains iteratively since at each time step\n",
      " |  the partial derivatives of the loss function with respect to the model\n",
      " |  parameters are computed to update the parameters.\n",
      " |  \n",
      " |  It can also have a regularization term added to the loss function\n",
      " |  that shrinks model parameters to prevent overfitting.\n",
      " |  \n",
      " |  This implementation works with data represented as dense and sparse numpy\n",
      " |  arrays of floating point values.\n",
      " |  \n",
      " |  References\n",
      " |  ----------\n",
      " |  Hinton, Geoffrey E.\n",
      " |      \"Connectionist learning procedures.\" Artificial intelligence 40.1\n",
      " |      (1989): 185-234.\n",
      " |  \n",
      " |  Glorot, Xavier, and Yoshua Bengio. \"Understanding the difficulty of\n",
      " |      training deep feedforward neural networks.\" International Conference\n",
      " |      on Artificial Intelligence and Statistics. 2010.\n",
      " |  \n",
      " |  He, Kaiming, et al. \"Delving deep into rectifiers: Surpassing human-level\n",
      " |      performance on imagenet classification.\" arXiv preprint\n",
      " |      arXiv:1502.01852 (2015).\n",
      " |  \n",
      " |  Kingma, Diederik, and Jimmy Ba. \"Adam: A method for stochastic\n",
      " |      optimization.\" arXiv preprint arXiv:1412.6980 (2014).\n",
      " |  \n",
      " |  Method resolution order:\n",
      " |      MLPRegressor\n",
      " |      BaseMultilayerPerceptron\n",
      " |      sklearn.base.BaseEstimator\n",
      " |      sklearn.base.RegressorMixin\n",
      " |      builtins.object\n",
      " |  \n",
      " |  Methods defined here:\n",
      " |  \n",
      " |  __init__(self, hidden_layer_sizes=(100,), activation='relu', solver='adam', alpha=0.0001, batch_size='auto', learning_rate='constant', learning_rate_init=0.001, power_t=0.5, max_iter=200, shuffle=True, random_state=None, tol=0.0001, verbose=False, warm_start=False, momentum=0.9, nesterovs_momentum=True, early_stopping=False, validation_fraction=0.1, beta_1=0.9, beta_2=0.999, epsilon=1e-08, n_iter_no_change=10)\n",
      " |      Initialize self.  See help(type(self)) for accurate signature.\n",
      " |  \n",
      " |  predict(self, X)\n",
      " |      Predict using the multi-layer perceptron model.\n",
      " |      \n",
      " |      Parameters\n",
      " |      ----------\n",
      " |      X : {array-like, sparse matrix}, shape (n_samples, n_features)\n",
      " |          The input data.\n",
      " |      \n",
      " |      Returns\n",
      " |      -------\n",
      " |      y : array-like, shape (n_samples, n_outputs)\n",
      " |          The predicted values.\n",
      " |  \n",
      " |  ----------------------------------------------------------------------\n",
      " |  Data and other attributes defined here:\n",
      " |  \n",
      " |  __abstractmethods__ = frozenset()\n",
      " |  \n",
      " |  ----------------------------------------------------------------------\n",
      " |  Methods inherited from BaseMultilayerPerceptron:\n",
      " |  \n",
      " |  fit(self, X, y)\n",
      " |      Fit the model to data matrix X and target(s) y.\n",
      " |      \n",
      " |      Parameters\n",
      " |      ----------\n",
      " |      X : array-like or sparse matrix, shape (n_samples, n_features)\n",
      " |          The input data.\n",
      " |      \n",
      " |      y : array-like, shape (n_samples,) or (n_samples, n_outputs)\n",
      " |          The target values (class labels in classification, real numbers in\n",
      " |          regression).\n",
      " |      \n",
      " |      Returns\n",
      " |      -------\n",
      " |      self : returns a trained MLP model.\n",
      " |  \n",
      " |  ----------------------------------------------------------------------\n",
      " |  Data descriptors inherited from BaseMultilayerPerceptron:\n",
      " |  \n",
      " |  partial_fit\n",
      " |      Update the model with a single iteration over the given data.\n",
      " |      \n",
      " |      Parameters\n",
      " |      ----------\n",
      " |      X : {array-like, sparse matrix}, shape (n_samples, n_features)\n",
      " |          The input data.\n",
      " |      \n",
      " |      y : array-like, shape (n_samples,)\n",
      " |          The target values.\n",
      " |      \n",
      " |      Returns\n",
      " |      -------\n",
      " |      self : returns a trained MLP model.\n",
      " |  \n",
      " |  ----------------------------------------------------------------------\n",
      " |  Methods inherited from sklearn.base.BaseEstimator:\n",
      " |  \n",
      " |  __getstate__(self)\n",
      " |  \n",
      " |  __repr__(self, N_CHAR_MAX=700)\n",
      " |      Return repr(self).\n",
      " |  \n",
      " |  __setstate__(self, state)\n",
      " |  \n",
      " |  get_params(self, deep=True)\n",
      " |      Get parameters for this estimator.\n",
      " |      \n",
      " |      Parameters\n",
      " |      ----------\n",
      " |      deep : boolean, optional\n",
      " |          If True, will return the parameters for this estimator and\n",
      " |          contained subobjects that are estimators.\n",
      " |      \n",
      " |      Returns\n",
      " |      -------\n",
      " |      params : mapping of string to any\n",
      " |          Parameter names mapped to their values.\n",
      " |  \n",
      " |  set_params(self, **params)\n",
      " |      Set the parameters of this estimator.\n",
      " |      \n",
      " |      The method works on simple estimators as well as on nested objects\n",
      " |      (such as pipelines). The latter have parameters of the form\n",
      " |      ``<component>__<parameter>`` so that it's possible to update each\n",
      " |      component of a nested object.\n",
      " |      \n",
      " |      Returns\n",
      " |      -------\n",
      " |      self\n",
      " |  \n",
      " |  ----------------------------------------------------------------------\n",
      " |  Data descriptors inherited from sklearn.base.BaseEstimator:\n",
      " |  \n",
      " |  __dict__\n",
      " |      dictionary for instance variables (if defined)\n",
      " |  \n",
      " |  __weakref__\n",
      " |      list of weak references to the object (if defined)\n",
      " |  \n",
      " |  ----------------------------------------------------------------------\n",
      " |  Methods inherited from sklearn.base.RegressorMixin:\n",
      " |  \n",
      " |  score(self, X, y, sample_weight=None)\n",
      " |      Returns the coefficient of determination R^2 of the prediction.\n",
      " |      \n",
      " |      The coefficient R^2 is defined as (1 - u/v), where u is the residual\n",
      " |      sum of squares ((y_true - y_pred) ** 2).sum() and v is the total\n",
      " |      sum of squares ((y_true - y_true.mean()) ** 2).sum().\n",
      " |      The best possible score is 1.0 and it can be negative (because the\n",
      " |      model can be arbitrarily worse). A constant model that always\n",
      " |      predicts the expected value of y, disregarding the input features,\n",
      " |      would get a R^2 score of 0.0.\n",
      " |      \n",
      " |      Parameters\n",
      " |      ----------\n",
      " |      X : array-like, shape = (n_samples, n_features)\n",
      " |          Test samples. For some estimators this may be a\n",
      " |          precomputed kernel matrix instead, shape = (n_samples,\n",
      " |          n_samples_fitted], where n_samples_fitted is the number of\n",
      " |          samples used in the fitting for the estimator.\n",
      " |      \n",
      " |      y : array-like, shape = (n_samples) or (n_samples, n_outputs)\n",
      " |          True values for X.\n",
      " |      \n",
      " |      sample_weight : array-like, shape = [n_samples], optional\n",
      " |          Sample weights.\n",
      " |      \n",
      " |      Returns\n",
      " |      -------\n",
      " |      score : float\n",
      " |          R^2 of self.predict(X) wrt. y.\n",
      " |      \n",
      " |      Notes\n",
      " |      -----\n",
      " |      The R2 score used when calling ``score`` on a regressor will use\n",
      " |      ``multioutput='uniform_average'`` from version 0.23 to keep consistent\n",
      " |      with `metrics.r2_score`. This will influence the ``score`` method of\n",
      " |      all the multioutput regressors (except for\n",
      " |      `multioutput.MultiOutputRegressor`). To specify the default value\n",
      " |      manually and avoid the warning, please either call `metrics.r2_score`\n",
      " |      directly or make a custom scorer with `metrics.make_scorer` (the\n",
      " |      built-in scorer ``'r2'`` uses ``multioutput='uniform_average'``).\n",
      "\n"
     ]
    }
   ],
   "source": [
    "help(MLPRegressor)"
   ]
  },
  {
   "cell_type": "code",
   "execution_count": 20,
   "metadata": {
    "scrolled": false
   },
   "outputs": [
    {
     "data": {
      "text/plain": [
       "{'z0': {'zlim': (0.8, 1.2), 'model': None},\n",
       " 'z1': {'zlim': (1.2, 1.5), 'model': None},\n",
       " 'z2': {'zlim': (1.5, 1.8), 'model': None},\n",
       " 'z3': {'zlim': (1.8, 2.2), 'model': None}}"
      ]
     },
     "execution_count": 20,
     "metadata": {},
     "output_type": "execute_result"
    }
   ],
   "source": [
    "#np.percentile(galaxy['Z'], [0, 25, 50, 75, 100])\n",
    "# [0.80001524, 1.20787712, 1.50846194, 1.81560686, 2.19999942]\n",
    "selection_mask = {\n",
    "                  'z0':{'zlim':(0.8, 1.2), 'model':None},\n",
    "                  'z1':{'zlim':(1.2, 1.5), 'model':None},\n",
    "                  'z2':{'zlim':(1.5, 1.8), 'model':None},\n",
    "                  'z3':{'zlim':(1.8, 2.2), 'model':None}\n",
    "                 }\n",
    "selection_mask"
   ]
  },
  {
   "cell_type": "code",
   "execution_count": 55,
   "metadata": {
    "scrolled": false
   },
   "outputs": [
    {
     "name": "stderr",
     "output_type": "stream",
     "text": [
      "INFO:--- Systematic Weights ---:Grab a slice with [0.8, 1.2]\n",
      "INFO:--- Systematic Weights ---:# of data that pass this cut 53176\n",
      "INFO:--- Systematic Weights ---:Projecting to HEALPIX as galaxy with 512\n"
     ]
    }
   ],
   "source": [
    "cgalaxy.cutz([0.8, 1.2])\n",
    "cgalaxy.tohp(512)"
   ]
  },
  {
   "cell_type": "code",
   "execution_count": 32,
   "metadata": {},
   "outputs": [
    {
     "data": {
      "text/plain": [
       "<function LSSutils.utils.hpixsum(nside, ra, dec, value=None, nest=False)>"
      ]
     },
     "execution_count": 32,
     "metadata": {},
     "output_type": "execute_result"
    }
   ],
   "source": [
    "hpixsum"
   ]
  },
  {
   "cell_type": "code",
   "execution_count": 41,
   "metadata": {},
   "outputs": [],
   "source": [
    "%matplotlib inline"
   ]
  },
  {
   "cell_type": "code",
   "execution_count": 39,
   "metadata": {},
   "outputs": [],
   "source": [
    "import healpy as hp"
   ]
  },
  {
   "cell_type": "code",
   "execution_count": 56,
   "metadata": {},
   "outputs": [
    {
     "name": "stderr",
     "output_type": "stream",
     "text": [
      "/home/mehdi/miniconda3/envs/py3p6/lib/python3.7/site-packages/healpy/projaxes.py:1196: MatplotlibDeprecationWarning: \n",
      "The iterable function was deprecated in Matplotlib 3.1 and will be removed in 3.3. Use np.iterable instead.\n",
      "  if matplotlib.cbook.iterable(value):\n",
      "/home/mehdi/miniconda3/envs/py3p6/lib/python3.7/site-packages/healpy/projaxes.py:1155: MatplotlibDeprecationWarning: \n",
      "The iterable function was deprecated in Matplotlib 3.1 and will be removed in 3.3. Use np.iterable instead.\n",
      "  if matplotlib.cbook.iterable(value):\n"
     ]
    },
    {
     "data": {
      "image/png": "[encoded data removed]",
      "text/plain": [
       "<Figure size 612x388.8 with 2 Axes>"
      ]
     },
     "metadata": {
      "needs_background": "light"
     },
     "output_type": "display_data"
    }
   ],
   "source": [
    "hp.mollview(cgalaxy.hpmap, rot=90)"
   ]
  }
 ],
 "metadata": {
  "kernelspec": {
   "display_name": "python (py3p6)",
   "language": "python",
   "name": "py3p6"
  },
  "language_info": {
   "codemirror_mode": {
    "name": "ipython",
    "version": 3
   },
   "file_extension": ".py",
   "mimetype": "text/x-python",
   "name": "python",
   "nbconvert_exporter": "python",
   "pygments_lexer": "ipython3",
   "version": "3.7.4"
  }
 },
 "nbformat": 4,
 "nbformat_minor": 2
}
