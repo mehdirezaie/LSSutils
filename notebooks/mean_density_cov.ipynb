{
 "cells": [
  {
   "cell_type": "code",
   "execution_count": 1,
   "metadata": {},
   "outputs": [],
   "source": [
    "%matplotlib inline\n",
    "import matplotlib.pyplot as plt\n",
    "import numpy as np\n",
    "from glob import glob\n",
    "from scipy.stats import chi2\n",
    "\n",
    "import sys\n",
    "sys.path.insert(0, '/home/mehdi/github/LSSutils')\n",
    "from lssutils.stats import nnbar\n",
    "from lssutils.utils import EbossCat\n",
    "import pandas as pd\n",
    "import healpy as hp"
   ]
  },
  {
   "cell_type": "code",
   "execution_count": 2,
   "metadata": {},
   "outputs": [],
   "source": [
    "\"\"\"\n",
    "\n",
    "    'star_density', 'ebv', 'loghi',\n",
    "    'sky_g', 'sky_r', 'sky_i', 'sky_z',\n",
    "    'depth_g_minus_ebv','depth_r_minus_ebv', \n",
    "    'depth_i_minus_ebv', 'depth_z_minus_ebv', \n",
    "    'psf_g', 'psf_r', 'psf_i', 'psf_z',\n",
    "     'run', 'airmass'\n",
    "\n",
    "\n",
    "\"\"\"\n",
    "from scipy.special import gamma\n",
    "\n",
    "def chi2_pdf(x, k):\n",
    "    \"\"\" Chi2 pdf \n",
    "    \"\"\"\n",
    "    k2 = k / 2.\n",
    "    n_ = np.power(x, k2-1.)\n",
    "    d_ = np.power(2., k2)*gamma(k2)\n",
    "    return np.exp(-0.5*x)*n_/d_    \n",
    "\n",
    "def chi2_fn(y, invcov):\n",
    "    return np.dot(y, np.dot(invcov, y))    \n",
    "\n",
    "def read_nnbar(path, dnstar=None, select=None):\n",
    "    \n",
    "    d = np.load(path, allow_pickle=True)\n",
    "    \n",
    "    if dnstar is not None:\n",
    "        d[0] = dnstar\n",
    "    \n",
    "    nnbar = []\n",
    "    \n",
    "    if select is None:        \n",
    "        for di in d:\n",
    "            nnbar.append(di['nnbar']-1)\n",
    "    else:\n",
    "        for i in select:\n",
    "            di = d[i]\n",
    "            nnbar.append(di['nnbar']-1)\n",
    "        \n",
    "    return np.array(nnbar).flatten()\n",
    "\n",
    "def get_chi2t(nbar_fn, invcov):\n",
    "    d = read_nnbar(nbar_fn)\n",
    "    return chi2_fn(d, invcov)"
   ]
  },
  {
   "cell_type": "code",
   "execution_count": 3,
   "metadata": {},
   "outputs": [],
   "source": [
    "def get_ngvsnstar(dat_fn, raw=2):\n",
    "    dat = EbossCat(dat_fn, kind='data', zmin=0.8, zmax=2.2)\n",
    "    ran = EbossCat(dat_fn.replace('.dat.', '.ran.'), kind='randoms', zmin=0.8, zmax=2.2)\n",
    "    \n",
    "    hpdat = dat.to_hp(512, 0.8, 2.2, raw=raw)\n",
    "    hpran = ran.to_hp(512, 0.8, 2.2, raw=2)\n",
    "    mask = (hpran > 0) & (np.isfinite(nstarg)) # & (np.isfinite(nstarg))    \n",
    "    \n",
    "    ones = np.ones_like(hpran)\n",
    "    frac = hpran / (hp.nside2pixarea(512, degrees=True)*5000.)\n",
    "    \n",
    "    nbar_1 = nnbar.MeanDensity(hpdat, frac, mask, np.log10(nstarg))\n",
    "    nbar_1.run()\n",
    "    return nbar_1.output"
   ]
  },
  {
   "cell_type": "code",
   "execution_count": 4,
   "metadata": {},
   "outputs": [
    {
     "name": "stderr",
     "output_type": "stream",
     "text": [
      "/home/mehdi/github/LSSutils/lssutils/extrn/GalacticForegrounds/hpmaps.py:60: UserWarning: upgrading/downgrading Gaia star density\n",
      "  warnings.warn('upgrading/downgrading Gaia star density')\n"
     ]
    }
   ],
   "source": [
    "from lssutils.extrn.GalacticForegrounds.hpmaps import Gaia\n",
    "nstar = Gaia(nside_out=512)\n",
    "nstarg = nstar.gaia"
   ]
  },
  {
   "cell_type": "code",
   "execution_count": 5,
   "metadata": {},
   "outputs": [],
   "source": [
    "# ixx = [0, 1, 5, 7, 13, 15, 16]\n",
    "ixx = [i for i in range(17)]"
   ]
  },
  {
   "cell_type": "code",
   "execution_count": 6,
   "metadata": {},
   "outputs": [
    {
     "name": "stderr",
     "output_type": "stream",
     "text": [
      "column QSO_ID not in the randoms file\n",
      "column IMATCH not in the randoms file\n",
      "/home/mehdi/miniconda3/envs/sysnet/lib/python3.8/site-packages/healpy/pixelfunc.py:481: RuntimeWarning: invalid value encountered in _ang2pix_ring\n",
      "  return pixlib._ang2pix_ring(nside, theta, phi)\n",
      "<ipython-input-3-8492d86f9b99>:12: RuntimeWarning: divide by zero encountered in log10\n",
      "  nbar_1 = nnbar.MeanDensity(hpdat, frac, mask, np.log10(nstarg))\n"
     ]
    },
    {
     "name": "stdout",
     "output_type": "stream",
     "text": [
      "{'nnbar': array([1.0022306 , 0.99354583, 1.00193824, 0.99655374, 1.00337464,\n",
      "       1.0004416 , 1.00200202, 0.99991332]), 'area': array([29714.01223302, 29714.02524838, 29714.13117503, 29714.95931739,\n",
      "       29714.38746003, 29714.76229942, 29714.65164892, 29711.07061781]), 'nnbar_err': array([0.00589419, 0.00402342, 0.00610623, 0.00613479, 0.00779475,\n",
      "       0.00450514, 0.00575064, 0.00681519]), 'bin_edges': array([1.11197480e-08, 6.28388913e-01, 6.98969989e-01, 7.59667831e-01,\n",
      "       8.29303795e-01, 9.03089998e-01, 9.89004630e-01, 1.11394334e+00,\n",
      "       1.73239378e+00]), 'bin_avg': array([0.55509852, 0.67034592, 0.73498508, 0.79345342, 0.85957046,\n",
      "       0.94164314, 1.04730133, 1.23459916]), 'attr': {'njack': 20, 'nbar': 1.3177213114323145, 'npix2area': 1.4978855207726363}}\n"
     ]
    }
   ],
   "source": [
    "p = '/home/mehdi/data/eboss/data/v7_2/1.0/catalogs/'\n",
    "dnstar_ = get_ngvsnstar(f'{p}eBOSS_QSO_full_NGC_known_mainstarg_512_v7_2.dat.fits')\n",
    "\n",
    "print(dnstar_)\n",
    "\n",
    "data_ = '/home/mehdi/data/eboss/data/v7_2/1.0/measurements/nnbar/nnbar_NGC_known_mainhighz_512_v7_2_main_512.npy'\n",
    "nbar_ = read_nnbar(data_, dnstar_, ixx)"
   ]
  },
  {
   "cell_type": "code",
   "execution_count": 7,
   "metadata": {},
   "outputs": [
    {
     "data": {
      "text/plain": [
       "1000"
      ]
     },
     "execution_count": 7,
     "metadata": {},
     "output_type": "execute_result"
    }
   ],
   "source": [
    "c = 'NGC'\n",
    "n = '512'\n",
    "path = '/home/mehdi/data/eboss/mocks/1.0/measurements/nnbar/'\n",
    "mocks = glob(f'{path}nnbar_{c}_knownsystot_mainhighz_512_v7_0_*_main_{n}.npy')\n",
    "len(mocks)"
   ]
  },
  {
   "cell_type": "code",
   "execution_count": 8,
   "metadata": {},
   "outputs": [
    {
     "name": "stdout",
     "output_type": "stream",
     "text": [
      "(1000, 136)\n"
     ]
    }
   ],
   "source": [
    "nmocks = len(mocks)\n",
    "\n",
    "err_tot = []\n",
    "for j, fn in enumerate(mocks):\n",
    "    err_j = read_nnbar(fn, select=ixx)\n",
    "    err_tot.append(err_j)            \n",
    "    \n",
    "err_tot = np.array(err_tot)\n",
    "\n",
    "print(err_tot.shape)\n",
    "\n",
    "nbins = err_tot.shape[1]\n",
    "hartlapf = (nmocks-1. - 1.) / (nmocks-1. - nbins - 2.)\n",
    "indices = [i for i in range(nmocks)]\n",
    "\n",
    "chi2s = []\n",
    "for i in range(nmocks):\n",
    "    indices_ = indices.copy()    \n",
    "    indices_.pop(i)\n",
    "    \n",
    "    nbar_ = err_tot[i, :]\n",
    "    \n",
    "    err_ = err_tot[indices_, :]    \n",
    "    covmax_ = np.cov(err_, rowvar=False)\n",
    "    invcov_ = np.linalg.inv(covmax_*hartlapf)\n",
    "    \n",
    "    chi2_ = chi2_fn(nbar_, invcov_)\n",
    "    \n",
    "    chi2s.append(chi2_)    "
   ]
  },
  {
   "cell_type": "code",
   "execution_count": 9,
   "metadata": {},
   "outputs": [
    {
     "name": "stdout",
     "output_type": "stream",
     "text": [
      "141.09528204982053\n"
     ]
    }
   ],
   "source": [
    "err_ = err_tot[:999, :]    \n",
    "covmax_ = np.cov(err_, rowvar=False)\n",
    "\n",
    "hartlapf = (999 - 1.) / (999 - nbins - 2.)\n",
    "invcov_ = np.linalg.inv(covmax_*hartlapf)\n",
    "\n",
    "chi2_d = chi2_fn(nbar_, invcov_)\n",
    "print(chi2_d)    "
   ]
  },
  {
   "cell_type": "code",
   "execution_count": 11,
   "metadata": {},
   "outputs": [
    {
     "name": "stdout",
     "output_type": "stream",
     "text": [
      "141.0 +- 21.1\n",
      "7.383262733208004\n"
     ]
    },
    {
     "data": {
      "text/plain": [
       "Text(0.5, 0, '$\\\\chi^{2}_{tot}$')"
      ]
     },
     "execution_count": 11,
     "metadata": {},
     "output_type": "execute_result"
    },
    {
     "data": {
      "image/png": "[encoded data removed]",
      "text/plain": [
       "<Figure size 432x288 with 1 Axes>"
      ]
     },
     "metadata": {
      "needs_background": "light"
     },
     "output_type": "display_data"
    }
   ],
   "source": [
    "mu = np.mean(chi2s)\n",
    "std = np.std(chi2s)\n",
    "print(f'{mu:.1f} +- {std:.1f}')\n",
    "\n",
    "vmin = 0.9*min(chi2s)\n",
    "vmax = 1.1*max(chi2s)\n",
    "\n",
    "bin_width = 3.5*std / np.power(len(chi2s), 1./3.) # Scott 1979\n",
    "print(bin_width)\n",
    "\n",
    "\n",
    "bins = np.arange(vmin, vmax, bin_width)\n",
    "x_ = np.linspace(vmin, vmax, 200)\n",
    "#pdf = (1./np.sqrt(2*np.pi)/std)*np.exp(-0.5*((x_-mu)/std)**2)\n",
    "pdf = chi2_pdf(x_, np.floor(mu))\n",
    "\n",
    "plt.plot(x_, pdf, color='b')\n",
    "plt.hist(chi2s, bins=bins, alpha=0.1, density=True, color='blue', )\n",
    "plt.text(1.1*mu, 0.022, rf'$\\chi^{2}$(dof={np.floor(mu)})',\n",
    "         color='b')\n",
    "\n",
    "plt.axvline(chi2_d, ls='--', lw=1, color='k')\n",
    "plt.text(1.01*chi2_d, 0.015, 'Data (NN)', rotation=90)\n",
    "\n",
    "plt.xlabel(r'$\\chi^{2}_{tot}$', fontsize=20)\n",
    "# plt.savefig('chi2_wh.png', dpi=300, bbox_inches='tight')"
   ]
  },
  {
   "cell_type": "code",
   "execution_count": 12,
   "metadata": {},
   "outputs": [
    {
     "name": "stdout",
     "output_type": "stream",
     "text": [
      "0.01\n"
     ]
    }
   ],
   "source": [
    "print(np.mean(np.array(chi2s) > chi2_d))"
   ]
  },
  {
   "cell_type": "code",
   "execution_count": null,
   "metadata": {},
   "outputs": [],
   "source": []
  },
  {
   "cell_type": "code",
   "execution_count": null,
   "metadata": {},
   "outputs": [],
   "source": []
  },
  {
   "cell_type": "code",
   "execution_count": null,
   "metadata": {},
   "outputs": [],
   "source": []
  },
  {
   "cell_type": "code",
   "execution_count": 2,
   "metadata": {},
   "outputs": [],
   "source": [
    "\n",
    "\n",
    "class NbarCov:\n",
    "    \n",
    "    def __init__(self, c, n, m):\n",
    "        \"\"\" read covariance matrix \"\"\"\n",
    "        from glob import glob\n",
    "        \n",
    "        path = '/home/mehdi/data/eboss/mocks/1.0/measurements/nnbar/'\n",
    "        self.mocks = glob(f'{path}nnbar_{c}_knownsystot_mainhighz_512_v7_0_*_main_{n}.npy')\n",
    "        self.nmocks = m # len(self.mocks)\n",
    "        self.m = m\n",
    "        print(f'nmocks: {self.nmocks}, m: {self.m}')\n",
    "\n",
    "        err_tot = []\n",
    "        for j, fn in enumerate(self.mocks[:self.m]):\n",
    "            d = np.load(fn, allow_pickle=True)\n",
    "\n",
    "            err_j = []\n",
    "            for i, di in enumerate(d):\n",
    "                err_j.append(di['nnbar'] - 1.0)\n",
    "            err_tot.append(err_j)            \n",
    "        self.err_tot = np.cov(np.array(err_tot).reshape(self.nmocks, -1), \n",
    "                              rowvar=False)\n",
    "        \n",
    "    def get_chi2mocks(self, start, end):\n",
    "        invcov = self.get_invcov(0, 136)\n",
    "        \n",
    "        chi2_mocks = []\n",
    "        for nbar_i in self.mocks[start:end]:        \n",
    "            chi2_t = get_chi2t(nbar_i, invcov)        \n",
    "            chi2_mocks.append(chi2_t)\n",
    "            #print('.', end='')\n",
    "\n",
    "        return np.array(chi2_mocks)        \n",
    "\n",
    "    def get_invcov(self, start, end, return_covmax=False):\n",
    "        # https://arxiv.org/pdf/astro-ph/0608064.pdf\n",
    "        err_tot_ = self.err_tot[start:end, start:end]\n",
    "        \n",
    "        nbins = err_tot_.shape[0]        \n",
    "        print(f'nbins: {nbins}')\n",
    "\n",
    "        hartlop_factor = (self.nmocks - 1.) / (self.nmocks - nbins - 2.)\n",
    "        covmax = hartlop_factor * err_tot_\n",
    "        if return_covmax:\n",
    "            return np.linalg.inv(covmax), covmax\n",
    "        else:\n",
    "            return np.linalg.inv(covmax)"
   ]
  },
  {
   "cell_type": "code",
   "execution_count": 3,
   "metadata": {},
   "outputs": [
    {
     "name": "stdout",
     "output_type": "stream",
     "text": [
      "nmocks: 1000, m: 1000\n",
      "nbins: 136\n",
      "nmocks: 900, m: 900\n",
      "nbins: 136\n",
      "nmocks: 500, m: 500\n",
      "nbins: 136\n",
      "nmocks: 900, m: 900\n",
      "nbins: 136\n"
     ]
    }
   ],
   "source": [
    "cov = NbarCov('NGC', '512', 1000)\n",
    "chi2m = cov.get_chi2mocks(0, 1000)\n",
    "cov = NbarCov('NGC', '512', 900)\n",
    "chi2n = cov.get_chi2mocks(900, 1000)\n",
    "cov = NbarCov('NGC', '512', 500)\n",
    "chi2o = cov.get_chi2mocks(500, 1000)\n",
    "cov = NbarCov('NGC', '512', 900)\n",
    "chi2p = cov.get_chi2mocks(0, 900)"
   ]
  },
  {
   "cell_type": "code",
   "execution_count": 6,
   "metadata": {},
   "outputs": [
    {
     "name": "stdout",
     "output_type": "stream",
     "text": [
      "1-1k/1-1k           : 122.7 +- 15.6\n",
      "1-900/901-1k        : 135.0 +- 18.8\n",
      "1-500/501-1k        : 141.3 +- 22.7\n",
      "1-900/1-900         : 120.8 +- 15.2\n"
     ]
    },
    {
     "data": {
      "image/png": "[encoded data removed]",
      "text/plain": [
       "<Figure size 432x288 with 1 Axes>"
      ]
     },
     "metadata": {
      "needs_background": "light"
     },
     "output_type": "display_data"
    }
   ],
   "source": [
    "x_ = np.linspace(60, 350, num=200)\n",
    "\n",
    "c = ['b', 'orange', 'green', 'red']\n",
    "i = 0\n",
    "\n",
    "for chi2_, n_ in zip([chi2m, chi2n, chi2o, chi2p],\n",
    "                     ['1-1k/1-1k', '1-900/901-1k', '1-500/501-1k', '1-900/1-900']):\n",
    "    \n",
    "    mu = np.mean(chi2_)\n",
    "    std = np.std(chi2_)\n",
    "    \n",
    "    print(f'{n_:20s}: {mu:.1f} +- {std:.1f}')\n",
    "    \n",
    "    pdf = (1./np.sqrt(2*np.pi)/std)*np.exp(-0.5*((x_-mu)/std)**2)\n",
    "    \n",
    "    plt.plot(x_, pdf, color=c[i])\n",
    "    _ = plt.hist(chi2_, alpha=0.3, density=True, \n",
    "                 bins=np.arange(60, 360, 10), color=c[i], label=n_)\n",
    "    i += 1\n",
    "    \n",
    "leg = plt.legend(title=r'used for covmax / applied for $\\chi^{2}$')    \n",
    "for lh in leg.legendHandles: \n",
    "    lh.set_alpha(1)\n",
    "plt.xlabel(r'$\\chi^{2}_{tot}$', fontsize=20)\n",
    "plt.title('W/ Hartlap')\n",
    "plt.savefig('chi2_wh.png', dpi=300, bbox_inches='tight')"
   ]
  },
  {
   "cell_type": "code",
   "execution_count": null,
   "metadata": {},
   "outputs": [],
   "source": []
  },
  {
   "cell_type": "code",
   "execution_count": null,
   "metadata": {},
   "outputs": [],
   "source": []
  },
  {
   "cell_type": "code",
   "execution_count": 3,
   "metadata": {},
   "outputs": [
    {
     "name": "stdout",
     "output_type": "stream",
     "text": [
      "nmocks: 1000, m: 1000\n",
      "nbins: 136\n",
      "nmocks: 900, m: 900\n",
      "nbins: 136\n",
      "nmocks: 500, m: 500\n",
      "nbins: 136\n"
     ]
    }
   ],
   "source": [
    "cov = NbarCov('NGC', '512', 1000)\n",
    "chi2m = cov.get_chi2mocks(900, 1000)\n",
    "cov = NbarCov('NGC', '512', 900)\n",
    "chi2n = cov.get_chi2mocks(900, 1000)\n",
    "cov = NbarCov('NGC', '512', 500)\n",
    "chi2o = cov.get_chi2mocks(900, 1000)"
   ]
  },
  {
   "cell_type": "code",
   "execution_count": 4,
   "metadata": {},
   "outputs": [
    {
     "name": "stdout",
     "output_type": "stream",
     "text": [
      "1-1k/901-1k         : 118.3 +- 14.3\n",
      "1-900/901-1k        : 135.0 +- 18.8\n",
      "1-500/901-1k        : 137.5 +- 20.0\n"
     ]
    },
    {
     "data": {
      "image/png": "[encoded data removed]",
      "text/plain": [
       "<Figure size 432x288 with 1 Axes>"
      ]
     },
     "metadata": {
      "needs_background": "light"
     },
     "output_type": "display_data"
    }
   ],
   "source": [
    "x_ = np.linspace(60, 350, num=200)\n",
    "\n",
    "c = ['b', 'orange', 'green', 'red']\n",
    "i = 0\n",
    "\n",
    "for chi2_, n_ in zip([chi2m, chi2n, chi2o],\n",
    "                     ['1-1k/901-1k', '1-900/901-1k', '1-500/901-1k']):\n",
    "    \n",
    "    mu = np.mean(chi2_)\n",
    "    std = np.std(chi2_)\n",
    "    \n",
    "    print(f'{n_:20s}: {mu:.1f} +- {std:.1f}')\n",
    "    \n",
    "    pdf = (1./np.sqrt(2*np.pi)/std)*np.exp(-0.5*((x_-mu)/std)**2)\n",
    "    \n",
    "    plt.plot(x_, pdf, color=c[i])\n",
    "    _ = plt.hist(chi2_, alpha=0.3, density=True, \n",
    "                 bins=np.arange(60, 360, 10), color=c[i], label=n_)\n",
    "    i += 1\n",
    "    \n",
    "leg = plt.legend(title=r'used for covmax / applied for $\\chi^{2}$')    \n",
    "for lh in leg.legendHandles: \n",
    "    lh.set_alpha(1)\n",
    "plt.xlabel(r'$\\chi^{2}_{tot}$', fontsize=20)\n",
    "plt.title('W/ Hartlap')\n",
    "plt.savefig('chi2_same.png', dpi=300, bbox_inches='tight')"
   ]
  },
  {
   "cell_type": "code",
   "execution_count": null,
   "metadata": {},
   "outputs": [],
   "source": []
  },
  {
   "cell_type": "code",
   "execution_count": null,
   "metadata": {},
   "outputs": [],
   "source": []
  },
  {
   "cell_type": "code",
   "execution_count": null,
   "metadata": {},
   "outputs": [],
   "source": []
  },
  {
   "cell_type": "code",
   "execution_count": null,
   "metadata": {},
   "outputs": [],
   "source": []
  },
  {
   "cell_type": "code",
   "execution_count": null,
   "metadata": {},
   "outputs": [],
   "source": []
  },
  {
   "cell_type": "code",
   "execution_count": 10,
   "metadata": {},
   "outputs": [],
   "source": [
    "nbar = {}\n",
    "for c in ['NGC', 'SGC']:\n",
    "    \n",
    "    nbar[f'{c}-noweight'] = read_nnbar(c, 'noweight', 'mainhighz', '512', '512')\n",
    "    nbar[f'{c}-standard'] = read_nnbar(c, 'knownsystot', 'mainhighz', '512', '512')\n",
    "    nbar[f'{c}-nn'] = read_nnbar(c, 'known', 'mainhighz', '512', '512')"
   ]
  },
  {
   "cell_type": "code",
   "execution_count": 14,
   "metadata": {},
   "outputs": [
    {
     "name": "stdout",
     "output_type": "stream",
     "text": [
      "1369.2 & 240.5 & 186.3 & \n",
      "1937.7 & 146.4 & 132.2 & \n"
     ]
    }
   ],
   "source": [
    "for c in ['NGC', 'SGC']:\n",
    "    \n",
    "    for m in ['noweight', 'standard', 'nn']:\n",
    "        ni = f'{c}-{m}'\n",
    "        nbari = nbar[ni]\n",
    "        \n",
    "        print('%.1f'%chi2(nbari, inv_cov[c]), end=' & ')\n",
    "    print('')"
   ]
  },
  {
   "cell_type": "code",
   "execution_count": null,
   "metadata": {},
   "outputs": [],
   "source": []
  },
  {
   "cell_type": "code",
   "execution_count": null,
   "metadata": {},
   "outputs": [],
   "source": []
  },
  {
   "cell_type": "code",
   "execution_count": 14,
   "metadata": {},
   "outputs": [
    {
     "name": "stdout",
     "output_type": "stream",
     "text": [
      "-------------------- 512 / 512 --------------------\n",
      "noweight    , mainhighz   , 1369.2, 10.067\n",
      "knownsystot , mainhighz   , 240.5, 1.768\n",
      "known       , mainhighz   , 186.3, 1.370\n",
      "all         , mainhighz   , 177.2, 1.303\n",
      "known       , lowmidhighz , 193.2, 1.420\n",
      "all         , lowmidhighz , 180.4, 1.326\n",
      "-------------------- 256 / 512 --------------------\n",
      "known       , mainhighz   , 202.0, 1.485\n",
      "all         , mainhighz   , 229.5, 1.688\n",
      "known       , lowmidhighz , 233.1, 1.714\n",
      "all         , lowmidhighz , 242.6, 1.784\n",
      "========================================\n",
      "-------------------- 512 / 256 --------------------\n",
      "noweight    , mainhighz   , 927.7, 6.821\n",
      "knownsystot , mainhighz   , 227.4, 1.672\n",
      "known       , mainhighz   , 210.3, 1.546\n",
      "all         , mainhighz   , 199.1, 1.464\n",
      "known       , lowmidhighz , 272.4, 2.003\n",
      "all         , lowmidhighz , 251.3, 1.848\n",
      "-------------------- 256 / 256 --------------------\n",
      "known       , mainhighz   , 222.4, 1.635\n",
      "all         , mainhighz   , 160.7, 1.182\n",
      "known       , lowmidhighz , 225.8, 1.660\n",
      "all         , lowmidhighz , 200.4, 1.473\n"
     ]
    }
   ],
   "source": [
    "print(20*'-', '512 / 512', 20*'-')\n",
    "read_nnbar('noweight', 'mainhighz', '512', '512', inv_cov=inv_cov_512, select='all')\n",
    "read_nnbar('knownsystot', 'mainhighz', '512', '512', inv_cov=inv_cov_512, select='all')\n",
    "read_nnbar('known', 'mainhighz', '512', '512', inv_cov=inv_cov_512, select='all')\n",
    "read_nnbar('all', 'mainhighz', '512', '512', inv_cov=inv_cov_512, select='all')\n",
    "read_nnbar('known', 'lowmidhighz', '512', '512', inv_cov=inv_cov_512, select='all')\n",
    "read_nnbar('all', 'lowmidhighz', '512', '512', inv_cov=inv_cov_512, select='all')\n",
    "print(20*'-', '256 / 512', 20*'-')\n",
    "read_nnbar('known', 'mainhighz', '256', '512', inv_cov=inv_cov_512, select='all')\n",
    "read_nnbar('all', 'mainhighz', '256', '512', inv_cov=inv_cov_512, select='all')\n",
    "read_nnbar('known', 'lowmidhighz', '256', '512', inv_cov=inv_cov_512, select='all')\n",
    "read_nnbar('all', 'lowmidhighz', '256', '512', inv_cov=inv_cov_512, select='all')\n",
    "print(40*'=')\n",
    "print(20*'-', '512 / 256', 20*'-')\n",
    "read_nnbar('noweight', 'mainhighz', '512', '256', inv_cov=inv_cov_256, select='all')\n",
    "read_nnbar('knownsystot', 'mainhighz', '512', '256', inv_cov=inv_cov_256, select='all')\n",
    "read_nnbar('known', 'mainhighz', '512', '256', inv_cov=inv_cov_256, select='all')\n",
    "read_nnbar('all', 'mainhighz', '512', '256', inv_cov=inv_cov_256, select='all')\n",
    "read_nnbar('known', 'lowmidhighz', '512', '256', inv_cov=inv_cov_256, select='all')\n",
    "read_nnbar('all', 'lowmidhighz', '512', '256', inv_cov=inv_cov_256, select='all')\n",
    "print(20*'-', '256 / 256', 20*'-')\n",
    "read_nnbar('known', 'mainhighz', '256', '256', inv_cov=inv_cov_256, select='all')\n",
    "read_nnbar('all', 'mainhighz', '256', '256', inv_cov=inv_cov_256, select='all')\n",
    "read_nnbar('known', 'lowmidhighz', '256', '256', inv_cov=inv_cov_256, select='all')\n",
    "read_nnbar('all', 'lowmidhighz', '256', '256', inv_cov=inv_cov_256, select='all')"
   ]
  },
  {
   "cell_type": "code",
   "execution_count": 4,
   "metadata": {},
   "outputs": [],
   "source": [
    "path = '/home/mehdi/data/eboss/data/v7_2/1.0/measurements/nnbar/'\n",
    "nnbar = lambda m, s, n1, n2:np.load(f'{path}nnbar_NGC_{m}_{s}_{n1}_v7_2_main_{n2}.npy', allow_pickle=True)"
   ]
  },
  {
   "cell_type": "code",
   "execution_count": 10,
   "metadata": {},
   "outputs": [],
   "source": [
    "nnbars = {}\n",
    "nnbars['known'] = nnbar('known', 'mainhighz', '512', '512')\n",
    "nnbars['all'] = nnbar('all', 'mainhighz', '512', '512')"
   ]
  },
  {
   "cell_type": "code",
   "execution_count": 11,
   "metadata": {},
   "outputs": [
    {
     "name": "stdout",
     "output_type": "stream",
     "text": [
      "42.77367871726689 star_density\n",
      "36.55632045387747 star_density\n",
      "6.106662128597638 ebv\n",
      "15.76608210152936 ebv\n",
      "5.274915677268986 sky_i\n",
      "5.260591825209525 sky_i\n",
      "7.022536969225374 depth_g_minus_ebv\n",
      "8.405657223479942 depth_g_minus_ebv\n",
      "4.439867272550025 psf_i\n",
      "10.613129976181355 psf_i\n"
     ]
    },
    {
     "data": {
      "text/plain": [
       "Text(0, 0.5, '1 + $\\\\delta$')"
      ]
     },
     "execution_count": 11,
     "metadata": {},
     "output_type": "execute_result"
    },
    {
     "data": {
      "image/png": "[encoded data removed]",
      "text/plain": [
       "<Figure size 2160x288 with 5 Axes>"
      ]
     },
     "metadata": {
      "needs_background": "light"
     },
     "output_type": "display_data"
    }
   ],
   "source": [
    "def add_plot(ax, nbar, divide_by_4, **kw):\n",
    "    bavg = nbar['bin_avg'] * 1.0\n",
    "    \n",
    "    if divide_by_4:\n",
    "        bavg /= 4.\n",
    "        \n",
    "    ax.plot(bavg, nbar['nnbar'], **kw)\n",
    "    #ax.plot(0.5*(nbar['bin_edges'][1:]+nbar['bin_edges'][:-1]), nbar['nnbar'], **kw)\n",
    "    chi2v  = (((nbar['nnbar']-1)/nbar['nnbar_err'])**2).sum()\n",
    "    print(chi2v, nbar['sys'])\n",
    "    \n",
    "fig, ax = plt.subplots(ncols=5, figsize=(30, 4), sharey=True)\n",
    "fig.subplots_adjust(wspace=0)\n",
    "\n",
    "lb = ['# of Stars', 'EBV', 'Sky-i', 'Depth-g', 'PSF-i']\n",
    "\n",
    "for i, ix in enumerate([0, 1, 5, 7, 13]):\n",
    "    divide = True if ix==0 else False\n",
    "    add_plot(ax[i], nnbars['known'][ix], False, marker='o', label='known')\n",
    "    add_plot(ax[i], nnbars['all'][ix], False, marker='o', mfc='w', label='all')\n",
    "    \n",
    "    ax[i].set(xlabel=lb[i])\n",
    "    if i < 2:\n",
    "        ax[i].set_xscale('log')\n",
    "ax[2].legend()\n",
    "ax[0].set_ylabel(r'1 + $\\delta$')"
   ]
  },
  {
   "cell_type": "markdown",
   "metadata": {},
   "source": [
    "## Test nbar"
   ]
  },
  {
   "cell_type": "code",
   "execution_count": 1,
   "metadata": {},
   "outputs": [],
   "source": [
    "import sys\n",
    "sys.path.append('/home/mehdi/github/LSSutils')\n",
    "from lssutils.utils import EbossCat\n",
    "from lssutils.stats.nnbar import MeanDensity"
   ]
  },
  {
   "cell_type": "code",
   "execution_count": 2,
   "metadata": {},
   "outputs": [],
   "source": [
    "import pandas as pd\n",
    "import numpy as np"
   ]
  },
  {
   "cell_type": "code",
   "execution_count": 3,
   "metadata": {},
   "outputs": [
    {
     "name": "stderr",
     "output_type": "stream",
     "text": [
      "column QSO_ID not in the randoms file\n",
      "column IMATCH not in the randoms file\n",
      "column QSO_ID not in the randoms file\n",
      "column IMATCH not in the randoms file\n"
     ]
    }
   ],
   "source": [
    "dat_fn = '/home/mehdi/data/eboss/data/v7_2/1.0/catalogs/eBOSS_QSO_full_NGC_all_mainhighz_256_v7_2.ran.fits'\n",
    "dat256 = EbossCat(dat_fn, kind='randoms', zmin=0.8, zmax=2.2)\n",
    "dat512 = EbossCat(dat_fn.replace('256', '512'), kind='randoms', zmin=0.8, zmax=2.2)"
   ]
  },
  {
   "cell_type": "code",
   "execution_count": 5,
   "metadata": {},
   "outputs": [
    {
     "name": "stderr",
     "output_type": "stream",
     "text": [
      "column QSO_ID not in the randoms file\n",
      "column IMATCH not in the randoms file\n"
     ]
    }
   ],
   "source": [
    "dat_fn = '/home/mehdi/data/eboss/data/v7_2/eBOSS_QSO_full_NGC_v7_2.ran.fits'\n",
    "dat512_ = EbossCat(dat_fn, kind='randoms', zmin=0.8, zmax=2.2)"
   ]
  },
  {
   "cell_type": "code",
   "execution_count": 6,
   "metadata": {},
   "outputs": [
    {
     "data": {
      "text/plain": [
       "(0.005817713228741466, 0.005459346811390732, 0.00313043323865972)"
      ]
     },
     "execution_count": 6,
     "metadata": {},
     "output_type": "execute_result"
    }
   ],
   "source": [
    "np.var(dat256['WEIGHT_SYSTOT']), np.var(dat512['WEIGHT_SYSTOT']), np.var(dat512_['WEIGHT_SYSTOT'])"
   ]
  },
  {
   "cell_type": "code",
   "execution_count": null,
   "metadata": {},
   "outputs": [],
   "source": []
  },
  {
   "cell_type": "code",
   "execution_count": null,
   "metadata": {},
   "outputs": [],
   "source": []
  },
  {
   "cell_type": "code",
   "execution_count": 4,
   "metadata": {},
   "outputs": [],
   "source": [
    "df = pd.read_hdf('/home/mehdi/data/templates/SDSS_WISE_HI_imageprop_nside512.h5', 'templates')"
   ]
  },
  {
   "cell_type": "code",
   "execution_count": 5,
   "metadata": {},
   "outputs": [],
   "source": [
    "depth_g = df['depth_g_minus_ebv'].values"
   ]
  },
  {
   "cell_type": "code",
   "execution_count": null,
   "metadata": {},
   "outputs": [],
   "source": []
  },
  {
   "cell_type": "code",
   "execution_count": null,
   "metadata": {},
   "outputs": [],
   "source": []
  },
  {
   "cell_type": "code",
   "execution_count": 13,
   "metadata": {},
   "outputs": [
    {
     "name": "stderr",
     "output_type": "stream",
     "text": [
      "/home/mehdi/miniconda3/envs/sysnet/lib/python3.8/site-packages/healpy/pixelfunc.py:481: RuntimeWarning: invalid value encountered in _ang2pix_ring\n",
      "  return pixlib._ang2pix_ring(nside, theta, phi)\n"
     ]
    }
   ],
   "source": [
    "# case 1\n",
    "hpdat = dat.to_hp(512, 0.8, 2.2, raw=2)\n",
    "hpran = ran.to_hp(512, 0.8, 2.2, raw=2)\n",
    "\n",
    "# case 2\n",
    "hpran_ = ran.to_hp(512, 0.8, 2.2, raw=1)"
   ]
  },
  {
   "cell_type": "code",
   "execution_count": 24,
   "metadata": {},
   "outputs": [],
   "source": [
    "mask = (hpran > 0) & (hpran_ > 0) & (np.isfinite(depth_g))"
   ]
  },
  {
   "cell_type": "code",
   "execution_count": 58,
   "metadata": {},
   "outputs": [
    {
     "data": {
      "text/plain": [
       "array([22.83525231, 23.56066845])"
      ]
     },
     "execution_count": 58,
     "metadata": {},
     "output_type": "execute_result"
    }
   ],
   "source": [
    "np.percentile(depth_g[mask], [2, 98])"
   ]
  },
  {
   "cell_type": "code",
   "execution_count": 59,
   "metadata": {},
   "outputs": [],
   "source": [
    "bins = np.linspace(22.8, 23.4, 11)\n",
    "nbar_1 = MeanDensity(hpdat, hpran, mask, depth_g, nbins=10, bins=bins, binning='simple')\n",
    "nbar_2 = MeanDensity(hpdat, hpran_, mask, depth_g, nbins=10, bins=bins, binning='simple')"
   ]
  },
  {
   "cell_type": "code",
   "execution_count": 60,
   "metadata": {},
   "outputs": [],
   "source": [
    "nbar_1.run()\n",
    "nbar_2.run()"
   ]
  },
  {
   "cell_type": "code",
   "execution_count": 62,
   "metadata": {},
   "outputs": [
    {
     "data": {
      "text/plain": [
       "(0.9, 1.1)"
      ]
     },
     "execution_count": 62,
     "metadata": {},
     "output_type": "execute_result"
    },
    {
     "data": {
      "image/png": "[encoded data removed]",
      "text/plain": [
       "<Figure size 432x288 with 1 Axes>"
      ]
     },
     "metadata": {
      "needs_background": "light"
     },
     "output_type": "display_data"
    }
   ],
   "source": [
    "for nbar_i in [nbar_1.output, nbar_2.output]:\n",
    "    plt.plot(nbar_i['bin_avg'], nbar_i['nnbar'], marker='.')\n",
    "    \n",
    "plt.ylim(0.9, 1.1)"
   ]
  },
  {
   "cell_type": "code",
   "execution_count": 63,
   "metadata": {},
   "outputs": [
    {
     "data": {
      "text/plain": [
       "catalog : data\n",
       "# of objects : 218209\n",
       "z : (0.8000152398143878, 2.199999421096105)\n",
       "columns : ['RA', 'DEC', 'Z', 'WEIGHT_FKP', 'WEIGHT_SYSTOT', 'WEIGHT_CP', 'WEIGHT_NOZ', 'NZ', 'QSO_ID', 'IMATCH', 'COMP_BOSS', 'sector_SSR']"
      ]
     },
     "execution_count": 63,
     "metadata": {},
     "output_type": "execute_result"
    }
   ],
   "source": [
    "dat"
   ]
  },
  {
   "cell_type": "code",
   "execution_count": 65,
   "metadata": {},
   "outputs": [
    {
     "data": {
      "text/plain": [
       "0.052871011877197734"
      ]
     },
     "execution_count": 65,
     "metadata": {},
     "output_type": "execute_result"
    }
   ],
   "source": [
    "np.std(dat['WEIGHT_SYSTOT'])"
   ]
  },
  {
   "cell_type": "code",
   "execution_count": null,
   "metadata": {},
   "outputs": [],
   "source": []
  }
 ],
 "metadata": {
  "kernelspec": {
   "display_name": "python (sysnet)",
   "language": "python",
   "name": "sysnet"
  },
  "language_info": {
   "codemirror_mode": {
    "name": "ipython",
    "version": 3
   },
   "file_extension": ".py",
   "mimetype": "text/x-python",
   "name": "python",
   "nbconvert_exporter": "python",
   "pygments_lexer": "ipython3",
   "version": "3.8.3"
  }
 },
 "nbformat": 4,
 "nbformat_minor": 4
}
