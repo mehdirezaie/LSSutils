{
 "cells": [
  {
   "cell_type": "code",
   "execution_count": 1,
   "metadata": {},
   "outputs": [],
   "source": [
    "%matplotlib inline"
   ]
  },
  {
   "cell_type": "code",
   "execution_count": 2,
   "metadata": {},
   "outputs": [],
   "source": [
    "import numpy as np\n",
    "import fitsio as ft\n",
    "import healpy as hp\n",
    "\n",
    "import sys\n",
    "sys.path.insert(0, '/home/mehdi/github/sysnetdev')\n",
    "sys.path.insert(0, '/home/mehdi/github/LSSutils')\n",
    "\n",
    "from lssutils.utils import hpix2radec\n",
    "from lssutils.stats.nnbar import MeanDensity\n",
    "from lssutils.dataviz import setup_color\n",
    "from scipy.stats import binned_statistic\n",
    "\n",
    "import matplotlib.pyplot as plt\n",
    "\n",
    "from glob import glob"
   ]
  },
  {
   "cell_type": "code",
   "execution_count": 3,
   "metadata": {},
   "outputs": [],
   "source": [
    "def hist(ngal, frac, syst, bins):\n",
    "    ng,_,_ = binned_statistic(syst, ngal, statistic='sum', bins=bins)\n",
    "    nr,_,_ = binned_statistic(syst, frac, statistic='sum', bins=bins)\n",
    "    ns,_,_ = binned_statistic(syst, syst, statistic='mean', bins=bins)\n",
    "    \n",
    "    #nstd,_,_ = binned_statistic(syst, ngal/frac, statistic=np.std, bins=bins)\n",
    "    #nmodes,_,_ = binned_statistic(syst, np.ones(syst.size), statistic='count', bins=bins)\n",
    "    norm = ng.sum()/nr.sum()\n",
    "    mean = ng/(nr*norm)\n",
    "    #err = nstd/np.sqrt(nmodes)\n",
    "    return (ns, mean)\n",
    "\n",
    "def makehp(hpix, value, nside):\n",
    "    res_ = np.zeros(12*nside*nside)\n",
    "    res_[hpix] = value\n",
    "    return res_"
   ]
  },
  {
   "cell_type": "code",
   "execution_count": 4,
   "metadata": {},
   "outputs": [
    {
     "name": "stdout",
     "output_type": "stream",
     "text": [
      "('label', 'features', 'hpix', 'fracgood')\n",
      "[ 3. 16.]\n"
     ]
    }
   ],
   "source": [
    "df = ft.read('/home/mehdi/data/tanveer/dr8_elg_ccd_1024.fits')\n",
    "print(df.dtype.names)\n",
    "\n",
    "ngal = makehp(df['hpix'], df['label'], 1024)\n",
    "syst = makehp(df['hpix'], df['features'][:, 1], 1024)\n",
    "mask = makehp(df['hpix'], 1.0, 1024) > 0\n",
    "frac = makehp(df['hpix'], df['fracgood'], 1024)\n",
    "\n",
    "print(np.percentile(ngal[mask], [2.5, 97.5]))"
   ]
  },
  {
   "cell_type": "code",
   "execution_count": 5,
   "metadata": {},
   "outputs": [
    {
     "data": {
      "text/plain": [
       "array([19.91269067, 20.03898559, 20.16528052, 20.29157544, 20.41787036,\n",
       "       20.54416528, 20.6704602 , 20.79675512, 20.92305004])"
      ]
     },
     "execution_count": 5,
     "metadata": {},
     "output_type": "execute_result"
    }
   ],
   "source": [
    "bins = np.linspace(*np.percentile(syst[mask], [1, 99]), num=9)\n",
    "bins"
   ]
  },
  {
   "cell_type": "code",
   "execution_count": 6,
   "metadata": {},
   "outputs": [],
   "source": [
    "r = {}\n",
    "\n",
    "#nbar = MeanDensity(ngal, frac, mask, syst, bins=bins, binning='simple', nbins=8)\n",
    "#nbar.run()\n",
    "r['DR8 ELGs'] = hist(ngal[mask], frac[mask], syst[mask], bins)"
   ]
  },
  {
   "cell_type": "code",
   "execution_count": 7,
   "metadata": {},
   "outputs": [],
   "source": [
    "windows = glob('/home/mehdi/data/tanveer/elg_mse_snapshots/windows/window_*_snapshot_*.fits')"
   ]
  },
  {
   "cell_type": "code",
   "execution_count": 8,
   "metadata": {},
   "outputs": [
    {
     "name": "stdout",
     "output_type": "stream",
     "text": [
      "...................................................................................................."
     ]
    }
   ],
   "source": [
    "for i, wind in enumerate(windows[::10]):\n",
    "    w_ = ft.read(wind)\n",
    "    \n",
    "    w_w = w_['weight'] / w_['weight'].mean()\n",
    "    w_w = w_w.clip(0.5, 2.0)    \n",
    "    whp = makehp(w_['hpix'], w_w, 1024)\n",
    "    \n",
    "    r['mock_%d'%i] = hist(whp[mask]*frac[mask], frac[mask], syst[mask], bins)\n",
    "    print('.', end='')"
   ]
  },
  {
   "cell_type": "code",
   "execution_count": 9,
   "metadata": {},
   "outputs": [
    {
     "data": {
      "text/plain": [
       "Text(0, 0.5, 'Mean Density')"
      ]
     },
     "execution_count": 9,
     "metadata": {},
     "output_type": "execute_result"
    },
    {
     "data": {
      "image/png": "[encoded data removed]",
      "text/plain": [
       "<Figure size 432x288 with 1 Axes>"
      ]
     },
     "metadata": {
      "needs_background": "light"
     },
     "output_type": "display_data"
    }
   ],
   "source": [
    "for name, val in r.items():\n",
    "\n",
    "    if name == 'DR8 ELGs':\n",
    "        plt.plot(val[0], val[1], marker='o', mfc='w', ls='-', label=name, lw=4)\n",
    "    else:\n",
    "        plt.plot(val[0], val[1], lw=1, color='k', ls='-', zorder=-1, alpha=0.2)\n",
    "        \n",
    "plt.legend(frameon=False)\n",
    "plt.xlabel('log(HI)')\n",
    "plt.ylabel('Mean Density')\n",
    "# plt.savefig('/home/mehdi/data/tanveer/elg_mse_snapshots/ngal_loghi.png', \n",
    "#             dpi=300, bbox_inches='tight')"
   ]
  }
 ],
 "metadata": {
  "kernelspec": {
   "display_name": "python (sysnet)",
   "language": "python",
   "name": "sysnet"
  },
  "language_info": {
   "codemirror_mode": {
    "name": "ipython",
    "version": 3
   },
   "file_extension": ".py",
   "mimetype": "text/x-python",
   "name": "python",
   "nbconvert_exporter": "python",
   "pygments_lexer": "ipython3",
   "version": "3.8.3"
  }
 },
 "nbformat": 4,
 "nbformat_minor": 2
}
