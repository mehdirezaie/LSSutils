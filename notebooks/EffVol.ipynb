{
 "cells": [
  {
   "cell_type": "code",
   "execution_count": 1,
   "metadata": {},
   "outputs": [],
   "source": [
    "import numpy as np"
   ]
  },
  {
   "cell_type": "code",
   "execution_count": 2,
   "metadata": {},
   "outputs": [],
   "source": [
    "d = np.loadtxt('/home/mehdi/data/eboss/data/v7_2/nbar_eBOSS_QSO_NGC_v7_2.dat')"
   ]
  },
  {
   "cell_type": "code",
   "execution_count": 5,
   "metadata": {},
   "outputs": [
    {
     "name": "stdout",
     "output_type": "stream",
     "text": [
      "# effective area (deg^2), effective volume (Mpc/h)^3: 2860.4406814189183 99740127.64438488\r\n",
      "# zcen,zlow,zhigh,nbar,wfkp,shell_vol,total weighted gals\r\n",
      "0.005 0.0 0.01 0.00013462213635665303 0.5976890894834057 7771.038808820277 1.046153846153846\r\n",
      "0.015 0.01 0.02 5.734320486636772e-05 0.7771722595273317 53961.10882237131 3.0943029180176005\r\n",
      "0.025 0.02 0.03 1.4465477743342273e-05 0.9325510198865034 145143.2947337963 2.099567099567098\r\n",
      "0.035 0.03 0.04 7.5926458890576845e-06 0.9634252655890547 280014.4312316834 2.126050420168067\r\n",
      "0.045 0.04 0.05 1.1398305002339887e-05 0.9460813794026697 457276.5502223388 5.212177589852011\r\n",
      "0.055 0.05 0.06 1.6087851567054797e-06 0.9920202626316358 675638.0845563198 1.086956521739129\r\n",
      "0.065 0.06 0.07 2.2286978947610825e-06 0.9889793193648466 933815.028800999 2.081191588785046\r\n",
      "0.075 0.07 0.08 8.5878994717511e-07 0.9957244094351012 1230532.055513788 1.0567685589519655\r\n"
     ]
    }
   ],
   "source": [
    "!head /home/mehdi/data/eboss/data/v7_2/nbar_eBOSS_QSO_NGC_v7_2.dat"
   ]
  },
  {
   "cell_type": "code",
   "execution_count": 16,
   "metadata": {},
   "outputs": [
    {
     "name": "stdout",
     "output_type": "stream",
     "text": [
      "main, Veff = 120004942.67668927\n",
      "highz, Veff = 9295587.160382418\n"
     ]
    }
   ],
   "source": [
    "P0 = 6000.\n",
    "z = d[:, 1]\n",
    "nz = d[:, 3]\n",
    "dvz = d[:, 5]\n",
    "wfkp = lambda nz: 1./(1.+nz*P0)\n",
    "veff = (nz*P0 / (1. + nz*P0))**2*dvz\n",
    "\n",
    "zlim = {'main':(z > 0.8) & (z < 2.2),\n",
    "        'highz':(z > 2.2) & (z < 3.5)}\n",
    "\n",
    "for s,lim in zlim.items():\n",
    "    print(f'{s}, Veff = {veff[lim].sum()}')"
   ]
  },
  {
   "cell_type": "code",
   "execution_count": 17,
   "metadata": {},
   "outputs": [
    {
     "data": {
      "text/plain": [
       "12.909883002135423"
      ]
     },
     "execution_count": 17,
     "metadata": {},
     "output_type": "execute_result"
    }
   ],
   "source": [
    "120004942.67668927/ 9295587.160382418"
   ]
  },
  {
   "cell_type": "code",
   "execution_count": null,
   "metadata": {},
   "outputs": [],
   "source": []
  },
  {
   "cell_type": "code",
   "execution_count": null,
   "metadata": {},
   "outputs": [],
   "source": []
  },
  {
   "cell_type": "code",
   "execution_count": null,
   "metadata": {},
   "outputs": [],
   "source": []
  },
  {
   "cell_type": "code",
   "execution_count": null,
   "metadata": {},
   "outputs": [],
   "source": []
  },
  {
   "cell_type": "code",
   "execution_count": null,
   "metadata": {},
   "outputs": [],
   "source": [
    "sum (nzP0 / (1 + nzP0))**2 dvz"
   ]
  },
  {
   "cell_type": "code",
   "execution_count": 13,
   "metadata": {},
   "outputs": [],
   "source": [
    "import matplotlib.pyplot as plt"
   ]
  },
  {
   "cell_type": "code",
   "execution_count": 14,
   "metadata": {},
   "outputs": [
    {
     "data": {
      "text/plain": [
       "<matplotlib.collections.PathCollection at 0x7f760c54f690>"
      ]
     },
     "execution_count": 14,
     "metadata": {},
     "output_type": "execute_result"
    },
    {
     "data": {
      "image/png": "[encoded data removed]",
      "text/plain": [
       "<Figure size 432x288 with 1 Axes>"
      ]
     },
     "metadata": {
      "needs_background": "light"
     },
     "output_type": "display_data"
    }
   ],
   "source": [
    "plt.scatter(wfkp(d[:, 3]), d[:, 4])"
   ]
  },
  {
   "cell_type": "code",
   "execution_count": null,
   "metadata": {},
   "outputs": [],
   "source": []
  }
 ],
 "metadata": {
  "kernelspec": {
   "display_name": "python (py3p6)",
   "language": "python",
   "name": "py3p6"
  },
  "language_info": {
   "codemirror_mode": {
    "name": "ipython",
    "version": 3
   },
   "file_extension": ".py",
   "mimetype": "text/x-python",
   "name": "python",
   "nbconvert_exporter": "python",
   "pygments_lexer": "ipython3",
   "version": "3.7.4"
  }
 },
 "nbformat": 4,
 "nbformat_minor": 4
}
