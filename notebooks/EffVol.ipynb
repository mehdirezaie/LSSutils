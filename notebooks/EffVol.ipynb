{
 "cells": [
  {
   "cell_type": "code",
   "execution_count": 1,
   "metadata": {},
   "outputs": [],
   "source": [
    "import numpy as np"
   ]
  },
  {
   "cell_type": "code",
   "execution_count": 11,
   "metadata": {},
   "outputs": [],
   "source": [
    "def get_veff(cap='NGC', P0=6000.):\n",
    "    \n",
    "    d = np.loadtxt(f'/home/mehdi/data/eboss/data/v7_2/nbar_eBOSS_QSO_{cap}_v7_2.dat')\n",
    "    \n",
    "    z = d[:, 1]\n",
    "    nz = d[:, 3]\n",
    "    dvz = d[:, 5]\n",
    "    #wfkp = lambda nz: 1./(1.+nz*P0)\n",
    "\n",
    "    veff = (nz*P0 / (1. + nz*P0))**2*dvz *1.0e-9 # (Gpc/h)^3\n",
    "\n",
    "    zlim = {'main':(z > 0.8) & (z < 2.2),\n",
    "            'highz':(z > 2.2) & (z < 3.5)}\n",
    "\n",
    "    for s,lim in zlim.items():\n",
    "        print(f'{cap}, {s:5s}, Veff = {veff[lim].sum():.3f} (Gpc/h)^3 with P0={P0:.1f}')    "
   ]
  },
  {
   "cell_type": "code",
   "execution_count": 12,
   "metadata": {},
   "outputs": [
    {
     "name": "stdout",
     "output_type": "stream",
     "text": [
      "NGC, main , Veff = 0.120 (Gpc/h)^3 with P0=6000.0\n",
      "NGC, highz, Veff = 0.009 (Gpc/h)^3 with P0=6000.0\n",
      "NGC, main , Veff = 0.294 (Gpc/h)^3 with P0=10000.0\n",
      "NGC, highz, Veff = 0.024 (Gpc/h)^3 with P0=10000.0\n",
      "NGC, main , Veff = 0.888 (Gpc/h)^3 with P0=20000.0\n",
      "NGC, highz, Veff = 0.086 (Gpc/h)^3 with P0=20000.0\n",
      "--------------------\n",
      "SGC, main , Veff = 0.065 (Gpc/h)^3 with P0=6000.0\n",
      "SGC, highz, Veff = 0.005 (Gpc/h)^3 with P0=6000.0\n",
      "SGC, main , Veff = 0.161 (Gpc/h)^3 with P0=10000.0\n",
      "SGC, highz, Veff = 0.013 (Gpc/h)^3 with P0=10000.0\n",
      "SGC, main , Veff = 0.495 (Gpc/h)^3 with P0=20000.0\n",
      "SGC, highz, Veff = 0.045 (Gpc/h)^3 with P0=20000.0\n",
      "--------------------\n"
     ]
    }
   ],
   "source": [
    "for cap in ['NGC', 'SGC']:\n",
    "    for p0 in [6000., 10000., 20000.]:\n",
    "        get_veff(cap, p0)\n",
    "    print(20*'-')"
   ]
  },
  {
   "cell_type": "code",
   "execution_count": null,
   "metadata": {},
   "outputs": [],
   "source": [
    "get_veff"
   ]
  },
  {
   "cell_type": "code",
   "execution_count": null,
   "metadata": {},
   "outputs": [],
   "source": []
  },
  {
   "cell_type": "code",
   "execution_count": null,
   "metadata": {},
   "outputs": [],
   "source": []
  },
  {
   "cell_type": "code",
   "execution_count": 5,
   "metadata": {},
   "outputs": [
    {
     "data": {
      "text/plain": [
       "12.909883002135423"
      ]
     },
     "execution_count": 5,
     "metadata": {},
     "output_type": "execute_result"
    }
   ],
   "source": [
    "120004942.67668927/ 9295587.160382418"
   ]
  },
  {
   "cell_type": "code",
   "execution_count": 24,
   "metadata": {},
   "outputs": [
    {
     "data": {
      "text/plain": [
       "0.2290324274544937"
      ]
     },
     "execution_count": 24,
     "metadata": {},
     "output_type": "execute_result"
    }
   ],
   "source": [
    "hp.nside2pixarea(256, degrees=True)**0.5"
   ]
  },
  {
   "cell_type": "code",
   "execution_count": null,
   "metadata": {},
   "outputs": [],
   "source": []
  },
  {
   "cell_type": "code",
   "execution_count": null,
   "metadata": {},
   "outputs": [],
   "source": []
  },
  {
   "cell_type": "code",
   "execution_count": null,
   "metadata": {},
   "outputs": [],
   "source": []
  },
  {
   "cell_type": "code",
   "execution_count": null,
   "metadata": {},
   "outputs": [],
   "source": [
    "sum (nzP0 / (1 + nzP0))**2 dvz"
   ]
  },
  {
   "cell_type": "code",
   "execution_count": 13,
   "metadata": {},
   "outputs": [],
   "source": [
    "import matplotlib.pyplot as plt"
   ]
  },
  {
   "cell_type": "code",
   "execution_count": 14,
   "metadata": {},
   "outputs": [
    {
     "data": {
      "text/plain": [
       "<matplotlib.collections.PathCollection at 0x7f760c54f690>"
      ]
     },
     "execution_count": 14,
     "metadata": {},
     "output_type": "execute_result"
    },
    {
     "data": {
      "image/png": "[encoded data removed]",
      "text/plain": [
       "<Figure size 432x288 with 1 Axes>"
      ]
     },
     "metadata": {
      "needs_background": "light"
     },
     "output_type": "display_data"
    }
   ],
   "source": [
    "plt.scatter(wfkp(d[:, 3]), d[:, 4])"
   ]
  },
  {
   "cell_type": "code",
   "execution_count": null,
   "metadata": {},
   "outputs": [],
   "source": []
  }
 ],
 "metadata": {
  "kernelspec": {
   "display_name": "python (py3p6)",
   "language": "python",
   "name": "py3p6"
  },
  "language_info": {
   "codemirror_mode": {
    "name": "ipython",
    "version": 3
   },
   "file_extension": ".py",
   "mimetype": "text/x-python",
   "name": "python",
   "nbconvert_exporter": "python",
   "pygments_lexer": "ipython3",
   "version": "3.7.4"
  }
 },
 "nbformat": 4,
 "nbformat_minor": 4
}
