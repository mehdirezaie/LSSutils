{
 "cells": [
  {
   "cell_type": "code",
   "execution_count": 1,
   "metadata": {},
   "outputs": [
    {
     "name": "stdout",
     "output_type": "stream",
     "text": [
      "2.0.0-beta0\n"
     ]
    }
   ],
   "source": [
    "import pathlib\n",
    "import matplotlib.pyplot as plt\n",
    "import pandas as pd\n",
    "import seaborn as sns\n",
    "import tensorflow as tf\n",
    "from tensorflow import keras\n",
    "from tensorflow.keras import layers\n",
    "import numpy as np\n",
    "print(tf.__version__)"
   ]
  },
  {
   "cell_type": "markdown",
   "metadata": {},
   "source": [
    "# Auto MPG data"
   ]
  },
  {
   "cell_type": "code",
   "execution_count": 2,
   "metadata": {},
   "outputs": [],
   "source": [
    "# dataset_path = keras.utils.get_file(\"auto-mpg.data\",\n",
    "#                                     \"http://archive.ics.uci.edu/ml/machine-learning-databases/auto-mpg/auto-mpg.data\")\n",
    "# dataset_path\n",
    "dataset_path = '/Volumes/TimeMachine/data/DR7/eBOSS.ELG.NGC.DR7.table.5.r.npy'"
   ]
  },
  {
   "cell_type": "code",
   "execution_count": 3,
   "metadata": {},
   "outputs": [
    {
     "data": {
      "text/plain": [
       "dict_keys(['test', 'train', 'validation'])"
      ]
     },
     "execution_count": 3,
     "metadata": {},
     "output_type": "execute_result"
    }
   ],
   "source": [
    "data = np.load(dataset_path, allow_pickle=True).item()\n",
    "data.keys()"
   ]
  },
  {
   "cell_type": "code",
   "execution_count": 4,
   "metadata": {},
   "outputs": [],
   "source": [
    "class DATA(object):\n",
    "    def __init__(self, data):\n",
    "        self.x = data['features']\n",
    "        self.y = data['label']\n",
    "        self.p = data['hpind']\n",
    "        self.w = data['fracgood']\n",
    "    def norm_it(self, train_stats):\n",
    "        self.X = (self.x - train_stats['x']['mean'])/train_stats['x']['std']\n",
    "        self.Y = (self.y - train_stats['y']['mean'])/train_stats['y']['std']        \n",
    "\n",
    "# Display training progress by printing a single dot for each completed epoch\n",
    "class PrintDot(keras.callbacks.Callback):\n",
    "    def on_epoch_end(self, epoch, logs):\n",
    "        if epoch % 10 == 0: print('')\n",
    "        print('.', end='')\n",
    "        \n",
    "#\n",
    "def plot_history(history):\n",
    "    hist = pd.DataFrame(history.history)\n",
    "    hist['epoch'] = history.epoch\n",
    "\n",
    "    fig, ax = plt.subplots(nrows=2, sharex=True, figsize=(8, 8))\n",
    "    plt.subplots_adjust(hspace=0.0)\n",
    "    # fig 0\n",
    "    ax[0].set_ylabel('Mean Abs Error')\n",
    "    ax[0].plot(hist['epoch'], hist['mae'],\n",
    "           label='Train Error')\n",
    "    ax[0].plot(hist['epoch'], hist['val_mae'],\n",
    "           label = 'Val Error', ls='--')\n",
    "    # fig 1 \n",
    "    ax[1].set_xlabel('Epoch')\n",
    "    ax[1].set_ylabel('Mean Square Error')\n",
    "    ax[1].plot(hist['epoch'], hist['mse'],\n",
    "           label='Train Error')\n",
    "    ax[1].plot(hist['epoch'], hist['val_mse'],\n",
    "           label = 'Val Error', ls='--')\n",
    "    ax[0].legend()\n",
    "    plt.show()"
   ]
  },
  {
   "cell_type": "code",
   "execution_count": 5,
   "metadata": {},
   "outputs": [
    {
     "data": {
      "text/plain": [
       "<__main__.DATA at 0x1a369e50f0>"
      ]
     },
     "execution_count": 5,
     "metadata": {},
     "output_type": "execute_result"
    }
   ],
   "source": [
    "train = DATA(data['train']['fold3'])\n",
    "test  = DATA(data['test']['fold3'])\n",
    "valid = DATA(data['validation']['fold3'])\n",
    "train"
   ]
  },
  {
   "cell_type": "code",
   "execution_count": 6,
   "metadata": {},
   "outputs": [],
   "source": [
    "train_stats = {'x':{'mean':np.mean(train.x, axis=0), \n",
    "                    'std':np.std(train.x, axis=0, ddof=1)},\n",
    "               'y':{'mean':np.mean(train.y, axis=0), \n",
    "                    'std':np.std(train.y, axis=0, ddof=1)}}"
   ]
  },
  {
   "cell_type": "code",
   "execution_count": 7,
   "metadata": {},
   "outputs": [],
   "source": [
    "train.norm_it(train_stats)\n",
    "test.norm_it(train_stats)\n",
    "valid.norm_it(train_stats)"
   ]
  },
  {
   "cell_type": "code",
   "execution_count": 8,
   "metadata": {},
   "outputs": [
    {
     "data": {
      "text/plain": [
       "(112355, 18)"
      ]
     },
     "execution_count": 8,
     "metadata": {},
     "output_type": "execute_result"
    }
   ],
   "source": [
    "train.X.shape"
   ]
  },
  {
   "cell_type": "code",
   "execution_count": 39,
   "metadata": {},
   "outputs": [],
   "source": [
    "def build_model(nfeature):\n",
    "    tf.keras.backend.clear_session()\n",
    "    kwargs = dict(kernel_regularizer=keras.regularizers.l2(0.0),\n",
    "                  kernel_initializer=keras.initializers.he_normal(seed=123456))\n",
    "    model = keras.Sequential([\n",
    "        layers.Dense(20, activation='relu', input_shape=[nfeature], **kwargs),\n",
    "        layers.Dense(20, activation='relu', **kwargs),\n",
    "        layers.Dense(1, **kwargs)\n",
    "        ])\n",
    "\n",
    "    #optimizer = tf.keras.optimizers.RMSprop(0.001)\n",
    "    optimizer = tf.keras.optimizers.Adam(learning_rate=0.001)\n",
    "    model.compile(loss='mse',\n",
    "                optimizer=optimizer,\n",
    "                metrics=['mae', 'mse'])\n",
    "    return model"
   ]
  },
  {
   "cell_type": "code",
   "execution_count": 40,
   "metadata": {},
   "outputs": [],
   "source": [
    "model = build_model(18)"
   ]
  },
  {
   "cell_type": "code",
   "execution_count": 41,
   "metadata": {},
   "outputs": [
    {
     "name": "stdout",
     "output_type": "stream",
     "text": [
      "Model: \"sequential\"\n",
      "_________________________________________________________________\n",
      "Layer (type)                 Output Shape              Param #   \n",
      "=================================================================\n",
      "dense (Dense)                (None, 20)                380       \n",
      "_________________________________________________________________\n",
      "dense_1 (Dense)              (None, 20)                420       \n",
      "_________________________________________________________________\n",
      "dense_2 (Dense)              (None, 1)                 21        \n",
      "=================================================================\n",
      "Total params: 821\n",
      "Trainable params: 821\n",
      "Non-trainable params: 0\n",
      "_________________________________________________________________\n"
     ]
    }
   ],
   "source": [
    "model.summary()"
   ]
  },
  {
   "cell_type": "code",
   "execution_count": 42,
   "metadata": {},
   "outputs": [
    {
     "data": {
      "text/plain": [
       "array([[0.9392197 ],\n",
       "       [0.6460737 ],\n",
       "       [0.60917574],\n",
       "       [1.5320244 ],\n",
       "       [1.7905174 ],\n",
       "       [1.697375  ],\n",
       "       [0.7331297 ],\n",
       "       [0.8881485 ],\n",
       "       [0.8687571 ],\n",
       "       [0.8918803 ]], dtype=float32)"
      ]
     },
     "execution_count": 42,
     "metadata": {},
     "output_type": "execute_result"
    }
   ],
   "source": [
    "example_batch  = train.X[:10]\n",
    "example_result = model.predict(example_batch)\n",
    "example_result"
   ]
  },
  {
   "cell_type": "code",
   "execution_count": 43,
   "metadata": {},
   "outputs": [
    {
     "name": "stdout",
     "output_type": "stream",
     "text": [
      "\n",
      "..........\n",
      "..........\n",
      "..........\n",
      "..........\n",
      "..........\n",
      "..........\n",
      "..........\n",
      "........."
     ]
    }
   ],
   "source": [
    "model = build_model(18)\n",
    "# The patience parameter is the amount of epochs to check for improvement\n",
    "early_stop = keras.callbacks.EarlyStopping(monitor='val_loss', patience=10, min_delta=1.e-6)\n",
    "EPOCHS = 1000\n",
    "history = model.fit(\n",
    "                train.X, train.Y,\n",
    "                epochs=EPOCHS, validation_data=(valid.X, valid.Y), verbose=0,\n",
    "                callbacks=[early_stop, PrintDot()], batch_size=256)\n"
   ]
  },
  {
   "cell_type": "code",
   "execution_count": 44,
   "metadata": {},
   "outputs": [
    {
     "data": {
      "image/png": "[encoded data removed]",
      "text/plain": [
       "<Figure size 576x576 with 2 Axes>"
      ]
     },
     "metadata": {
      "needs_background": "light"
     },
     "output_type": "display_data"
    }
   ],
   "source": [
    "plot_history(history)"
   ]
  },
  {
   "cell_type": "code",
   "execution_count": 45,
   "metadata": {},
   "outputs": [
    {
     "name": "stdout",
     "output_type": "stream",
     "text": [
      "Testing set Mean Abs Error :  1.01\n",
      "Testing set Mean Square Error :  1.19\n"
     ]
    }
   ],
   "source": [
    "loss, mae, mse = model.evaluate(test.X, test.y, verbose=0)\n",
    "\n",
    "print(\"Testing set Mean Abs Error : {:5.2f}\\nTesting set Mean Square Error : {:5.2f}\".format(mae, mse))"
   ]
  },
  {
   "cell_type": "code",
   "execution_count": 46,
   "metadata": {},
   "outputs": [
    {
     "data": {
      "text/html": [
       "<div>\n",
       "<style scoped>\n",
       "    .dataframe tbody tr th:only-of-type {\n",
       "        vertical-align: middle;\n",
       "    }\n",
       "\n",
       "    .dataframe tbody tr th {\n",
       "        vertical-align: top;\n",
       "    }\n",
       "\n",
       "    .dataframe thead th {\n",
       "        text-align: right;\n",
       "    }\n",
       "</style>\n",
       "<table border=\"1\" class=\"dataframe\">\n",
       "  <thead>\n",
       "    <tr style=\"text-align: right;\">\n",
       "      <th></th>\n",
       "      <th>loss</th>\n",
       "      <th>mae</th>\n",
       "      <th>mse</th>\n",
       "      <th>val_loss</th>\n",
       "      <th>val_mae</th>\n",
       "      <th>val_mse</th>\n",
       "    </tr>\n",
       "  </thead>\n",
       "  <tbody>\n",
       "    <tr>\n",
       "      <th>74</th>\n",
       "      <td>0.887824</td>\n",
       "      <td>0.711063</td>\n",
       "      <td>0.887823</td>\n",
       "      <td>0.917534</td>\n",
       "      <td>0.715718</td>\n",
       "      <td>0.917534</td>\n",
       "    </tr>\n",
       "    <tr>\n",
       "      <th>75</th>\n",
       "      <td>0.887641</td>\n",
       "      <td>0.710812</td>\n",
       "      <td>0.887641</td>\n",
       "      <td>0.916205</td>\n",
       "      <td>0.717099</td>\n",
       "      <td>0.916204</td>\n",
       "    </tr>\n",
       "    <tr>\n",
       "      <th>76</th>\n",
       "      <td>0.887640</td>\n",
       "      <td>0.710958</td>\n",
       "      <td>0.887641</td>\n",
       "      <td>0.916343</td>\n",
       "      <td>0.716628</td>\n",
       "      <td>0.916343</td>\n",
       "    </tr>\n",
       "    <tr>\n",
       "      <th>77</th>\n",
       "      <td>0.886833</td>\n",
       "      <td>0.710598</td>\n",
       "      <td>0.886833</td>\n",
       "      <td>0.917241</td>\n",
       "      <td>0.717294</td>\n",
       "      <td>0.917241</td>\n",
       "    </tr>\n",
       "    <tr>\n",
       "      <th>78</th>\n",
       "      <td>0.887083</td>\n",
       "      <td>0.710785</td>\n",
       "      <td>0.887083</td>\n",
       "      <td>0.918935</td>\n",
       "      <td>0.716672</td>\n",
       "      <td>0.918935</td>\n",
       "    </tr>\n",
       "  </tbody>\n",
       "</table>\n",
       "</div>"
      ],
      "text/plain": [
       "        loss       mae       mse  val_loss   val_mae   val_mse\n",
       "74  0.887824  0.711063  0.887823  0.917534  0.715718  0.917534\n",
       "75  0.887641  0.710812  0.887641  0.916205  0.717099  0.916204\n",
       "76  0.887640  0.710958  0.887641  0.916343  0.716628  0.916343\n",
       "77  0.886833  0.710598  0.886833  0.917241  0.717294  0.917241\n",
       "78  0.887083  0.710785  0.887083  0.918935  0.716672  0.918935"
      ]
     },
     "execution_count": 46,
     "metadata": {},
     "output_type": "execute_result"
    }
   ],
   "source": [
    "pd.DataFrame(history.history).tail()"
   ]
  },
  {
   "cell_type": "code",
   "execution_count": 47,
   "metadata": {},
   "outputs": [
    {
     "data": {
      "text/plain": [
       "(-3.7188560602361123,\n",
       " 17.18660314782643,\n",
       " -4.6479181709142185,\n",
       " 16.25754103714832)"
      ]
     },
     "execution_count": 47,
     "metadata": {},
     "output_type": "execute_result"
    },
    {
     "data": {
      "image/png": "[encoded data removed]",
      "text/plain": [
       "<Figure size 432x288 with 1 Axes>"
      ]
     },
     "metadata": {
      "needs_background": "light"
     },
     "output_type": "display_data"
    }
   ],
   "source": [
    "test_predictions = model.predict(test.X).flatten()\n",
    "\n",
    "plt.scatter(test.Y, test_predictions, alpha=0.1)\n",
    "plt.xlabel('True Values')\n",
    "plt.ylabel('Predictions')\n",
    "plt.axis('equal')\n",
    "plt.axis('square')\n",
    "# plt.xlim([0,plt.xlim()[1]])\n",
    "# plt.ylim([0,plt.ylim()[1]])\n",
    "# _ = plt.plot([-100, 100], [-100, 100])"
   ]
  },
  {
   "cell_type": "code",
   "execution_count": 48,
   "metadata": {},
   "outputs": [
    {
     "data": {
      "image/png": "[encoded data removed]",
      "text/plain": [
       "<Figure size 432x288 with 1 Axes>"
      ]
     },
     "metadata": {
      "needs_background": "light"
     },
     "output_type": "display_data"
    }
   ],
   "source": [
    "error = test_predictions - test.Y\n",
    "plt.hist(error, bins=30)\n",
    "plt.xlabel(\"Prediction Error\")\n",
    "# plt.yscale('log')\n",
    "_ = plt.ylabel(\"Count\")"
   ]
  },
  {
   "cell_type": "code",
   "execution_count": null,
   "metadata": {},
   "outputs": [],
   "source": []
  }
 ],
 "metadata": {
  "kernelspec": {
   "display_name": "python (tf2b)",
   "language": "python",
   "name": "tf2b"
  },
  "language_info": {
   "codemirror_mode": {
    "name": "ipython",
    "version": 3
   },
   "file_extension": ".py",
   "mimetype": "text/x-python",
   "name": "python",
   "nbconvert_exporter": "python",
   "pygments_lexer": "ipython3",
   "version": "3.6.8"
  }
 },
 "nbformat": 4,
 "nbformat_minor": 2
}
