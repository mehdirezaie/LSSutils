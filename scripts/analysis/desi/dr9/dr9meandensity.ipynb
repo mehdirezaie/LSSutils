{
 "cells": [
  {
   "cell_type": "code",
   "execution_count": 1,
   "metadata": {},
   "outputs": [],
   "source": [
    "%matplotlib inline"
   ]
  },
  {
   "cell_type": "code",
   "execution_count": 2,
   "metadata": {},
   "outputs": [],
   "source": [
    "import numpy as np\n",
    "import fitsio as ft\n",
    "import healpy as hp\n",
    "\n",
    "import sys\n",
    "sys.path.insert(0, '/home/mehdi/github/sysnetdev')\n",
    "sys.path.insert(0, '/home/mehdi/github/LSSutils')\n",
    "\n",
    "from lssutils.utils import hpix2radec\n",
    "from lssutils.stats.nnbar import MeanDensity\n",
    "from lssutils.stats.cl import get_cl as get_angularpower\n",
    "from lssutils.dataviz import mycolor\n",
    "\n",
    "import matplotlib.pyplot as plt\n",
    "\n",
    "def makehp(hpix, value, nside):\n",
    "    res_ = np.zeros(12*nside*nside)\n",
    "    res_[hpix] = value\n",
    "    return res_"
   ]
  },
  {
   "cell_type": "code",
   "execution_count": 3,
   "metadata": {},
   "outputs": [
    {
     "name": "stdout",
     "output_type": "stream",
     "text": [
      "...................."
     ]
    }
   ],
   "source": [
    "# input parameters\n",
    "sample = 'elg' # e.g. 'elg'\n",
    "cap = 'N'    # e.g. 'N'\n",
    "\n",
    "nside = 256\n",
    "\n",
    "\n",
    "\n",
    "maps = ['STARDENS', 'EBV', \n",
    "      'PSFDEPTH_G', 'PSFDEPTH_R', 'PSFDEPTH_Z', \n",
    "      'GALDEPTH_G', 'GALDEPTH_R', 'GALDEPTH_Z', \n",
    "      'PSFDEPTH_W1', 'PSFDEPTH_W2',\n",
    "      'PSFSIZE_G', 'PSFSIZE_R', 'PSFSIZE_Z']\n",
    "\n",
    "axes = dict(zip(maps, np.arange(len(maps))))\n",
    "\n",
    "\n",
    "\n",
    "data = ft.read(f'results/dr9m_{sample}_{cap}.fits')\n",
    "npred_ = ft.read(f'results/regression/{sample}/{cap}/nn_all_{nside}/nn-weights.fits')\n",
    "\n",
    "\n",
    "hpix = data['hpix'].copy()\n",
    "frac = data['fracgood'].copy()\n",
    "ngal = data['label'].copy()\n",
    "mask = frac > 0\n",
    "\n",
    "\n",
    "\n",
    "# mean density\n",
    "nbar = {}\n",
    "\n",
    "ix = axes['EBV']\n",
    "sysm = data['features'][:, ix]\n",
    "\n",
    "bins = np.linspace(0.00704696, 0.15544825, 10)\n",
    "\n",
    "nbtrue = MeanDensity(ngal, frac, mask, sysm, nbins=9, binning='simple', bins=bins)\n",
    "nbtrue.run()\n",
    "nbar['true'] = nbtrue.output\n",
    "\n",
    "for i in range(npred_['weight'].shape[1]):\n",
    "    \n",
    "    npred = np.zeros(12*nside*nside)\n",
    "    npred[npred_['hpix']] = npred_['weight'][:, i]\n",
    "    sf = (ngal/npred[hpix]).sum()/ngal.sum()\n",
    "    wnn = npred[hpix]*sf\n",
    "    wnn = wnn.clip(0.5, 2.0)\n",
    "\n",
    "      \n",
    "    nb_pred = MeanDensity(wnn*frac/sf, frac, mask, sysm, nbins=9, binning='simple', bins=bins)\n",
    "    nb_pred.run()\n",
    "    \n",
    "    nbar['pred_%d'%i] = nb_pred.output\n",
    "\n",
    "    print('.', end='')"
   ]
  },
  {
   "cell_type": "code",
   "execution_count": 4,
   "metadata": {},
   "outputs": [
    {
     "data": {
      "image/png": "[encoded data removed]",
      "text/plain": [
       "<Figure size 432x288 with 1 Axes>"
      ]
     },
     "metadata": {
      "needs_background": "light"
     },
     "output_type": "display_data"
    }
   ],
   "source": [
    "fig, ax = plt.subplots()\n",
    "\n",
    "for ni, nbari in nbar.items():\n",
    "    if ni=='true':\n",
    "        ax.errorbar(nbari['bin_avg'], nbari['nnbar'], nbari['nnbar_err'], \n",
    "                    color='k', lw=1, marker='.', ls='None', capsize=3, mfc='w', label='Observed')\n",
    "    else:\n",
    "        lbl = None if ni!='pred_0' else 'Model'\n",
    "        ax.plot(nbari['bin_avg'], nbari['nnbar'], 'b-', lw=1, label=lbl)\n",
    "        \n",
    "ax.legend()\n",
    "ax.set(xlabel='E[B-V]', ylabel='Mean Density')\n",
    "ax.grid(True, ls=':', lw=1, alpha=0.5)\n",
    "ax.tick_params(direction='in')\n",
    "# fig.savefig('model_ngal.png', dpi=300, bbox_inches='tight')"
   ]
  }
 ],
 "metadata": {
  "kernelspec": {
   "display_name": "python (py3p6)",
   "language": "python",
   "name": "py3p6"
  },
  "language_info": {
   "codemirror_mode": {
    "name": "ipython",
    "version": 3
   },
   "file_extension": ".py",
   "mimetype": "text/x-python",
   "name": "python",
   "nbconvert_exporter": "python",
   "pygments_lexer": "ipython3",
   "version": "3.7.4"
  }
 },
 "nbformat": 4,
 "nbformat_minor": 4
}
