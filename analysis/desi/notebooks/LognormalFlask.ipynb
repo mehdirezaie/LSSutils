{
 "cells": [
  {
   "cell_type": "markdown",
   "metadata": {},
   "source": [
    "# Analysis of f$_{NL}$ with DESI LRGs"
   ]
  },
  {
   "cell_type": "markdown",
   "metadata": {},
   "source": [
    "This notebook will include snippets regardin the log-normal mocks for the DESI fNL project."
   ]
  },
  {
   "cell_type": "code",
   "execution_count": 1,
   "metadata": {},
   "outputs": [],
   "source": [
    "%load_ext autoreload"
   ]
  },
  {
   "cell_type": "code",
   "execution_count": 2,
   "metadata": {},
   "outputs": [],
   "source": [
    "%autoreload 2"
   ]
  },
  {
   "cell_type": "code",
   "execution_count": 3,
   "metadata": {},
   "outputs": [
    {
     "name": "stdout",
     "output_type": "stream",
     "text": [
      "running on /users/PHS0336/medirz90\n"
     ]
    }
   ],
   "source": [
    "import modules as md"
   ]
  },
  {
   "cell_type": "code",
   "execution_count": 4,
   "metadata": {},
   "outputs": [],
   "source": [
    "%matplotlib inline"
   ]
  },
  {
   "cell_type": "code",
   "execution_count": 5,
   "metadata": {},
   "outputs": [],
   "source": [
    "# make plots look nicer\n",
    "md.setup_color()"
   ]
  },
  {
   "cell_type": "markdown",
   "metadata": {},
   "source": [
    "## Plots"
   ]
  },
  {
   "cell_type": "code",
   "execution_count": null,
   "metadata": {},
   "outputs": [],
   "source": [
    "desi = ft.read('/fs/ess/PHS0336/data/rongpu/imaging_sys/tables/0.57.0/nlrg_features_desi_256.fits')\n",
    "ng  = make_hp(256, desi['hpix'], desi['label']/(desi['fracgood']*hp.nside2pixarea(256, True)), np.inf)\n",
    "print(np.mean(ng[desi['hpix']]))"
   ]
  },
  {
   "cell_type": "code",
   "execution_count": null,
   "metadata": {},
   "outputs": [],
   "source": [
    "mollview(ng, 400, 1200, r'Observed Galaxy Density [deg$^{-2}$]', \n",
    "             cmap='YlOrRd_r', colorbar=True, galaxy=True)\n",
    "plt.savefig('figs/nlrg.pdf', bbox_inches='tight')"
   ]
  },
  {
   "cell_type": "code",
   "execution_count": null,
   "metadata": {},
   "outputs": [],
   "source": [
    "nz = np.loadtxt('/fs/ess/PHS0336/data/rongpu/sv3_lrg_dndz_denali.txt')\n",
    "\n",
    "fg, ax = plt.subplots()\n",
    "\n",
    "ax.step(nz[:, 0], nz[:, 2], where='pre', lw=1)#, label='dN/dz')\n",
    "ax.set(xlim=(-0.05, 1.45), xlabel='z', ylabel='dN/dz')\n",
    "ax.text(0.25, 0.7, 'dN/dz', color='C0', transform=ax.transAxes)\n",
    "\n",
    "ax1 = ax.twinx()\n",
    "z_g = np.linspace(0.1, 1.35)\n",
    "\n",
    "ax1.plot(z_g, 1.4*bias_model_lrg(z_g), 'C1--', lw=3, alpha=0.5, zorder=10)#, label='b(z)')\n",
    "ax1.text(0.7, 0.48, 'b(z)$\\propto$ D$^{-1}$(z)', color='C1', transform=ax1.transAxes)\n",
    "ax1.set_ylabel('b(z)')\n",
    "ax1.set_ylim((1.3, 3.1))\n",
    "\n",
    "ax1.legend(loc='upper right')\n",
    "ax.legend(loc='upper left')\n",
    "\n",
    "fg.savefig('figs/nz_lrg.pdf', bbox_inches='tight')"
   ]
  },
  {
   "cell_type": "code",
   "execution_count": null,
   "metadata": {},
   "outputs": [],
   "source": [
    "stg = {'mult_bias_correction_order':0,'smooth_scale_2D':0.15, 'smooth_scale_1D':0.3, 'contours': [0.68, 0.95]}\n",
    "mc_kw = dict(names=['fnl', 'b', 'n0'], \n",
    "             labels=['f_{NL}', 'b', '10^{7}n_{0}'], settings=stg) \n",
    "\n",
    "read_kw = dict(ndim=3, iscale=[2])\n",
    "mc_kw2 = dict(names=['fnl', 'b', 'n0', 'b2', 'n02'], \n",
    "              labels=['f_{NL}', 'b1', '10^{7}n_{0}', 'b2', '10^{7}n_{0}2'], settings=stg)\n",
    "read_kw2 = dict(ndim=5, iscale=[2, 4])\n",
    "mc_kw3 = dict(names=['fnl', 'b', 'n0', 'b2', 'n02', 'b3', 'n03'], \n",
    "              labels=['f_{NL}', 'b1', '10^{7}n_{0}', 'b2', '10^{7}n_{0}2', 'b3', '10^{7}n_{0}3'], settings=stg)\n",
    "read_kw3 = dict(ndim=7, iscale=[2, 4, 6])"
   ]
  },
  {
   "cell_type": "code",
   "execution_count": null,
   "metadata": {},
   "outputs": [],
   "source": [
    "fs = MCMC('/fs/ess/PHS0336/data/lognormal/v2/mcmc/mcmc_lrg_zero_fullsky_noweight_steps10k_walkers50.npz', mc_kw=mc_kw, read_kw=read_kw)\n",
    "bm = MCMC('/fs/ess/PHS0336/data/lognormal/v2/mcmc/mcmc_lrg_zero_bmzls_noweight_steps10k_walkers50.npz', mc_kw=mc_kw, read_kw=read_kw)\n",
    "nd = MCMC('/fs/ess/PHS0336/data/lognormal/v2/mcmc/mcmc_lrg_zero_ndecals_noweight_steps10k_walkers50.npz', mc_kw=mc_kw, read_kw=read_kw)\n",
    "sd = MCMC('/fs/ess/PHS0336/data/lognormal/v2/mcmc/mcmc_lrg_zero_sdecals_noweight_steps10k_walkers50.npz', mc_kw=mc_kw, read_kw=read_kw)\n",
    "bn = MCMC('/fs/ess/PHS0336/data/lognormal/v2/mcmc/mcmc_lrg_zero_bmzlsndecals_noweight_steps10k_walkers50.npz', mc_kw=mc_kw2, read_kw=read_kw2)\n",
    "joint = MCMC('/fs/ess/PHS0336/data/lognormal/v2/mcmc/mcmc_lrg_zero_bmzlsndecalssdecals_noweight_steps10k_walkers50.npz', mc_kw=mc_kw3, read_kw=read_kw3)\n",
    "\n",
    "stats = {}\n",
    "stats['Full Sky'] = read_chain('/fs/ess/PHS0336/data/lognormal/v2/mcmc/mcmc_lrg_zero_fullsky_noweight_steps10k_walkers50.npz', **read_kw)[0]\n",
    "stats['F. Sky [BMzLS scaled]'] = read_chain('/fs/ess/PHS0336/data/lognormal/v2/mcmc/mcmc_lrg_zero_fullskyscaled_noweight_steps10k_walkers50.npz', **read_kw)[0]\n",
    "stats['BASS/MzLS'] = read_chain('/fs/ess/PHS0336/data/lognormal/v2/mcmc/mcmc_lrg_zero_bmzls_noweight_steps10k_walkers50.npz', **read_kw)[0]\n",
    "stats['DECaLS North'] = read_chain('/fs/ess/PHS0336/data/lognormal/v2/mcmc/mcmc_lrg_zero_ndecals_noweight_steps10k_walkers50.npz', **read_kw)[0]\n",
    "stats['DECaLS South'] = read_chain('/fs/ess/PHS0336/data/lognormal/v2/mcmc/mcmc_lrg_zero_sdecals_noweight_steps10k_walkers50.npz', **read_kw)[0]\n",
    "\n",
    "stats['NGC'] = read_chain('/fs/ess/PHS0336/data/lognormal/v2/mcmc/mcmc_lrg_zero_ngc_noweight_steps10k_walkers50.npz', **read_kw)[0]\n",
    "stats['Joint (BMzLS+DECaLS N)'] = read_chain('/fs/ess/PHS0336/data/lognormal/v2/mcmc/mcmc_lrg_zero_bmzlsndecals_noweight_steps10k_walkers50.npz', **read_kw2)[0]\n",
    "\n",
    "stats['Joint (DECaLS N+DECaLS S)'] = read_chain('/fs/ess/PHS0336/data/lognormal/v2/mcmc/mcmc_lrg_zero_ndecalssdecals_noweight_steps10k_walkers50.npz', **read_kw2)[0]\n",
    "stats['DESI'] = read_chain('/fs/ess/PHS0336/data/lognormal/v2/mcmc/mcmc_lrg_zero_desi_noweight_steps10k_walkers50.npz', **read_kw)[0]\n",
    "stats['Joint (BMzLS+DECaLS)'] = read_chain('/fs/ess/PHS0336/data/lognormal/v2/mcmc/mcmc_lrg_zero_bmzlsndecalssdecals_noweight_steps10k_walkers50.npz', **read_kw3)[0]"
   ]
  },
  {
   "cell_type": "code",
   "execution_count": null,
   "metadata": {},
   "outputs": [],
   "source": [
    "# Triangle plot\n",
    "g = plots.get_single_plotter(width_inch=4*1.5)\n",
    "g.settings.legend_fontsize = 14\n",
    "\n",
    "g.plot_2d([bm, nd, sd, fs], 'fnl', 'b', filled=False)\n",
    "g.add_x_marker(0)\n",
    "g.add_y_marker(1.4262343145500318)\n",
    "g.add_legend(['BASS/MzLS', 'DECaLS North', 'DECaLS South', 'Full Sky'], colored_text=True, legend_loc='lower left')\n",
    "#prsubplots(g.subplots[0, 0].get_xlim())\n",
    "# g.subplots[0, 0].set_xticklabels([])\n",
    "g.fig.align_labels()\n",
    "g.fig.savefig('figs/fnl2dmocks_area.pdf', bbox_inches='tight')"
   ]
  },
  {
   "cell_type": "code",
   "execution_count": null,
   "metadata": {},
   "outputs": [],
   "source": [
    "# Triangle plot\n",
    "g = plots.get_single_plotter(width_inch=4*1.5)\n",
    "g.settings.legend_fontsize = 14\n",
    "\n",
    "g.plot_1d([bm, bn, joint], 'fnl', filled=False)\n",
    "g.add_x_marker(0)\n",
    "# g.add_y_marker(1.4262343145500318)\n",
    "g.add_legend(['BASS/MzLS', 'BASS/MzLs+DECaLS North', 'BASS/MzLS+DECaLS (North+South)'], colored_text=True)\n",
    "\n",
    "g.subplots[0, 0].set_xticks([-100, -75, -50, -25, 0, 25., 50.])\n",
    "# g.subplots[0, 0].set_xticklabels([])\n",
    "g.fig.align_labels()\n"
   ]
  },
  {
   "cell_type": "code",
   "execution_count": null,
   "metadata": {},
   "outputs": [],
   "source": [
    "pstats = pd.DataFrame(stats,\n",
    "                      index=['MAP [scipy]', 'MAP [chain]', 'Mean [chain]',\n",
    "                             'Median [chain]', '16th', '84th']).T\n",
    "pstats"
   ]
  },
  {
   "cell_type": "code",
   "execution_count": null,
   "metadata": {},
   "outputs": [],
   "source": [
    "bm = MCMC('/fs/ess/PHS0336/data/lognormal/v2/mcmc/mcmc_lrg_po100_bmzls_noweight_steps10k_walkers50.npz', mc_kw=mc_kw, read_kw=read_kw)\n",
    "nd = MCMC('/fs/ess/PHS0336/data/lognormal/v2/mcmc/mcmc_lrg_po100_ndecals_noweight_steps10k_walkers50.npz', mc_kw=mc_kw, read_kw=read_kw)\n",
    "sd = MCMC('/fs/ess/PHS0336/data/lognormal/v2/mcmc/mcmc_lrg_po100_sdecals_noweight_steps10k_walkers50.npz', mc_kw=mc_kw, read_kw=read_kw)"
   ]
  },
  {
   "cell_type": "code",
   "execution_count": null,
   "metadata": {},
   "outputs": [],
   "source": [
    "# Triangle plot\n",
    "g = plots.get_single_plotter(width_inch=4*1.5)\n",
    "g.settings.legend_fontsize = 14\n",
    "\n",
    "g.plot_2d([bm, nd, sd], 'fnl', 'b', filled=False)\n",
    "g.add_x_marker(100)\n",
    "g.add_y_marker(1.43)\n",
    "g.add_legend(['BASS/MzLS', 'DECaLS North', 'DECaLS South'], colored_text=True, legend_loc='lower left')\n",
    "#prsubplots(g.subplots[0, 0].get_xlim())\n",
    "# g.subplots[0, 0].set_xticklabels([])\n",
    "g.fig.align_labels()\n",
    "# g.fig.savefig('figs/fnl2dmocks_area_po100.pdf', bbox_inches='tight')"
   ]
  },
  {
   "cell_type": "code",
   "execution_count": null,
   "metadata": {},
   "outputs": [],
   "source": [
    "titles = {'noweight':'No Correction', \n",
    "         'nn_known':'Conservative',\n",
    "         'nn_all':'Extreme'}\n",
    "\n",
    "stg = {'mult_bias_correction_order':0,'smooth_scale_2D':0.15, 'smooth_scale_1D':0.3, 'contours': [0.68, 0.95]}\n",
    "mc_kw = dict(names=['fnl', 'b', 'n0'], \n",
    "             labels=['f_{NL}', 'b', '10^{7}n_{0}'], settings=stg) \n",
    "\n",
    "read_kw = dict(ndim=3, iscale=[2])\n",
    "mc_kw2 = dict(names=['fnl', 'b', 'n0', 'b2', 'n02'], \n",
    "              labels=['f_{NL}', 'b1', '10^{7}n_{0}', 'b2', '10^{7}n_{0}2'], settings=stg)\n",
    "read_kw2 = dict(ndim=5, iscale=[2, 4])\n",
    "mc_kw3 = dict(names=['fnl', 'b', 'n0', 'b2', 'n02', 'b3', 'n03'], \n",
    "              labels=['f_{NL}', 'b1', '10^{7}n_{0}', 'b2', '10^{7}n_{0}2', 'b3', '10^{7}n_{0}3'], settings=stg)\n",
    "read_kw3 = dict(ndim=7, iscale=[2, 4, 6])\n",
    "\n",
    "xlim = None\n",
    "\n",
    "with PdfPages('figs/fnl2d_dr9_methods.pdf') as pdf:\n",
    "\n",
    "    for r in ['noweight', 'nn_known', 'nn_all']:\n",
    "\n",
    "        noweight = MCMC(f'/fs/ess/PHS0336/data/rongpu/imaging_sys/mcmc/0.57.0/mcmc_lrg_zero_bmzls_{r}_steps10k_walkers50.npz', mc_kw=mc_kw, read_kw=read_kw)\n",
    "        nnknown = MCMC(f'/fs/ess/PHS0336/data/rongpu/imaging_sys/mcmc/0.57.0/mcmc_lrg_zero_ndecals_{r}_steps10k_walkers50.npz', mc_kw=mc_kw, read_kw=read_kw)\n",
    "        nnall = MCMC(f'/fs/ess/PHS0336/data/rongpu/imaging_sys/mcmc/0.57.0/mcmc_lrg_zero_sdecals_{r}_steps10k_walkers50.npz', mc_kw=mc_kw, read_kw=read_kw)\n",
    "\n",
    "\n",
    "        # Triangle plot\n",
    "        g = plots.get_single_plotter(width_inch=4*1.5)\n",
    "        g.settings.legend_fontsize = 14\n",
    "\n",
    "        g.plot_2d([noweight, nnknown, nnall], 'fnl', 'b', filled=True)\n",
    "        g.add_legend(['BASS/MzLS', 'DECaLS North', 'DECaLS South'], colored_text=True, title=titles[r])\n",
    "\n",
    "\n",
    "        ## --- for blinding\n",
    "        hwidth=0.0\n",
    "        width=0.001\n",
    "        kw = dict(shape='full', width=width, \n",
    "                  head_width=hwidth, alpha=0.8)  \n",
    "        kw2 = dict()#bbox={'facecolor': 'w', 'alpha': 0.5, 'pad': 10})\n",
    "        mparams = noweight.samples.mean(axis=0)\n",
    "        dparams = mparams - nnknown.samples.mean(axis=0)\n",
    "        g.subplots[0, 0].arrow(mparams[0], 0.97*mparams[1], -dparams[0], 0, color='r', **kw)\n",
    "        g.subplots[0, 0].text(mparams[0]-0.5*dparams[0], 0.975*mparams[1], '%.1f'%abs(dparams[0]), color='r', **kw2)\n",
    "\n",
    "        dparams = mparams - nnall.samples.mean(axis=0)\n",
    "        g.subplots[0, 0].arrow(mparams[0], 1.03*mparams[1], -dparams[0], 0, color='b', **kw)\n",
    "        g.subplots[0, 0].text(mparams[0]-0.5*dparams[0], 1.035*mparams[1], '%.1f'%abs(dparams[0]), color='b', **kw2)\n",
    "\n",
    "\n",
    "\n",
    "        g.subplots[0, 0].set_ylim((1.23, 1.6))\n",
    "        #if xlim is None:\n",
    "        #    xlim = g.subplots[0, 0].get_xlim()\n",
    "        #g.subplots[0, 0].set_xlim(xlim[0]-mparams[0], xlim[1]-mparams[0])\n",
    "        g.subplots[0, 0].set_xticklabels([]) # VERY IMPORTANT!!!\n",
    "\n",
    "\n",
    "        g.fig.align_labels()\n",
    "        #g.fig.show()\n",
    "        pdf.savefig(bbox_inches='tight')\n",
    "        # g.fig.savefig('figs/fnl2dmocks.pdf', bbox_inches='tight')"
   ]
  },
  {
   "cell_type": "code",
   "execution_count": null,
   "metadata": {},
   "outputs": [],
   "source": [
    "titles = {'bmzls':'BASS/MzLS', \n",
    "         'ndecals':'DECaLS North',\n",
    "         'sdecals':'DECaLS South'}\n",
    "\n",
    "stg = {'mult_bias_correction_order':0,'smooth_scale_2D':0.15, 'smooth_scale_1D':0.3, 'contours': [0.68, 0.95]}\n",
    "mc_kw = dict(names=['fnl', 'b', 'n0'], \n",
    "             labels=['f_{NL}', 'b', '10^{7}n_{0}'], settings=stg) \n",
    "\n",
    "read_kw = dict(ndim=3, iscale=[2])\n",
    "mc_kw2 = dict(names=['fnl', 'b', 'n0', 'b2', 'n02'], \n",
    "              labels=['f_{NL}', 'b1', '10^{7}n_{0}', 'b2', '10^{7}n_{0}2'], settings=stg)\n",
    "read_kw2 = dict(ndim=5, iscale=[2, 4])\n",
    "mc_kw3 = dict(names=['fnl', 'b', 'n0', 'b2', 'n02', 'b3', 'n03'], \n",
    "              labels=['f_{NL}', 'b1', '10^{7}n_{0}', 'b2', '10^{7}n_{0}2', 'b3', '10^{7}n_{0}3'], settings=stg)\n",
    "read_kw3 = dict(ndim=7, iscale=[2, 4, 6])\n",
    "\n",
    "xlim = None\n",
    "\n",
    "with PdfPages('figs/fnl2d_dr9_regions.pdf') as pdf:\n",
    "\n",
    "    for r in ['bmzls', 'ndecals', 'sdecals']:\n",
    "\n",
    "        noweight = MCMC(f'/fs/ess/PHS0336/data/rongpu/imaging_sys/mcmc/0.57.0/mcmc_lrg_zero_{r}_noweight_steps10k_walkers50.npz', mc_kw=mc_kw, read_kw=read_kw)\n",
    "        nnknown = MCMC(f'/fs/ess/PHS0336/data/rongpu/imaging_sys/mcmc/0.57.0/mcmc_lrg_zero_{r}_nn_known_steps10k_walkers50.npz', mc_kw=mc_kw, read_kw=read_kw)\n",
    "        nnall = MCMC(f'/fs/ess/PHS0336/data/rongpu/imaging_sys/mcmc/0.57.0/mcmc_lrg_zero_{r}_nn_all_steps10k_walkers50.npz', mc_kw=mc_kw, read_kw=read_kw)\n",
    "\n",
    "\n",
    "        # Triangle plot\n",
    "        g = plots.get_single_plotter(width_inch=4*1.5)\n",
    "        g.settings.legend_fontsize = 14\n",
    "\n",
    "        g.plot_2d([noweight, nnknown, nnall], 'fnl', 'b', filled=True)\n",
    "        g.add_legend(['No Correction', 'Conservative', 'Extreme'], colored_text=True, title=titles[r])\n",
    "\n",
    "\n",
    "        ## --- for blinding\n",
    "        hwidth=0.0\n",
    "        width=0.001\n",
    "        kw = dict(shape='full', width=width, \n",
    "                  head_width=hwidth, alpha=0.8)  \n",
    "        kw2 = dict()#bbox={'facecolor': 'w', 'alpha': 0.5, 'pad': 10})\n",
    "        mparams = noweight.samples.mean(axis=0)\n",
    "        dparams = mparams - nnknown.samples.mean(axis=0)\n",
    "        g.subplots[0, 0].arrow(mparams[0], 0.97*mparams[1], -dparams[0], 0, color='r', **kw)\n",
    "        g.subplots[0, 0].text(mparams[0]-0.5*dparams[0], 0.975*mparams[1], '%.1f'%abs(dparams[0]), color='r', **kw2)\n",
    "\n",
    "        dparams = mparams - nnall.samples.mean(axis=0)\n",
    "        g.subplots[0, 0].arrow(mparams[0], 1.03*mparams[1], -dparams[0], 0, color='b', **kw)\n",
    "        g.subplots[0, 0].text(mparams[0]-0.5*dparams[0], 1.035*mparams[1], '%.1f'%abs(dparams[0]), color='b', **kw2)\n",
    "\n",
    "\n",
    "\n",
    "        g.subplots[0, 0].set_ylim((1.23, 1.6))\n",
    "        #if xlim is None:\n",
    "        #    xlim = g.subplots[0, 0].get_xlim()\n",
    "        #g.subplots[0, 0].set_xlim(xlim[0]-mparams[0], xlim[1]-mparams[0])\n",
    "        g.subplots[0, 0].set_xticklabels([]) # VERY IMPORTANT!!!\n",
    "\n",
    "\n",
    "        g.fig.align_labels()\n",
    "        #g.fig.show()\n",
    "        pdf.savefig(bbox_inches='tight')\n",
    "        # g.fig.savefig('figs/fnl2dmocks.pdf', bbox_inches='tight')"
   ]
  },
  {
   "cell_type": "code",
   "execution_count": null,
   "metadata": {},
   "outputs": [],
   "source": [
    "path_ = '/fs/ess/PHS0336/data/rongpu/imaging_sys/mcmc/0.57.0/'\n",
    "titles = {'nn_known':'Conservative', \n",
    "         'nn_all':'Extreme'}\n",
    "\n",
    "stg = {'mult_bias_correction_order':0,'smooth_scale_2D':0.15, 'smooth_scale_1D':0.3, 'contours': [0.68, 0.95]}\n",
    "mc_kw = dict(names=['fnl', 'b', 'n0'], \n",
    "             labels=['f_{NL}', 'b', '10^{7}n_{0}'], settings=stg) \n",
    "\n",
    "read_kw = dict(ndim=3, iscale=[2])\n",
    "mc_kw2 = dict(names=['fnl', 'b', 'n0', 'b2', 'n02'], \n",
    "              labels=['f_{NL}', 'b1', '10^{7}n_{0}', 'b2', '10^{7}n_{0}2'], settings=stg)\n",
    "read_kw2 = dict(ndim=5, iscale=[2, 4])\n",
    "mc_kw3 = dict(names=['fnl', 'b', 'n0', 'b2', 'n02', 'b3', 'n03'], \n",
    "              labels=['f_{NL}', 'b1', '10^{7}n_{0}', 'b2', '10^{7}n_{0}2', 'b3', '10^{7}n_{0}3'], settings=stg)\n",
    "read_kw3 = dict(ndim=7, iscale=[2, 4, 6])\n",
    "\n",
    "xlim = None\n",
    "\n",
    "with PdfPages('figs/fnl2d_dr9_joint.pdf') as pdf:\n",
    "    for r in ['nn_known', 'nn_all']:\n",
    "        noweight = MCMC(f'{path_}mcmc_lrg_zero_bmzls_{r}_steps10k_walkers50.npz', mc_kw=mc_kw, read_kw=read_kw)\n",
    "        nnknown = MCMC(f'{path_}mcmc_lrg_zero_bmzlsndecals_{r}_steps10k_walkers50.npz', mc_kw=mc_kw2, read_kw=read_kw2)\n",
    "        nnall = MCMC(f'{path_}mcmc_lrg_zero_bmzlsndecalssdecals_{r}_steps10k_walkers50.npz', mc_kw=mc_kw3, read_kw=read_kw3)\n",
    "\n",
    "\n",
    "        # Triangle plot\n",
    "        g = plots.get_single_plotter(width_inch=4*1.5)\n",
    "        g.settings.legend_fontsize = 14\n",
    "\n",
    "        g.plot_2d([noweight, nnknown, nnall], 'fnl', 'b', filled=True)\n",
    "        g.add_legend(['BASS/MzLS', '+ DECaLS North', '+ DECaLS (North + South)'], colored_text=True, title=titles[r], legend_loc='lower left')\n",
    "\n",
    "\n",
    "        ## --- for blinding\n",
    "        hwidth=0.0\n",
    "        width=0.001\n",
    "        kw = dict(shape='full', width=width, \n",
    "                  head_width=hwidth, alpha=0.8)  \n",
    "        kw2 = dict()#bbox={'facecolor': 'w', 'alpha': 0.5, 'pad': 10})\n",
    "        mparams = noweight.samples.mean(axis=0)\n",
    "        dparams = mparams[:2] - nnknown.samples.mean(axis=0)[:2]\n",
    "        g.subplots[0, 0].arrow(mparams[0], 0.97*mparams[1], -2*dparams[0], 0, color='r', **kw)\n",
    "        g.subplots[0, 0].text(mparams[0]-0.5*dparams[0], 0.975*mparams[1], '%.1f'%abs(2*dparams[0]), color='r', **kw2)\n",
    "\n",
    "        dparams = mparams[:2] - nnall.samples.mean(axis=0)[:2]\n",
    "        g.subplots[0, 0].arrow(mparams[0], 1.03*mparams[1], -dparams[0], 0, color='b', **kw)\n",
    "        g.subplots[0, 0].text(mparams[0]-0.5*dparams[0], 1.035*mparams[1], '%.1f'%abs(dparams[0]), color='b', **kw2)\n",
    "\n",
    "\n",
    "\n",
    "        g.subplots[0, 0].set_ylim((1.23, 1.6))\n",
    "        #if xlim is None:\n",
    "        #    xlim = g.subplots[0, 0].get_xlim()\n",
    "        #g.subplots[0, 0].set_xlim(xlim[0]-mparams[0], xlim[1]-mparams[0])\n",
    "        g.subplots[0, 0].set_xticklabels([]) # VERY IMPORTANT!!!\n",
    "\n",
    "\n",
    "        g.fig.align_labels()\n",
    "        #g.fig.show()\n",
    "        pdf.savefig(bbox_inches='tight')\n",
    "        # g.fig.savefig('figs/fnl2dmocks.pdf', bbox_inches='tight')"
   ]
  },
  {
   "cell_type": "markdown",
   "metadata": {},
   "source": [
    "## Contaminated Mocks"
   ]
  },
  {
   "cell_type": "code",
   "execution_count": 18,
   "metadata": {},
   "outputs": [],
   "source": [
    "from lssutils.stats.cl import AnaFast"
   ]
  },
  {
   "cell_type": "code",
   "execution_count": 19,
   "metadata": {},
   "outputs": [
    {
     "name": "stdout",
     "output_type": "stream",
     "text": [
      "NSIDE = 256\n",
      "ORDERING = RING in fits file\n",
      "INDXSCHM = IMPLICIT\n",
      "NSIDE = 256\n",
      "ORDERING = RING in fits file\n",
      "INDXSCHM = IMPLICIT\n"
     ]
    },
    {
     "name": "stderr",
     "output_type": "stream",
     "text": [
      "/users/PHS0336/medirz90/miniconda3/envs/sysnet/lib/python3.8/site-packages/healpy/fitsfunc.py:351: UserWarning: If you are not specifying the input dtype and using the default np.float64 dtype of read_map(), please consider that it will change in a future version to None as to keep the same dtype of the input file: please explicitly set the dtype if it is important to you.\n",
      "  warnings.warn(\n"
     ]
    }
   ],
   "source": [
    "ng = md.hp.read_map('/fs/ess/PHS0336/data/lognormal/v2/hpmaps/lrghp-zero-1-f1z1.fits')\n",
    "nc = md.hp.read_map('/fs/ess/PHS0336/data/lognormal/v2/hpmaps/lrghp-zero-1-f1z1-contaminated.fits')\n",
    "dt = md.ft.read('/fs/ess/PHS0336/data/rongpu/imaging_sys/tables/0.57.0/nlrg_features_bmzls_256.fits')"
   ]
  },
  {
   "cell_type": "code",
   "execution_count": 20,
   "metadata": {},
   "outputs": [],
   "source": [
    "mask = md.make_hp(256, dt['hpix'], 1.) > 0.5\n",
    "frac = md.make_hp(256, dt['hpix'], dt['fracgood'])"
   ]
  },
  {
   "cell_type": "code",
   "execution_count": 21,
   "metadata": {},
   "outputs": [],
   "source": [
    "delta = {}\n",
    "delta['truth'] = md.make_overdensity(ng, mask*1., mask)\n",
    "delta['contaminated'] = md.make_overdensity(nc, mask*1., mask)"
   ]
  },
  {
   "cell_type": "code",
   "execution_count": 22,
   "metadata": {},
   "outputs": [],
   "source": [
    "af = AnaFast()"
   ]
  },
  {
   "cell_type": "code",
   "execution_count": 23,
   "metadata": {},
   "outputs": [],
   "source": [
    "cls = {}\n",
    "\n",
    "for n_i, d_i in delta.items():\n",
    "    cls[n_i] = af(d_i, mask*1.0, mask)['cl']"
   ]
  },
  {
   "cell_type": "code",
   "execution_count": 29,
   "metadata": {},
   "outputs": [],
   "source": [
    "names = ['I: EBV', 'II: I+gdepthg', 'III: II+nstar', 'IV: III+psfsize-g', 'All maps']\n",
    "nbars = {}\n",
    "for j, n in enumerate(['nn_known1', 'nn_known4', 'nn_known5', 'nn_known6', 'nn_all']):\n",
    "    wt = md.ft.read(f'/fs/ess/PHS0336/data/lognormal/v2/regression/fnl_zero/cont/1/bmzls/{n}/nn-weights.fits')\n",
    "    wnn_ = md.make_hp(256, wt['hpix'], wt['weight'].mean(axis=1))\n",
    "    wnn_ = wnn_ / wnn_[mask].mean()\n",
    "    wnn_ = wnn_.clip(0.5, 2.0)\n",
    "\n",
    "    delta_ = md.make_overdensity(nc, mask*1., mask, selection_fn=wnn_)\n",
    "    cls[names[j]] = af(delta_, mask*1.0, mask)['cl']"
   ]
  },
  {
   "cell_type": "code",
   "execution_count": 33,
   "metadata": {},
   "outputs": [
    {
     "data": {
      "text/plain": [
       "Text(0, 0.5, '$C_{\\\\ell}$')"
      ]
     },
     "execution_count": 33,
     "metadata": {},
     "output_type": "execute_result"
    },
    {
     "data": {
      "image/png": "[encoded data removed]",
      "text/plain": [
       "<Figure size 576x432 with 1 Axes>"
      ]
     },
     "metadata": {},
     "output_type": "display_data"
    }
   ],
   "source": [
    "md.plt.figure(figsize=(8, 6))\n",
    "for n_i, cl_i in cls.items():\n",
    "    md.plt.loglog(cl_i, label=n_i, lw=3)\n",
    "    \n",
    "#for cl_j in cl_clean:\n",
    "#    md.plt.loglog(cl_j, color='C3', alpha=0.2, zorder=-1)\n",
    "    \n",
    "md.plt.legend(frameon=False, ncol=2, loc='lower center')\n",
    "#md.plt.text(1.5, 5.0e-5, 'cleaned', color='C3')\n",
    "md.plt.ylim(1.0e-7, 1.0e-3)\n",
    "\n",
    "md.plt.xlabel(r'$\\ell$')\n",
    "md.plt.ylabel(r'$C_{\\ell}$')"
   ]
  },
  {
   "cell_type": "code",
   "execution_count": 22,
   "metadata": {},
   "outputs": [
    {
     "data": {
      "text/plain": [
       "Text(0, 0.5, '$C_{\\\\ell}$')"
      ]
     },
     "execution_count": 22,
     "metadata": {},
     "output_type": "execute_result"
    },
    {
     "data": {
      "image/png": "[encoded data removed]",
      "text/plain": [
       "<Figure size 432x288 with 1 Axes>"
      ]
     },
     "metadata": {},
     "output_type": "display_data"
    }
   ],
   "source": [
    "for n_i, cl_i in cls.items():\n",
    "    md.plt.loglog(cl_i, label=n_i, lw=3)\n",
    "    \n",
    "for cl_j in cl_clean:\n",
    "    md.plt.loglog(cl_j, color='C3', alpha=0.2, zorder=-1)\n",
    "    \n",
    "md.plt.legend(frameon=False)\n",
    "md.plt.text(1.5, 5.0e-5, 'cleaned', color='C3')\n",
    "md.plt.ylim(1.0e-7, 1.0e-3)\n",
    "md.plt.xlabel(r'$\\ell$')\n",
    "md.plt.ylabel(r'$C_{\\ell}$')"
   ]
  },
  {
   "cell_type": "markdown",
   "metadata": {},
   "source": [
    "## Cleaned data\n",
    "First we prepare the data into `hpix`, `features`, `label`, and `fracgood`."
   ]
  },
  {
   "cell_type": "code",
   "execution_count": null,
   "metadata": {},
   "outputs": [],
   "source": [
    "for r in ['bmzls', 'ndecals', 'sdecals']:\n",
    "    \n",
    "    table = f'/fs/ess/PHS0336/data/rongpu/imaging_sys/tables/0.57.0/nlrg_features_{r}_256.fits'\n",
    "    dt = ft.read(table)\n",
    "    \n",
    "    ra, dec = hpix2radec(256, dt['hpix'])\n",
    "    plt.scatter(shiftra(ra[::50]), np.sin(np.radians(dec[::50])), 1, marker='.')\n",
    "    \n",
    "plt.xlabel('RA [deg]')\n",
    "plt.ylabel('sin(DEC [deg])')"
   ]
  },
  {
   "cell_type": "markdown",
   "metadata": {},
   "source": [
    "Now, let's combine BASS/MzLS with DECaLS North into NGC"
   ]
  },
  {
   "cell_type": "code",
   "execution_count": null,
   "metadata": {},
   "outputs": [],
   "source": [
    "bmzls = ft.read('/fs/ess/PHS0336/data/rongpu/imaging_sys/tables/0.57.0/nlrg_features_bmzls_256.fits')\n",
    "ndecals = ft.read('/fs/ess/PHS0336/data/rongpu/imaging_sys/tables/0.57.0/nlrg_features_ndecals_256.fits')\n",
    "\n",
    "common = np.intersect1d(bmzls['hpix'], ndecals['hpix'])\n",
    "ngc = np.concatenate([bmzls, ndecals])\n",
    "\n",
    "mask_comm = np.in1d(ngc['hpix'], common)\n",
    "ngc_comm = ngc[mask_comm]\n",
    "ngc_comm = np.sort(ngc_comm, order='hpix')\n",
    "commons = np.zeros(common.size, dtype=ngc_comm.dtype)\n",
    "\n",
    "for key in commons.dtype.names:\n",
    "    \n",
    "    if key=='hpix':\n",
    "        commons[key] = ngc_comm[key][:-1:2]\n",
    "    elif key in ['label', 'fracgood']:\n",
    "        commons[key] = (ngc_comm[key][:-1:2]+ngc_comm[key][1::2])\n",
    "    elif key=='features':\n",
    "        commons[key] = (ngc_comm[key][:-1:2]+ngc_comm[key][1::2]) / 2.0\n",
    "    else:\n",
    "        print(key)\n",
    "        \n",
    "ngc_unique = ngc[~mask_comm]\n",
    "combined = np.concatenate([ngc_unique, commons])\n",
    "assert ngc.size ==2*commons.size+ngc_unique.size        \n",
    "\n",
    "ft.write('/fs/ess/PHS0336/data/rongpu/imaging_sys/tables/0.57.0/nlrg_features_ngc_256.fits', combined)"
   ]
  },
  {
   "cell_type": "markdown",
   "metadata": {},
   "source": [
    "Combine NGC and DECaLS S into desi"
   ]
  },
  {
   "cell_type": "code",
   "execution_count": null,
   "metadata": {},
   "outputs": [],
   "source": [
    "ngc = ft.read('/fs/ess/PHS0336/data/rongpu/imaging_sys/tables/0.57.0/nlrg_features_ngc_256.fits')\n",
    "sdecals = ft.read('/fs/ess/PHS0336/data/rongpu/imaging_sys/tables/0.57.0/nlrg_features_sdecals_256.fits')\n",
    "\n",
    "common = np.intersect1d(sdecals['hpix'], ngc['hpix'])\n",
    "assert len(common) == 0\n",
    "desi = np.concatenate([ngc, sdecals])\n",
    "\n",
    "ft.write('/fs/ess/PHS0336/data/rongpu/imaging_sys/tables/0.57.0/nlrg_features_desi_256.fits', desi)"
   ]
  },
  {
   "cell_type": "code",
   "execution_count": null,
   "metadata": {},
   "outputs": [],
   "source": [
    "ls /fs/ess/PHS0336/data/rongpu/imaging_sys/tables/0.57.0/ -altr"
   ]
  },
  {
   "cell_type": "markdown",
   "metadata": {},
   "source": [
    "## Bin C$_{\\ell}$"
   ]
  },
  {
   "cell_type": "code",
   "execution_count": null,
   "metadata": {},
   "outputs": [],
   "source": [
    "def bin_clmock(fnl, survey):    \n",
    "    #ell_edges = np.array([2] + [10*i for i in range(1,10)] + [100+i*20 for i in range(5)] + [200+i*50 for i in range(3)])\n",
    "    ell_edges = np.array([2, 6, 10, 14, 18, 22, 26] \\\n",
    "                       + [10*i for i in range(3,10)] \\\n",
    "                       + [100+i*20 for i in range(5)] \\\n",
    "                       + [200+i*50 for i in range(3)])\n",
    "\n",
    "    cl_mocks = np.load(f'/fs/ess/PHS0336/data/lognormal/v2/clustering/clmock_{fnl}_{survey}.npy')\n",
    "    nmocks, lmax = cl_mocks.shape\n",
    "\n",
    "    ell = np.arange(lmax)\n",
    "    cl_mocks_binned = []\n",
    "    for cl_i in cl_mocks:\n",
    "        ell_bin, cl_bin = histogram_cell(ell, cl_i, bins=ell_edges)\n",
    "        cl_mocks_binned.append(cl_bin)\n",
    "    cl_mocks_binned = np.array(cl_mocks_binned)\n",
    "\n",
    "    nbins = ell_edges.size-1\n",
    "    assert (cl_mocks_binned.shape[1]==nbins)\n",
    "\n",
    "    hf = (nmocks - 1.0)/(nmocks - nbins - 2.0)\n",
    "    cl_cov = np.cov(cl_mocks_binned, rowvar=False)*hf #/ nmocks\n",
    "    inv_cov = np.linalg.inv(cl_cov)\n",
    "    print(f'Hartlap with #mocks ({nmocks}) and #bins ({nbins}): {hf:.2f}' )\n",
    "\n",
    "    #fg, ax = plt.subplots(ncols=2, figsize=(12, 4))\n",
    "    #ax[0].imshow(inv_cov, origin='lower')\n",
    "    #ax[1].imshow(inv_cov.dot(cl_cov), origin='lower')\n",
    "\n",
    "    np.savez(f'/fs/ess/PHS0336/data/lognormal/v2/clustering/clmock_{fnl}_{survey}_mean.npz',\n",
    "         **{'el_edges':ell_edges, 'el_bin':ell_bin, 'cl':cl_mocks_binned.mean(axis=0)})\n",
    "\n",
    "    np.savez(f'/fs/ess/PHS0336/data/lognormal/v2/clustering/clmock_{fnl}_{survey}_cov.npz',\n",
    "         **{'el_edges':ell_edges, 'el_bin':ell_bin, 'clcov':cl_cov})"
   ]
  },
  {
   "cell_type": "code",
   "execution_count": null,
   "metadata": {},
   "outputs": [],
   "source": [
    "ls /fs/ess/PHS0336/data/lognormal/v2/clustering/cl*"
   ]
  },
  {
   "cell_type": "code",
   "execution_count": null,
   "metadata": {},
   "outputs": [],
   "source": [
    "fnl = 'zero'\n",
    "for survey in ['ndecals', 'sdecals',\n",
    "               'ngc', 'desi', 'fullsky', 'bmzls']:\n",
    "\n",
    "    bin_clmock(fnl, survey)\n",
    "    print(f'{survey} done.')"
   ]
  },
  {
   "cell_type": "code",
   "execution_count": null,
   "metadata": {},
   "outputs": [],
   "source": [
    "fnl = 'po100'\n",
    "for survey in ['ndecals', 'sdecals', 'bmzls']:\n",
    "\n",
    "    bin_clmock(fnl, survey)\n",
    "    print(f'{survey} done.')"
   ]
  },
  {
   "cell_type": "markdown",
   "metadata": {},
   "source": [
    "## MCMC"
   ]
  },
  {
   "cell_type": "code",
   "execution_count": null,
   "metadata": {
    "scrolled": false
   },
   "outputs": [],
   "source": [
    "hwidth=0.1\n",
    "width=0.001\n",
    "kw = dict(shape='full', width=width, \n",
    "          head_width=hwidth, alpha=0.8)  \n",
    "kw2 = dict(bbox={'facecolor': 'w', 'alpha': 0.5, 'pad': 10})\n",
    "\n",
    "for r in ['bmzls', 'ndecals', 'sdecals']:\n",
    "    \n",
    "    noweight = read_chain(f'/fs/ess/PHS0336/data/rongpu/imaging_sys/mcmc/0.57.0/mcmc_lrg_zero_{r}_noweight_steps10k_walkers50.npz')[1]\n",
    "    nnknown = read_chain(f'/fs/ess/PHS0336/data/rongpu/imaging_sys/mcmc/0.57.0/mcmc_lrg_zero_{r}_nn_known_steps10k_walkers50.npz')[1]\n",
    "    nnall = read_chain(f'/fs/ess/PHS0336/data/rongpu/imaging_sys/mcmc/0.57.0/mcmc_lrg_zero_{r}_nn_all_steps10k_walkers50.npz')[1]\n",
    "\n",
    "    names = ['fnl', 'b', 'n0']\n",
    "    labels = ['f_{NL}', 'b', '10^{7}N_{shot}']\n",
    "\n",
    "    nw_ = MCSamples(samples=noweight, names=names, labels=labels, label='No Weight')\n",
    "    nk_ = MCSamples(samples=nnknown, names=names, labels=labels, label='Conservative')\n",
    "    na_ = MCSamples(samples=nnall, names=names, labels=labels, label='Extreme')\n",
    "\n",
    "    # Triangle plot\n",
    "    g = plots.get_subplot_plotter(width_inch=8)\n",
    "    g.triangle_plot([nw_, nk_, na_], filled=True)\n",
    "    g.subplots[2, 0].set_xticklabels([])\n",
    "    \n",
    "    mparams = nw_.samples.mean(axis=0)\n",
    "    dparams = mparams - nk_.samples.mean(axis=0)\n",
    "    g.subplots[2, 0].arrow(mparams[0], mparams[-1], -dparams[0], 0, color='C1', **kw)\n",
    "    g.subplots[2, 0].text(mparams[0]-0.5*dparams[0], mparams[-1]+0.2, '%.1f'%dparams[0], color='C1', **kw2)\n",
    "    \n",
    "    mparams = nw_.samples.mean(axis=0)\n",
    "    dparams = mparams - na_.samples.mean(axis=0)\n",
    "    g.subplots[2, 0].arrow(mparams[0], mparams[-1]-2, -dparams[0], 0, color='C2', **kw)\n",
    "    g.subplots[2, 0].text(mparams[0]-0.5*dparams[0], mparams[-1]-1.8, '%.1f'%dparams[0], color='C2', **kw2)    \n",
    "    \n",
    "    g.fig.align_labels()\n",
    "    g.fig.legend(title=r.upper())\n",
    "    plt.show()\n",
    "    "
   ]
  },
  {
   "cell_type": "code",
   "execution_count": null,
   "metadata": {
    "scrolled": false
   },
   "outputs": [],
   "source": [
    "hwidth=0.1\n",
    "width=0.001\n",
    "kw = dict(shape='full', width=width, \n",
    "          head_width=hwidth, alpha=0.8)\n",
    "kw2 = dict(bbox={'facecolor': 'w', 'alpha': 0.5, 'pad': 10})\n",
    "            \n",
    "for r in ['noweight', 'nn_known', 'nn_all']:\n",
    "    \n",
    "    noweight = read_chain(f'/fs/ess/PHS0336/data/rongpu/imaging_sys/mcmc/0.57.0/mcmc_lrg_zero_bmzls_{r}_steps10k_walkers50.npz')[1]\n",
    "    nnknown = read_chain(f'/fs/ess/PHS0336/data/rongpu/imaging_sys/mcmc/0.57.0/mcmc_lrg_zero_ndecals_{r}_steps10k_walkers50.npz')[1]\n",
    "    nnall = read_chain(f'/fs/ess/PHS0336/data/rongpu/imaging_sys/mcmc/0.57.0/mcmc_lrg_zero_sdecals_{r}_steps10k_walkers50.npz')[1]\n",
    "\n",
    "    names = ['fnl', 'b', 'n0']\n",
    "    labels = ['f_{NL}', 'b', '10^{7}N_{shot}']\n",
    "\n",
    "    nw_ = MCSamples(samples=noweight, names=names, labels=labels, label='BASS/MzLS')\n",
    "    nk_ = MCSamples(samples=nnknown, names=names, labels=labels, label='DECaLS N')\n",
    "    na_ = MCSamples(samples=nnall, names=names, labels=labels, label='DECaLS S')\n",
    "\n",
    "    # Triangle plot\n",
    "    g = plots.get_subplot_plotter(width_inch=8)\n",
    "    g.triangle_plot([nw_, nk_, na_], filled=True)\n",
    "    g.subplots[2, 0].set_xticklabels([])\n",
    "    \n",
    "    mparams = nw_.samples.mean(axis=0)\n",
    "    dparams = mparams - nk_.samples.mean(axis=0)\n",
    "    g.subplots[2, 0].arrow(mparams[0], mparams[-1], -dparams[0], 0, color='C1', **kw)\n",
    "    g.subplots[2, 0].text(mparams[0]-0.5*dparams[0], mparams[-1]+0.2, '%.1f'%dparams[0], color='C1', **kw2)\n",
    "    \n",
    "    mparams = nw_.samples.mean(axis=0)\n",
    "    dparams = mparams - na_.samples.mean(axis=0)\n",
    "    g.subplots[2, 0].arrow(mparams[0], mparams[-1]-2, -dparams[0], 0, color='C2', **kw)\n",
    "    g.subplots[2, 0].text(mparams[0]-0.5*dparams[0], mparams[-1]-1.8, '%.1f'%dparams[0], color='C2', **kw2)    \n",
    "    \n",
    "    g.fig.align_labels()\n",
    "    g.fig.legend(title=r.upper())\n",
    "    plt.show()    "
   ]
  },
  {
   "cell_type": "code",
   "execution_count": null,
   "metadata": {},
   "outputs": [],
   "source": [
    "mparams = nw_.samples.mean(axis=0)\n",
    "dparams = mparams - nk_.samples.mean(axis=0)\n",
    "dparams[0]"
   ]
  },
  {
   "cell_type": "code",
   "execution_count": null,
   "metadata": {},
   "outputs": [],
   "source": [
    "pstats = pd.DataFrame(stats,\n",
    "                      index=['MAP [scipy]', 'MAP [chain]', 'Mean [chain]',\n",
    "                             'Median [chain]', '16th', '84th']).T\n",
    "pstats"
   ]
  },
  {
   "cell_type": "code",
   "execution_count": null,
   "metadata": {},
   "outputs": [],
   "source": [
    "pstats = pd.DataFrame(stats,\n",
    "                      index=['MAP [scipy]', 'MAP [chain]', 'Mean [chain]',\n",
    "                             'Median [chain]', '16th', '84th']).T\n",
    "pstats"
   ]
  },
  {
   "cell_type": "code",
   "execution_count": null,
   "metadata": {},
   "outputs": [],
   "source": [
    "kw = dict(histtype='step', bins=100, range=(-290, 190), density=True)\n",
    "\n",
    "plt.figure()#figsize=(10, 6))\n",
    "plt.hist(fs[:, 0], alpha=0.2, **kw, label='Fullsky')\n",
    "plt.hist(ngc[:, 0], **kw, label='NGC (BMzLS+NDECaLS)')\n",
    "plt.hist(bnd[:, 0], color='k',ls='-', **kw, label='Joint (BMzLS+NDECaLS)')\n",
    "plt.hist(bm[:, 0], **kw, ls='-', label='BMzLS')\n",
    "plt.hist(nd[:, 0], **kw, label='NDECaLS')\n",
    "plt.legend(loc=2)\n",
    "_ = plt.xlabel(r'$f_{\\rm NL}$')"
   ]
  },
  {
   "cell_type": "code",
   "execution_count": null,
   "metadata": {},
   "outputs": [],
   "source": [
    "kw = dict(plot_datapoints=False, #truths=[0.0, 1.426, 5.24], truth_color='C2',\n",
    "          labels=[r'$f_{NL}$', 'b', '$10^{7}n_{0}$'], plot_density=False,\n",
    "          fill_contours=False, levels=[0.68, 0.95])\n",
    "\n",
    "fig = corner.corner(fs, color='C0', **kw)\n",
    "corner.corner(bm, fig=fig, color='C1', contour_kwargs=dict(linestyles='--'), **kw)\n",
    "corner.corner(fss, fig=fig, color='C2', contour_kwargs=dict(linestyles='-.', alpha=0.8), **kw)\n",
    "ax = fig.get_axes()\n",
    "\n",
    "ax[1].text(0.3, 0.8, 'Full Sky', color='C0', transform=ax[1].transAxes)\n",
    "ax[1].text(0.3, 0.65, 'BASS/MzLS', color='C1', transform=ax[1].transAxes)\n",
    "ax[1].text(0.3, 0.5, 'Full Sky (scaled)', color='C2', transform=ax[1].transAxes)\n",
    "#ax[1].text(0.3, 0.35, 'Truth', color='C2', transform=ax[1].transAxes)\n",
    "\n",
    "# fig.savefig('mcmc_mocks.pdf', bbox_inches='tight')"
   ]
  },
  {
   "cell_type": "code",
   "execution_count": null,
   "metadata": {},
   "outputs": [],
   "source": [
    "fs_ = fs.copy()\n",
    "fs_m = fs_.mean(axis=0)\n",
    "fs_ = fs_ - fs_m\n",
    "fs_ /= np.sqrt(0.125)\n",
    "fs_ += fs_m\n",
    "\n",
    "kw = dict(plot_datapoints=False, truths=[0.0, 1.426, 5.24], truth_color='C2',\n",
    "          labels=[r'$f_{NL}$', 'b', '$10^{7}n_{0}$'], plot_density=False,\n",
    "          fill_contours=False, levels=[0.68, 0.95])\n",
    "\n",
    "fig = corner.corner(fs_, color='C0', **kw)\n",
    "corner.corner(bm, fig=fig, color='C1', contour_kwargs=dict(linestyles='--'), **kw)\n",
    "ax = fig.get_axes()\n",
    "\n",
    "ax[1].text(0.3, 0.8, 'Full Sky (scaled)', color='C0', transform=ax[1].transAxes)\n",
    "ax[1].text(0.3, 0.65, 'BASS/MzLS', color='C1', transform=ax[1].transAxes)\n",
    "ax[1].text(0.3, 0.5, 'Truth', color='C2', transform=ax[1].transAxes)\n",
    "\n",
    "# fig.savefig('mcmc_mocks.pdf', bbox_inches='tight')"
   ]
  },
  {
   "cell_type": "markdown",
   "metadata": {},
   "source": [
    "## Feature selection"
   ]
  },
  {
   "cell_type": "code",
   "execution_count": 23,
   "metadata": {},
   "outputs": [],
   "source": [
    "fr = ft.read('/fs/ess/PHS0336/data/rongpu/imaging_sys/tables/0.57.0/nlrg_features_bmzls_256.fits')['features']"
   ]
  },
  {
   "cell_type": "code",
   "execution_count": 24,
   "metadata": {},
   "outputs": [],
   "source": [
    "maps_dr9 = ['ebv', 'nstar']\\\n",
    "            + [f'galdepth_{b}' for b in ['r', 'g', 'z']]\\\n",
    "            + [f'psfdepth_{b}' for b in ['r', 'g', 'z', 'w1', 'w2']] \\\n",
    "            + [f'psfsize_{b}' for b in ['r', 'g', 'z']]"
   ]
  },
  {
   "cell_type": "code",
   "execution_count": 25,
   "metadata": {},
   "outputs": [
    {
     "data": {
      "text/plain": [
       "(1.0, -0.5124436766967613)"
      ]
     },
     "execution_count": 25,
     "metadata": {},
     "output_type": "execute_result"
    }
   ],
   "source": [
    "ccf = np.corrcoef(fr, rowvar=False)\n",
    "ccf.max(), ccf.min()"
   ]
  },
  {
   "cell_type": "code",
   "execution_count": 26,
   "metadata": {},
   "outputs": [
    {
     "data": {
      "image/png": "[encoded data removed]",
      "text/plain": [
       "<Figure size 432x288 with 2 Axes>"
      ]
     },
     "metadata": {},
     "output_type": "display_data"
    }
   ],
   "source": [
    "fg, ax = plt.subplots()\n",
    "\n",
    "mp = ax.imshow(ccf, cmap='seismic', origin='lower', vmin=-1.0, vmax=1.0)\n",
    "fg.colorbar(mp)\n",
    "\n",
    "ax.set_xticks(np.arange(len(maps_dr9)))\n",
    "ax.set_xticklabels(maps_dr9, rotation=90)\n",
    "ax.set_yticks(np.arange(len(maps_dr9)))\n",
    "_ = ax.set_yticklabels(maps_dr9)"
   ]
  },
  {
   "cell_type": "code",
   "execution_count": null,
   "metadata": {},
   "outputs": [],
   "source": [
    "model = src.LinearRegression(add_bias=True)"
   ]
  },
  {
   "cell_type": "code",
   "execution_count": null,
   "metadata": {},
   "outputs": [],
   "source": [
    "def run_rfe(filename):\n",
    " \n",
    "    maps_dr9 = ['ebv', 'nstar']\\\n",
    "                + [f'galdepth_{b}' for b in ['r', 'g', 'z']]\\\n",
    "                + [f'psfdepth_{b}' for b in ['r', 'g', 'z', 'w1', 'w2']] \\\n",
    "                + [f'psfsize_{b}' for b in ['r', 'g', 'z']]\n",
    "\n",
    "    dl = src.MyDataLoader(filename, \n",
    "                          do_kfold=True, seed=85)\n",
    "    axes = []\n",
    "    for i in range(5):\n",
    "        fs = src.FeatureElimination(model, dl.load_data(-1, i))\n",
    "        fs.run([j for j in range(13)])\n",
    "        axes.append(fs.results['axes_to_keep'])\n",
    "\n",
    "\n",
    "    #     fs.plot(labels=maps_dr9, cmap='seismic', vmin=0.99, vmax=1.01)\n",
    "    \n",
    "    weights = [[(1.+i)/len(axes_i) for i in range(len(axes_i))] for axes_i in axes]\n",
    "\n",
    "    axes_ = []\n",
    "    for axi in axes:\n",
    "        for axj in axi:\n",
    "            axes_.append(axj)\n",
    "\n",
    "    weights_ = []\n",
    "    for wt in weights:\n",
    "        for wj in wt:\n",
    "            weights_.append(wj)\n",
    "\n",
    "    plt.hist(axes_, weights=weights_, bins=np.arange(13), align='left', width=0.8)\n",
    "    plt.xticks(ticks=np.arange(13), labels=maps_dr9, rotation=90)\n",
    "    plt.xlim(-1, 13)\n",
    "    plt.ylim(0, 5.2)"
   ]
  },
  {
   "cell_type": "code",
   "execution_count": null,
   "metadata": {},
   "outputs": [],
   "source": [
    "run_rfe('/fs/ess/PHS0336/data/rongpu/imaging_sys/tables/0.57.0/nlrg_features_bmzls_256.fits')"
   ]
  },
  {
   "cell_type": "code",
   "execution_count": null,
   "metadata": {},
   "outputs": [],
   "source": [
    "run_rfe('/fs/ess/PHS0336/data/lognormal/v0/tables/bmzls/nlrg-10-bmzls.fits')"
   ]
  },
  {
   "cell_type": "code",
   "execution_count": null,
   "metadata": {},
   "outputs": [],
   "source": [
    "maps_dr9 = ['ebv', 'nstar']\\\n",
    "            + [f'galdepth_{b}' for b in ['r', 'g', 'z']]\\\n",
    "            + [f'psfdepth_{b}' for b in ['r', 'g', 'z', 'w1', 'w2']] \\\n",
    "            + [f'psfsize_{b}' for b in ['r', 'g', 'z']]"
   ]
  },
  {
   "cell_type": "code",
   "execution_count": null,
   "metadata": {},
   "outputs": [],
   "source": [
    "r = 'bmzls'\n",
    "def run_pcc(r):\n",
    "    \n",
    "    dt = ft.read(f'/fs/ess/PHS0336/data/rongpu/imaging_sys/tables/0.57.0/nlrg_features_{r}_256.fits')\n",
    "    pcc_d, = pcc(dt['features'], dt['label'], return_err=False)\n",
    "\n",
    "    pcc_m = []\n",
    "    for filename in glob(f'/fs/ess/PHS0336/data/lognormal/v0/tables/{r}/nlrg-*-{r}.fits')[:100]:\n",
    "        mc = ft.read(filename)\n",
    "        pcc_, = pcc(mc['features'], mc['label'], return_err=False)\n",
    "        pcc_m.append(pcc_)\n",
    "        \n",
    "    plt.bar(np.arange(13), pcc_d, alpha=0.4)#, label='DR9 BMzLS')        \n",
    "    for pcc_i in pcc_m:\n",
    "        plt.plot(pcc_i, lw=1, alpha=0.2, ls='-', c='C1')\n",
    "    # plt.xticks(ticks=np.arange(len(maps_dr9)), labels=maps_dr9, rotation=90)\n",
    "    plt.ylabel('PCC')\n",
    "    # plt.legend()\n",
    "    _ = plt.xticks(ticks=np.arange(13), labels=maps_dr9, rotation=90)        "
   ]
  },
  {
   "cell_type": "code",
   "execution_count": null,
   "metadata": {},
   "outputs": [],
   "source": [
    "run_pcc(r)"
   ]
  },
  {
   "cell_type": "code",
   "execution_count": null,
   "metadata": {},
   "outputs": [],
   "source": [
    "run_pcc('ndecals')"
   ]
  },
  {
   "cell_type": "code",
   "execution_count": null,
   "metadata": {},
   "outputs": [],
   "source": [
    "run_pcc('sdecals')"
   ]
  },
  {
   "cell_type": "code",
   "execution_count": 12,
   "metadata": {},
   "outputs": [
    {
     "name": "stderr",
     "output_type": "stream",
     "text": [
      "/users/PHS0336/medirz90/miniconda3/envs/sysnet/lib/python3.8/site-packages/healpy/fitsfunc.py:351: UserWarning: If you are not specifying the input dtype and using the default np.float64 dtype of read_map(), please consider that it will change in a future version to None as to keep the same dtype of the input file: please explicitly set the dtype if it is important to you.\n",
      "  warnings.warn(\n"
     ]
    },
    {
     "name": "stdout",
     "output_type": "stream",
     "text": [
      "NSIDE = 256\n",
      "ORDERING = RING in fits file\n",
      "INDXSCHM = IMPLICIT\n"
     ]
    }
   ],
   "source": [
    "r = 'bmzls'\n",
    "\n",
    "maps_dr9 = ['ebv', 'nstar']\\\n",
    "            + [f'galdepth_{b}' for b in ['r', 'g', 'z']]\\\n",
    "            + [f'psfdepth_{b}' for b in ['r', 'g', 'z', 'w1', 'w2']] \\\n",
    "            + [f'psfsize_{b}' for b in ['r', 'g', 'z']]\n",
    "\n",
    "dt = ft.read(f'/fs/ess/PHS0336/data/rongpu/imaging_sys/tables/0.57.0/nlrg_features_{r}_256.fits')\n",
    "\n",
    "\n",
    "mc = hp.read_map('/fs/ess/PHS0336/data/lognormal/v2/hpmaps/lrghp-zero-1-f1z1-contaminated.fits')\n",
    "pcc_d, pcc_e = pcc(dt['features'], mc[dt['hpix']], return_err=True)"
   ]
  },
  {
   "cell_type": "code",
   "execution_count": 13,
   "metadata": {},
   "outputs": [
    {
     "data": {
      "image/png": "[encoded data removed]",
      "text/plain": [
       "<Figure size 432x288 with 1 Axes>"
      ]
     },
     "metadata": {},
     "output_type": "display_data"
    }
   ],
   "source": [
    "plt.bar(np.arange(13), pcc_d, alpha=0.4)#, label='DR9 BMzLS')        \n",
    "plt.fill_between(np.arange(13), *np.percentile(pcc_e, [0, 100], axis=0), alpha=0.2)\n",
    "plt.ylabel('PCC')\n",
    "# plt.legend()\n",
    "_ = plt.xticks(ticks=np.arange(13), labels=maps_dr9, rotation=90)        "
   ]
  },
  {
   "cell_type": "markdown",
   "metadata": {},
   "source": [
    "## Mean Density After Feature Selection"
   ]
  },
  {
   "cell_type": "code",
   "execution_count": 17,
   "metadata": {},
   "outputs": [
    {
     "data": {
      "image/png": "[encoded data removed]",
      "text/plain": [
       "<Figure size 1800x1008 with 15 Axes>"
      ]
     },
     "metadata": {},
     "output_type": "display_data"
    }
   ],
   "source": [
    "p_ = '/fs/ess/PHS0336/data/lognormal/v2/clustering/'\n",
    "names = ['No correction', 'I: EBV', 'II: I+gdepthg', 'III: II+nstar', 'IV: III+psfsize-g']\n",
    "for r in ['bmzls',]: #  'ndecals', 'sdecals'\n",
    "    \n",
    "    nbars = {}\n",
    "    for n in ['noweight', 'nn_known1', 'nn_known4', 'nn_known5', 'nn_known6']:\n",
    "        nbars[n] = md.np.load(f'{p_}nbarmock_1_1_lrg_zero_{r}_256_{n}.npy', allow_pickle=True)\n",
    "        \n",
    "    fg, ax = md.plt.subplots(nrows=3, ncols=5, figsize=(25, 14), sharey=True)\n",
    "    ax = ax.flatten()\n",
    "    fg.subplots_adjust(wspace=0.0)\n",
    "\n",
    "    def errorbar(axi, *arrays, **kwargs):\n",
    "        _, y, ye = arrays\n",
    "        chi2 = (((y-1)/ye)**2).sum()\n",
    "        axi.errorbar(*arrays, **kwargs, label=fr'$\\chi^{2}$ = {chi2:.1f}')\n",
    "\n",
    "    for i in range(13):\n",
    "        for j, n in enumerate(nbars.keys()):\n",
    "            errorbar(ax[i], nbars[n][i]['bin_avg'], nbars[n][i]['nnbar'], nbars[n][i]['nnbar_err'], capsize=4)\n",
    "            if i==12:\n",
    "                ax[13].text(0.2, 0.8-0.1*j, names[j], transform=ax[13].transAxes, color='C%s'%j)\n",
    "        ax[i].axhline(1.0, ls=':', lw=1)\n",
    "        ax[i].set_xlabel(nbars['noweight'][i]['sys'])\n",
    "        ax[i].legend(ncol=2)\n",
    "        \n",
    "    # plt.plot(nbars['nn'])\n",
    "    ax[5].set_ylabel('Mean Density')\n",
    "\n",
    "    # plt.plot(nbars['noweight'])\n",
    "    fg.show()"
   ]
  },
  {
   "cell_type": "code",
   "execution_count": null,
   "metadata": {},
   "outputs": [],
   "source": []
  },
  {
   "cell_type": "code",
   "execution_count": null,
   "metadata": {
    "scrolled": false
   },
   "outputs": [],
   "source": [
    "p_ = '/fs/ess/PHS0336/data/rongpu/imaging_sys/clustering/0.57.0/'\n",
    "for r in ['bmzls', 'ndecals', 'sdecals']:\n",
    "    \n",
    "    nbars = {}\n",
    "    for n in ['noweight', 'nn_known', 'nn_all']:\n",
    "        nbars[n] = np.load(f'{p_}nbar_lrg_{r}_256_{n}.npy', allow_pickle=True)\n",
    "        \n",
    "    fg, ax = plt.subplots(nrows=3, ncols=5, figsize=(25, 14), sharey=True)\n",
    "    ax = ax.flatten()\n",
    "    fg.subplots_adjust(wspace=0.0)\n",
    "\n",
    "    def errorbar(axi, *arrays, **kwargs):\n",
    "        _, y, ye = arrays\n",
    "        chi2 = (((y-1)/ye)**2).sum()\n",
    "        axi.errorbar(*arrays, **kwargs, label=fr'$\\chi^{2}$ = {chi2:.1f}')\n",
    "\n",
    "    for i in range(13):\n",
    "        for n in nbars.keys():\n",
    "            errorbar(ax[i], nbars[n][i]['bin_avg'], nbars[n][i]['nnbar'], nbars[n][i]['nnbar_err'], capsize=4)\n",
    "\n",
    "        ax[i].axhline(1.0, ls=':', lw=1)\n",
    "        ax[i].set_xlabel(nbars['nn_known'][i]['sys'])\n",
    "        ax[i].legend()\n",
    "    # plt.plot(nbars['nn'])\n",
    "    ax[5].set_ylabel('Mean Density')\n",
    "    # plt.plot(nbars['noweight'])\n",
    "    fg.show()"
   ]
  },
  {
   "cell_type": "code",
   "execution_count": null,
   "metadata": {},
   "outputs": [],
   "source": [
    "ell_edges = np.array([2, 6, 10, 14, 18, 22, 26] \\\n",
    "                   + [10*i for i in range(3,10)] \\\n",
    "                   + [100+i*20 for i in range(5)] \\\n",
    "                   + [200+i*50 for i in range(3)])\n",
    "\n",
    "\n",
    "fg, ax = plt.subplots(ncols=3, figsize=(18, 4), sharey=True)\n",
    "fg.subplots_adjust(wspace=0.0)\n",
    "\n",
    "names = ['No treatment', 'Conservative', 'Extreme']\n",
    "markers = ['.', 'o', 'x']\n",
    "\n",
    "for i, r in enumerate(['bmzls', 'ndecals', 'sdecals']):\n",
    "    \n",
    "    for j,method in enumerate(['noweight', 'nn_known', 'nn_all']):\n",
    "\n",
    "\n",
    "\n",
    "        cl = np.load(f'/fs/ess/PHS0336/data/rongpu/imaging_sys/clustering/0.57.0/cl_lrg_{r}_256_{method}.npy', \n",
    "                     allow_pickle=True).item()\n",
    "        lb, clb = histogram_cell(cl['cl_gg']['l'], cl['cl_gg']['cl'], bins=ell_edges)\n",
    "\n",
    "        ln = ax[i].plot(cl['cl_gg']['cl'], alpha=0.2)\n",
    "        ax[i].plot(lb, clb, marker=markers[j], \n",
    "                   ls='None', color=ln[0].get_color(), label=names[j], mfc='w', alpha=0.9)\n",
    "        \n",
    "    ax[i].set(yscale='log', xscale='log', ylim=(1.0e-7, 2.0e-4), xlim=(0.8, 900), xlabel=r'$\\ell$')\n",
    "\n",
    "ax[0].set(ylabel=r'$C_{\\ell}$')\n",
    "ax[2].legend()"
   ]
  },
  {
   "cell_type": "code",
   "execution_count": null,
   "metadata": {},
   "outputs": [],
   "source": [
    "def bin_cldr9(r, method): \n",
    "    \n",
    "    ell_edges = np.array([2, 6, 10, 14, 18, 22, 26] \\\n",
    "                       + [10*i for i in range(3,10)] \\\n",
    "                       + [100+i*20 for i in range(5)] \\\n",
    "                       + [200+i*50 for i in range(3)])\n",
    "\n",
    "    cl = np.load(f'/fs/ess/PHS0336/data/rongpu/imaging_sys/clustering/0.57.0/cl_lrg_{r}_256_{method}.npy', \n",
    "                 allow_pickle=True).item()\n",
    "    lb, clb = histogram_cell(cl['cl_gg']['l'], cl['cl_gg']['cl'], bins=ell_edges)\n",
    "    \n",
    "    np.savez(f'/fs/ess/PHS0336/data/rongpu/imaging_sys/clustering/0.57.0/clgg_lrg_{r}_256_{method}.npz',\n",
    "         **{'el_edges':ell_edges, 'el_bin':lb, 'cl':clb})"
   ]
  },
  {
   "cell_type": "code",
   "execution_count": null,
   "metadata": {},
   "outputs": [],
   "source": [
    "for r in ['bmzls', 'ndecals', 'sdecals']:\n",
    "    for m in ['noweight', 'nn_known', 'nn_all']:\n",
    "        bin_cldr9(r, m)"
   ]
  },
  {
   "cell_type": "code",
   "execution_count": null,
   "metadata": {},
   "outputs": [],
   "source": []
  },
  {
   "cell_type": "code",
   "execution_count": null,
   "metadata": {},
   "outputs": [],
   "source": []
  },
  {
   "cell_type": "code",
   "execution_count": null,
   "metadata": {},
   "outputs": [],
   "source": []
  },
  {
   "cell_type": "code",
   "execution_count": null,
   "metadata": {},
   "outputs": [],
   "source": [
    "run_rfe('sdecals')"
   ]
  },
  {
   "cell_type": "code",
   "execution_count": null,
   "metadata": {},
   "outputs": [],
   "source": []
  },
  {
   "cell_type": "code",
   "execution_count": null,
   "metadata": {},
   "outputs": [],
   "source": []
  },
  {
   "cell_type": "code",
   "execution_count": null,
   "metadata": {},
   "outputs": [],
   "source": []
  },
  {
   "cell_type": "code",
   "execution_count": null,
   "metadata": {},
   "outputs": [],
   "source": [
    "## Mean Density mocks"
   ]
  },
  {
   "cell_type": "code",
   "execution_count": null,
   "metadata": {},
   "outputs": [],
   "source": [
    "region = 'bmzls'\n",
    "print(f'region: {region}')\n",
    "\n",
    "list_nbars = glob(f'/fs/ess/PHS0336/data/lognormal/v0/clustering/nbarmock_*_lrg_{region}_256_noweight.npy')\n",
    "err_mat = read_nbmocks(list_nbars)"
   ]
  },
  {
   "cell_type": "code",
   "execution_count": null,
   "metadata": {},
   "outputs": [],
   "source": [
    "print('# mocks', len(list_nbars))\n",
    "invcov, covmax = get_inv(err_mat, True)"
   ]
  },
  {
   "cell_type": "code",
   "execution_count": null,
   "metadata": {},
   "outputs": [],
   "source": [
    "np.diagonal(covmax)**0.5"
   ]
  },
  {
   "cell_type": "code",
   "execution_count": null,
   "metadata": {},
   "outputs": [],
   "source": [
    "covmax.shape[0]/13"
   ]
  },
  {
   "cell_type": "code",
   "execution_count": null,
   "metadata": {},
   "outputs": [],
   "source": [
    "d_ = np.load(f'/fs/ess/PHS0336/data/lognormal/v0/clustering/nbarmock_1_lrg_bmzls_256_noweight.npy', allow_pickle=True)"
   ]
  },
  {
   "cell_type": "code",
   "execution_count": null,
   "metadata": {},
   "outputs": [],
   "source": [
    "edges = []\n",
    "for d_i in d_:\n",
    "    edges.append(d_i['bin_edges'])"
   ]
  },
  {
   "cell_type": "code",
   "execution_count": null,
   "metadata": {},
   "outputs": [],
   "source": [
    "edge_ = np.array(edges).flatten()"
   ]
  },
  {
   "cell_type": "code",
   "execution_count": null,
   "metadata": {},
   "outputs": [],
   "source": [
    "edge_[27:27+9]"
   ]
  },
  {
   "cell_type": "code",
   "execution_count": null,
   "metadata": {},
   "outputs": [],
   "source": [
    "class Data:\n",
    "    def __init__(self, dt):\n",
    "        self.ng = make_hp(256, dt['hpix'], dt['label'])\n",
    "        self.pix = dt['hpix']\n",
    "        self.nr = make_hp(256, dt['hpix'], dt['fracgood'])\n",
    "        self.ebv = make_hp(256, dt['hpix'], dt['features'][:, 0])"
   ]
  },
  {
   "cell_type": "code",
   "execution_count": null,
   "metadata": {},
   "outputs": [],
   "source": [
    "bm = Data(bmzls)\n",
    "nd = Data(ndecals)"
   ]
  },
  {
   "cell_type": "code",
   "execution_count": null,
   "metadata": {},
   "outputs": [],
   "source": [
    "common = np.intersect1d(bm.pix, nd.pix)"
   ]
  },
  {
   "cell_type": "code",
   "execution_count": null,
   "metadata": {},
   "outputs": [],
   "source": [
    "plt.scatter(common, bm.nr[common], c=bm.ng[common], cmap='jet', vmin=0, vmax=60)\n",
    "plt.scatter(common, nd.nr[common], c=nd.ng[common], cmap='jet', vmin=0, vmax=60)\n",
    "plt.colorbar()"
   ]
  },
  {
   "cell_type": "code",
   "execution_count": null,
   "metadata": {},
   "outputs": [],
   "source": [
    "plt.scatter(np.arange(common.size), bm.ebv[common], 1, alpha=0.3)\n",
    "plt.scatter(np.arange(common.size), nd.ebv[common], 1)\n",
    "plt.scatter(np.arange(common.size), ebvc[common], 1)\n",
    "plt.xlim([-1, 10])"
   ]
  },
  {
   "cell_type": "code",
   "execution_count": null,
   "metadata": {},
   "outputs": [],
   "source": [
    "ngc = np.concatenate([bmzls, ndecals])\n",
    "ngc.size, bmzls.size+ndecals.size"
   ]
  },
  {
   "cell_type": "code",
   "execution_count": null,
   "metadata": {},
   "outputs": [],
   "source": [
    "commons = np.in1d(ngc['hpix'], common)\n",
    "ngc_ = ngc[commons]"
   ]
  },
  {
   "cell_type": "code",
   "execution_count": null,
   "metadata": {},
   "outputs": [],
   "source": []
  },
  {
   "cell_type": "code",
   "execution_count": null,
   "metadata": {},
   "outputs": [],
   "source": [
    "common.size"
   ]
  },
  {
   "cell_type": "code",
   "execution_count": null,
   "metadata": {},
   "outputs": [],
   "source": [
    "commons = np.zeros(common.size, dtype=ngc_.dtype)"
   ]
  },
  {
   "cell_type": "code",
   "execution_count": null,
   "metadata": {},
   "outputs": [],
   "source": [
    "for key in commons.dtype.names:\n",
    "    commons[key] = (ngc_[key][:-1:2]+ngc_[key][1::2]) / 2.0"
   ]
  },
  {
   "cell_type": "code",
   "execution_count": null,
   "metadata": {},
   "outputs": [],
   "source": [
    "ebvc = make_hp(256, commons['hpix'], commons['features'][:, 0])"
   ]
  },
  {
   "cell_type": "code",
   "execution_count": null,
   "metadata": {},
   "outputs": [],
   "source": [
    "ngc_['hpix'][:-1:2][:10]"
   ]
  },
  {
   "cell_type": "code",
   "execution_count": null,
   "metadata": {},
   "outputs": [],
   "source": [
    "ngc_['hpix'][1::2][:10]"
   ]
  },
  {
   "cell_type": "markdown",
   "metadata": {},
   "source": [
    "## Parameter Fitting Mocks\n",
    "### Best Fit on individual mocks"
   ]
  },
  {
   "cell_type": "code",
   "execution_count": null,
   "metadata": {},
   "outputs": [],
   "source": [
    "params = {}\n",
    "\n",
    "for r in ['fullsky', 'bmzls']:\n",
    "    bf = np.load(f'/fs/ess/PHS0336/data/lognormal/v0/mcmc/bestfit_{r}_noweight_fine.npz')\n",
    "\n",
    "    if np.all(bf['success']):print(f'{r} all best fit optimizers termined successfully!')\n",
    "    p = bf['params']\n",
    "    p[:, 2] *= 1.0e7  # scale shotnoise term\n",
    "    \n",
    "    params[r] = p"
   ]
  },
  {
   "cell_type": "code",
   "execution_count": null,
   "metadata": {},
   "outputs": [],
   "source": [
    "fg = corner.corner(params['fullsky'], labels=[r'$f_{NL}$', 'b', '$10^{7}n_{0}$'], truths=[0.0, 1.426, 5.24], truth_color='C2',\n",
    "              **dict(fill_contours=False, plot_density=False, plot_contours=False, data_kwargs={'alpha':0.8}))\n",
    "corner.corner(params['bmzls'], labels=[r'$f_{NL}$', 'b', '$10^{7}n_{0}$'], fig=fg, color='C1',\n",
    "              **dict(fill_contours=False, plot_density=False, plot_contours=False, data_kwargs={'alpha':0.8}))\n",
    "fg.align_labels()\n",
    "\n",
    "ax = fg.get_axes()\n",
    "ax[1].text(0.3, 0.8, 'Full Sky', color='C0', transform=ax[1].transAxes)\n",
    "ax[1].text(0.3, 0.65, 'BASS/MzLS', color='C1', transform=ax[1].transAxes)\n",
    "ax[1].text(0.3, 0.5, 'Truth', color='C2', transform=ax[1].transAxes)\n",
    "# fg.savefig('bestfit_mocks.pdf', bbox_inches='tight')\n",
    "fg.show()"
   ]
  },
  {
   "cell_type": "code",
   "execution_count": null,
   "metadata": {},
   "outputs": [],
   "source": [
    "params['fullsky'].std(axis=0)/params['bmzls'].std(axis=0), np.sqrt(0.125)"
   ]
  },
  {
   "cell_type": "markdown",
   "metadata": {},
   "source": [
    "### MCMC on mean of mocks"
   ]
  },
  {
   "cell_type": "code",
   "execution_count": null,
   "metadata": {},
   "outputs": [],
   "source": [
    "stats = {}\n",
    "\n",
    "stats['BASS/MzLS'], bm = read_chain('/fs/ess/PHS0336/data/lognormal/v0/mcmc/mcmc_lrg_bmzls_noweight_steps10000_walkers50.npz')\n",
    "stats['Full Sky'], fs = read_chain('/fs/ess/PHS0336/data/lognormal/v0/mcmc/mcmc_lrg_fullsky_noweight_steps10000_walkers50.npz')\n",
    "\n",
    "kw = dict(plot_datapoints=False, truths=[0.0, 1.426, 5.24], truth_color='C2',\n",
    "          labels=[r'$f_{NL}$', 'b', '$10^{7}n_{0}$'], plot_density=False,\n",
    "          fill_contours=False, levels=[0.68, 0.95])\n",
    "\n",
    "fig = corner.corner(fs, color='C0', **kw)\n",
    "corner.corner(bm, fig=fig, color='C1', contour_kwargs=dict(linestyles='--'), **kw)\n",
    "ax = fig.get_axes()\n",
    "\n",
    "ax[1].text(0.3, 0.8, 'Full Sky', color='C0', transform=ax[1].transAxes)\n",
    "ax[1].text(0.3, 0.65, 'BASS/MzLS', color='C1', transform=ax[1].transAxes)\n",
    "ax[1].text(0.3, 0.5, 'Truth', color='C2', transform=ax[1].transAxes)\n",
    "\n",
    "# fig.savefig('mcmc_mocks.pdf', bbox_inches='tight')"
   ]
  },
  {
   "cell_type": "code",
   "execution_count": null,
   "metadata": {},
   "outputs": [],
   "source": [
    "pstats = pd.DataFrame(stats,\n",
    "                      index=['MAP [scipy]', 'MAP [chain]', 'Mean [chain]',\n",
    "                             'Median [chain]', '16th', '84th']).T\n",
    "pstats"
   ]
  },
  {
   "cell_type": "code",
   "execution_count": null,
   "metadata": {},
   "outputs": [],
   "source": [
    "(22.65+13.9)/(33.02+104.22), np.sqrt(0.125)"
   ]
  },
  {
   "cell_type": "code",
   "execution_count": null,
   "metadata": {},
   "outputs": [],
   "source": []
  },
  {
   "cell_type": "code",
   "execution_count": null,
   "metadata": {},
   "outputs": [],
   "source": []
  },
  {
   "cell_type": "code",
   "execution_count": null,
   "metadata": {},
   "outputs": [],
   "source": [
    "fs_ = fs.copy()\n",
    "fs_m = fs_.mean(axis=0)\n",
    "fs_ = fs_ - fs_m\n",
    "fs_ /= np.sqrt(0.125)\n",
    "fs_ += fs_m\n",
    "\n",
    "kw = dict(plot_datapoints=False, truths=[0.0, 1.426, 5.24], truth_color='C2',\n",
    "          labels=[r'$f_{NL}$', 'b', '$10^{7}n_{0}$'], plot_density=False,\n",
    "          fill_contours=False, levels=[0.68, 0.95])\n",
    "\n",
    "fig = corner.corner(fs_, color='C0', **kw)\n",
    "corner.corner(bm, fig=fig, color='C1', contour_kwargs=dict(linestyles='--'), **kw)\n",
    "ax = fig.get_axes()\n",
    "\n",
    "ax[1].text(0.3, 0.8, 'Full Sky (scaled)', color='C0', transform=ax[1].transAxes)\n",
    "ax[1].text(0.3, 0.65, 'BASS/MzLS', color='C1', transform=ax[1].transAxes)\n",
    "ax[1].text(0.3, 0.5, 'Truth', color='C2', transform=ax[1].transAxes)\n",
    "\n",
    "# fig.savefig('mcmc_mocks.pdf', bbox_inches='tight')"
   ]
  },
  {
   "cell_type": "code",
   "execution_count": null,
   "metadata": {},
   "outputs": [],
   "source": [
    "fg, ax = plt.subplots(nrows=2, ncols=2, \n",
    "                      figsize=(12, 8), sharex=True, \n",
    "                      sharey='row')\n",
    "fg.subplots_adjust(hspace=0.0, wspace=0.0)\n",
    "ax = ax.flatten()\n",
    "\n",
    "kw = dict(density=True, histtype='step', bins=np.arange(-300, 300, 8))\n",
    "ax[0].hist(fs[:, 0], **kw, label='MCMC Mean')\n",
    "ax[0].hist(params['fullsky'][:, 0], **kw, label='BestFit Individual')\n",
    "ax[0].set_yticklabels([])\n",
    "ax[0].legend(loc=2)\n",
    "ax[0].set(title='Fullsky')\n",
    "ax[2].scatter(*fs[:, :2].T, 1.)\n",
    "ax[2].scatter(*params['fullsky'][:, :2].T, 1.)\n",
    "ax[2].set(xlabel=r'f$_{\\rm NL}$', ylabel='b')\n",
    "\n",
    "\n",
    "kw = dict(density=True, histtype='step', bins=np.arange(-300, 300, 8))\n",
    "ax[1].hist(bm[:, 0], **kw, label='MCMC Mean')\n",
    "ax[1].hist(params['bmzls'][:, 0], **kw, label='BestFit Individual')\n",
    "ax[1].set_yticklabels([])\n",
    "ax[1].set(title='BMzLS')\n",
    "ax[1].legend(loc=2)\n",
    "ax[3].scatter(*bm[:, :2].T, 1.)\n",
    "ax[3].scatter(*params['bmzls'][:, :2].T, 1.)\n",
    "ax[3].set(xlabel=r'f$_{\\rm NL}$', ylabel='b')"
   ]
  },
  {
   "cell_type": "markdown",
   "metadata": {},
   "source": [
    "## Model Spectrum"
   ]
  },
  {
   "cell_type": "code",
   "execution_count": null,
   "metadata": {},
   "outputs": [],
   "source": [
    "bm = np.load('/fs/ess/PHS0336/data/lognormal/v0/mcmc/mcmc_lrg_bmzls_noweight_steps10000_walkers50.npz')\n",
    "\n",
    "zbdndz = init_sample(kind='lrg')\n",
    "\n",
    "# read survey geometry\n",
    "dt = ft.read(f'/fs/ess/PHS0336/data/rongpu/imaging_sys/tables/0.57.0/nlrg_features_bmzls_256.fits')\n",
    "w = np.zeros(12*256*256)\n",
    "w[dt['hpix']] = 1.0\n",
    "weight = hp.ud_grade(w, 1024)\n",
    "mask = weight > 0.5\n",
    "\n",
    "model = Spectrum()\n",
    "model.add_tracer(*zbdndz, p=1.6)\n",
    "model.add_kernels(np.arange(2000))\n",
    "\n",
    "wind = WindowSHT(weight, mask, np.arange(2048), ngauss=2048)\n",
    "\n",
    "\n",
    "fnl, b, noise = bm['best_fit']\n",
    "el_g = np.arange(2000)\n",
    "cl_bf = model(el_g, fnl=fnl, b=b, noise=noise)\n",
    "        \n",
    "cl_bfw = wind.convolve(el_g, cl_bf)\n",
    "lmax = max(el_g)+1\n",
    "cl_bfwic = wind.apply_ic(cl_bfw[:lmax])\n",
    "\n",
    "cl_ = np.load('/fs/ess/PHS0336/data/lognormal/v0/clustering/clmock_bmzls_noweight_mean_fine.npz')\n",
    "el_edges = cl_['el_edges']\n",
    "el = cl_['el_bin']\n",
    "cl = cl_['cl']\n",
    "\n",
    "cl_models = {}\n",
    "for name, cl_i in zip(['Best Fit Model', '+ Window Convolution', '+ Integral Constraint'],\n",
    "                      [cl_bf, cl_bfw[:2000], cl_bfwic[:2000]]):\n",
    "    \n",
    "    cl_models[name] = histogram_cell(el_g, cl_i, bins=el_edges)"
   ]
  },
  {
   "cell_type": "code",
   "execution_count": null,
   "metadata": {},
   "outputs": [],
   "source": [
    "fig = plt.figure(figsize=(5, 5), constrained_layout=False)\n",
    "gs = GridSpec(3, 1, figure=fig)\n",
    "\n",
    "ax1 = fig.add_subplot(gs[:2, 0])\n",
    "ax2 = fig.add_subplot(gs[2, 0])\n",
    "\n",
    "f = 1.0e5\n",
    "lw = [0.8, 0.8, 3.]\n",
    "ls = ['-', '-', '-']\n",
    "al = [1., 1., 0.7]\n",
    "for i, (n, v) in enumerate(cl_models.items()):\n",
    "    kw = dict(label=n, lw=lw[i], ls=ls[i], alpha=al[i])\n",
    "    ax1.plot(v[0], f*v[1], **kw)\n",
    "    ax2.plot(el, v[1]/cl, **kw)\n",
    "    \n",
    "ax1.plot(el, f*cl, 'C0--', label='Mean of Mocks')\n",
    "ax2.axhline(1.0, color='C0', ls='--')\n",
    "\n",
    "\n",
    "ax1.legend(ncol=1)\n",
    "ax1.set(xscale='log', ylabel=r'$10^{5}C_{\\ell}$')\n",
    "ax1.tick_params(labelbottom=False)\n",
    "ax2.set(xscale='log', xlabel=r'$\\ell$', ylabel='Ratio')\n",
    "ax2.set_xlim(ax1.get_xlim())\n",
    "ax2.set(ylim=(0.94, 1.11))\n",
    "for hline in [0.98, 1.02]:\n",
    "    ax2.axhline(hline, ls=':', lw=1)\n",
    "\n",
    "fig.subplots_adjust(hspace=0.0, wspace=0.02)\n",
    "fig.align_labels()\n",
    "\n",
    "# fig.savefig('model_window.pdf', bbox_inches='tight')"
   ]
  },
  {
   "cell_type": "markdown",
   "metadata": {},
   "source": [
    "## Create C_ell for mocks with fNL != 0\n",
    "Create cosmologies with fNL to test the pipeline"
   ]
  },
  {
   "cell_type": "code",
   "execution_count": null,
   "metadata": {
    "scrolled": true
   },
   "outputs": [],
   "source": [
    "z, b, dNdz = init_sample(kind='lrg', plot=True)\n",
    "\n",
    "model = Spectrum()\n",
    "model.add_tracer(z, b, dNdz, p=1.0)\n",
    "model.add_kernels(np.arange(2000))"
   ]
  },
  {
   "cell_type": "code",
   "execution_count": null,
   "metadata": {},
   "outputs": [],
   "source": [
    "fg, ax = plt.subplots()\n",
    "\n",
    "\n",
    "el = np.arange(2000)\n",
    "for fnl, name in zip([-200, -100, 0, 100, 200],\n",
    "                     ['ne200', 'ne100', 'zero', 'po100', 'po200']):\n",
    "    \n",
    "    cl_raw = model(el, fnl=fnl, b=1.43)\n",
    "    ax.plot(cl_raw, label='%.1f'%fnl)\n",
    "    np.savetxt(f'/users/PHS0336/medirz90/github/flask/data/desiCl{name}-f1z1f1z1.dat', \n",
    "               np.column_stack([el, cl_raw]), header='# el -- Cel')\n",
    "    \n",
    "ax.set(xlim=(-1, 22), yscale='log', xlabel=r'$\\ell$', \n",
    "       ylim=(2.0e-7, 3.0e-2), ylabel=r'$C_\\ell$')\n",
    "ax.legend(ncol=2)\n",
    "#bbox_to_anchor=(1.5, 1.))\n",
    "#ax[1].set(xlim=(1, 700))"
   ]
  },
  {
   "cell_type": "markdown",
   "metadata": {},
   "source": [
    "## Test Window with fNL mocks"
   ]
  },
  {
   "cell_type": "code",
   "execution_count": null,
   "metadata": {},
   "outputs": [],
   "source": [
    "zbdndz = init_sample(kind='lrg')\n",
    "\n",
    "# read survey geometry\n",
    "dt = ft.read(f'/fs/ess/PHS0336/data/rongpu/imaging_sys/tables/0.57.0/nlrg_features_bmzls_256.fits')\n",
    "w = np.zeros(12*256*256)\n",
    "w[dt['hpix']] = 1.0\n",
    "weight = hp.ud_grade(w, 1024)\n",
    "mask = weight > 0.5\n",
    "\n",
    "model = SurveySpectrum()\n",
    "model.add_tracer(*zbdndz, p=1.0)\n",
    "model.add_kernels(np.arange(2000))"
   ]
  },
  {
   "cell_type": "code",
   "execution_count": null,
   "metadata": {},
   "outputs": [],
   "source": [
    "model.add_window(weight, mask, np.arange(2048), ngauss=2048)"
   ]
  },
  {
   "cell_type": "code",
   "execution_count": null,
   "metadata": {},
   "outputs": [],
   "source": [
    "cl_fs = np.load('/fs/ess/PHS0336/data/lognormal/v2/clustering/clmock_po100_bmzls.npy')\n",
    "# cl_bm = np.load('/fs/ess/PHS0336/data/lognormal/v1/clustering/clmock_lrg-ne200_bmzls.npy')"
   ]
  },
  {
   "cell_type": "code",
   "execution_count": null,
   "metadata": {},
   "outputs": [],
   "source": [
    "fg, ax = plt.subplots()\n",
    "\n",
    "el = np.arange(768)\n",
    "\n",
    "for cl_i, name_i in zip([cl_fs], \n",
    "                        ['Fullsky']):\n",
    "    \n",
    "    ln, = ax.plot(cl_i.mean(axis=0), label=name_i, lw=0.8)\n",
    "    ax.fill_between(el, *np.percentile(cl_i, [16, 84], axis=0), \n",
    "                    color=ln.get_color(), alpha=0.1)\n",
    "    \n",
    "    \n",
    "ax.plot(el, model(el, fnl=40, b=1.43, noise=5.0e-7), label='Model', lw=3, ls='-', zorder=-10)\n",
    "ax.legend()\n",
    "ax.set(xscale='log', yscale='log', ylim=(1.0e-7, 1.0e-3),\n",
    "      xlabel=r'$\\ell$', ylabel=r'C$_{\\ell}$')"
   ]
  },
  {
   "cell_type": "code",
   "execution_count": null,
   "metadata": {},
   "outputs": [],
   "source": [
    "from sympy.physics.wigner import wigner_3j"
   ]
  },
  {
   "cell_type": "code",
   "execution_count": null,
   "metadata": {},
   "outputs": [],
   "source": [
    "nside = 256\n",
    "weight, mask = read_window('bmzls', nside=nside)"
   ]
  },
  {
   "cell_type": "code",
   "execution_count": null,
   "metadata": {},
   "outputs": [],
   "source": [
    "from scipy.optimize import curve_fit\n",
    "\n",
    "def model(l, *p):\n",
    "    return p[0]*np.log10(l)+p[1]\n",
    "\n",
    "def get_cl_wind(weight, mask, plot=False, nside=256):\n",
    "\n",
    "    weight[~mask] = hp.UNSEEN\n",
    "    cl_wind = hp.anafast(weight, lmax=2*nside)\n",
    "\n",
    "    el_p = 10\n",
    "    el = np.arange(5000)\n",
    "    is_small = el < el_p\n",
    "\n",
    "    lmin = 10\n",
    "    lmax = 2*nside-1\n",
    "    x = np.arange(lmin, lmax+1)\n",
    "    y = cl_wind[lmin:lmax+1]\n",
    "    res = curve_fit(model, x, np.log10(y), p0=[1, 1])\n",
    "\n",
    "    cl_window = np.zeros(el.size)\n",
    "    cl_window[:el_p] = cl_wind[:el_p]\n",
    "    cl_window[~is_small] = 10**model(el[~is_small], *res[0])\n",
    "    \n",
    "    if plot:\n",
    "        x_g = np.arange(el_p, 5000)\n",
    "        plt.plot(cl_wind, alpha=0.2, lw=4)\n",
    "        plt.plot(cl_window, alpha=0.4, lw=2, ls='-')\n",
    "        plt.plot(x_g, 10**model(x_g, *res[0]), lw=1)\n",
    "        plt.xscale('log')\n",
    "        plt.yscale('log')    \n",
    "        \n",
    "    return cl_window"
   ]
  },
  {
   "cell_type": "code",
   "execution_count": null,
   "metadata": {},
   "outputs": [],
   "source": [
    "cl_w = get_cl_wind(weight, mask, plot=True)"
   ]
  },
  {
   "cell_type": "code",
   "execution_count": null,
   "metadata": {},
   "outputs": [],
   "source": [
    "l1 = np.arange(31)\n",
    "l2 = np.arange(100)\n",
    "l3 = np.arange(200)\n",
    "\n",
    "mixm = np.zeros((l1.size, l2.size))\n",
    "for l1_ in l1:\n",
    "    print('.', end='')\n",
    "    \n",
    "    for l2_ in l2:\n",
    "        l3sum_ = 0.0        \n",
    "        for l3_ in l3:\n",
    "            l3sum_ += (2*l3_+1)*cl_w[l3_]*float(wigner_3j(l1_, l2_, l3_, 0, 0, 0))**2        \n",
    "        mixm[l1_, l2_] = l3sum_*(2*l2_+1)/(4.*np.pi)\n",
    "        \n",
    "\n",
    "# res = float()\n",
    "mixm"
   ]
  },
  {
   "cell_type": "code",
   "execution_count": null,
   "metadata": {},
   "outputs": [],
   "source": [
    "fsky = mask.mean()\n",
    "fsky"
   ]
  },
  {
   "cell_type": "code",
   "execution_count": null,
   "metadata": {},
   "outputs": [],
   "source": [
    "plt.figure(figsize=(8, 5))\n",
    "\n",
    "for ell in [2, 5, 10, 20, 30]:\n",
    "    y_ = mixm[ell, :]/fsky\n",
    "    line,  = plt.plot(y_)\n",
    "    plt.text(np.argmax(y_)*1.05, y_.max()*1.01, r'$\\ell$=%d'%ell, color=line.get_color())\n",
    "    \n",
    "plt.ylabel(r'M$_{\\ell, \\ell^{*}}$')\n",
    "plt.xlabel(r'$\\ell^{*}$')\n",
    "plt.ylim(-0.01, .25)\n",
    "# plt.legend()\n",
    "plt.grid()"
   ]
  },
  {
   "cell_type": "code",
   "execution_count": null,
   "metadata": {},
   "outputs": [],
   "source": [
    "plt.figure(figsize=(8, 5))\n",
    "\n",
    "for ell in [2, 5, 10, 20, 30]:\n",
    "    y_ = mixm[ell, :]/fsky\n",
    "    line,  = plt.plot(y_)\n",
    "    plt.text(np.argmax(y_)*1.05, y_.max()*1.01, r'$\\ell$=%d'%ell, color=line.get_color())\n",
    "    \n",
    "plt.ylabel(r'M$_{\\ell, \\ell^{*}}$')\n",
    "plt.xlabel(r'$\\ell^{*}$')\n",
    "plt.ylim(-0.01, .25)\n",
    "# plt.legend()\n",
    "plt.grid()\n",
    "plt.xlim(xmax=60)"
   ]
  },
  {
   "cell_type": "code",
   "execution_count": null,
   "metadata": {},
   "outputs": [],
   "source": [
    "el = np.arange(1000)\n",
    "wind = WindowSHT(weight, mask, el)"
   ]
  },
  {
   "cell_type": "code",
   "execution_count": null,
   "metadata": {},
   "outputs": [],
   "source": [
    "wind.read_rr('../scripts/bmzls_rr_window_256.npy', mask.sum(), 12*256*256)"
   ]
  },
  {
   "cell_type": "code",
   "execution_count": null,
   "metadata": {},
   "outputs": [],
   "source": [
    "x_ = np.degrees(np.arccos(wind.x))\n",
    "\n",
    "plt.plot(x_, wind.xi_mask, alpha=0.5, label='SHT Window')\n",
    "plt.plot(x_, wind.xi_mask_smooth, label='SHT+RR Window')\n",
    "                \n",
    "plt.xlabel(r'$\\theta$')\n",
    "plt.ylabel(r'$\\omega$')\n",
    "plt.xscale('symlog', linethreshx=1)\n",
    "plt.legend(loc='lower left')#, title='BASS/MzLS')\n",
    "# plt.axes([0.4,  ,0.45, 0.45, 0.35])\n",
    "\n",
    "\n",
    "# plt.plot(x_, wind.xi_mask, alpha=0.5)\n",
    "# plt.plot(x_, wind.xi_mask_smooth)\n",
    "# plt.yscale('log')\n",
    "# plt.ylim(-1.0e-6, 1.0e-5)\n",
    "# plt.xlim(100, 190)\n",
    "# plt.axis([90, 190, -4.0e-8, 3.5e-8])"
   ]
  },
  {
   "cell_type": "code",
   "execution_count": null,
   "metadata": {
    "scrolled": true
   },
   "outputs": [],
   "source": [
    "z, b, dNdz = init_sample(kind='lrg')\n",
    "\n",
    "model = Spectrum()\n",
    "model.add_tracer(z, b, dNdz, p=1.6)\n",
    "model.add_kernels(np.arange(2000))"
   ]
  },
  {
   "cell_type": "code",
   "execution_count": null,
   "metadata": {},
   "outputs": [],
   "source": [
    "fg, ax = plt.subplots(ncols=3, sharey=True, sharex=True, figsize=(18, 4))\n",
    "fg.subplots_adjust(wspace=0.0)\n",
    "\n",
    "el = np.arange(2000)\n",
    "for fnl in [-200, 0, 200]:\n",
    "    \n",
    "    cl_raw = model(el, fnl=fnl, b=1.5)\n",
    "    cl_w = wind.convolve(el, cl_raw)\n",
    "    cl_w2 = mixm.dot(cl_raw[:100])/0.13\n",
    "    \n",
    "    ax[0].plot(cl_raw, label='%.1f'%fnl)\n",
    "    ax[1].plot(cl_w)\n",
    "    ax[2].plot(cl_w2)\n",
    "    \n",
    "ax[0].set(xlim=(-1, 22), yscale='log', ylim=(2.0e-7, 3.0e-2), ylabel=r'$C_\\ell$')\n",
    "\n",
    "titles = ['Model', '+ Window Convolution (SHT)', '+ Window Convolution (Mixing Mat)']\n",
    "for i, axi in enumerate(ax):\n",
    "    axi.set_title(titles[i])\n",
    "    axi.set_xlabel(r'$\\ell$')\n",
    "ax[0].legend(ncol=2)#bbox_to_anchor=(1.5, 1.))\n",
    "#ax[1].set(xlim=(1, 700))"
   ]
  },
  {
   "cell_type": "code",
   "execution_count": null,
   "metadata": {},
   "outputs": [],
   "source": [
    "fg, ax = plt.subplots(ncols=3, sharey=True, sharex=True, figsize=(18, 4))\n",
    "fg.subplots_adjust(wspace=0.0)\n",
    "\n",
    "el = np.arange(2000)\n",
    "for fnl in [-200, -100, -50, 0, 50, 100, 200]:\n",
    "    cl_raw = model(el, fnl=fnl, b=1.5)\n",
    "    cl_w = wind.convolve(el, cl_raw)\n",
    "    cl_wic = wind.apply_ic(cl_w[:700])\n",
    "    \n",
    "    ax[0].plot(cl_raw, label='%.1f'%fnl)\n",
    "    ax[1].plot(cl_w)\n",
    "    ax[2].plot(cl_wic)\n",
    "    \n",
    "ax[0].set(xlim=(-1, 22), yscale='log', ylim=(2.0e-7, 3.0e-2), ylabel=r'$C_\\ell$')\n",
    "\n",
    "titles = ['Model', '+ Window Convolution', '+ Integral Constraint']\n",
    "for i, axi in enumerate(ax):\n",
    "    axi.set_title(titles[i])\n",
    "    axi.set_xlabel(r'$\\ell$')\n",
    "ax[0].legend(ncol=2)#bbox_to_anchor=(1.5, 1.))\n",
    "#ax[1].set(xlim=(1, 700))"
   ]
  },
  {
   "cell_type": "code",
   "execution_count": null,
   "metadata": {},
   "outputs": [],
   "source": [
    "fg, ax = plt.subplots(ncols=3, sharey=True, sharex=True, figsize=(18, 4))\n",
    "fg.subplots_adjust(wspace=0.0)\n",
    "\n",
    "el = np.arange(2000)\n",
    "for fnl in [-200, -100, -50, 0, 50, 100, 200]:\n",
    "    cl_raw = model(el, fnl=fnl, b=1.5)\n",
    "    cl_w = wind.convolve(el, cl_raw)\n",
    "    cl_wic = wind.apply_ic(cl_w[:700])\n",
    "    \n",
    "    ax[0].plot(cl_raw, label='%.1f'%fnl)\n",
    "    ax[1].plot(cl_w)\n",
    "    ax[2].plot(cl_wic)\n",
    "    \n",
    "ax[0].set(xlim=(-1, 22), yscale='log', ylim=(2.0e-7, 3.0e-2), ylabel=r'$C_\\ell$')\n",
    "\n",
    "titles = ['Model', '+ Window Convolution', '+ Integral Constraint']\n",
    "for i, axi in enumerate(ax):\n",
    "    axi.set_title(titles[i])\n",
    "    axi.set_xlabel(r'$\\ell$')\n",
    "ax[0].legend(ncol=2)#bbox_to_anchor=(1.5, 1.))\n",
    "#ax[1].set(xlim=(1, 700))"
   ]
  },
  {
   "cell_type": "code",
   "execution_count": null,
   "metadata": {},
   "outputs": [],
   "source": [
    "fg, ax = plt.subplots(ncols=3, sharey=True, sharex=True, figsize=(18, 4))\n",
    "fg.subplots_adjust(wspace=0.0)\n",
    "\n",
    "el = np.arange(2000)\n",
    "for fnl in [-200, -100, -50, 0, 50, 100, 200]:\n",
    "    cl_raw = model(el, fnl=fnl, b=1.5)\n",
    "    cl_w = wind.convolve(el, cl_raw, with_smooth=True)\n",
    "    cl_wic = wind.apply_ic(cl_w[:700])\n",
    "    \n",
    "    ax[0].plot(cl_raw, label='%.1f'%fnl)\n",
    "    ax[1].plot(cl_w)\n",
    "    ax[2].plot(cl_wic)\n",
    "    \n",
    "ax[0].set(xlim=(-1, 22), yscale='log', ylim=(2.0e-7, 3.0e-2), ylabel=r'$C_\\ell$')\n",
    "\n",
    "titles = ['Model', '+ Window Convolution', '+ Integral Constraint']\n",
    "for i, axi in enumerate(ax):\n",
    "    axi.set_title(titles[i])\n",
    "    axi.set_xlabel(r'$\\ell$')\n",
    "ax[0].legend(ncol=2)#bbox_to_anchor=(1.5, 1.))\n",
    "#ax[1].set(xlim=(1, 700))"
   ]
  },
  {
   "cell_type": "code",
   "execution_count": null,
   "metadata": {},
   "outputs": [],
   "source": []
  },
  {
   "cell_type": "code",
   "execution_count": null,
   "metadata": {},
   "outputs": [],
   "source": [
    "fig, ax = plt.subplots(ncols=2, figsize=(12, 4), sharey=True)\n",
    "fig.subplots_adjust(wspace=0.0)\n",
    "\n",
    "s = np.degrees(np.arccos(wind.x))\n",
    "\n",
    "for i, (a, fnl) in enumerate(zip(ax, [0, -200])):\n",
    "    \n",
    "    cl_raw = model(el, fnl=fnl, b=1.5)\n",
    "    xi_raw = wind.cl2xi(el, cl_raw)\n",
    "\n",
    "    a.plot(s, xi_raw, label='Model')\n",
    "    a.plot(s, wind.xi_mask_smooth, label='Window')\n",
    "    a.plot(s, wind.xi_mask_smooth*xi_raw, label='Model X Window')\n",
    "\n",
    "    a.legend(loc='upper right')\n",
    "    a.set_xlabel(r'$\\theta$ [deg]')\n",
    "    a.set_title(r'f$_{\\rm NL}$=%.f'%fnl)\n",
    "    a.set_yscale('symlog', linthreshy=1.0e-4)\n",
    "    \n",
    "ax[0].set_ylabel(r'$\\omega$')    "
   ]
  },
  {
   "cell_type": "code",
   "execution_count": null,
   "metadata": {},
   "outputs": [],
   "source": [
    "fig, ax = plt.subplots(ncols=2, figsize=(12, 4), sharey=True)\n",
    "fig.subplots_adjust(wspace=0.0)\n",
    "\n",
    "s = np.degrees(np.arccos(wind.x))\n",
    "\n",
    "for i, (a, fnl) in enumerate(zip(ax, [0, -200])):\n",
    "    \n",
    "    cl_raw = model(el, fnl=fnl, b=1.5)\n",
    "    cl_raw[0] = 0\n",
    "    cl_raw[1] = 0\n",
    "    xi_raw = wind.cl2xi(el, cl_raw)\n",
    "\n",
    "    a.plot(s, xi_raw, label='Model')\n",
    "    a.plot(s, wind.xi_mask_smooth, label='Window')\n",
    "    a.plot(s, wind.xi_mask_smooth*xi_raw, label='Model X Window')\n",
    "\n",
    "    a.legend(loc='upper right')\n",
    "    a.set_xlabel(r'$\\theta$ [deg]')\n",
    "    a.set_title(r'f$_{\\rm NL}$=%.f'%fnl)\n",
    "    a.set_yscale('symlog', linthreshy=1.0e-4)\n",
    "    \n",
    "ax[0].set_ylabel(r'$\\omega$')    "
   ]
  },
  {
   "cell_type": "code",
   "execution_count": null,
   "metadata": {},
   "outputs": [],
   "source": [
    "fg, ax = plt.subplots(ncols=3, sharey=True, sharex=True, figsize=(18, 4))\n",
    "fg.subplots_adjust(wspace=0.0)\n",
    "\n",
    "el = np.arange(2000)\n",
    "for fnl in [-200, -100, -50, 0, 50, 100, 200]:\n",
    "    cl_raw = model(el, fnl=fnl, b=1.5)\n",
    "    cl_raw[:2] = 0.0\n",
    "    cl_w = wind.convolve(el, cl_raw, with_smooth=True)\n",
    "    cl_wic = wind.apply_ic(cl_w[:700])\n",
    "    \n",
    "    ax[0].plot(cl_raw, label='%.1f'%fnl)\n",
    "    ax[1].plot(cl_w)\n",
    "    ax[2].plot(cl_wic)\n",
    "    \n",
    "ax[0].set(xlim=(-1, 22), yscale='log', ylim=(2.0e-7, 3.0e-2), ylabel=r'$C_\\ell$')\n",
    "\n",
    "titles = ['Model', '+ Window Convolution', '+ Integral Constraint']\n",
    "for i, axi in enumerate(ax):\n",
    "    axi.set_title(titles[i])\n",
    "    axi.set_xlabel(r'$\\ell$')\n",
    "ax[0].legend(ncol=2)#bbox_to_anchor=(1.5, 1.))\n",
    "#ax[1].set(xlim=(1, 700))"
   ]
  },
  {
   "cell_type": "code",
   "execution_count": null,
   "metadata": {},
   "outputs": [],
   "source": [
    "cl_raw = model(el, fnl=fnl, b=1.5)\n",
    "xi_raw = wind.cl2xi(el, cl_raw)\n",
    "cl_raw2 = wind.xi2cl(xi_raw)"
   ]
  },
  {
   "cell_type": "code",
   "execution_count": null,
   "metadata": {},
   "outputs": [],
   "source": [
    "plt.plot(cl_raw, label=r'Model C$_{\\ell}$')\n",
    "plt.plot(cl_raw2, label='Model C$_{\\ell}$ -> Model $\\omega$ -> Model C$_{\\ell}$')\n",
    "\n",
    "plt.legend()\n",
    "plt.loglog()\n",
    "plt.xlabel(r'$\\ell$')\n",
    "plt.ylabel(r'C$_{\\ell}$')"
   ]
  },
  {
   "cell_type": "code",
   "execution_count": null,
   "metadata": {},
   "outputs": [],
   "source": [
    "abs(cl_raw[:1100]/cl_raw2).max()"
   ]
  },
  {
   "cell_type": "code",
   "execution_count": null,
   "metadata": {},
   "outputs": [],
   "source": [
    "region = 'bmzls'\n",
    "path_cov = '/fs/ess/PHS0336/data/lognormal/v0/clustering/clmock_bmzls_noweight_mean_fine.npz'  \n",
    "cl_cov_ = np.load(path_cov)\n",
    "\n",
    "el_edges = cl_cov_['el_edges']\n",
    "icov = np.linalg.inv(cl_cov_['clcov'])\n",
    "\n",
    "def read_inputs(path_cl, path_cov):\n",
    "    \n",
    "    dcl_obs = np.load(path_cl)\n",
    "    dclcov_obs = np.load(path_cov)\n",
    "    assert np.array_equal(dcl_obs['el_edges'], dclcov_obs['el_edges'])\n",
    "    \n",
    "    el_edges = dcl_obs['el_edges']\n",
    "    cl_obs = dcl_obs['cl']\n",
    "    invcov_obs = np.linalg.inv(dclcov_obs['clcov'])\n",
    "\n",
    "    return el_edges, cl_obs, invcov_obs\n",
    "\n",
    "def read_mask(region):\n",
    "\n",
    "    import fitsio as ft\n",
    "    import healpy as hp\n",
    "    from lssutils.utils import make_hp\n",
    "\n",
    "    if region in ['bmzls', 'ndecals', 'sdecals']:\n",
    "        # read survey geometry\n",
    "        data_path = '/fs/ess/PHS0336/data/'    \n",
    "        dt = ft.read(f'{data_path}/rongpu/imaging_sys/tables/v3/nlrg_features_{region}_256.fits')\n",
    "        mask_  = make_hp(256, dt['hpix'], 1.0) > 0.5\n",
    "        mask   = hp.ud_grade(mask_, 1024)\n",
    "    else:\n",
    "        # full sky\n",
    "        mask = np.ones(12*1024*1024, '?')\n",
    "\n",
    "    return mask*1.0, mask\n",
    "\n"
   ]
  },
  {
   "cell_type": "markdown",
   "metadata": {},
   "source": [
    "## Best Fit"
   ]
  },
  {
   "cell_type": "code",
   "execution_count": null,
   "metadata": {},
   "outputs": [],
   "source": [
    "cl_mocks = np.load('/fs/ess/PHS0336/data/lognormal/v0/clustering/clmock_fullsky.npy')\n",
    "cl_mocks"
   ]
  },
  {
   "cell_type": "code",
   "execution_count": null,
   "metadata": {},
   "outputs": [],
   "source": [
    "cl_mocks.shape"
   ]
  },
  {
   "cell_type": "code",
   "execution_count": null,
   "metadata": {},
   "outputs": [],
   "source": [
    "region = 'fullsky'\n",
    "path_cov = '/fs/ess/PHS0336/data/lognormal/v0/clustering/clmock_fullsky_cov.npz'  \n",
    "cl_cov_ = np.load(path_cov)\n",
    "\n",
    "el_edges = cl_cov_['el_edges']\n",
    "icov = np.linalg.inv(cl_cov_['clcov'])\n",
    "\n",
    "weight, mask = read_mask(region)"
   ]
  },
  {
   "cell_type": "code",
   "execution_count": null,
   "metadata": {},
   "outputs": [],
   "source": [
    "z, b, dNdz = init_sample(kind='lrg')\n",
    "model = SurveySpectrum()\n",
    "model.add_tracer(z, b, dNdz, p=1.6)\n",
    "model.add_kernels(model.el_model)\n",
    "model.add_window(weight, mask, np.arange(2048), ngauss=2048)\n",
    "print(mask.mean())"
   ]
  },
  {
   "cell_type": "code",
   "execution_count": null,
   "metadata": {},
   "outputs": [],
   "source": [
    "params = []\n",
    "el = np.arange(cl_mocks.shape[1])\n",
    "for i in range(100):\n",
    "    \n",
    "    cl_i = cl_mocks[i, :]\n",
    "\n",
    "    cl_obs = histogram_cell(el, cl_i, bins=el_edges)[1]\n",
    "\n",
    "    lg = Posterior(model, cl_obs, icov, el_edges)\n",
    "    def neglogpost(foo):\n",
    "        return -lg.logpost(foo)\n",
    "\n",
    "    t0 = time()\n",
    "    res = minimize(neglogpost, [1.0, 1.0, 1.0e-7], method='Powell')\n",
    "    t1 = time()\n",
    "    if i==0:\n",
    "        print(f'best fit: {res.x}, -logprob: {res.fun:.3f} #data: {cl_obs.size} in {t1-t0:.2f} sec')\n",
    "\n",
    "    params.append(res.x)\n",
    "    print('.', end='')"
   ]
  },
  {
   "cell_type": "code",
   "execution_count": null,
   "metadata": {},
   "outputs": [],
   "source": [
    "params = np.array(params)\n",
    "params.shape"
   ]
  },
  {
   "cell_type": "code",
   "execution_count": null,
   "metadata": {},
   "outputs": [],
   "source": [
    "plt.scatter(params[:, 0], params[:, 2]*1.0e7)\n",
    "plt.axhline(np.mean(params[:, 2]*1.0e7), ls='-', color='r')\n",
    "plt.axvline(np.mean(params[:, 0]), ls='-', color='r')\n",
    "plt.xlabel('fNL')\n",
    "plt.ylabel(r'10$^7$ noise')"
   ]
  },
  {
   "cell_type": "code",
   "execution_count": null,
   "metadata": {},
   "outputs": [],
   "source": [
    "plt.scatter(params[:, 0], params[:, 1]*1.0e7)\n",
    "plt.axhline(np.mean(params[:, 1]*1.0e7), ls='-', color='r')\n",
    "plt.axvline(np.mean(params[:, 0]), ls='-', color='r')\n",
    "plt.xlabel('fNL')\n",
    "plt.ylabel(r'10$^7$ noise')"
   ]
  },
  {
   "cell_type": "code",
   "execution_count": null,
   "metadata": {},
   "outputs": [],
   "source": [
    "np.mean(params, axis=0), np.std(params, axis=0)"
   ]
  },
  {
   "cell_type": "markdown",
   "metadata": {},
   "source": [
    "## Fisher"
   ]
  },
  {
   "cell_type": "code",
   "execution_count": null,
   "metadata": {},
   "outputs": [],
   "source": [
    "region = 'bmzls'\n",
    "path_cl = '/fs/ess/PHS0336/data/lognormal/v0/clustering/clmock_bmzls_noweight_mean.npz'\n",
    "path_cov = '/fs/ess/PHS0336/data/lognormal/v0/clustering/clmock_bmzls_noweight_cov.npz'  \n",
    "\n",
    "el_edges, cl_obs, invcov_obs = read_inputs(path_cl, path_cov)\n",
    "cov_obs = np.linalg.inv(invcov_obs)\n",
    "weight, mask = read_mask(region)\n",
    "\n",
    "z, b, dNdz = init_sample(kind='lrg')\n",
    "model = SurveySpectrum()\n",
    "model.add_tracer(z, b, dNdz, p=1.6)\n",
    "model.add_kernels(model.el_model)\n",
    "model.add_window(weight, mask, np.arange(2048), ngauss=2048)  "
   ]
  },
  {
   "cell_type": "code",
   "execution_count": null,
   "metadata": {},
   "outputs": [],
   "source": [
    "cl_ = np.load(path_cl)\n",
    "el_bin = cl_['el_bin']\n",
    "el_edges = cl_['el_edges']\n",
    "cl_cov = np.load(path_cov)\n",
    "cov = cl_cov['clcov']\n",
    "cl_cov.files"
   ]
  },
  {
   "cell_type": "code",
   "execution_count": null,
   "metadata": {},
   "outputs": [],
   "source": [
    "noise = 5.24256916e-07\n",
    "fnl = 0.0\n",
    "eps = 1.0e-8\n",
    "el_ = np.arange(el_edges.max()+1)\n",
    "\n",
    "\n",
    "mp_ = model(el_, fnl+eps, noise=noise)\n",
    "mn_ = model(el_, fnl-eps, noise=noise)\n",
    "el_b, mp = histogram_cell(el_, mp_, bins=el_edges)\n",
    "mn = histogram_cell(el_, mn_, bins=el_edges)[1]\n",
    "assert np.array_equal(el_b, el_bin)\n",
    "\n",
    "dcl_f = (mp-mn)/(2*eps)\n",
    "\n",
    "mp_ = model(el_, fnl=fnl, noise=noise+eps)\n",
    "mn_ = model(el_, fnl=fnl, noise=noise-eps)\n",
    "el_b, mp = histogram_cell(el_, mp_, bins=el_edges)\n",
    "mn = histogram_cell(el_, mn_, bins=el_edges)[1]\n",
    "\n",
    "dcl_n = (mp-mn)/(2*eps)"
   ]
  },
  {
   "cell_type": "code",
   "execution_count": null,
   "metadata": {},
   "outputs": [],
   "source": [
    "dcl_l = [dcl_f, dcl_n]\n",
    "\n",
    "icov = np.linalg.inv(cov)\n",
    "fisher = np.zeros((2, 2))\n",
    "for i, dcl_i in enumerate(dcl_l):\n",
    "    for j, dcl_j in enumerate(dcl_l):\n",
    "        fisher[i, j] = dcl_i.dot(icov.dot(dcl_j))\n",
    "fisher"
   ]
  },
  {
   "cell_type": "code",
   "execution_count": null,
   "metadata": {},
   "outputs": [],
   "source": [
    "ifisher = np.linalg.inv(fisher)\n",
    "ifisher"
   ]
  },
  {
   "cell_type": "code",
   "execution_count": null,
   "metadata": {},
   "outputs": [],
   "source": [
    "pdf = lambda x, mu, sig:np.exp(-0.5*(x-mu)**2/sig**2)/np.sqrt(2.*np.pi*sig**2)"
   ]
  },
  {
   "cell_type": "code",
   "execution_count": null,
   "metadata": {},
   "outputs": [],
   "source": [
    "from scipy.stats import norm"
   ]
  },
  {
   "cell_type": "code",
   "execution_count": null,
   "metadata": {},
   "outputs": [],
   "source": [
    "sig = np.sqrt(ifisher[0, 0])\n",
    "print(sig)\n",
    "fnl_g = np.linspace(-200, 200, 200)\n",
    "plt.plot(fnl_g, pdf(fnl_g, 0.0, sig))"
   ]
  },
  {
   "cell_type": "code",
   "execution_count": null,
   "metadata": {},
   "outputs": [],
   "source": [
    "from matplotlib.patches import Ellipse\n",
    "import matplotlib.transforms as transforms"
   ]
  },
  {
   "cell_type": "code",
   "execution_count": null,
   "metadata": {},
   "outputs": [],
   "source": [
    "def confidence_ellipse(cov, ax, n_std=1.0, facecolor='none', **kwargs):\n",
    "    \"\"\"\n",
    "    Create a plot of the covariance confidence ellipse of *x* and *y*.\n",
    "\n",
    "    Parameters\n",
    "    ----------\n",
    "    x, y : array-like, shape (n, )\n",
    "        Input data.\n",
    "\n",
    "    ax : matplotlib.axes.Axes\n",
    "        The axes object to draw the ellipse into.\n",
    "\n",
    "    n_std : float\n",
    "        The number of standard deviations to determine the ellipse's radiuses.\n",
    "\n",
    "    **kwargs\n",
    "        Forwarded to `~matplotlib.patches.Ellipse`\n",
    "\n",
    "    Returns\n",
    "    -------\n",
    "    matplotlib.patches.Ellipse\n",
    "    \"\"\"\n",
    "    #if x.size != y.size:\n",
    "    #    raise ValueError(\"x and y must be the same size\")\n",
    "\n",
    "    #cov = np.cov(x, y)\n",
    "    pearson = cov[0, 1]/np.sqrt(cov[0, 0] * cov[1, 1])\n",
    "    # Using a special case to obtain the eigenvalues of this\n",
    "    # two-dimensionl dataset.\n",
    "    ell_radius_x = np.sqrt(1 + pearson)\n",
    "    ell_radius_y = np.sqrt(1 - pearson)\n",
    "    ellipse = Ellipse((0, 0), width=ell_radius_x * 2, height=ell_radius_y * 2,\n",
    "                      facecolor=facecolor, **kwargs)\n",
    "\n",
    "    # Calculating the stdandard deviation of x from\n",
    "    # the squareroot of the variance and multiplying\n",
    "    # with the given number of standard deviations.\n",
    "    scale_x = np.sqrt(cov[0, 0]) * n_std\n",
    "    mean_x = 0.0#np.mean(x)\n",
    "\n",
    "    # calculating the stdandard deviation of y ...\n",
    "    scale_y = np.sqrt(cov[1, 1]) * n_std\n",
    "    mean_y = 0.0#np.mean(y)\n",
    "\n",
    "    transf = transforms.Affine2D() \\\n",
    "        .rotate_deg(45) \\\n",
    "        .scale(scale_x, scale_y) \\\n",
    "        .translate(mean_x, mean_y)\n",
    "\n",
    "    ellipse.set_transform(transf + ax.transData)\n",
    "    return ax.add_patch(ellipse)"
   ]
  },
  {
   "cell_type": "code",
   "execution_count": null,
   "metadata": {},
   "outputs": [],
   "source": [
    "ifisher"
   ]
  },
  {
   "cell_type": "code",
   "execution_count": null,
   "metadata": {},
   "outputs": [],
   "source": [
    "fig, ax = plt.subplots()\n",
    "confidence_ellipse(np.array([[0.2, -0.2], \n",
    "                                 [-0.2, 0.8]]), ax, edgecolor='r')\n",
    "\n",
    "ax.set(xlim=(-1, 1), ylim=(-1, 1))"
   ]
  },
  {
   "cell_type": "code",
   "execution_count": null,
   "metadata": {},
   "outputs": [],
   "source": []
  },
  {
   "cell_type": "code",
   "execution_count": null,
   "metadata": {},
   "outputs": [],
   "source": []
  },
  {
   "cell_type": "code",
   "execution_count": null,
   "metadata": {},
   "outputs": [],
   "source": []
  },
  {
   "cell_type": "code",
   "execution_count": null,
   "metadata": {},
   "outputs": [],
   "source": [
    "fisher.dot(ifisher)"
   ]
  },
  {
   "cell_type": "code",
   "execution_count": null,
   "metadata": {},
   "outputs": [],
   "source": [
    "dcl_f.dot(cov.)"
   ]
  },
  {
   "cell_type": "code",
   "execution_count": null,
   "metadata": {},
   "outputs": [],
   "source": [
    "nmocks = 1000\n",
    "nbins = 17\n",
    "hf_b = (nmocks - 1.0)/(nmocks - nbins - 2.0)\n",
    "\n",
    "fisher = []\n",
    "for i, lmin in enumerate(el_bin[:7]):\n",
    "    print(i, lmin)\n",
    "\n",
    "    hf_a = (nmocks - 1.0)/(nmocks - (nbins-i) - 2.0)\n",
    "    \n",
    "    cov_i = cov[i:, i:]/(hf_b)*hf_a\n",
    "    \n",
    "    icov_i = np.linalg.inv(cov_i)\n",
    "    \n",
    "    fisher.append((lmin, dcl_f[i:].dot(icov_i.dot(dcl_f[i:]))))\n",
    "    \n",
    "fisher = np.array(fisher)\n",
    "plt.plot(fisher[:, 0], fisher[:, 1])"
   ]
  },
  {
   "cell_type": "code",
   "execution_count": null,
   "metadata": {},
   "outputs": [],
   "source": [
    "el_bin[:-1]"
   ]
  },
  {
   "cell_type": "code",
   "execution_count": null,
   "metadata": {},
   "outputs": [],
   "source": []
  },
  {
   "cell_type": "code",
   "execution_count": null,
   "metadata": {},
   "outputs": [],
   "source": []
  },
  {
   "cell_type": "code",
   "execution_count": null,
   "metadata": {},
   "outputs": [],
   "source": []
  },
  {
   "cell_type": "code",
   "execution_count": null,
   "metadata": {},
   "outputs": [],
   "source": [
    "noise = 5.24256916e-07\n",
    "el_ = np.arange(0, 100).astype('int')\n",
    "fnl = 0.0\n",
    "for eps in [1.0e-8, ]:\n",
    "    print(fnl+eps, fnl-eps)\n",
    "    m_p = model(el_, fnl=fnl+eps, noise=noise)\n",
    "    m_n = model(el_, fnl=fnl-eps, noise=noise)\n",
    "    plt.plot(el_, 1.0e8*(m_p-m_n)/(2*eps)), #label='eps = %3.e'%eps)\n",
    "    \n",
    "plt.xlabel(r'$\\ell$')\n",
    "plt.yscale('log')\n",
    "plt.title(r'$10^{8}~\\partial C_{\\ell} / \\partial f_{\\rm NL}$')\n",
    "# plt.legend(loc='upper right', fontsize=15)\n",
    "# plt.savefig('dClfnl.png', dpi=300, bbox_inches='tight')"
   ]
  },
  {
   "cell_type": "code",
   "execution_count": null,
   "metadata": {},
   "outputs": [],
   "source": [
    "fnl = 0.0\n",
    "eps = 1.0e-3\n",
    "el_ = np.arange(el_edges.max()+1)\n",
    "mp_ = model(el_, fnl+eps, noise=noise)\n",
    "mn_ = model(el_, fnl-eps, noise=noise)\n",
    "\n",
    "el_b, mp = histogram_cell(el_, mp_, bins=el_edges)\n",
    "assert np.array_equal(el_b, el_bin)\n",
    "mn = histogram_cell(el_, mn_, bins=el_edges)[1]\n",
    "\n",
    "dcl = (mp-mn)/(2*eps)"
   ]
  },
  {
   "cell_type": "code",
   "execution_count": null,
   "metadata": {},
   "outputs": [],
   "source": []
  },
  {
   "cell_type": "code",
   "execution_count": null,
   "metadata": {},
   "outputs": [],
   "source": [
    "assert np.array_equal(cl_cov['el_bin'], el_bin)"
   ]
  },
  {
   "cell_type": "code",
   "execution_count": null,
   "metadata": {},
   "outputs": [],
   "source": []
  },
  {
   "cell_type": "code",
   "execution_count": null,
   "metadata": {},
   "outputs": [],
   "source": []
  },
  {
   "cell_type": "code",
   "execution_count": null,
   "metadata": {},
   "outputs": [],
   "source": [
    "fisher2 = []\n",
    "for i, lmax in enumerate(el_bin[-3:]):\n",
    "    ix = -3+i\n",
    "    print(i, ix, lmax)\n",
    "    cov_i = cov[:ix, :ix]*()*()\n",
    "    icov_i = np.linalg.inv(cov_i)\n",
    "    fisher2.append((lmax, dcl[:ix].dot(icov_i.dot(dcl[:ix]))))\n",
    "    \n",
    "fisher2 = np.array(fisher2)"
   ]
  },
  {
   "cell_type": "code",
   "execution_count": null,
   "metadata": {},
   "outputs": [],
   "source": [
    "plt.plot(fisher[:, 0], fisher[:, 1], marker='o', mfc='w')\n",
    "plt.xlabel(r'$\\ell_{\\rm min}$')\n",
    "plt.ylabel(r'F$_{11}$')\n",
    "plt.xlim(0., 70.)"
   ]
  },
  {
   "cell_type": "code",
   "execution_count": null,
   "metadata": {},
   "outputs": [],
   "source": [
    "plt.plot(fisher2[:, 0], fisher2[:, 1], marker='o', mfc='w')\n",
    "plt.xlabel(r'$\\ell_{\\rm max}$')\n",
    "plt.ylabel(r'F$_{11}$')\n",
    "# plt.xlim(0., 70.)"
   ]
  },
  {
   "cell_type": "code",
   "execution_count": null,
   "metadata": {},
   "outputs": [],
   "source": []
  },
  {
   "cell_type": "code",
   "execution_count": null,
   "metadata": {},
   "outputs": [],
   "source": []
  },
  {
   "cell_type": "markdown",
   "metadata": {},
   "source": [
    "## Grid Search"
   ]
  },
  {
   "cell_type": "markdown",
   "metadata": {},
   "source": [
    "## Test MCMC with Grid Search"
   ]
  },
  {
   "cell_type": "code",
   "execution_count": null,
   "metadata": {
    "scrolled": true
   },
   "outputs": [],
   "source": [
    "region = 'fullsky'\n",
    "#path_cl = '/fs/ess/PHS0336/data/lognormal/v0/clustering/clmock_bmzls_noweight_mean.npz'\n",
    "#path_cov = '/fs/ess/PHS0336/data/lognormal/v0/clustering/clmock_bmzls_noweight_cov.npz'  \n",
    "path_cl = '/fs/ess/PHS0336/data/lognormal/v0/clustering/clmock_fullsky_mean.npz'\n",
    "path_cov = '/fs/ess/PHS0336/data/lognormal/v0/clustering/clmock_fullsky_cov.npz'  \n",
    "\n",
    "el_edges, cl_obs, invcov_obs = read_inputs(path_cl, path_cov)\n",
    "cov_obs = np.linalg.inv(invcov_obs)\n",
    "weight, mask = read_mask(region)\n",
    "\n",
    "z, b, dNdz = init_sample(kind='lrg')\n",
    "model = SurveySpectrum()\n",
    "model.add_tracer(z, b, dNdz, p=1.6)\n",
    "model.add_kernels(model.el_model)\n",
    "model.add_window(weight, mask, np.arange(2048), ngauss=2048)  \n",
    "\n",
    "print('fsky', mask.mean())\n",
    "\n",
    "lg = Posterior(model, cl_obs, invcov_obs, el_edges)\n",
    "def logpost(foo):\n",
    "    return -lg.logpost(foo)\n",
    "\n",
    "t0 = time()\n",
    "res = minimize(logpost, [1.0, 1.0e-7], method='Powell')\n",
    "t1 = time()\n",
    "print(f'best fit: {res.x}, -logprob: {res.fun:.3f} #data: {cl_obs.size} in {t1-t0:.2f} sec')"
   ]
  },
  {
   "cell_type": "code",
   "execution_count": null,
   "metadata": {},
   "outputs": [],
   "source": [
    "fnl = np.linspace(-100, 100, num=100)\n",
    "noise = np.linspace(3.6, 6.6, num=100)*1.0e-7\n",
    "\n",
    "FNL, NOISE = np.meshgrid(fnl, noise)\n",
    "\n",
    "lpost = []\n",
    "i = 0\n",
    "for fi, nj in zip(FNL.flatten(), NOISE.flatten()):\n",
    "    \n",
    "    lpost.append(logpost((fi, nj)))\n",
    "    i+=1    \n",
    "    if i%1000==0:print(f'{i}/10000')\n",
    "        \n",
    "chi2 = np.array(lpost).reshape(100, 100)*2.0        "
   ]
  },
  {
   "cell_type": "code",
   "execution_count": null,
   "metadata": {},
   "outputs": [],
   "source": [
    "\n",
    "# basss/Mzls\n",
    "print('fsky', mask.mean(), region)\n",
    "\n",
    "lg = Posterior(model, cl_obs, invcov_obs, el_edges)\n",
    "def logpost(foo):\n",
    "    return -lg.logpost(foo)\n",
    "\n",
    "t0 = time()\n",
    "res = minimize(logpost, [1.0, 1.0e-7], method='Powell')\n",
    "t1 = time()\n",
    "print(f'best fit: {res.x}, -logprob: {res.fun:.3f} #data: {cl_obs.size} in {t1-t0:.2f} sec')"
   ]
  },
  {
   "cell_type": "code",
   "execution_count": null,
   "metadata": {},
   "outputs": [],
   "source": [
    "fnl = np.linspace(-100, 100, num=100)\n",
    "noise = np.linspace(3.6, 6.6, num=100)*1.0e-7\n",
    "\n",
    "FNL, NOISE = np.meshgrid(fnl, noise)\n",
    "\n",
    "lpost = []\n",
    "i = 0\n",
    "for fi, nj in zip(FNL.flatten(), NOISE.flatten()):\n",
    "    \n",
    "    lpost.append(logpost((fi, nj)))\n",
    "    i+=1    \n",
    "    if i%1000==0:print(f'{i}/10000')\n",
    "        \n",
    "chi2b = np.array(lpost).reshape(100, 100)*2.0        "
   ]
  },
  {
   "cell_type": "code",
   "execution_count": null,
   "metadata": {},
   "outputs": [],
   "source": [
    "print(chi2.min(), chi2b.min())"
   ]
  },
  {
   "cell_type": "code",
   "execution_count": null,
   "metadata": {},
   "outputs": [],
   "source": []
  },
  {
   "cell_type": "code",
   "execution_count": null,
   "metadata": {},
   "outputs": [],
   "source": [
    "sample = read_chain('/fs/ess/PHS0336/data/lognormal/v0/mcmc/mcmc_lrg_fullsky_noweight_steps10000_walkers50.npz')[1]\n",
    "sample1 = read_chain('/fs/ess/PHS0336/data/lognormal/v0/mcmc/mcmc_lrg_bmzls_noweight_steps10000_walkers50.npz')[1]\n",
    "\n",
    "kw = dict(plot_datapoints=False, truths=[0.0, 5.24], truth_color='C0',\n",
    "          labels=[r'$f_{\\rm NL}$', r'noise [$\\times 10^{-7}$]'], plot_density=False,\n",
    "          fill_contours=False, levels=[0.68, 0.95])\n",
    "\n",
    "fig = corner.corner(sample, color='grey', **kw)\n",
    "corner.corner(sample1, fig=fig, color='C5', **kw)\n",
    "fig.show()\n",
    "ax = fig.get_axes()\n",
    "\n",
    "# ax[2].scatter(res.x[0], res.x[1]*1.0e7, 300, \n",
    "#               marker='*', color='C1', zorder=10, alpha=0.5)\n",
    "\n",
    "ax[2].contour(FNL, NOISE*1.0e7, chi2*1000., levels=(2300, 5990), \n",
    "              cmap='jet', linestyles='--')\n",
    "ax[2].contour(FNL, NOISE*1.0e7, chi2b*1000., levels=(2300, 5990), \n",
    "              cmap='jet', linestyles=':')\n",
    "\n",
    "plt.text(0.3, 0.8, 'Full Sky', color='grey', transform=ax[1].transAxes)\n",
    "plt.text(0.3, 0.65, 'BASS/MzLS', color='C5', transform=ax[1].transAxes)"
   ]
  },
  {
   "cell_type": "markdown",
   "metadata": {},
   "source": [
    "## Models vs Mocks"
   ]
  },
  {
   "cell_type": "code",
   "execution_count": null,
   "metadata": {},
   "outputs": [],
   "source": [
    "region = 'bmzls'\n",
    "path_cl = '/fs/ess/PHS0336/data/lognormal/v0/clustering/clmock_bmzls_noweight_mean.npz'\n",
    "path_cov = '/fs/ess/PHS0336/data/lognormal/v0/clustering/clmock_bmzls_noweight_cov.npz'  \n",
    "\n",
    "cl_ = np.load(path_cl)\n",
    "el = cl_['el_bin']\n",
    "\n",
    "el_edges, cl_obs, invcov_obs = read_inputs(path_cl, path_cov)\n",
    "cov_obs = np.linalg.inv(invcov_obs)\n",
    "weight, mask = read_mask(region)\n",
    "\n",
    "z, b, dNdz = init_sample(kind='lrg')\n",
    "model = SurveySpectrum()\n",
    "model.add_tracer(z, b, dNdz, p=1.6)\n",
    "model.add_kernels(model.el_model)\n",
    "model.add_window(weight, mask, np.arange(2048), ngauss=2048)  "
   ]
  },
  {
   "cell_type": "code",
   "execution_count": null,
   "metadata": {},
   "outputs": [],
   "source": [
    "region = 'bmzls'\n",
    "path_cl = '/fs/ess/PHS0336/data/lognormal/v0/clustering/clmock_bmzls_noweight_mean.npz'\n",
    "path_cov = '/fs/ess/PHS0336/data/lognormal/v0/clustering/clmock_bmzls_noweight_cov.npz'  \n",
    "\n",
    "cl_ = np.load(path_cl)\n",
    "el = cl_['el_bin']\n",
    "el_edges = cl_['el_edges']"
   ]
  },
  {
   "cell_type": "code",
   "execution_count": null,
   "metadata": {},
   "outputs": [],
   "source": [
    "el_ = np.arange(0, el_edges.max()+10).astype('int')"
   ]
  },
  {
   "cell_type": "code",
   "execution_count": null,
   "metadata": {},
   "outputs": [],
   "source": [
    "plt.figure(figsize=(10, 8))\n",
    "plt.title(region.upper())\n",
    "\n",
    "def plot():\n",
    "    f = 1.0e4\n",
    "    params = [-1.45137962e+00,  5.24256916e-07]\n",
    "    \n",
    "    plt.errorbar(el, f*el*cl_obs, yerr=f*el*np.diag(cov_obs)**0.5, \n",
    "                 marker='o', alpha=0.5, ls='none', capsize=4, zorder=-10)\n",
    "    \n",
    "    el_b, cl_b = histogram_cell(el_, model(el_, *params), bins=el_edges)\n",
    "    \n",
    "    plt.plot(el_b, f*el_b*cl_b, label='Best Fit', color='k')\n",
    "    #for fnl in [100, 40., 20, 10, 0., -10., -20., -40., -100]:\n",
    "    #    plt.plot(el_, model(el_, fnl, noise=res.x[1]), \n",
    "    #             lw=1, label=f'fnl=%.f'%fnl)\n",
    "    \n",
    "    for nois in np.linspace(4.2e-7, 6.0e-7, num=5):\n",
    "        el_b, cl_b = histogram_cell(el_, model(el_, 0.0, nois), bins=el_edges)        \n",
    "        plt.plot(el_b, f*el_b*cl_b, lw=1, label=f'noise=%.2e'%nois)\n",
    "    \n",
    "\n",
    "# plt.ylim(-1, 2.e2)        \n",
    "plt.xlim(-1, 310)\n",
    "plt.xlabel(r'$\\ell$')\n",
    "plt.ylabel(r'$10^{4}\\ell C_{\\ell}$')\n",
    "plot()\n",
    "plt.legend()\n",
    "plt.axes([0.3, 0.2, 0.35, 0.4])\n",
    "plot()\n",
    "plt.xlim(150, 300)\n",
    "plt.ylim(4.5, 5.75)\n",
    "# plt.yticks([0.0, 1.0e-5], labels=['0', '1.0e-5'])\n",
    "\n",
    "plt.savefig('bmzls_model_meanmocks_noise.png', dpi=300, bbox_inches='tight')"
   ]
  },
  {
   "cell_type": "code",
   "execution_count": null,
   "metadata": {},
   "outputs": [],
   "source": [
    "plt.figure(figsize=(10, 8))\n",
    "plt.title(region.upper())\n",
    "\n",
    "def plot():\n",
    "    f = 1.0e4\n",
    "    params = [-1.45137962e+00,  5.24256916e-07]\n",
    "    \n",
    "    plt.errorbar(el, f*el*cl_obs, yerr=f*el*np.diag(cov_obs)**0.5, \n",
    "                 marker='o', alpha=0.5, ls='none', capsize=4, zorder=-10)\n",
    "    \n",
    "    el_b, cl_b = histogram_cell(el_, model(el_, *params), bins=el_edges)    \n",
    "    plt.plot(el_b, f*el_b*cl_b, label='Best Fit', color='k')\n",
    "    \n",
    "    for fnl in [100, 40., 20, 10, 0., -10., -20., -40., -100]:\n",
    "        el_b, cl_b = histogram_cell(el_, model(el_, fnl, noise=params[1]), bins=el_edges)\n",
    "        \n",
    "        plt.plot(el_b, f*el_b*cl_b, \n",
    "                 lw=1, label=f'fnl=%.f'%fnl)\n",
    "    #for nois in np.linspace(4.2e-7, 6.0e-7, num=5):\n",
    "    #       plt.plot(el_, f*el_*model(el_, 0.0, nois), lw=1, label=f'noise=%.2e'%nois)\n",
    "    \n",
    "\n",
    "# plt.ylim(-1, 2.e2)        \n",
    "plt.xlim(-1, 310)\n",
    "plt.xlabel(r'$\\ell$')\n",
    "plt.ylabel(r'$10^{4}\\ell C_{\\ell}$')\n",
    "plot()\n",
    "plt.legend()\n",
    "plt.axes([0.3, 0.2, 0.35, 0.4])\n",
    "plot()\n",
    "plt.xlim(-5, 50)\n",
    "plt.ylim(-0.2, 5.)\n",
    "# plt.yticks([0.0, 1.0e-5], labels=['0', '1.0e-5'])\n",
    "\n",
    "plt.savefig('bmzls_model_meanmocks_fnl.png', dpi=300, bbox_inches='tight')"
   ]
  },
  {
   "cell_type": "markdown",
   "metadata": {},
   "source": [
    "## MCMC Comparison\n",
    "### Full Sky vs BASS/MzLS"
   ]
  },
  {
   "cell_type": "code",
   "execution_count": null,
   "metadata": {},
   "outputs": [],
   "source": [
    "st = {}\n",
    "st['BMzLS'], sbmzls = read_chain('/fs/ess/PHS0336/data/lognormal/v0/mcmc/mcmc_lrg_bmzls_noweight_steps10000_walkers50.npz')\n",
    "st['FullSky'], sfullsky = read_chain('/fs/ess/PHS0336/data/lognormal/v0/mcmc/mcmc_lrg_fullsky_noweight_steps10000_walkers50.npz')"
   ]
  },
  {
   "cell_type": "code",
   "execution_count": null,
   "metadata": {},
   "outputs": [],
   "source": [
    "kw = dict(plot_datapoints=False, truths=[0.0, 5.24], truth_color='C0',\n",
    "          labels=[r'$f_{\\rm NL}$', r'noise [$\\times 10^{-7}$]'], plot_density=False,\n",
    "          fill_contours=False, levels=[0.68, 0.95])\n",
    "\n",
    "fig = corner.corner(sbmzls, color='C2', contour_kwargs={'linewidths':1.}, hist_kwargs={'lw':1.}, **kw)\n",
    "corner.corner(sfullsky, fig=fig, color='C1', contour_kwargs={'linestyles':'--'}, **kw)\n",
    "\n",
    "plt.text(0.3, 0.8, 'Full Sky', color='C1', transform=fig.get_axes()[1].transAxes)\n",
    "plt.text(0.3, 0.65, 'BASS/MzLS', color='C2', transform=fig.get_axes()[1].transAxes)\n",
    "plt.show()"
   ]
  },
  {
   "cell_type": "code",
   "execution_count": null,
   "metadata": {},
   "outputs": [],
   "source": [
    "pstats = pd.DataFrame(stats,\n",
    "                      index=['MAP [scipy]', 'MAP [chain]', 'Mean [chain]',\n",
    "                             'Median [chain]', '16th', '84th']).T\n",
    "pstats"
   ]
  },
  {
   "cell_type": "code",
   "execution_count": null,
   "metadata": {},
   "outputs": [],
   "source": [
    "## ratio of 68% region vs sqrt(fsky)\n",
    "(17.30+39.10)/(15.57+21.03), 1/np.sqrt(0.1246477762858073)"
   ]
  },
  {
   "cell_type": "code",
   "execution_count": null,
   "metadata": {},
   "outputs": [],
   "source": [
    "st = {}\n",
    "st['BMzLS'], sbmzls = read_chain('/fs/ess/PHS0336/data/lognormal/v0/mcmc/mcmc_lrg_bmzls_noweight_steps10000_walkers50_fine.npz')\n",
    "st['FullSky'], sfullsky = read_chain('/fs/ess/PHS0336/data/lognormal/v0/mcmc/mcmc_lrg_fullsky_noweight_steps10000_walkers50_fine.npz')"
   ]
  },
  {
   "cell_type": "code",
   "execution_count": null,
   "metadata": {},
   "outputs": [],
   "source": [
    "kw = dict(plot_datapoints=False, truths=[0.0, 5.24], truth_color='C0',\n",
    "          labels=[r'$f_{\\rm NL}$', r'noise [$\\times 10^{-7}$]'], plot_density=False,\n",
    "          fill_contours=False, levels=[0.68, 0.95])\n",
    "\n",
    "fig = corner.corner(sbmzls, color='C2', contour_kwargs={'linewidths':1.}, hist_kwargs={'lw':1.}, **kw)\n",
    "corner.corner(sfullsky, fig=fig, color='C1', contour_kwargs={'linestyles':'--'}, **kw)\n",
    "\n",
    "plt.text(0.3, 0.8, 'Full Sky', color='C1', transform=fig.get_axes()[1].transAxes)\n",
    "plt.text(0.3, 0.65, 'BASS/MzLS', color='C2', transform=fig.get_axes()[1].transAxes)\n",
    "plt.show()"
   ]
  },
  {
   "cell_type": "code",
   "execution_count": null,
   "metadata": {},
   "outputs": [],
   "source": [
    "pst = pd.DataFrame(st,\n",
    "                      index=['MAP [scipy]', 'MAP [chain]', 'Mean [chain]',\n",
    "                             'Median [chain]', '16th', '84th']).T\n",
    "pst"
   ]
  },
  {
   "cell_type": "code",
   "execution_count": null,
   "metadata": {},
   "outputs": [],
   "source": [
    "## ratio of 68% region vs sqrt(fsky)\n",
    "(14.05+24.96)/(13.44+19.75), 1/np.sqrt(0.1246477762858073)"
   ]
  },
  {
   "cell_type": "code",
   "execution_count": null,
   "metadata": {},
   "outputs": [],
   "source": []
  },
  {
   "cell_type": "code",
   "execution_count": null,
   "metadata": {},
   "outputs": [],
   "source": [
    "def read_cl(path_cl, path_cov):\n",
    "    cl_ = np.load(path_cl)\n",
    "    ccl_ = np.load(path_cov)\n",
    "\n",
    "    return (cl_['el_bin'], cl_['cl'], np.diag(ccl_['clcov'])**0.5)\n",
    "\n",
    "path_cl = '/fs/ess/PHS0336/data/lognormal/v0/clustering/clmock_bmzls_noweight_mean.npz'\n",
    "path_cov = '/fs/ess/PHS0336/data/lognormal/v0/clustering/clmock_bmzls_noweight_cov.npz'    \n",
    "\n",
    "cl_list = {}\n",
    "cl_list['fiducial binning'] = read_cl(path_cl, path_cov)    \n",
    "cl_list['fine binning'] = read_cl(path_cl.replace('.npz', '_fine.npz'),\n",
    "                                path_cov.replace('.npz', '_fine.npz'))"
   ]
  },
  {
   "cell_type": "code",
   "execution_count": null,
   "metadata": {},
   "outputs": [],
   "source": [
    "plt.figure(figsize=(8, 6))\n",
    "mk = ['o', 'x']\n",
    "for i, (n,v) in enumerate(cl_list.items()):\n",
    "    plt.errorbar(v[0], v[1]*1.0e5, yerr=v[2]*1.0e5, \n",
    "                 capsize=4, ls='None', marker=mk[i], mfc='w', alpha=0.8, label=n)\n",
    "    \n",
    "plt.xscale('log')\n",
    "plt.legend()\n",
    "plt.xlabel(r'$\\ell$')\n",
    "plt.ylabel(r'$10^{5} C_\\ell$')"
   ]
  },
  {
   "cell_type": "markdown",
   "metadata": {},
   "source": [
    "# Best Fit Finder\n",
    "Here we setup the best fit finder code"
   ]
  },
  {
   "cell_type": "code",
   "execution_count": null,
   "metadata": {},
   "outputs": [],
   "source": [
    "def read_inputs(path_cl, path_cov):\n",
    "    \n",
    "    dcl_obs = np.load(path_cl)\n",
    "    dclcov_obs = np.load(path_cov)\n",
    "    assert np.array_equal(dcl_obs['el_edges'], dclcov_obs['el_edges'])\n",
    "    \n",
    "    el_edges = dcl_obs['el_edges']\n",
    "    cl_obs = dcl_obs['cl']\n",
    "    invcov_obs = np.linalg.inv(dclcov_obs['clcov'])\n",
    "\n",
    "    return el_edges, cl_obs, invcov_obs\n",
    "\n",
    "def read_mask(region):\n",
    "\n",
    "    import fitsio as ft\n",
    "    import healpy as hp\n",
    "    from lssutils.utils import make_hp\n",
    "\n",
    "    if region in ['bmzls', 'ndecals', 'sdecals']:\n",
    "        # read survey geometry\n",
    "        data_path = '/fs/ess/PHS0336/data/'    \n",
    "        dt = ft.read(f'{data_path}/rongpu/imaging_sys/tables/v3/nlrg_features_{region}_256.fits')\n",
    "        mask_  = make_hp(256, dt['hpix'], 1.0) > 0.5\n",
    "        mask   = hp.ud_grade(mask_, 1024)\n",
    "    else:\n",
    "        # full sky\n",
    "        mask = np.ones(12*1024*1024, '?')\n",
    "\n",
    "    return mask*1.0, mask"
   ]
  },
  {
   "cell_type": "code",
   "execution_count": null,
   "metadata": {},
   "outputs": [],
   "source": [
    "def run_bestfit(path_cl, path_cov, region):\n",
    "    el_edges, cl_obs, invcov_obs = read_inputs(path_cl, path_cov)\n",
    "    cov_obs = np.linalg.inv(invcov_obs)\n",
    "    weight, mask = read_mask(region)\n",
    "\n",
    "    z, b, dNdz = init_sample(kind='lrg')\n",
    "    model = SurveySpectrum()\n",
    "    model.add_tracer(z, b, dNdz, p=1.6)\n",
    "    model.add_kernels(model.el_model)\n",
    "    model.add_window(weight, mask, np.arange(2048), ngauss=2048)  \n",
    "    \n",
    "    lg = Posterior(model, cl_obs, invcov_obs, el_edges)\n",
    "    def logpost(foo):\n",
    "        return -lg.logpost(foo)\n",
    "    \n",
    "    t0 = time()\n",
    "    res = minimize(logpost, [1.0, 1.0e-7], method='Powell')\n",
    "    t1 = time()\n",
    "    print(f'best fit: {res.x}, -logprob: {res.fun:.3f} #data: {cl_obs.size} in {t1-t0:.2f} sec')\n",
    "    \n",
    "    el_ = np.arange(el_edges.min(), el_edges.max()+1)\n",
    "    cl_m_ = model(el_, *res.x)\n",
    "    el, cl_m = histogram_cell(el_, cl_m_, bins=el_edges)\n",
    "    \n",
    "    plt.figure(figsize=(8, 6))\n",
    "    plt.title(region.upper())\n",
    "    plt.errorbar(el, cl_obs, yerr=np.diag(cov_obs)**0.5, \n",
    "                 marker='o', alpha=0.2, ls='none', capsize=4, zorder=-10)\n",
    "    plt.plot(el_, cl_m_, label='Best Fit', color='k')\n",
    "    for fnl in [10, 0., -10.]:\n",
    "        plt.plot(el_, model(el_, fnl, noise=res.x[1]), \n",
    "                 lw=1, label=f'fnl=%.f'%fnl)\n",
    "    plt.xscale('log')\n",
    "    plt.legend()\n",
    "    plt.xlabel(r'$\\ell$')\n",
    "    plt.ylabel(r'$C_{\\ell}$')\n",
    "    plt.ylim(0.0, 1.4e-5)"
   ]
  },
  {
   "cell_type": "code",
   "execution_count": null,
   "metadata": {},
   "outputs": [],
   "source": [
    "path_cl = '/fs/ess/PHS0336/data/lognormal/v0/clustering/clmock_bmzls_noweight_mean.npz'\n",
    "path_cov = '/fs/ess/PHS0336/data/lognormal/v0/clustering/clmock_bmzls_noweight_cov.npz'\n",
    "region = 'bmzls'\n",
    "run_bestfit(path_cl, path_cov, region)"
   ]
  },
  {
   "cell_type": "code",
   "execution_count": null,
   "metadata": {},
   "outputs": [],
   "source": [
    "path_cl = '/fs/ess/PHS0336/data/lognormal/v0/clustering/clmock_fullsky_mean.npz'\n",
    "path_cov = '/fs/ess/PHS0336/data/lognormal/v0/clustering/clmock_fullsky_cov.npz'\n",
    "region = 'Full Sky'\n",
    "run_bestfit(path_cl, path_cov, region)"
   ]
  },
  {
   "cell_type": "markdown",
   "metadata": {},
   "source": [
    "## Model vs Data"
   ]
  },
  {
   "cell_type": "code",
   "execution_count": null,
   "metadata": {},
   "outputs": [],
   "source": [
    "def make_cl4partialsky(r, m):\n",
    "    \n",
    "    #ell_edges = np.array([2] + [10*i for i in range(1,10)] + [100+i*20 for i in range(5)] + [200+i*50 for i in range(3)])\n",
    "    ell_edges = np.array([2, 6, 10, 14, 18, 22, 26] + [10*i for i in range(3,10)] + [100+i*20 for i in range(5)] + [200+i*50 for i in range(3)])\n",
    "\n",
    "    mocks = glob(f'/fs/ess/PHS0336/data/lognormal/v0/clustering/clmock_*_lrg_{r}_256_{m}.npy')\n",
    "    print(len(mocks))\n",
    "    print(ell_edges)\n",
    "\n",
    "    cl_mocks = []\n",
    "    for mock in mocks:\n",
    "        d = np.load(mock, allow_pickle=True).item()['cl_gg']\n",
    "        el = d['l']\n",
    "        cl = d['cl']\n",
    "        el_bin, cl_bin = histogram_cell(el, cl, bins=ell_edges)\n",
    "        cl_mocks.append(cl_bin)\n",
    "        print('.', end='')\n",
    "\n",
    "    cl_mocks = np.array(cl_mocks)\n",
    "\n",
    "    nmocks, nbins = cl_mocks.shape\n",
    "    hf = (nmocks - 1.0)/(nmocks - nbins - 2.0)\n",
    "    cl_cov = np.cov(cl_mocks, rowvar=False)*hf #/ nmocks\n",
    "    #inv_cov = np.linalg.inv(cl_cov)\n",
    "    print(f'Hartlap with #mocks ({nmocks}) and #bins ({nbins}): {hf:.2f}' )\n",
    "\n",
    "    #np.savez(f'/fs/ess/PHS0336/data/lognormal/v0/clustering/clmock_{r}_{m}_mean.npz',\n",
    "    np.savez(f'/fs/ess/PHS0336/data/lognormal/v0/clustering/clmock_{r}_{m}_mean_fine.npz',\n",
    "        **{'el_edges':ell_edges, 'el_bin':el_bin, 'cl':cl_mocks.mean(axis=0)})\n",
    "\n",
    "    #np.savez(f'/fs/ess/PHS0336/data/lognormal/v0/clustering/clmock_{r}_{m}_cov.npz',\n",
    "    np.savez(f'/fs/ess/PHS0336/data/lognormal/v0/clustering/clmock_{r}_{m}_cov_fine.npz',\n",
    "        **{'el_edges':ell_edges, 'el_bin':el_bin, 'clcov':cl_cov})"
   ]
  },
  {
   "cell_type": "code",
   "execution_count": null,
   "metadata": {},
   "outputs": [],
   "source": [
    "for r in ['bmzls']:\n",
    "    for m in ['noweight']: #, 'lin', 'nn']:\n",
    "        make_cl4partialsky(r, m)"
   ]
  },
  {
   "cell_type": "code",
   "execution_count": null,
   "metadata": {},
   "outputs": [],
   "source": [
    "#ell_edges = np.arange(2, 312, 10)\n",
    "#ell_edges = np.array([2] + [10*i for i in range(1,10)] + [100+i*20 for i in range(5)] + [200+i*50 for i in range(3)])\n",
    "ell_edges = np.array([2, 6, 10, 14, 18, 22, 26] \\\n",
    "                     + [10*i for i in range(3,10)] \\\n",
    "                     + [100+i*20 for i in range(5)] \\\n",
    "                     + [200+i*50 for i in range(3)])\n",
    "    \n",
    "cl_mocks = np.load('/fs/ess/PHS0336/data/lognormal/v0/clustering/clmock_fullsky.npy')\n",
    "ell = np.arange(cl_mocks.shape[1])\n",
    "cl_mocks_binned = []\n",
    "for cl_i in cl_mocks:\n",
    "    ell_bin, cl_bin = histogram_cell(ell, cl_i, bins=ell_edges)\n",
    "    cl_mocks_binned.append(cl_bin)\n",
    "    print('.', end='')\n",
    "cl_mocks_binned = np.array(cl_mocks_binned)\n",
    "\n",
    "nmocks, nbins = cl_mocks_binned.shape\n",
    "hf = (nmocks - 1.0)/(nmocks - nbins - 2.0)\n",
    "cl_cov = np.cov(cl_mocks_binned, rowvar=False)*hf #/ nmocks\n",
    "inv_cov = np.linalg.inv(cl_cov)\n",
    "print(f'Hartlap with #mocks ({nmocks}) and #bins ({nbins}): {hf:.2f}' )\n",
    "\n",
    "\n",
    "#np.savez('/fs/ess/PHS0336/data/lognormal/v0/clustering/clmock_fullsky_mean.npz',\n",
    "np.savez('/fs/ess/PHS0336/data/lognormal/v0/clustering/clmock_fullsky_mean_fine.npz',\n",
    "     **{'el_edges':ell_edges, 'el_bin':ell_bin, 'cl':cl_mocks_binned.mean(axis=0)})\n",
    "\n",
    "np.savez('/fs/ess/PHS0336/data/lognormal/v0/clustering/clmock_fullsky_cov_fine.npz',\n",
    "     **{'el_edges':ell_edges, 'el_bin':ell_bin, 'clcov':cl_cov})"
   ]
  },
  {
   "cell_type": "code",
   "execution_count": null,
   "metadata": {},
   "outputs": [],
   "source": [
    "np.percentile(cl_cov, [1, 99])"
   ]
  },
  {
   "cell_type": "code",
   "execution_count": null,
   "metadata": {},
   "outputs": [],
   "source": [
    "plt.imshow(cl_cov.dot(inv_cov), cmap='jet', vmin=-1.0e-13, vmax=1.0e-13)"
   ]
  },
  {
   "cell_type": "code",
   "execution_count": null,
   "metadata": {},
   "outputs": [],
   "source": [
    "clmocks = {}\n",
    "clmocks['mean'] = np.load('/fs/ess/PHS0336/data/lognormal/v0/clustering/clmock_bmzls_noweight_mean.npz')\n",
    "clmocks['cov'] = np.load('/fs/ess/PHS0336/data/lognormal/v0/clustering/clmock_bmzls_noweight_cov.npz')\n",
    "clmocks['mean_fine'] = np.load('/fs/ess/PHS0336/data/lognormal/v0/clustering/clmock_bmzls_noweight_mean_fine.npz')\n",
    "clmocks['cov_fine'] = np.load('/fs/ess/PHS0336/data/lognormal/v0/clustering/clmock_bmzls_noweight_cov_fine.npz')\n",
    "\n",
    "d_ = ft.read('/fs/ess/PHS0336/data/rongpu/imaging_sys/tables/v3/nlrg_features_bmzls_256.fits')\n",
    "w_ = make_hp(256, d_['hpix'], 1.0) > 0.5\n",
    "ww = hp.ud_grade(w_, 1024)\n",
    "\n",
    "z, b, dNdz = init_sample(kind='lrg')\n",
    "model = SurveySpectrum()\n",
    "model.add_tracer(z, b, dNdz, p=1.6)\n",
    "model.add_kernels(model.el_model)\n",
    "model.add_window(ww*1.0, ww, np.arange(2048), ngauss=2048)  \n",
    "\n",
    "el_g = np.arange(1, 300)\n",
    "\n",
    "for m in ['', '_fine']:\n",
    "    cl_ = clmocks['mean'+m]['cl']\n",
    "    el_ = clmocks['mean'+m]['el_bin']\n",
    "    clcov_ = clmocks['cov'+m]['clcov']\n",
    "\n",
    "    plt.errorbar(el_, cl_, yerr=np.diag(clcov_)**0.5, capsize=4, marker='.', mfc='w', ls='none')\n",
    "\n",
    "plt.plot(el_g, model(el_g, fnl=0.0, noise=5.24e-7), lw=1)\n",
    "plt.plot(el_g, model(el_g, fnl=20.0, noise=5.24e-7), lw=1)\n",
    "plt.plot(el_g, model(el_g, fnl=-20.0, noise=5.24e-7), lw=1)\n",
    "plt.xscale('log')\n",
    "# plt.yscale('log')"
   ]
  },
  {
   "cell_type": "markdown",
   "metadata": {},
   "source": [
    "## Fiducial Binning"
   ]
  },
  {
   "cell_type": "code",
   "execution_count": null,
   "metadata": {},
   "outputs": [],
   "source": [
    "for r in ['bmzls', 'ndecals', 'sdecals']:\n",
    "    for m in ['noweight', 'lin', 'nn']:\n",
    "        make_cl4partialsky(r, m)"
   ]
  },
  {
   "cell_type": "code",
   "execution_count": null,
   "metadata": {},
   "outputs": [],
   "source": [
    "dcl_obs = np.load('/fs/ess/PHS0336/data/lognormal/v0/clustering/clmock_bmzls_lin_mean.npz')\n",
    "dclcov_obs = np.load('/fs/ess/PHS0336/data/lognormal/v0/clustering/clmock_bmzls_noweight_cov.npz')\n",
    "\n",
    "cl_obs2 = dcl_obs['cl']\n",
    "el_obs2 = dcl_obs['el_bin']\n",
    "cl_cov2 = dclcov_obs['clcov']"
   ]
  },
  {
   "cell_type": "code",
   "execution_count": null,
   "metadata": {},
   "outputs": [],
   "source": [
    "d_ = ft.read('/fs/ess/PHS0336/data/rongpu/imaging_sys/tables/v3/nlrg_features_bmzls_256.fits')\n",
    "w_ = make_hp(256, d_['hpix'], 1.0) > 0.5\n",
    "ww = hp.ud_grade(w_, 1024)"
   ]
  },
  {
   "cell_type": "code",
   "execution_count": null,
   "metadata": {},
   "outputs": [],
   "source": [
    "z, b, dNdz = init_sample(kind='lrg')\n",
    "\n",
    "model = SurveySpectrum()\n",
    "model.add_tracer(z, b, dNdz, p=1.6)\n",
    "model.add_kernels(model.el_model)\n",
    "model.add_window(ww*1.0, ww, np.arange(2048), ngauss=2048)  "
   ]
  },
  {
   "cell_type": "code",
   "execution_count": null,
   "metadata": {},
   "outputs": [],
   "source": [
    "ell_edges = np.array([2] + [10*i for i in range(1,10)] + [100+i*20 for i in range(5)] + [200+i*50 for i in range(3)])\n",
    "cl_model = model(np.arange(768), 0.0, noise=5.24e-7)\n",
    "cl_model_binned = histogram_cell(np.arange(cl_model.size), cl_model, bins=ell_edges)[1]"
   ]
  },
  {
   "cell_type": "code",
   "execution_count": null,
   "metadata": {},
   "outputs": [],
   "source": [
    "plt.errorbar(el_obs2, cl_obs2, yerr=np.diagonal(cl_cov2)**0.5,\n",
    "             marker='.', mfc='w', ls='none', capsize=3, alpha=0.9)\n",
    "\n",
    "# plt.errorbar(el_bin, cl_mocks.mean(axis=0), yerr=np.diagonal(cl_cov)**0.5,\n",
    "#              marker='.', mfc='w', ls='none', capsize=3, alpha=0.9)\n",
    "\n",
    "plt.plot(cl_model[:300])\n",
    "# plt.plot(el_bin, cl_model_binned)\n",
    "plt.xscale('symlog', linthreshx=1)"
   ]
  },
  {
   "cell_type": "code",
   "execution_count": null,
   "metadata": {},
   "outputs": [],
   "source": [
    "# cl_obs = cl_mocks.mean(axis=0)\n",
    "\n",
    "inv_cov = np.linalg.inv(cl_cov2)\n",
    "\n",
    "res = cl_obs2 - cl_model_binned\n",
    "print(0.5*res.dot(inv_cov.dot(res)), res.shape)"
   ]
  },
  {
   "cell_type": "code",
   "execution_count": null,
   "metadata": {},
   "outputs": [],
   "source": [
    "# sample = chains[5000:, :, :].flatten().reshape(-1, 2)\n",
    "# sample[:, 1] *= 1.0e7\n",
    "chains = np.load('/fs/ess/PHS0336/data/lognormal/v0/mcmc/mcmc_lrg_bmzls_noweight_10000.npy')\n",
    "print(chains.shape)\n",
    "\n",
    "fg, ax = plt.subplots(nrows=2, figsize=(10, 10), sharex=True)\n",
    "fg.subplots_adjust(hspace=0.0)\n",
    "\n",
    "for i in range(10):\n",
    "    ax[0].plot(chains[:, i, 0], ls='-', lw=0.2)\n",
    "    ax[1].plot(chains[:, i, 1], ls='-', lw=0.2)\n",
    "        \n",
    "ax[0].set(ylabel=r'$f_{\\rm NL}$')\n",
    "ax[1].set(xlabel='step', ylabel='noise')\n",
    "plt.show()\n",
    "\n",
    "sample = chains[5000:, :, :].flatten().reshape(-1, 2)\n",
    "sample[:, 1] *= 1.0e7\n",
    "corner.corner(sample, smooth=True, show_titles=True, #quantiles=(0.16, 0.84), levels=(0.393, 0.68, 0.95), \n",
    "              labels=[r'$f_{\\rm NL}$', r'noise'], truths=[0.0, 5.24], truth_color='C1',)\n",
    "plt.show()"
   ]
  },
  {
   "cell_type": "code",
   "execution_count": null,
   "metadata": {},
   "outputs": [],
   "source": [
    "dt = ft.read('/fs/ess/PHS0336/data/rongpu/imaging_sys/tables/v3/nlrg_features_bmzls_256.fits')"
   ]
  },
  {
   "cell_type": "code",
   "execution_count": null,
   "metadata": {},
   "outputs": [],
   "source": [
    "dt['label'].size / (12*256*256)"
   ]
  },
  {
   "cell_type": "code",
   "execution_count": null,
   "metadata": {},
   "outputs": [],
   "source": [
    "58.15/36.24, 1./np.sqrt(0.1246477762858)"
   ]
  },
  {
   "cell_type": "code",
   "execution_count": null,
   "metadata": {},
   "outputs": [],
   "source": [
    "chains2 = np.load('/fs/ess/PHS0336/data/lognormal/v0/mcmc/mcmc_lrg_fullsky_noweight_10000.npy')\n",
    "print(chains2.shape)\n",
    "\n",
    "sample2 = chains2[5000:, :, :].flatten().reshape(-1, 2)\n",
    "sample2[:, 1] *= 1.0e7"
   ]
  },
  {
   "cell_type": "code",
   "execution_count": null,
   "metadata": {},
   "outputs": [],
   "source": [
    "fig = corner.corner(sample, smooth=True, )\n",
    "corner.corner(sample2, smooth=True, fig=fig, color='C2', \n",
    "              labels=[r'$f_{\\rm NL}$', r'noise'])\n",
    "plt.show()"
   ]
  },
  {
   "cell_type": "code",
   "execution_count": null,
   "metadata": {},
   "outputs": [],
   "source": [
    "regions = ['bmzls', 'ndecals', 'sdecals']\n",
    "methods = ['nn', 'lin', 'noweight']\n",
    "\n",
    "chains = {}\n",
    "for r in regions:\n",
    "    for m in methods:\n",
    "        #chains[f'{r}_{m}_1k'] = np.load(f'/fs/ess/PHS0336/data/lognormal/v0/mcmc/mcmc_lrg_{r}_{m}_steps1k.npy')\n",
    "        chains[f'{r}_{m}'] = np.load(f'/fs/ess/PHS0336/data/lognormal/v0/mcmc/mcmc_lrg_{r}_{m}_10000.npy')\n",
    "        \n",
    "print(chains.keys())\n",
    "\n",
    "\n",
    "fg, ax = plt.subplots(nrows=2, figsize=(10, 10), sharex=True)\n",
    "fg.subplots_adjust(hspace=0.0)\n",
    "for m in chains:\n",
    "    for i in range(10):\n",
    "        ln = ax[0].plot(chains[m][:, i, 0], ls='-', lw=1)\n",
    "        ax[1].plot(chains[m][:, i, 1], ls='-', lw=1)\n",
    "        \n",
    "ax[1].set(xlabel='step', ylabel='noise')\n",
    "ax[0].set(ylabel=r'$f_{\\rm NL}$')"
   ]
  },
  {
   "cell_type": "code",
   "execution_count": null,
   "metadata": {},
   "outputs": [],
   "source": [
    "skip = 5000\n",
    "\n",
    "colors = ['C0', 'C1', 'C2']\n",
    "\n",
    "fg, ax = plt.subplots(ncols=3, figsize=(18, 5), sharey=True, sharex=True)\n",
    "fg.subplots_adjust(wspace=0.02) \n",
    "\n",
    "for i, r in enumerate(regions):\n",
    "    \n",
    "    \n",
    "    for j, m in enumerate(methods):\n",
    "        \n",
    "        k = f'{r}_{m}'\n",
    "        v = chains[k][skip:, :, 0].flatten()\n",
    "        vmin, vmax = np.percentile(v, [15, 85])\n",
    "        print(k, '%.2f'%(vmax - vmin))\n",
    "        h = ax[i].hist(v, alpha=0.8, histtype='step', \n",
    "                       label=m, zorder=-10, color=colors[j], bins=np.arange(-100, 100., 8.))\n",
    "        \n",
    "        ax[i].text(0.03, 0.9-0.1*j, '{0:.1f}<fNL<{1:.1f}'.format(*np.percentile(v, [15, 85])),\n",
    "                   alpha=0.5, color=colors[j], transform=ax[i].transAxes)\n",
    "        \n",
    "    ax[i].set(title=r, xlabel=r'$f_{\\rm NL}$', yticks=[])\n",
    "\n",
    "ax[2].legend(loc='upper right')"
   ]
  },
  {
   "cell_type": "code",
   "execution_count": null,
   "metadata": {},
   "outputs": [],
   "source": [
    "import seaborn as sns"
   ]
  },
  {
   "cell_type": "code",
   "execution_count": null,
   "metadata": {},
   "outputs": [],
   "source": [
    "fg, ax = plt.subplots(figsize=(8, 6))\n",
    "\n",
    "sns.histplot(sample[:, 0], bins=40, kde=True, color='C0', ax=ax, alpha=0.2, lw=0.05)\n",
    "sns.histplot(sample2[:, 0], bins=40, kde=True, ax=ax, color='C2', alpha=0.2, lw=0.05)\n",
    "\n",
    "ax.axvline(np.median(sample2[:, 0]), color='C2', ls='--')\n",
    "ax.axvline(np.median(sample[:, 0]), color='C0', ls='-')\n",
    "ax.set_yticks([])\n",
    "ax.set_ylabel('')\n",
    "ax.set_xlabel(r'$f_{\\rm NL}$')\n",
    "# plt.axvline(0.0)"
   ]
  },
  {
   "cell_type": "code",
   "execution_count": null,
   "metadata": {},
   "outputs": [],
   "source": [
    "chains = np.load('/fs/ess/PHS0336/data/lognormal/v0/mcmc/mcmc_lrg_bmzls_nn_10000_50walkers.npy')\n",
    "print(chains.shape)\n",
    "\n",
    "sample = chains[5000:, :, :].flatten().reshape(-1, 2)\n",
    "sample[:, 1] *= 1.0e7\n",
    "\n",
    "\n",
    "chains2 = np.load('/fs/ess/PHS0336/data/lognormal/v0/mcmc/mcmc_lrg_bmzls_nn_10000.npy')\n",
    "print(chains2.shape)\n",
    "\n",
    "sample2 = chains2[5000:, :, :].flatten().reshape(-1, 2)\n",
    "sample2[:, 1] *= 1.0e7"
   ]
  },
  {
   "cell_type": "code",
   "execution_count": null,
   "metadata": {},
   "outputs": [],
   "source": [
    "fg, ax = plt.subplots(figsize=(8, 6))\n",
    "\n",
    "ax.hist(sample[:, 0], bins=40, color='C0', alpha=0.2, density=True)\n",
    "ax.hist(sample2[:, 0], bins=40,color='C2', alpha=0.2, density=True)\n",
    "\n",
    "ax.axvline(np.median(sample[:, 0]), color='C0', ls='-')\n",
    "ax.axvline(np.median(sample2[:, 0]), color='C2', ls='--')\n",
    "ax.set_yticks([])\n",
    "ax.set_ylabel('')\n",
    "ax.set_xlabel(r'$f_{\\rm NL}$')\n",
    "# plt.axvline(0.0)"
   ]
  },
  {
   "cell_type": "markdown",
   "metadata": {},
   "source": [
    "### Full Sky Lognormal"
   ]
  },
  {
   "cell_type": "code",
   "execution_count": null,
   "metadata": {},
   "outputs": [],
   "source": [
    "chains = np.load('/fs/ess/PHS0336/data/lognormal/v0/mcmc/mcmc_lrg_fullsky_noweight_1000.npy')\n",
    "chains.shape"
   ]
  },
  {
   "cell_type": "code",
   "execution_count": null,
   "metadata": {},
   "outputs": [],
   "source": [
    "fg, ax = plt.subplots(nrows=2, figsize=(10, 10), sharex=True)\n",
    "fg.subplots_adjust(hspace=0.0)\n",
    "\n",
    "for i in range(10):\n",
    "    ax[0].plot(chains[:, i, 0], ls='-', lw=1)\n",
    "    ax[1].plot(chains[:, i, 1], ls='-', lw=1)\n",
    "        \n",
    "ax[0].set(ylabel=r'$f_{\\rm NL}$')\n",
    "ax[1].set(xlabel='step', ylabel='noise')\n"
   ]
  },
  {
   "cell_type": "code",
   "execution_count": null,
   "metadata": {},
   "outputs": [],
   "source": [
    "sample = chains[200:, :, :].flatten().reshape(-1, 2)\n",
    "sample[:, 1] *= 1.0e7"
   ]
  },
  {
   "cell_type": "code",
   "execution_count": null,
   "metadata": {},
   "outputs": [],
   "source": []
  },
  {
   "cell_type": "code",
   "execution_count": null,
   "metadata": {},
   "outputs": [],
   "source": []
  },
  {
   "cell_type": "code",
   "execution_count": null,
   "metadata": {},
   "outputs": [],
   "source": [
    "corner.corner(sample, smooth=True, show_titles=True, #quantiles=(0.16, 0.84), levels=(0.393, 0.68, 0.95), \n",
    "              labels=[r'$f_{\\rm NL}$', r'noise'], truths=[0.0, 5.24], truth_color='C1',)\n",
    "plt.show()"
   ]
  },
  {
   "cell_type": "code",
   "execution_count": null,
   "metadata": {},
   "outputs": [],
   "source": [
    "# maps = glob('/fs/ess/PHS0336/data/lognormal/v0/*.fits')\n",
    "# print(len(maps))\n",
    "#\n",
    "# shotnoise = []\n",
    "# for map_i in maps:\n",
    "#     d_i = hp.read_map(map_i, verbose=False, dtype=np.float32)\n",
    "#     shotnoise.append(1./np.mean(d_i)*hp.nside2pixarea(256))\n",
    "#     print('.', end='')\n",
    "#noise = np.mean(shotnoise)\n",
    "noise = 5.247052878037432e-07 # this is what I got after running above\n",
    "noise "
   ]
  },
  {
   "cell_type": "code",
   "execution_count": null,
   "metadata": {},
   "outputs": [],
   "source": [
    "#ell_edges = np.arange(2, 312, 10)\n",
    "#ell_edges = np.array([2] + [10*i for i in range(1,10)] + [100+i*20 for i in range(5)] + [200+i*50 for i in range(3)])\n",
    "ell_edges = np.array([i for i in range(2, 10)] + [10*i for i in range(1, 10)] +[100+i*20 for i in range(5)] + [200+i*50 for i in range(3)])\n",
    "\n",
    "cl_mocks = np.load('/fs/ess/PHS0336/data/lognormal/v0/clustering/clmock_fullsky.npy')\n",
    "ell = np.arange(cl_mocks.shape[1])\n",
    "cl_mocks_binned = []\n",
    "for cl_i in cl_mocks:\n",
    "    ell_bin, cl_bin = histogram_cell(ell, cl_i, bins=ell_edges)\n",
    "    cl_mocks_binned.append(cl_bin)\n",
    "    print('.', end='')\n",
    "cl_mocks_binned = np.array(cl_mocks_binned)\n",
    "\n",
    "nmocks, nbins = cl_mocks_binned.shape\n",
    "hf = (nmocks - 1.0)/(nmocks - nbins - 2.0)\n",
    "cl_cov = np.cov(cl_mocks_binned, rowvar=False)*hf #/ nmocks\n",
    "inv_cov = np.linalg.inv(cl_cov)\n",
    "print(f'Hartlap with #mocks ({nmocks}) and #bins ({nbins}): {hf:.2f}' )\n",
    "\n",
    "\n",
    "#np.savez('/fs/ess/PHS0336/data/lognormal/v0/clustering/clmock_fullsky_mean.npz',\n",
    "np.savez('/fs/ess/PHS0336/data/lognormal/v0/clustering/clmock_fullsky_mean_fine.npz',\n",
    "     **{'el_edges':ell_edges, 'el_bin':ell_bin, 'cl':cl_mocks_binned.mean(axis=0)})\n",
    "\n",
    "np.savez('/fs/ess/PHS0336/data/lognormal/v0/clustering/clmock_fullsky_cov_fine.npz',\n",
    "     **{'el_edges':ell_edges, 'el_bin':ell_bin, 'clcov':cl_cov})"
   ]
  },
  {
   "cell_type": "code",
   "execution_count": null,
   "metadata": {},
   "outputs": [],
   "source": [
    "clmocks = {}\n",
    "clmocks['mean'] = np.load('/fs/ess/PHS0336/data/lognormal/v0/clustering/clmock_fullsky_mean.npz')\n",
    "clmocks['cov'] = np.load('/fs/ess/PHS0336/data/lognormal/v0/clustering/clmock_fullsky_cov.npz')\n",
    "clmocks['mean_fine'] = np.load('/fs/ess/PHS0336/data/lognormal/v0/clustering/clmock_fullsky_mean_fine.npz')\n",
    "clmocks['cov_fine'] = np.load('/fs/ess/PHS0336/data/lognormal/v0/clustering/clmock_fullsky_cov_fine.npz')\n",
    "\n",
    "ww = np.ones(12*1024*1024, '?')\n",
    "z, b, dNdz = init_sample(kind='lrg')\n",
    "model = SurveySpectrum()\n",
    "model.add_tracer(z, b, dNdz, p=1.6)\n",
    "model.add_kernels(model.el_model)\n",
    "model.add_window(ww*1.0, ww, np.arange(2048), ngauss=2048)  \n",
    "\n",
    "el_g = np.arange(1, 300)\n",
    "\n",
    "for m in ['', '_fine']:\n",
    "    cl_ = clmocks['mean'+m]['cl']\n",
    "    el_ = clmocks['mean'+m]['el_bin']\n",
    "    clcov_ = clmocks['cov'+m]['clcov']\n",
    "\n",
    "    plt.errorbar(el_, cl_, yerr=np.diag(clcov_)**0.5, capsize=4, marker='.', mfc='w', ls='none')\n",
    "\n",
    "plt.plot(el_g, model(el_g, fnl=0.0, noise=5.24e-7), lw=1)\n",
    "plt.plot(el_g, model(el_g, fnl=20.0, noise=5.24e-7), lw=1)\n",
    "plt.plot(el_g, model(el_g, fnl=-20.0, noise=5.24e-7), lw=1)\n",
    "plt.xscale('log')\n",
    "# plt.yscale('log')"
   ]
  },
  {
   "cell_type": "code",
   "execution_count": null,
   "metadata": {},
   "outputs": [],
   "source": [
    "res = cl_obs - cl_model_binned\n",
    "print(res.dot(invcov.dot(res)), res.shape)"
   ]
  },
  {
   "cell_type": "code",
   "execution_count": null,
   "metadata": {},
   "outputs": [],
   "source": [
    "fnl = np.linspace(-10, 10, num=11)\n",
    "noi = noise+ np.linspace(-1.0e-7, 1.0e-7, num=11)\n",
    "print(noi, fnl)\n",
    "\n",
    "chi1d = []\n",
    "ell = np.arange(768)\n",
    "for fi in fnl:\n",
    "    cl_model_ = model(ell, fi, noise=noise)\n",
    "    cl_modelb_ = histogram_cell(ell, cl_model_, bins=el_edges)[1]\n",
    "    res = cl_obs - cl_modelb_\n",
    "    chi1d.append(res.dot(invcov.dot(res)))\n",
    "    print('.', end='')\n",
    "\n",
    "plt.plot(fnl, np.array(chi1d)*1000)\n",
    "plt.xlabel('varying fNL [while the noise is fixed]')\n",
    "plt.ylabel('chi2')\n",
    "# plt.ylim(ymax=50.)"
   ]
  },
  {
   "cell_type": "code",
   "execution_count": null,
   "metadata": {},
   "outputs": [],
   "source": [
    "chi1d_n = []\n",
    "\n",
    "for ni in noi:\n",
    "    cl_model_ = model(ell, 0.0, noise=ni)\n",
    "    cl_modelb_ = histogram_cell(ell, cl_model_, bins=el_edges)[1]\n",
    "    res = cl_obs - cl_modelb_\n",
    "    chi1d_n.append(res.dot(invcov.dot(res)))\n",
    "    print('.', end='')\n",
    "    \n",
    "plt.plot(noi, np.array(chi1d_n)*1000.)"
   ]
  },
  {
   "cell_type": "code",
   "execution_count": null,
   "metadata": {},
   "outputs": [],
   "source": [
    "FNL, NOISE = np.meshgrid(fnl, noi)\n",
    "\n",
    "ell = np.arange(768)\n",
    "cost = []\n",
    "for fi, nj in zip(FNL.flatten(), NOISE.flatten()):\n",
    "    #print(i, j)\n",
    "    \n",
    "    cl_model_ = model(ell, fi, noise=nj)\n",
    "    cl_modelb_ = histogram_cell(ell, cl_model_, bins=el_edges)[1]\n",
    "    res = cl_obs - cl_modelb_\n",
    "    cost.append(res.dot(invcov.dot(res)))\n",
    "\n",
    "    print('.', end='')"
   ]
  },
  {
   "cell_type": "code",
   "execution_count": null,
   "metadata": {},
   "outputs": [],
   "source": [
    "cost = np.array(cost).reshape(11, 11)"
   ]
  },
  {
   "cell_type": "code",
   "execution_count": null,
   "metadata": {},
   "outputs": [],
   "source": [
    "levels = np.percentile(cost.flatten()*1000, np.arange(0., 9., 1.))\n",
    "levels"
   ]
  },
  {
   "cell_type": "code",
   "execution_count": null,
   "metadata": {},
   "outputs": [],
   "source": [
    "plt.contour(FNL, NOISE, cost*1000, levels,  \n",
    "            origin='lower', cmap='jet')\n",
    "plt.colorbar(label=r'$\\chi^{2}$')\n",
    "plt.ylim(5.2e-7, 5.3e-7)\n",
    "plt.xlabel('fNL')\n",
    "plt.ylabel('noise')"
   ]
  },
  {
   "cell_type": "code",
   "execution_count": null,
   "metadata": {},
   "outputs": [],
   "source": [
    "from scipy.optimize import minimize"
   ]
  },
  {
   "cell_type": "code",
   "execution_count": null,
   "metadata": {},
   "outputs": [],
   "source": [
    "#--- optimization\n",
    "lg = Posterior(model, cl_obs, invcov, el_edges)\n",
    "def logpost(foo):\n",
    "    return -1*lg.logpost(foo)  "
   ]
  },
  {
   "cell_type": "code",
   "execution_count": null,
   "metadata": {},
   "outputs": [],
   "source": [
    "from time import time"
   ]
  },
  {
   "cell_type": "code",
   "execution_count": null,
   "metadata": {},
   "outputs": [],
   "source": [
    "t0 = time()\n",
    "res = minimize(logpost, [1.0, 5.6e-7], method='Nelder-Mead')\n",
    "t1 = time()"
   ]
  },
  {
   "cell_type": "code",
   "execution_count": null,
   "metadata": {},
   "outputs": [],
   "source": [
    "t1-t0"
   ]
  },
  {
   "cell_type": "code",
   "execution_count": null,
   "metadata": {},
   "outputs": [],
   "source": [
    "227/60."
   ]
  },
  {
   "cell_type": "code",
   "execution_count": null,
   "metadata": {},
   "outputs": [],
   "source": [
    "res"
   ]
  },
  {
   "cell_type": "code",
   "execution_count": null,
   "metadata": {},
   "outputs": [],
   "source": [
    "plt.plot(fnl, np.array(chi1d)*1000.)\n",
    "plt.plot(fnl, np.array(chi1d2)*1000.)\n",
    "\n",
    "plt.xlabel('varying fNL [while the noise is fixed]')\n",
    "plt.ylabel('chi2')\n",
    "plt.ylim(ymax=100.)\n",
    "plt.xlim(-10., 10.)"
   ]
  },
  {
   "cell_type": "markdown",
   "metadata": {},
   "source": [
    "### BMZLS"
   ]
  },
  {
   "cell_type": "code",
   "execution_count": null,
   "metadata": {},
   "outputs": [],
   "source": [
    "r = 'bmzls'\n",
    "#chains = np.load(f'/fs/ess/PHS0336/data/lognormal/v0/mcmc/mcmc_lrg_{r}_{m}.npy')\n",
    "noise = 5.318313611128018e-07# nowei. np.mean(chains[200:, :, 1])\n",
    "#noise = 5.325521208000955e-07 # lin.\n",
    "print(noise)\n",
    "\n",
    "weight, mask = read_window(r)\n",
    "\n",
    "z, b, dNdz = init_sample(kind='lrg')\n",
    "\n",
    "model = SurveySpectrum()\n",
    "model.add_tracer(z, b, dNdz, p=1.6)\n",
    "model.make_kernels(model.el_model)\n",
    "model.prep_window(weight, mask, np.arange(2*1024), ngauss=2*1024)"
   ]
  },
  {
   "cell_type": "code",
   "execution_count": null,
   "metadata": {},
   "outputs": [],
   "source": [
    "data_path = '/fs/ess/PHS0336/data/'\n",
    "bins = np.array([2*(i+1) for i in range(4, 10)]+[30+i*50 for i in range(7)])\n",
    "\n",
    "# compute covariance\n",
    "cl_list = []\n",
    "for i in range(1, 1001):    \n",
    "    cl_i = f'{data_path}lognormal/v0/clustering/clmock_{i}_lrg_{r}_256_noweight.npy'        \n",
    "    cl_ = np.load(cl_i, allow_pickle=True).item()['cl_gg']['cl']\n",
    "    lb_, clb_ = histogram_cell(np.arange(cl_.size), cl_, bins=bins)\n",
    "    cl_list.append(clb_)\n",
    "    print('.', end='')\n",
    "\n",
    "nmocks, nbins = np.array(cl_list).shape\n",
    "hf = (nmocks - 1.0)/(nmocks - nbins - 2.0)\n",
    "cl_cov = np.cov(cl_list, rowvar=False)*hf / nmocks\n",
    "inv_cov = np.linalg.inv(cl_cov)\n",
    "print(f'Hartlap with #mocks ({nmocks}) and #bins ({nbins}): {hf:.2f}' )\n",
    "\n",
    "el = lb_\n",
    "cl = np.mean(cl_list, axis=0)"
   ]
  },
  {
   "cell_type": "code",
   "execution_count": null,
   "metadata": {},
   "outputs": [],
   "source": [
    "el_ = np.arange(1, 400)\n",
    "cl_zero_ = model(el_, 0.0, noise=0.0)\n",
    "cl_zero = histogram_cell(el_, cl_zero_, bins=bins)[1]"
   ]
  },
  {
   "cell_type": "code",
   "execution_count": null,
   "metadata": {},
   "outputs": [],
   "source": [
    "plt.errorbar(el, cl, yerr=np.diagonal(cl_cov)**0.5, marker='s')\n",
    "plt.plot(el, cl_zero+noise)\n",
    "plt.xscale('log')"
   ]
  },
  {
   "cell_type": "code",
   "execution_count": null,
   "metadata": {},
   "outputs": [],
   "source": [
    "res = (cl_zero+noise - cl)\n",
    "print(res.dot(inv_cov.dot(res)))"
   ]
  },
  {
   "cell_type": "code",
   "execution_count": null,
   "metadata": {},
   "outputs": [],
   "source": [
    "res.shape"
   ]
  },
  {
   "cell_type": "code",
   "execution_count": null,
   "metadata": {},
   "outputs": [],
   "source": [
    "plt.plot(res)"
   ]
  },
  {
   "cell_type": "code",
   "execution_count": null,
   "metadata": {},
   "outputs": [],
   "source": [
    "for dres in np.linspace(-6.3e-9, -4.5e-9, 10):\n",
    "    res = (cl_zero+noise - cl)+dres\n",
    "    print(dres, res.dot(inv_cov.dot(res)))"
   ]
  },
  {
   "cell_type": "code",
   "execution_count": null,
   "metadata": {},
   "outputs": [],
   "source": []
  },
  {
   "cell_type": "code",
   "execution_count": null,
   "metadata": {},
   "outputs": [],
   "source": []
  },
  {
   "cell_type": "code",
   "execution_count": null,
   "metadata": {},
   "outputs": [],
   "source": []
  },
  {
   "cell_type": "code",
   "execution_count": null,
   "metadata": {},
   "outputs": [],
   "source": []
  },
  {
   "cell_type": "code",
   "execution_count": null,
   "metadata": {},
   "outputs": [],
   "source": [
    "def make_resplot(r, m, fnl_list=[-20., -10, -4]):\n",
    "\n",
    "    #chains = np.load(f'/fs/ess/PHS0336/data/lognormal/v0/mcmc/mcmc_lrg_{r}_{m}.npy')\n",
    "    # noise = 5.318313611128018e-07# nowei. np.mean(chains[200:, :, 1])\n",
    "    noise = 5.325521208000955e-07 # lin.\n",
    "    print(noise)\n",
    "\n",
    "    bins = np.array([2*(i+1) for i in range(10)]+[30+i*50 for i in range(7)])\n",
    "    el, cl, __, cl_cov = read_clmocks(r, m, bins=bins, return_cov=True)\n",
    "\n",
    "    weight, mask = read_window(r)\n",
    "\n",
    "    z, b, dNdz = init_sample(kind='lrg')\n",
    "\n",
    "    model = SurveySpectrum()\n",
    "    model.add_tracer(z, b, dNdz, p=1.6)\n",
    "    model.make_kernels(model.el_model)\n",
    "    model.prep_window(weight, mask, np.arange(2*1024), ngauss=2*1024)\n",
    "\n",
    "    el_ = np.arange(1, 400)\n",
    "    cl_zero_ = model(el_, 0.0, noise=noise)\n",
    "    cl_zero = histogram_cell(el_, cl_zero_, bins=bins)[1]\n",
    "\n",
    "    fg, ax = plt.subplots(figsize=(15, 8))\n",
    "    ax.errorbar(el, cl/cl_zero, \n",
    "                yerr=np.diag(cl_cov)**0.5/cl_zero, capsize=3, marker='.', mfc='w', ls='',\n",
    "                label=f'{r.upper()} {m}')\n",
    "    if len(fnl_list)!=0:        \n",
    "        for fnl in fnl_list:\n",
    "            ax.plot(el_, model(el_, fnl, noise=noise)/cl_zero_, \n",
    "                    label=r'f$_{\\rm NL}$=%.1f'%fnl)\n",
    "\n",
    "    ax.legend(fontsize=20, ncol=2, loc='lower right')\n",
    "    ax.axvline(20., ls='--', alpha=0.2)\n",
    "    ax.set(xlabel=r'$\\ell$', ylabel=r'C$_{\\ell}$/C$_{\\ell}^{fNL=0}$',\n",
    "          xlim=(-1., 400.), ylim=(0.0, 2.0), xscale='log')"
   ]
  },
  {
   "cell_type": "code",
   "execution_count": null,
   "metadata": {},
   "outputs": [],
   "source": [
    "make_resplot('bmzls', 'noweight', fnl_list=[-20., -10., -5., 0., 5., 20.])"
   ]
  },
  {
   "cell_type": "code",
   "execution_count": null,
   "metadata": {},
   "outputs": [],
   "source": [
    "make_resplot('bmzls', 'lin', fnl_list=[-20., -10., -5., 0., 5., 20.])"
   ]
  },
  {
   "cell_type": "markdown",
   "metadata": {},
   "source": [
    "## MCMC Fit"
   ]
  },
  {
   "cell_type": "code",
   "execution_count": null,
   "metadata": {},
   "outputs": [],
   "source": [
    "ls /fs/ess/PHS0336/data/lognormal/v0/mcmc/ -altr"
   ]
  },
  {
   "cell_type": "code",
   "execution_count": null,
   "metadata": {},
   "outputs": [],
   "source": [
    "regions = ['bmzls', 'ndecals', 'sdecals']\n",
    "methods = ['nn', 'lin', 'noweight']\n",
    "\n",
    "chains = {}\n",
    "for r in regions:\n",
    "    for m in methods:\n",
    "        #chains[f'{r}_{m}_1k'] = np.load(f'/fs/ess/PHS0336/data/lognormal/v0/mcmc/mcmc_lrg_{r}_{m}_steps1k.npy')\n",
    "        chains[f'{r}_{m}'] = np.load(f'/fs/ess/PHS0336/data/lognormal/v0/mcmc/mcmc_lrg_{r}_{m}_1000.npy')\n",
    "        \n",
    "print(chains.keys())\n",
    "\n",
    "\n",
    "fg, ax = plt.subplots(nrows=2, figsize=(10, 10), sharex=True)\n",
    "fg.subplots_adjust(hspace=0.0)\n",
    "for m in chains:\n",
    "    for i in range(10):\n",
    "        ln = ax[0].plot(chains[m][:, i, 0], ls='-', lw=1)\n",
    "        ax[1].plot(chains[m][:, i, 1], ls='-', lw=1)\n",
    "        \n",
    "ax[1].set(xlabel='step', ylabel='noise')\n",
    "ax[0].set(ylabel=r'$f_{\\rm NL}$')"
   ]
  },
  {
   "cell_type": "code",
   "execution_count": null,
   "metadata": {},
   "outputs": [],
   "source": [
    "skip = 200\n",
    "\n",
    "fg, ax = plt.subplots(ncols=3, figsize=(18, 5), sharey=True, sharex=True)\n",
    "fg.subplots_adjust(wspace=0.02) \n",
    "\n",
    "for i, r in enumerate(regions):\n",
    "    for j, m in enumerate(methods):\n",
    "        k = f'{r}_{m}'\n",
    "        v = chains[k][skip:, :, 0].flatten()\n",
    "        vmin, vmax = np.percentile(v, [15, 85])\n",
    "        print(k, '%.2f'%(vmax - vmin))\n",
    "        h = ax[i].hist(v, alpha=0.8, label=m, zorder=-10)\n",
    "        \n",
    "        ax[i].text(v.mean()-4, 2000-j*200, '{0:.1f}<fNL<{1:.1f}'.format(*np.percentile(v, [15, 85])),\n",
    "                   alpha=0.8, fontsize=12)\n",
    "        \n",
    "    ax[i].set(title=r, xlabel=r'$f_{\\rm NL}$', yticks=[])\n",
    "\n",
    "ax[2].legend(ncol=3)"
   ]
  },
  {
   "cell_type": "code",
   "execution_count": null,
   "metadata": {},
   "outputs": [],
   "source": [
    "chains[f'bmzls_2000'] = np.load(f'/fs/ess/PHS0336/data/lognormal/v0/mcmc/mcmc_lrg_bmzls_noweight_2000.npy')"
   ]
  },
  {
   "cell_type": "code",
   "execution_count": null,
   "metadata": {},
   "outputs": [],
   "source": [
    "chains[f'bmzls_2000'].shape"
   ]
  },
  {
   "cell_type": "code",
   "execution_count": null,
   "metadata": {},
   "outputs": [],
   "source": [
    "fg, ax = plt.subplots(figsize=(8, 6))\n",
    "fg.subplots_adjust(wspace=0.02) \n",
    "\n",
    "i = 0\n",
    "for k in ['bmzls_noweight', 'bmzls_2000']:\n",
    "    skip = 200 if i==0 else 500\n",
    "    v = chains[k][skip:, :, 0].flatten()\n",
    "    vmin, vmax = np.percentile(v, [15, 85])\n",
    "    print(vmax-vmin, v.mean())\n",
    "\n",
    "    h = ax.hist(v, histtype='step', alpha=0.8, range=(-10., 2.), bins=30, zorder=-10, density=True)\n",
    "\n",
    "    #ax.text(v.mean()-2, 10000-j*200, '{0:.1f}<fNL<{1:.1f}'.format(*np.percentile(v, [15, 85])),\n",
    "    #          alpha=0.8, fontsize=12)\n",
    "    #ax.text(v.mean(), 1800-j*200, m, )\n",
    "        \n",
    "    ax.set(xlabel=r'$f_{\\rm NL}$', yticks=[])\n",
    "\n",
    "ax.legend(['1k steps', '2k steps'], fontsize=15)"
   ]
  },
  {
   "cell_type": "code",
   "execution_count": null,
   "metadata": {},
   "outputs": [],
   "source": [
    "chains[f'bmzls_gt100'] = np.load(f'/fs/ess/PHS0336/data/lognormal/v0/mcmc/mcmc_lrg_bmzls_noweight_1000_gt100.npy')"
   ]
  },
  {
   "cell_type": "code",
   "execution_count": null,
   "metadata": {},
   "outputs": [],
   "source": [
    "fg, ax = plt.subplots(figsize=(8, 6))\n",
    "fg.subplots_adjust(wspace=0.02) \n",
    "\n",
    "i = 0\n",
    "for k in ['bmzls_noweight', 'bmzls_gt100']:\n",
    "    skip = 200\n",
    "    v = chains[k][skip:, :, 0].flatten()\n",
    "    vmin, vmax = np.percentile(v, [15, 85])\n",
    "    print(vmax-vmin, v.mean())\n",
    "\n",
    "    h = ax.hist(v, histtype='step', alpha=0.8, range=(-10., 2.), bins=30, zorder=-10, density=True)\n",
    "\n",
    "    #ax.text(v.mean()-2, 10000-j*200, '{0:.1f}<fNL<{1:.1f}'.format(*np.percentile(v, [15, 85])),\n",
    "    #          alpha=0.8, fontsize=12)\n",
    "    #ax.text(v.mean(), 1800-j*200, m, )\n",
    "        \n",
    "    ax.set(xlabel=r'$f_{\\rm NL}$', yticks=[])\n",
    "\n",
    "ax.legend([r'2<ell<330', '100<ell<330'], fontsize=15)"
   ]
  },
  {
   "cell_type": "code",
   "execution_count": null,
   "metadata": {},
   "outputs": [],
   "source": []
  },
  {
   "cell_type": "code",
   "execution_count": null,
   "metadata": {},
   "outputs": [],
   "source": [
    "\n",
    "fg, ax = plt.subplots(figsize=(8, 6))\n",
    "fg.subplots_adjust(wspace=0.02) \n",
    "\n",
    "for i, r in enumerate(regions):\n",
    "    for j, m in enumerate(methods):\n",
    "        for nstep in ['', '_1k']:\n",
    "            \n",
    "            k = f'{r}_{m}{nstep}'\n",
    "            skip = 200 if nstep=='' else 5000\n",
    "            \n",
    "            v = chains[k][skip:, :, 0].flatten()\n",
    "            vmin, vmax = np.percentile(v, [15, 85])\n",
    "            \n",
    "            print(r, m, nstep, vmax-vmin)\n",
    "            if '1k' in k:\n",
    "                lb = f'{m} with 10k'\n",
    "            else:\n",
    "                lb = f'{m} with 1k'\n",
    "\n",
    "            h = ax.hist(v, histtype='step', alpha=0.8, zorder=-10, density=True, label=lb)\n",
    "\n",
    "            #ax.text(v.mean()-2, 10000-j*200, '{0:.1f}<fNL<{1:.1f}'.format(*np.percentile(v, [15, 85])),\n",
    "            #          alpha=0.8, fontsize=12)\n",
    "            #ax.text(v.mean(), 1800-j*200, m, )\n",
    "        \n",
    "    ax.set(title=r, xlabel=r'$f_{\\rm NL}$', yticks=[])\n",
    "\n",
    "ax.legend(ncol=3, fontsize=15)"
   ]
  },
  {
   "cell_type": "code",
   "execution_count": null,
   "metadata": {},
   "outputs": [],
   "source": [
    "regions = ['bmzls']\n",
    "methods = ['nn', 'lin', 'noweight']\n",
    "\n",
    "chains = {}\n",
    "for r in regions:\n",
    "    for m in methods:\n",
    "        chains[f'{r}_{m}'] = np.load(f'/fs/ess/PHS0336/data/lognormal/v0/mcmc/mcmc_lrg_{r}_{m}.npy')"
   ]
  },
  {
   "cell_type": "code",
   "execution_count": null,
   "metadata": {},
   "outputs": [],
   "source": [
    "fg, ax = plt.subplots(nrows=2, figsize=(10, 4), sharex=True)\n",
    "\n",
    "\n",
    "for m in chains:\n",
    "    for i in range(10):\n",
    "        ln = ax[0].plot(chains[m][:, i, 0], ls='-')\n",
    "        ax[1].plot(chains[m][:, i, 1], ls='-')\n",
    "        \n",
    "ax[1].set(xlabel='step', ylabel='noise')\n",
    "ax[0].set(ylabel=r'f$_{\\rm NL}$')"
   ]
  },
  {
   "cell_type": "code",
   "execution_count": null,
   "metadata": {},
   "outputs": [],
   "source": [
    "fg, ax = plt.subplots(nrows=1, figsize=(10, 5), sharex=True)\n",
    "\n",
    "\n",
    "for m in chains:\n",
    "    for i in range(10):\n",
    "        ln = ax.plot(chains[m][:, i, 0], ls='-', lw=1)\n",
    "        #ax[1].plot(chains[m][:, i, 1], ls='-')\n",
    "        \n",
    "ax.set_ylim(-11., 5.)\n",
    "ax.set(xlabel='step', ylabel=r'f$_{\\rm NL}$')"
   ]
  },
  {
   "cell_type": "code",
   "execution_count": null,
   "metadata": {},
   "outputs": [],
   "source": [
    "skip = 200\n",
    "\n",
    "fg, ax = plt.subplots(figsize=(8, 6))\n",
    "fg.subplots_adjust(wspace=0.02) \n",
    "\n",
    "for i, r in enumerate(regions):\n",
    "    for j, m in enumerate(methods):\n",
    "        k = f'{r}_{m}'\n",
    "        v = chains[k][skip:, :, 0].flatten()\n",
    "        vmin, vmax = np.percentile(v, [15, 85])\n",
    "        print(r, m, vmax-vmin)\n",
    "        #if '2to330' in m:\n",
    "        #    lb = m.split('_')[0] + r' (2$\\leq\\ell$<330)'\n",
    "        #else:\n",
    "        #    lb = m + r' (4$\\leq\\ell$<330)'\n",
    "            \n",
    "        h = ax.hist(v, histtype='step', alpha=0.8, zorder=-10)\n",
    "        \n",
    "        ax.text(v.mean()-2, 2000-j*200, '{0:.1f}<fNL<{1:.1f}'.format(*np.percentile(v, [15, 85])),\n",
    "                  alpha=0.8, fontsize=12)\n",
    "        ax.text(v.mean(), 1800-j*200, m, )\n",
    "        \n",
    "    ax.set(title=r, xlabel=r'$f_{\\rm NL}$', yticks=[])\n",
    "\n",
    "ax.legend(ncol=3, fontsize=10)"
   ]
  },
  {
   "cell_type": "code",
   "execution_count": null,
   "metadata": {},
   "outputs": [],
   "source": [
    "regions = ['bmzls']\n",
    "methods = ['nn', 'nn_2to330', 'lin', 'lin_2to330', 'noweight', 'noweight_2to330']\n",
    "\n",
    "chains = {}\n",
    "for r in regions:\n",
    "    for m in methods:\n",
    "        chains[f'{r}_{m}'] = np.load(f'/fs/ess/PHS0336/data/rongpu/imaging_sys/clustering/v3/mcmc_lrg_{r}_{m}.npy')"
   ]
  },
  {
   "cell_type": "code",
   "execution_count": null,
   "metadata": {},
   "outputs": [],
   "source": [
    "fg, ax = plt.subplots(nrows=2, figsize=(10, 4), sharex=True)\n",
    "\n",
    "\n",
    "for m in chains:\n",
    "    for i in range(10):\n",
    "        ln = ax[0].plot(chains[m][:, i, 0], ls='-')\n",
    "        ax[1].plot(chains[m][:, i, 1], ls='-')"
   ]
  },
  {
   "cell_type": "code",
   "execution_count": null,
   "metadata": {},
   "outputs": [],
   "source": [
    "skip = 200\n",
    "\n",
    "fg, ax = plt.subplots(figsize=(8, 6))\n",
    "fg.subplots_adjust(wspace=0.02) \n",
    "\n",
    "for i, r in enumerate(regions):\n",
    "    for j, m in enumerate(methods):\n",
    "        k = f'{r}_{m}'\n",
    "        v = chains[k][skip:, :, 0].flatten()\n",
    "        print(np.percentile(v, [0, 100]))\n",
    "        if '2to330' in m:\n",
    "            lb = m.split('_')[0] + r' (2$\\leq\\ell$<330)'\n",
    "        else:\n",
    "            lb = m + r' (4$\\leq\\ell$<330)'\n",
    "            \n",
    "        h = ax.hist(v, histtype='step', alpha=0.8, label=lb, zorder=-10)\n",
    "        \n",
    "        #ax[i].text(v.mean()-2, 2000-j*200, '{0:.1f}<fNL<{1:.1f}'.format(*np.percentile(v, [15, 85])),\n",
    "        #           alpha=0.8, fontsize=12)\n",
    "        \n",
    "    ax.set(title=r, xlabel=r'$f_{\\rm NL}$', yticks=[])\n",
    "\n",
    "ax.legend(ncol=3, fontsize=10)"
   ]
  },
  {
   "cell_type": "code",
   "execution_count": null,
   "metadata": {},
   "outputs": [],
   "source": []
  },
  {
   "cell_type": "code",
   "execution_count": null,
   "metadata": {},
   "outputs": [],
   "source": []
  },
  {
   "cell_type": "code",
   "execution_count": null,
   "metadata": {},
   "outputs": [],
   "source": []
  },
  {
   "cell_type": "code",
   "execution_count": null,
   "metadata": {},
   "outputs": [],
   "source": [
    "regions = ['bmzls', 'ndecals', 'sdecals']\n",
    "methods = ['noweight', 'lin', 'nn']\n",
    "\n",
    "chains = {}\n",
    "for r in regions:\n",
    "    for m in methods:\n",
    "        chains[f'{r}_{m}'] = np.load(f'/fs/ess/PHS0336/data/rongpu/imaging_sys/clustering/v3/mcmc_lrg_{r}_{m}.npy')"
   ]
  },
  {
   "cell_type": "code",
   "execution_count": null,
   "metadata": {},
   "outputs": [],
   "source": [
    "fg, ax = plt.subplots(nrows=2, figsize=(10, 4), sharex=True)\n",
    "\n",
    "\n",
    "for m in chains:\n",
    "    for i in range(10):\n",
    "        ln = ax[0].plot(chains[m][:, i, 0], ls='-')\n",
    "        ax[1].plot(chains[m][:, i, 1], ls='-')"
   ]
  },
  {
   "cell_type": "code",
   "execution_count": null,
   "metadata": {},
   "outputs": [],
   "source": [
    "skip = 200\n",
    "\n",
    "fg, ax = plt.subplots(ncols=3, figsize=(18, 4), sharey=True, sharex=True)\n",
    "fg.subplots_adjust(wspace=0.02) \n",
    "\n",
    "for i, r in enumerate(regions):\n",
    "    for j, m in enumerate(methods):\n",
    "        k = f'{r}_{m}'\n",
    "        v = chains[k][skip:, :, 0].flatten()\n",
    "        print(np.percentile(v, [0, 100]))\n",
    "        h = ax[i].hist(v, histtype='step', alpha=0.8, label=m, zorder=-10)\n",
    "        \n",
    "        ax[i].text(v.mean()-2, 2000-j*200, '{0:.1f}<fNL<{1:.1f}'.format(*np.percentile(v, [15, 85])),\n",
    "                   alpha=0.8, fontsize=12)\n",
    "        \n",
    "    ax[i].set(title=r, xlabel=r'$f_{\\rm NL}$', yticks=[])\n",
    "\n",
    "ax[2].legend(ncol=3)"
   ]
  },
  {
   "cell_type": "markdown",
   "metadata": {},
   "source": [
    "## Mode-Counting vs Mock Error"
   ]
  },
  {
   "cell_type": "code",
   "execution_count": null,
   "metadata": {},
   "outputs": [],
   "source": [
    "region = 'bmzls'\n",
    "data_path = '/fs/ess/PHS0336/data/'\n",
    "list_clmocks = glob(f'{data_path}lognormal/v0/clustering/clmock_*_lrg_{region}_256_noweight.npy')\n",
    "print(len(list_clmocks))\n"
   ]
  },
  {
   "cell_type": "code",
   "execution_count": null,
   "metadata": {},
   "outputs": [],
   "source": [
    "df = ft.read('/fs/ess/PHS0336/data/rongpu/imaging_sys/tables/v3/nlrg_features_bmzls_256.fits')\n",
    "fsky = df.size / (12*256*256)\n",
    "print(fsky)"
   ]
  },
  {
   "cell_type": "code",
   "execution_count": null,
   "metadata": {},
   "outputs": [],
   "source": [
    "cl_mocks = []\n",
    "for fl in list_clmocks:\n",
    "    cl_i = np.load(fl, allow_pickle=True).item()\n",
    "    cl_mocks.append(cl_i['cl_gg']['cl'])\n",
    "    print('.', end='')\n",
    "\n",
    "cl_mean = np.mean(cl_mocks, axis=0)"
   ]
  },
  {
   "cell_type": "code",
   "execution_count": null,
   "metadata": {},
   "outputs": [],
   "source": [
    "cl_err = np.std(cl_mocks, axis=0)"
   ]
  },
  {
   "cell_type": "code",
   "execution_count": null,
   "metadata": {},
   "outputs": [],
   "source": [
    "el = np.arange(cl_mean.size)\n",
    "cl_mode = cl_mean / (0.5*(2.*el+1.)*fsky)"
   ]
  },
  {
   "cell_type": "code",
   "execution_count": null,
   "metadata": {},
   "outputs": [],
   "source": [
    "plt.plot(cl_mode, '-',\n",
    "         cl_err, '--')\n",
    "plt.legend(['Mode Counting', 'Mock Dispersion'])\n",
    "plt.yscale('log')\n",
    "plt.ylim(5.0e-9, 2.5e-5)\n",
    "# plt.xscale('symlog', linthreshx=100)\n",
    "# plt.xlim(xmax=1100)\n",
    "plt.xscale('log')\n",
    "plt.xlabel(r'$\\ell$')\n",
    "plt.ylabel(r'$\\sigma(C_{\\ell})$')"
   ]
  },
  {
   "cell_type": "code",
   "execution_count": null,
   "metadata": {},
   "outputs": [],
   "source": [
    "np.savetxt(\"cellerr_mc_mock.txt\", np.column_stack([el, cl_mode, cl_err]), header='ell mode-counting mock-dispersion')"
   ]
  },
  {
   "cell_type": "markdown",
   "metadata": {},
   "source": [
    "## Window and Integral  Constraint"
   ]
  },
  {
   "cell_type": "code",
   "execution_count": null,
   "metadata": {},
   "outputs": [],
   "source": [
    "def test_ic(region):\n",
    "    # read mocks\n",
    "    data_path = '/fs/ess/PHS0336/data/'\n",
    "\n",
    "\n",
    "    list_clmocks = glob(f'{data_path}lognormal/v0/clustering/clmock_*_lrg_{region}_256_noweight.npy')\n",
    "    print(len(list_clmocks))\n",
    "\n",
    "    cl_mocks = []\n",
    "    for fl in list_clmocks:\n",
    "        cl_i = np.load(fl, allow_pickle=True).item()\n",
    "        cl_mocks.append(cl_i['cl_gg']['cl'])\n",
    "        print('.', end='')\n",
    "\n",
    "    cl_mean = np.mean(cl_mocks, axis=0)\n",
    "\n",
    "\n",
    "    # mask\n",
    "    dt = ft.read(f'{data_path}rongpu/imaging_sys/tables/nlrg_features_{region}_256.fits')\n",
    "    mask_ = make_hp(256, dt['hpix'], 1.0) > 0.5\n",
    "    mask = hp.ud_grade(mask_, 1024)\n",
    "    weight = mask * 1.0\n",
    "\n",
    "    noise = 5.247718593589074e-07\n",
    "    el_m = np.arange(2*1024)\n",
    "    wd = WindowSHT(weight, mask, el_m, ngauss=2*1024)\n",
    "\n",
    "    # model\n",
    "    z, b, dNdz = init_sample(kind='lrg')\n",
    "\n",
    "    model = Spectrum()\n",
    "\n",
    "    ell = np.arange(3000)\n",
    "    model.add_tracer(z, b, dNdz, p=1.6)\n",
    "    model.make_kernels(ell)\n",
    "    cl_ = model(ell)\n",
    "\n",
    "    cl_model = wd.convolve(np.arange(cl_.size), cl_)+noise\n",
    "\n",
    "    cl_modelic = cl_model[:800] - cl_model[0]*(wd.cl_mask[:800]/wd.cl_mask[0])**2\n",
    "    cl_modelic_ = cl_model[:800] - cl_model[0]*(wd.cl_mask[:800])**2\n",
    "\n",
    "\n",
    "    # plot\n",
    "    def plot():\n",
    "        plt.plot(cl_+noise, label='Model', alpha=0.2)\n",
    "        plt.plot(cl_model,  label='Model+Window')\n",
    "        plt.plot(cl_modelic, label='Model+Window+IC', ls='-')\n",
    "        #plt.plot(cl_modelic_, label='Model+Window+IC II')\n",
    "\n",
    "        plt.plot(cl_mean,  label='Simulation Mean', color='C0', marker='o', markersize=4, mfc='w')\n",
    "\n",
    "    plt.figure(figsize=(14, 10))\n",
    "\n",
    "\n",
    "    plot()\n",
    "    plt.grid(ls=':', lw=1, alpha=0.8)\n",
    "    #plt.xlim(-0.4, 51)\n",
    "    plt.xlim(-1., 701)\n",
    "    plt.xlabel(r'$\\ell$')\n",
    "    plt.ylabel(r'C$_{\\ell}$')\n",
    "    plt.xscale('symlog', linthreshx=100)\n",
    "\n",
    "    #plt.axes([0.4, 0.25, 0.45, 0.45])\n",
    "    #plot()\n",
    "    #plt.xlim(-0.4, 9)\n",
    "    plt.legend()\n",
    "\n",
    "    # plt.xscale('log')\n",
    "    #plt.show()\n",
    "    plt.savefig('cl_model_mocks_scaled.png', dpi=300, bbox_inches='tight')"
   ]
  },
  {
   "cell_type": "code",
   "execution_count": null,
   "metadata": {},
   "outputs": [],
   "source": [
    "test_ic('bmzls')"
   ]
  },
  {
   "cell_type": "code",
   "execution_count": null,
   "metadata": {},
   "outputs": [],
   "source": [
    "test_ic('ndecals')"
   ]
  },
  {
   "cell_type": "code",
   "execution_count": null,
   "metadata": {},
   "outputs": [],
   "source": [
    "test_ic('sdecals')"
   ]
  },
  {
   "cell_type": "markdown",
   "metadata": {},
   "source": [
    "## Power Spectra"
   ]
  },
  {
   "cell_type": "code",
   "execution_count": null,
   "metadata": {},
   "outputs": [],
   "source": [
    "nmocks = 100\n",
    "\n",
    "\n",
    "cl_All = {}\n",
    "\n",
    "for region in ['bmzls', 'ndecals', 'sdecals']:\n",
    "    \n",
    "    cl_all = {'noweight':[],\n",
    "             'nn':[],\n",
    "             'lin':[]}\n",
    "    p = '/fs/ess/PHS0336/data/lognormal/v0/clustering/'\n",
    "\n",
    "    for i in range(1, nmocks+1):\n",
    "\n",
    "        for n in ['nn', 'lin', 'noweight']:\n",
    "            cl_ = np.load(f'{p}clmock_{i}_lrg_{region}_256_{n}.npy', allow_pickle=True).item()\n",
    "            cl_all[n].append(cl_['cl_gg']['cl'])\n",
    "    print(f'{region} done')\n",
    "    \n",
    "    cl_All[region] = cl_all"
   ]
  },
  {
   "cell_type": "code",
   "execution_count": null,
   "metadata": {},
   "outputs": [],
   "source": [
    "fg, ax_list = plt.subplots(ncols=3, figsize=(18, 4), sharey=True)\n",
    "fg.subplots_adjust(wspace=0.0)\n",
    "\n",
    "\n",
    "\n",
    "for i, (region, cl_all) in enumerate(cl_All.items()):\n",
    "    \n",
    "    ax = ax_list[i]\n",
    "    null_mean = np.mean(cl_all['noweight'], axis=0)\n",
    "\n",
    "    for n in ['nn', 'lin']:\n",
    "\n",
    "        ax.plot(np.mean(cl_all[n], axis=0)/null_mean, label=f'X={n.upper()}')\n",
    "\n",
    "    ax.text(0.3, 0.1, region.upper(), transform=ax.transAxes)\n",
    "    #ax.set(xscale='log', yscale='log', \n",
    "    #       ylabel=r'C$_{\\ell}$', xlabel='$\\ell$', ylim=(1.0e-7, 1.0e-4))\n",
    "    ax.set(xlim=(1, 805), xscale='log', xlabel=r'$\\ell$')\n",
    "    ax.legend()\n",
    "    ax.grid(ls=':', color='grey', alpha=0.5)\n",
    "    \n",
    "ax_list[0].set(ylabel='C$_{Null,X}$/C$_{Null}$')\n",
    "# ax.set_title('Mean of 100 Mocks')"
   ]
  },
  {
   "cell_type": "code",
   "execution_count": null,
   "metadata": {},
   "outputs": [],
   "source": [
    "fg, ax_list = plt.subplots(ncols=3, figsize=(18, 4), sharey=True)\n",
    "fg.subplots_adjust(wspace=0.0)\n",
    "\n",
    "\n",
    "\n",
    "for i, (region, cl_all) in enumerate(cl_All.items()):\n",
    "    \n",
    "    ax = ax_list[i]\n",
    "    null_mean = np.std(cl_all['noweight'], axis=0)\n",
    "    \n",
    "\n",
    "    for n in ['nn', 'lin']:\n",
    "\n",
    "        ax.plot(np.std(cl_all[n], axis=0)/null_mean, label=f'X={n.upper()}')\n",
    "\n",
    "    ax.text(0.3, 0.1, region.upper(), transform=ax.transAxes)\n",
    "    #ax.set(xscale='log', yscale='log', \n",
    "    #       ylabel=r'C$_{\\ell}$', xlabel='$\\ell$', ylim=(1.0e-7, 1.0e-4))\n",
    "    ax.set(xlim=(1, 805), xscale='log', xlabel=r'$\\ell$')\n",
    "    ax.legend()\n",
    "    ax.grid(ls=':', color='grey', alpha=0.5)\n",
    "    \n",
    "ax_list[0].set(ylabel='$\\sigma(C_{Null,X})/\\sigma(C_{Null})$')\n",
    "# ax.set_title('Mean of 100 Mocks')"
   ]
  },
  {
   "cell_type": "code",
   "execution_count": null,
   "metadata": {},
   "outputs": [],
   "source": [
    "fg, ax_list = plt.subplots(ncols=3, figsize=(18, 4), sharey=True)\n",
    "fg.subplots_adjust(wspace=0.0)\n",
    "\n",
    "def get_sn(cl):\n",
    "    return np.mean(cl, axis=0) / np.std(cl, axis=0)\n",
    "\n",
    "for i, (region, cl_all) in enumerate(cl_All.items()):\n",
    "    \n",
    "    ax = ax_list[i]\n",
    "    null_mean = np.mean(cl_all['noweight'], axis=0)\n",
    "    \n",
    "\n",
    "    for n in ['nn', 'lin', 'noweight']:\n",
    "\n",
    "        ax.plot(np.std(cl_all[n], axis=0)/null_mean, label=f'X={n.upper()}')\n",
    "\n",
    "    ax.text(0.2, 0.8, region.upper(), transform=ax.transAxes)\n",
    "    #ax.set(xscale='log', yscale='log', \n",
    "    #       ylabel=r'C$_{\\ell}$', xlabel='$\\ell$', ylim=(1.0e-7, 1.0e-4))\n",
    "    ax.set(xlim=(1, 805), xscale='log', xlabel=r'$\\ell$')\n",
    "    ax.legend()\n",
    "    ax.grid(ls=':', color='grey', alpha=0.5)\n",
    "    \n",
    "ax_list[0].set(ylabel='$\\sigma(C_{Null,X})/C_{Null}$')\n",
    "# ax.set_title('Mean of 100 Mocks')"
   ]
  },
  {
   "cell_type": "code",
   "execution_count": null,
   "metadata": {},
   "outputs": [],
   "source": [
    "fg, ax_list = plt.subplots(ncols=3, figsize=(18, 4), sharey=True)\n",
    "fg.subplots_adjust(wspace=0.0)\n",
    "\n",
    "def get_sn(cl):\n",
    "    return np.mean(cl, axis=0) / np.std(cl, axis=0)\n",
    "\n",
    "for i, (region, cl_all) in enumerate(cl_All.items()):\n",
    "    \n",
    "    ax = ax_list[i]\n",
    "\n",
    "    for n in ['nn', 'lin', 'noweight']:\n",
    "        null_mean = np.mean(cl_all[n], axis=0)\n",
    "        ax.plot(np.std(cl_all[n], axis=0)/null_mean, label=f'X={n.upper()}')\n",
    "\n",
    "    ax.text(0.2, 0.8, region.upper(), transform=ax.transAxes)\n",
    "    #ax.set(xscale='log', yscale='log', \n",
    "    #       ylabel=r'C$_{\\ell}$', xlabel='$\\ell$', ylim=(1.0e-7, 1.0e-4))\n",
    "    ax.set(xlim=(1, 805), xscale='log', xlabel=r'$\\ell$')\n",
    "    ax.legend()\n",
    "    ax.grid(ls=':', color='grey', alpha=0.5)\n",
    "    \n",
    "ax_list[0].set(ylabel='$\\sigma(C_{Null,X})/C_{Null,X}$')\n",
    "# ax.set_title('Mean of 100 Mocks')"
   ]
  },
  {
   "cell_type": "code",
   "execution_count": null,
   "metadata": {},
   "outputs": [],
   "source": [
    "fg, ax_list = plt.subplots(ncols=3, figsize=(18, 4), sharey=True)\n",
    "fg.subplots_adjust(wspace=0.0)\n",
    "\n",
    "def get_sn(cl):\n",
    "    return np.mean(cl, axis=0) / np.std(cl, axis=0)\n",
    "\n",
    "for i, (region, cl_all) in enumerate(cl_All.items()):\n",
    "    \n",
    "    ax = ax_list[i]\n",
    "    null_std = np.std(cl_all['noweight'], axis=0)\n",
    "    for n in ['nn', 'lin', 'noweight']:\n",
    "        \n",
    "        ax.plot(null_std/np.mean(cl_all[n], axis=0), label=f'X={n.upper()}')\n",
    "\n",
    "    ax.text(0.2, 0.8, region.upper(), transform=ax.transAxes)\n",
    "    #ax.set(xscale='log', yscale='log', \n",
    "    #       ylabel=r'C$_{\\ell}$', xlabel='$\\ell$', ylim=(1.0e-7, 1.0e-4))\n",
    "    ax.set(xlim=(1, 805), xscale='log', xlabel=r'$\\ell$')\n",
    "    ax.legend()\n",
    "    ax.grid(ls=':', color='grey', alpha=0.5)\n",
    "    \n",
    "ax_list[0].set(ylabel='$\\sigma(C_{Null})/C_{Null,X}$')\n",
    "# ax.set_title('Mean of 100 Mocks')"
   ]
  },
  {
   "cell_type": "code",
   "execution_count": null,
   "metadata": {},
   "outputs": [],
   "source": []
  },
  {
   "cell_type": "markdown",
   "metadata": {},
   "source": [
    "## Cross Power of Mocks"
   ]
  },
  {
   "cell_type": "code",
   "execution_count": null,
   "metadata": {},
   "outputs": [],
   "source": [
    "def make_cellchi2(region):      \n",
    "    # region = 'bmzls'\n",
    "    nmocks = 100\n",
    "    _, err_nn, cl_ss = read_clx(f'/fs/ess/PHS0336/data/rongpu/imaging_sys/clustering/v2/cl_lrg_{region}_256_nn.npy')\n",
    "    _, err_lin, _ = read_clx(f'/fs/ess/PHS0336/data/rongpu/imaging_sys/clustering/v2/cl_lrg_{region}_256_lin.npy', cl_ss)\n",
    "    \n",
    "    cell_list = [f'/fs/ess/PHS0336/data/lognormal/v0/clustering/clmock_{i}_lrg_{region}_256_noweight.npy'\\\n",
    "                for i in range(nmocks+1, 1001)]\n",
    "    print(len(cell_list))\n",
    "    \n",
    "    cell_mocks = read_clxmocks(cell_list, cl_ss)  \n",
    "    invcov, covmax = get_inv(cell_mocks, True)\n",
    "    \n",
    "    # read chi2 of mocks\n",
    "    chi2s = {'noweight':[], 'nn':[], 'lin':[]}\n",
    "    for i in range(1, nmocks+1):\n",
    "        for n in ['nn', 'lin', 'noweight']:\n",
    "            _,d_,_ = read_clx(f'/fs/ess/PHS0336/data/lognormal/v0/clustering/clmock_{i}_lrg_{region}_256_{n}.npy', cl_ss)\n",
    "            chi_ = chi2_fn(d_, invcov)\n",
    "            chi2s[n].append(chi_)\n",
    "        \n",
    "    chi2d = {}\n",
    "    chi2d['nn'] = chi2_fn(err_nn, invcov)\n",
    "    chi2d['lin'] = chi2_fn(err_lin, invcov)\n",
    "    \n",
    "    fg, ax = plt.subplots() # https://stackoverflow.com/a/25497638/9746916\n",
    "    ax.scatter(chi2s['noweight'], chi2s['nn'], marker='.', color='r', alpha=0.5)\n",
    "    ax.scatter(chi2s['noweight'], chi2s['lin'], marker='.', color='b', facecolor='w', alpha=0.5)\n",
    "    ax.scatter(np.mean(chi2s['noweight']), chi2d['nn'], 300, color='r', marker='*')\n",
    "    ax.scatter(np.mean(chi2s['noweight']), chi2d['lin'], 300, color='b', marker='o')    \n",
    "    lims = [np.min([ax.get_xlim(), ax.get_ylim()]),  # min of both axes\n",
    "            np.max([ax.get_xlim(), ax.get_ylim()]),  # max of both axes\n",
    "           ]\n",
    "\n",
    "    # now plot both limits against eachother\n",
    "    ax.set_title(region.upper())\n",
    "    ax.plot(lims, lims, 'k-', alpha=0.75, zorder=0)\n",
    "    # ax.set_aspect('equal')\n",
    "    ax.set_xlim(lims)\n",
    "    ax.set_ylim(lims)\n",
    "    ax.set_xlabel(r'$\\chi^{2}$ of Null Mocks')\n",
    "    ax.set_ylabel(r'$\\chi^{2}$ of Mitigated Null Mocks')\n",
    "    fg.show()    "
   ]
  },
  {
   "cell_type": "code",
   "execution_count": null,
   "metadata": {},
   "outputs": [],
   "source": [
    "make_cellchi2('bmzls')"
   ]
  },
  {
   "cell_type": "code",
   "execution_count": null,
   "metadata": {},
   "outputs": [],
   "source": [
    "make_cellchi2('ndecals')"
   ]
  },
  {
   "cell_type": "code",
   "execution_count": null,
   "metadata": {},
   "outputs": [],
   "source": [
    "make_cellchi2('sdecals')"
   ]
  },
  {
   "cell_type": "markdown",
   "metadata": {},
   "source": [
    "## Mean Density of Mocks"
   ]
  },
  {
   "cell_type": "code",
   "execution_count": null,
   "metadata": {},
   "outputs": [],
   "source": [
    "def make_nbarchi2(region):    \n",
    "    # region = 'bmzls'\n",
    "    nmocks = 100\n",
    "    nbar_list = [f'/fs/ess/PHS0336/data/lognormal/v0/clustering/nbarmock_{i}_lrg_{region}_256_noweight.npy'\\\n",
    "                for i in range(nmocks+1, 1001)]\n",
    "    print(len(nbar_list))\n",
    "    nbar_mocks = read_nbmocks(nbar_list)\n",
    "\n",
    "    invcov, covmax = get_inv(nbar_mocks, True)\n",
    "\n",
    "    # fg, ax = plt.subplots(ncols=3, figsize=(12, 6), sharey=True)\n",
    "    # fg.subplots_adjust(wspace=0.05, hspace=0.0)\n",
    "\n",
    "    # map0 = ax[0].imshow(covmax, origin='lower', cmap=plt.cm.bwr)#, vmin=-2.0e-5, vmax=2.0e-5)\n",
    "    # fg.colorbar(map0, ax=ax[0], orientation='horizontal',)# ticks=[-1.0e-5, 0, 1.0e-5], shrink=0.5)\n",
    "\n",
    "    # map1 = ax[1].imshow(invcov, origin='lower', cmap=plt.cm.bwr)#, vmin=-2.0e6, vmax=2.0e6,)\n",
    "    # fg.colorbar(map1, ax=ax[1], orientation='horizontal')#, shrink=0.5, ticks=[-1.0e6, 0, 1.0e6])\n",
    "\n",
    "\n",
    "    # map2 = ax[2].imshow(covmax.dot(invcov), origin='lower', cmap=plt.cm.viridis)#, vmin=0, vmax=2.0)\n",
    "    # fg.colorbar(map2, ax=ax[2], orientation='horizontal',)# ticks=[0., 1, 2.0], shrink=0.5)\n",
    "    # plt.show()\n",
    "\n",
    "    # read chi2 of mocks\n",
    "    chi2s = {'noweight':[], 'nn':[], 'lin':[]}\n",
    "    for i in range(1, nmocks+1):\n",
    "        for n in ['noweight', 'nn', 'lin']:\n",
    "            d_ = read_nnbar(f'/fs/ess/PHS0336/data/lognormal/v0/clustering/nbarmock_{i}_lrg_{region}_256_{n}.npy')\n",
    "            chi_ = chi2_fn(d_, invcov)\n",
    "            chi2s[n].append(chi_)\n",
    "\n",
    "    nb_data = read_nnbar(f'/fs/ess/PHS0336/data/rongpu/imaging_sys/clustering/v2/nbar_lrg_{region}_256_nn.npy')\n",
    "    chi2_data = chi2_fn(nb_data, invcov)\n",
    "\n",
    "    nb_data_ = read_nnbar(f'/fs/ess/PHS0336/data/rongpu/imaging_sys/clustering/v2/nbar_lrg_{region}_256_lin.npy')\n",
    "    chi2_data_ = chi2_fn(nb_data_, invcov)\n",
    "    \n",
    "    \n",
    "    fg, ax = plt.subplots() # https://stackoverflow.com/a/25497638/9746916\n",
    "\n",
    "    ax.scatter(chi2s['noweight'], chi2s['nn'], marker='.', color='r', alpha=0.5)\n",
    "    ax.scatter(chi2s['noweight'], chi2s['lin'], marker='.', color='b', facecolor='w', alpha=0.5)\n",
    "    ax.scatter(np.mean(chi2s['noweight']), chi2_data, \n",
    "               300, color='r', marker='*')\n",
    "    #ax.axhline(chi2_data, ls='-', color='r', alpha=0.5)\n",
    "    ax.scatter(np.mean(chi2s['noweight']), chi2_data_, \n",
    "              300, color='b', marker='o')\n",
    "    #ax.axhline(chi2_data_, ls='--', color='b', alpha=0.5)\n",
    "    \n",
    "    lims = [np.min([ax.get_xlim(), ax.get_ylim()]),  # min of both axes\n",
    "            np.max([ax.get_xlim(), ax.get_ylim()]),  # max of both axes\n",
    "           ]\n",
    "\n",
    "    # now plot both limits against eachother\n",
    "    ax.set_title(region.upper())\n",
    "    ax.plot(lims, lims, 'k-', alpha=0.75, zorder=0)\n",
    "    # ax.set_aspect('equal')\n",
    "    ax.set_xlim(lims)\n",
    "    ax.set_ylim(lims)\n",
    "    ax.set_xlabel(r'$\\chi^{2}$ of Null Mocks')\n",
    "    ax.set_ylabel(r'$\\chi^{2}$ of Mitigated Null Mocks')\n",
    "    fg.show()\n",
    "    \n",
    "    fg, ax = plt.subplots() # https://stackoverflow.com/a/25497638/9746916\n",
    "\n",
    "    ax.scatter(chi2s['noweight'], chi2s['nn'], marker='.', color='r', alpha=0.5)\n",
    "    #ax.scatter(chi2s['noweight'], chi2s['lin'], marker='.', color='b', facecolor='w', alpha=0.5)\n",
    "    ax.scatter(np.mean(chi2s['noweight']), chi2_data, \n",
    "               300, color='r', marker='*')\n",
    "    #ax.axhline(chi2_data, ls='-', color='r', alpha=0.5)\n",
    "    #ax.scatter(np.mean(chi2s['noweight']), chi2_data_, \n",
    "    #          300, color='b', marker='o')\n",
    "    #ax.axhline(chi2_data_, ls='--', color='b', alpha=0.5)\n",
    "    \n",
    "    #lims = [np.min([ax.get_xlim(), ax.get_ylim()]),  # min of both axes\n",
    "    #        np.max([ax.get_xlim(), ax.get_ylim()]),  # max of both axes\n",
    "    #       ]\n",
    "\n",
    "    # now plot both limits against eachother\n",
    "    ax.set_title(region.upper())\n",
    "    ax.plot(lims, lims, 'k-', alpha=0.75, zorder=0)\n",
    "    # ax.set_aspect('equal')\n",
    "    ax.set_xlim(lims)\n",
    "    ax.set_ylim(lims)\n",
    "    ax.set_xlabel(r'$\\chi^{2}$ of Null Mocks')\n",
    "    ax.set_ylabel(r'$\\chi^{2}$ of Mitigated Null Mocks')    \n",
    "    fg.show()\n",
    "    \n",
    "    \n",
    "    fg, ax = plt.subplots() # https://stackoverflow.com/a/25497638/9746916\n",
    "\n",
    "    ax.scatter(chi2s['noweight'], chi2s['nn'], marker='.', color='r', alpha=0.5)\n",
    "    #ax.scatter(chi2s['noweight'], chi2s['lin'], marker='.', color='b', facecolor='w', alpha=0.5)\n",
    "    #ax.scatter(np.mean(chi2s['noweight']), chi2_data, \n",
    "    #           300, color='r', marker='*')\n",
    "    #ax.axhline(chi2_data, ls='-', color='r', alpha=0.5)\n",
    "    #ax.scatter(np.mean(chi2s['noweight']), chi2_data_, \n",
    "    #          300, color='b', marker='o')\n",
    "    #ax.axhline(chi2_data_, ls='--', color='b', alpha=0.5)\n",
    "    \n",
    "    #lims = [np.min([ax.get_xlim(), ax.get_ylim()]),  # min of both axes\n",
    "    #        np.max([ax.get_xlim(), ax.get_ylim()]),  # max of both axes\n",
    "    #       ]\n",
    "\n",
    "    # now plot both limits against eachother\n",
    "    ax.set_title(region.upper())\n",
    "    ax.plot(lims, lims, 'k-', alpha=0.75, zorder=0)\n",
    "    # ax.set_aspect('equal')\n",
    "    ax.set_xlim(lims)\n",
    "    ax.set_ylim(lims)\n",
    "    ax.set_xlabel(r'$\\chi^{2}$ of Null Mocks')\n",
    "    ax.set_ylabel(r'$\\chi^{2}$ of Mitigated Null Mocks')    \n",
    "    fg.show()"
   ]
  },
  {
   "cell_type": "code",
   "execution_count": null,
   "metadata": {},
   "outputs": [],
   "source": [
    "make_nbarchi2('bmzls')"
   ]
  },
  {
   "cell_type": "code",
   "execution_count": null,
   "metadata": {},
   "outputs": [],
   "source": [
    "make_nbarchi2('ndecals')"
   ]
  },
  {
   "cell_type": "code",
   "execution_count": null,
   "metadata": {},
   "outputs": [],
   "source": [
    "make_nbarchi2('sdecals')"
   ]
  },
  {
   "cell_type": "code",
   "execution_count": null,
   "metadata": {},
   "outputs": [],
   "source": [
    "region = 'bmzls'\n",
    "nmocks = 100\n",
    "nbar_list = [f'/fs/ess/PHS0336/data/lognormal/v0/clustering/nbarmock_{i}_lrg_{region}_256_noweight.npy'\\\n",
    "            for i in range(nmocks+1, 1001)]\n",
    "print(len(nbar_list))\n",
    "nbar_mocks = read_nbmocks(nbar_list)\n",
    "\n",
    "invcov, covmax = get_inv(nbar_mocks, True)\n",
    "err = np.sqrt(np.diag(covmax))"
   ]
  },
  {
   "cell_type": "code",
   "execution_count": null,
   "metadata": {},
   "outputs": [],
   "source": [
    "nbars = {}\n",
    "nbars['No Weight'] = np.load('/fs/ess/PHS0336/data/lognormal/v0/clustering/nbarmock_1_lrg_bmzls_256_noweight.npy', allow_pickle=True)\n",
    "nbars['NN'] = np.load('/fs/ess/PHS0336/data/lognormal/v0/clustering/nbarmock_1_lrg_bmzls_256_nn.npy', allow_pickle=True)\n",
    "nbars['Linear'] = np.load('/fs/ess/PHS0336/data/lognormal/v0/clustering/nbarmock_1_lrg_bmzls_256_lin.npy', allow_pickle=True)"
   ]
  },
  {
   "cell_type": "code",
   "execution_count": null,
   "metadata": {},
   "outputs": [],
   "source": [
    "fg, ax = plt.subplots(ncols=2, figsize=(12, 4), sharey=True)\n",
    "fg.subplots_adjust(wspace=0.02)\n",
    "\n",
    "mk = ['o', 's', '^']\n",
    "j = 0\n",
    "for n_i, d_i in nbars.items():\n",
    "    for i in [0, 1]:\n",
    "        ax[i].plot(d_i[i]['bin_avg'], d_i[i]['nnbar'],\n",
    "                    mfc='w', alpha=0.9, label=n_i, marker=mk[j])\n",
    "        if j==0:\n",
    "            ax[i].fill_between(d_i[i]['bin_avg'], 1-err[i*8:(i+1)*8], 1+err[i*8:(i+1)*8],\n",
    "                               alpha=0.1, step='mid', fc='grey')#, ec='k', lw=2)     \n",
    "            \n",
    "    j += 1\n",
    "    \n",
    "ax[1].legend(loc='lower left')\n",
    "\n",
    "for i, sys in enumerate(['E[B-V]', 'Stellar Density']):\n",
    "    ax[i].set_xlabel(sys)\n",
    "    \n",
    "ax[0].set_ylabel('Mean Density')\n",
    "ax[0].set_xlim(0.004, 0.16)"
   ]
  },
  {
   "cell_type": "markdown",
   "metadata": {},
   "source": [
    "## The effect of the fNL and systematics"
   ]
  },
  {
   "cell_type": "code",
   "execution_count": null,
   "metadata": {},
   "outputs": [],
   "source": [
    "z, b, dNdz = init_sample(kind='lrg')\n",
    "model = Spectrum()\n",
    "ell = np.arange(3000)\n",
    "model.add_tracer(z, b, dNdz, p=1.6)\n",
    "model.make_kernels(ell)\n",
    "\n",
    "# mask\n",
    "dt = ft.read('/fs/ess/PHS0336/data/rongpu/imaging_sys/tables/v3/nlrg_features_bmzls_256.fits')\n",
    "mask_ = make_hp(256, dt['hpix'], 1.0) > 0.5\n",
    "mask = hp.ud_grade(mask_, 1024)\n",
    "weight = mask * 1.0\n",
    "noise = 1.25*1/np.mean(dt['label'])*hp.nside2pixarea(256)\n",
    "print(noise)\n",
    "\n",
    "el_m = np.arange(2*1024)\n",
    "wd = WindowSHT(weight, mask, el_m, ngauss=2*1024)\n",
    "\n",
    "cl_true = {}\n",
    "for fnl in [-40, 0, 20, 100, 200]:\n",
    "    cl_ = model(ell, fnl=fnl)\n",
    "    cl_model = wd.convolve(np.arange(cl_.size), cl_)+noise\n",
    "    cl_true[fnl] = wd.apply_ic(cl_model[:1100])\n",
    "    \n",
    "    \n",
    "\n",
    "cl_dr9 = np.load('/fs/ess/PHS0336/data/rongpu/imaging_sys/clustering/v3/cl_lrg_bmzls_256_nn.npy', \n",
    "                allow_pickle=True).item()\n",
    "cl_dr9n = np.load('/fs/ess/PHS0336/data/rongpu/imaging_sys/clustering/v3/cl_lrg_bmzls_256_noweight.npy', \n",
    "                allow_pickle=True).item()\n",
    "cl_dr9l = np.load('/fs/ess/PHS0336/data/rongpu/imaging_sys/clustering/v3/cl_lrg_bmzls_256_lin.npy', \n",
    "                allow_pickle=True).item()\n",
    "\n",
    "\n",
    "\n",
    "lbins = np.logspace(0, np.log10(769), 10)\n",
    "\n",
    "for plot_type in [-1, 0, 1, 2]:\n",
    "    \n",
    "    fg, ax = plt.subplots(figsize=(8, 6))\n",
    "\n",
    "    lab1 = []\n",
    "    if plot_type>=0:\n",
    "        lab1 = ['DR9 Luminous Red Galaxies (before)']\n",
    "        ax.plot(*histogram_cell(cl_dr9n['cl_gg']['cl'], bins=lbins),\n",
    "                    marker='o', color='k', alpha=0.8, ls='None')\n",
    "\n",
    "    if plot_type>=1:    \n",
    "        lab1.append('after linear treatment')\n",
    "        ax.plot(*histogram_cell(cl_dr9l['cl_gg']['cl'], bins=lbins),\n",
    "                    marker='^', markersize=8, mfc='w', color='k', ls='None', alpha=0.8)\n",
    "\n",
    "    if plot_type==2:\n",
    "        lab1.append('after nonlinear treatment')\n",
    "        ax.plot(*histogram_cell(cl_dr9['cl_gg']['cl'], bins=lbins),\n",
    "                    marker='s', mfc='w', color='k', ls='None', alpha=0.8)\n",
    "\n",
    "    ndat = len(lab1)\n",
    "\n",
    "\n",
    "    lab2 = []\n",
    "    for fnl_, cl_ in cl_true.items():\n",
    "        ax.plot(cl_, lw=2, zorder=-10)\n",
    "        lab2.append(r'f$_{NL}$ = %.0f'%fnl_)\n",
    "\n",
    "\n",
    "    lines = ax.get_lines()\n",
    "    lgn1 = plt.legend(lines[:ndat], lab1, loc='upper right')\n",
    "    lgn2 = plt.legend(lines[ndat:], lab2, loc='center right')\n",
    "    ax.add_artist(lgn1)  \n",
    "    ax.add_artist(lgn2)\n",
    "\n",
    "    ax.set(xlim=(2.8, 1101), yscale='log', ylabel=r'$C_{\\ell}$',\n",
    "           xlabel=r'$\\ell$', xscale='log')\n",
    "    plt.savefig(f'fnl_cl_{plot_type}.png', dpi=300, bbox_inches='tight')"
   ]
  },
  {
   "cell_type": "markdown",
   "metadata": {},
   "source": [
    "## Cell Systematic Test"
   ]
  },
  {
   "cell_type": "code",
   "execution_count": null,
   "metadata": {},
   "outputs": [],
   "source": [
    "def make_chi2plot(region):\n",
    "    #region = 'bmzls'\n",
    "    print(f'region: {region}')\n",
    "\n",
    "    l, err_0, cl_ss = read_clx(f'/home/mehdi/data/rongpu/imaging_sys/clustering/v2/cl_lrg_{region}_256_noweight.npy')\n",
    "    _, err_1, __ = read_clx(f'/home/mehdi/data/rongpu/imaging_sys/clustering/v2/cl_lrg_{region}_256_nn.npy')\n",
    "\n",
    "    list_cls = glob(f'/home/mehdi/data/lognormal/v0/clustering/clmock_*_lrg_{region}_256_noweight.npy')\n",
    "    err_tot = read_clxmocks(list_cls, cl_ss)\n",
    "\n",
    "    print('ell', l)\n",
    "    print('# mocks', len(list_cls))\n",
    "    invcov, covmax = get_inv(err_tot, True)\n",
    "\n",
    "    chi2_mocks = get_chi2pdf(err_tot)\n",
    "    chi2_before = chi2_fn(err_0, invcov)\n",
    "    chi2_after = chi2_fn(err_1, invcov)\n",
    "\n",
    "    print(chi2_before, chi2_after)\n",
    "    plt.hist(chi2_mocks, alpha=0.2, label='Mocks (leave-one-out)')\n",
    "    plt.axvline(chi2_before, alpha=0.5, ls='--', label='Data')\n",
    "    plt.axvline(chi2_after, label='Data (cleaned)')\n",
    "    plt.legend(title=region.upper())\n",
    "    plt.xscale('symlog', linscalex=3, linthreshx=1000.)\n",
    "    plt.xlabel(r'Cross Power $\\chi^{2}$')\n",
    "    plt.show()\n",
    "    \n",
    "#     fg, ax = plt.subplots(ncols=3, figsize=(12, 6), sharey=True)\n",
    "#     fg.subplots_adjust(wspace=0.05, hspace=0.0)\n",
    "\n",
    "#     map0 = ax[0].imshow(covmax, origin='lower', cmap=plt.cm.bwr)#, vmin=-2.0e-5, vmax=2.0e-5)\n",
    "#     fg.colorbar(map0, ax=ax[0], orientation='horizontal',)# ticks=[-1.0e-5, 0, 1.0e-5], shrink=0.5)\n",
    "\n",
    "#     map1 = ax[1].imshow(invcov, origin='lower', cmap=plt.cm.bwr)#, vmin=-2.0e6, vmax=2.0e6,)\n",
    "#     fg.colorbar(map1, ax=ax[1], orientation='horizontal')#, shrink=0.5, ticks=[-1.0e6, 0, 1.0e6])\n",
    "\n",
    "\n",
    "#     map2 = ax[2].imshow(covmax.dot(invcov), origin='lower', cmap=plt.cm.viridis)#, vmin=0, vmax=2.0)\n",
    "#     fg.colorbar(map2, ax=ax[2], orientation='horizontal',)# ticks=[0., 1, 2.0], shrink=0.5)\n",
    "#     plt.show()"
   ]
  },
  {
   "cell_type": "code",
   "execution_count": null,
   "metadata": {},
   "outputs": [],
   "source": [
    "for reg in ['bmzls', 'ndecals', 'sdecals']:\n",
    "    make_chi2plot(reg)"
   ]
  },
  {
   "cell_type": "code",
   "execution_count": null,
   "metadata": {},
   "outputs": [],
   "source": []
  },
  {
   "cell_type": "code",
   "execution_count": null,
   "metadata": {},
   "outputs": [],
   "source": []
  },
  {
   "cell_type": "code",
   "execution_count": null,
   "metadata": {},
   "outputs": [],
   "source": [
    "from matplotlib.ticker import Locator, SymmetricalLogLocator\n",
    "\n",
    "\n",
    "class MajorSymLogLocator(SymmetricalLogLocator):\n",
    "\n",
    "    def __init__(self, base=10., linthresh=1.0):\n",
    "        super().__init__(base=base, linthresh=linthresh)\n",
    "\n",
    "    @staticmethod\n",
    "    def orders_magnitude(vmin, vmax):\n",
    "\n",
    "        max_size = np.log10(max(abs(vmax), 1))\n",
    "        min_size = np.log10(max(abs(vmin), 1))\n",
    "\n",
    "        if vmax > 1 and vmin > 1:\n",
    "            return max_size - min_size\n",
    "        elif vmax < -1 and vmin < -1:\n",
    "            return min_size - max_size\n",
    "        else:\n",
    "            return max(min_size, max_size)\n",
    "\n",
    "    def tick_values(self, vmin, vmax):\n",
    "\n",
    "        if vmax < vmin:\n",
    "            vmin, vmax = vmax, vmin\n",
    "\n",
    "        orders_magnitude = self.orders_magnitude(vmin, vmax)\n",
    "\n",
    "        if orders_magnitude <= 1:\n",
    "            spread = vmax - vmin\n",
    "            exp = np.floor(np.log10(spread))\n",
    "            rest = spread * 10 ** (-exp)\n",
    "\n",
    "            stride = 10 ** exp * (0.25 if rest < 2. else\n",
    "                                  0.5 if rest < 4 else\n",
    "                                  1. if rest < 6 else\n",
    "                                  2.)\n",
    "\n",
    "            vmin = np.floor(vmin / stride) * stride\n",
    "            return np.arange(vmin, vmax, stride)\n",
    "\n",
    "        if orders_magnitude <= 2:\n",
    "            pos_a, pos_b = np.floor(np.log10(max(vmin, 1))), np.ceil(np.log10(max(vmax, 1)))\n",
    "            positive_powers = 10 ** np.linspace(pos_a, pos_b, int(pos_b - pos_a) + 1)\n",
    "            positive = np.ravel(np.outer(positive_powers, [1., 5.]))\n",
    "\n",
    "            linear = np.array([0.]) if vmin < 1 and vmax > -1 else np.array([])\n",
    "\n",
    "            neg_a, neg_b = np.floor(np.log10(-min(vmin, -1))), np.ceil(np.log10(-min(vmax, -1)))\n",
    "            negative_powers = - 10 ** np.linspace(neg_b, neg_a, int(neg_a - neg_b) + 1)[::-1]\n",
    "            negative = np.ravel(np.outer(negative_powers, [1., 5.]))\n",
    "\n",
    "            return np.concatenate([negative, linear, positive])\n",
    "\n",
    "        else:\n",
    "\n",
    "            pos_a, pos_b = np.floor(np.log10(max(vmin, 1))), np.ceil(np.log10(max(vmax, 1)))\n",
    "            positive = 10 ** np.linspace(pos_a, pos_b, int(pos_b - pos_a) + 1)\n",
    "\n",
    "            linear = np.array([0.]) if vmin < 1 and vmax > -1 else np.array([])\n",
    "\n",
    "            neg_a, neg_b = np.floor(np.log10(-min(vmin, -1))), np.ceil(np.log10(-min(vmax, -1)))\n",
    "            negative = - 10 ** np.linspace(neg_b, neg_a, int(neg_a - neg_b) + 1)[::-1]\n",
    "\n",
    "            return np.concatenate([negative, linear, positive])\n",
    "\n",
    "def symlogfmt(x, pos):\n",
    "    return f'{x:.6f}'.rstrip('0')\n",
    "\n",
    "\n",
    "class MinorSymLogLocator(Locator):\n",
    "    \"\"\"\n",
    "    Dynamically find minor tick positions based on the positions of\n",
    "    major ticks for a symlog scaling.\n",
    "    \"\"\"\n",
    "    def __init__(self, linthresh, nints=10):\n",
    "        \"\"\"\n",
    "        Ticks will be placed between the major ticks.\n",
    "        The placement is linear for x between -linthresh and linthresh,\n",
    "        otherwise its logarithmically. nints gives the number of\n",
    "        intervals that will be bounded by the minor ticks.\n",
    "        \"\"\"\n",
    "        self.linthresh = linthresh\n",
    "        self.nintervals = nints\n",
    "\n",
    "    def __call__(self):\n",
    "        # Return the locations of the ticks\n",
    "        majorlocs = self.axis.get_majorticklocs()\n",
    "\n",
    "        if len(majorlocs) == 1:\n",
    "            return self.raise_if_exceeds(np.array([]))\n",
    "\n",
    "        # add temporary major tick locs at either end of the current range\n",
    "        # to fill in minor tick gaps\n",
    "        dmlower = majorlocs[1] - majorlocs[0]    # major tick difference at lower end\n",
    "        dmupper = majorlocs[-1] - majorlocs[-2]  # major tick difference at upper end\n",
    "\n",
    "        # add temporary major tick location at the lower end\n",
    "        if majorlocs[0] != 0. and ((majorlocs[0] != self.linthresh and dmlower > self.linthresh) or (dmlower == self.linthresh and majorlocs[0] < 0)):\n",
    "            majorlocs = np.insert(majorlocs, 0, majorlocs[0]*10.)\n",
    "        else:\n",
    "            majorlocs = np.insert(majorlocs, 0, majorlocs[0]-self.linthresh)\n",
    "\n",
    "        # add temporary major tick location at the upper end\n",
    "        if majorlocs[-1] != 0. and ((np.abs(majorlocs[-1]) != self.linthresh and dmupper > self.linthresh) or (dmupper == self.linthresh and majorlocs[-1] > 0)):\n",
    "            majorlocs = np.append(majorlocs, majorlocs[-1]*10.)\n",
    "        else:\n",
    "            majorlocs = np.append(majorlocs, majorlocs[-1]+self.linthresh)\n",
    "\n",
    "        # iterate through minor locs\n",
    "        minorlocs = []\n",
    "\n",
    "        # handle the lowest part\n",
    "        for i in np.arange(1, len(majorlocs)):\n",
    "            majorstep = majorlocs[i] - majorlocs[i-1]\n",
    "            if abs(majorlocs[i-1] + majorstep/2) < self.linthresh:\n",
    "                ndivs = self.nintervals\n",
    "            else:\n",
    "                ndivs = self.nintervals - 1.\n",
    "\n",
    "            minorstep = majorstep / ndivs\n",
    "            locs = np.arange(majorlocs[i-1], majorlocs[i], minorstep)[1:]\n",
    "            minorlocs.extend(locs)\n",
    "\n",
    "        return self.raise_if_exceeds(np.array(minorlocs))\n",
    "\n",
    "    def tick_values(self, vmin, vmax):\n",
    "        raise NotImplementedError('Cannot get tick locations for a '\n",
    "                          '%s type.' % type(self))"
   ]
  },
  {
   "cell_type": "code",
   "execution_count": null,
   "metadata": {},
   "outputs": [],
   "source": [
    "plt.hist(chi2_mocks, alpha=0.1, label='Mocks (leave-one-out)')\n",
    "plt.axvline(chi2_before, alpha=0.5, ls='--', label='Data')\n",
    "plt.axvline(chi2_after, label='Data (cleaned)')\n",
    "plt.legend()\n",
    "plt.xlabel(r'Cross Power $\\chi^{2}$')\n",
    "plt.xscale('symlog', linscalex=3, linthreshx=600.)\n",
    "plt.xlim(0, 1.2e4)\n",
    "# xaxis = plt.gca().xaSxis\n",
    "\n",
    "# xaxis.set_ticks([i*200 for i in range(0, 4)]+[10**p for p in range(3, 5)])\n",
    "# xaxis.set_major_locator(MajorSymLogLocator(linthresh=500.0, base=100.))\n",
    "# xaxis.set_minor_locator(MinorSymLogLocator(600, nints=10))\n",
    "\n",
    "\n",
    "# plt.xlim(xmax=1.1e4)\n",
    "# plt.xticks([0, 100, 200, 300, 400, 500, 1000, 2000, 3000])\n",
    "# plt.gca().xaxis.set_major_formatter(FormatStrFormatter(\"%e\"))\n",
    "\n"
   ]
  },
  {
   "cell_type": "code",
   "execution_count": null,
   "metadata": {},
   "outputs": [],
   "source": [
    "err_min, err_max = np.percentile(err_tot, [15, 85], axis=0)"
   ]
  },
  {
   "cell_type": "code",
   "execution_count": null,
   "metadata": {},
   "outputs": [],
   "source": [
    "print(np.percentile(covmax, [1, 99]))"
   ]
  },
  {
   "cell_type": "code",
   "execution_count": null,
   "metadata": {},
   "outputs": [],
   "source": [
    "plt.figure(figsize=(20, 20))\n",
    "plt.imshow(covmax, origin='lower', cmap=plt.cm.seismic, vmin=-1.0e-15, vmax=1.0e-15)\n",
    "plt.colorbar(shrink=0.5)"
   ]
  },
  {
   "cell_type": "code",
   "execution_count": null,
   "metadata": {},
   "outputs": [],
   "source": [
    "plt.figure(figsize=(20, 8))\n",
    "\n",
    "plt.plot(err_0, color='C0', label='Data', lw=2, zorder=-1)\n",
    "plt.plot(err_1, color='C1', ls='--', label='Data (w/ Weights)', lw=2)#, marker='o', mfc='w')\n",
    "plt.fill_between(np.arange(err_min.size), err_min, err_max, color='grey', alpha=0.2, \n",
    "                label=r'$1\\sigma$ Mocks')\n",
    "\n",
    "plt.xlabel('Bin Number')\n",
    "plt.ylabel(r'$C^2_{s,g}/C_{s,s}$')\n",
    "plt.title('Cross Power')\n",
    "plt.legend(fontsize=20)\n",
    "\n",
    "binw = err_0.size / 13\n",
    "_=plt.xticks([(i+0.5)*binw for i in range(13)], labels=maps_dr9, rotation=90)\n",
    "for i in range(13):\n",
    "    plt.axvline(i*binw, ls=':', color='grey', lw=1)\n",
    "# plt.ylim(-0.02, 0.02)\n",
    "plt.yscale('symlog', linthreshy=1.0e-7)\n",
    "# plt.yscale('log')#, linthreshy=1.0e-6)"
   ]
  },
  {
   "cell_type": "code",
   "execution_count": null,
   "metadata": {},
   "outputs": [],
   "source": [
    "make_chi2plot('bmzls')"
   ]
  },
  {
   "cell_type": "markdown",
   "metadata": {},
   "source": [
    "## Redshift Distribution"
   ]
  },
  {
   "cell_type": "code",
   "execution_count": null,
   "metadata": {},
   "outputs": [],
   "source": [
    "input_nz = np.loadtxt('/home/mehdi/github/flask/data/desi-z-selection-f1.dat')\n",
    "catalog = ft.read('/home/mehdi/data/lognormal/lrg-cat-100.fits')\n",
    "np.diff(input_nz[:, 0])\n",
    "\n",
    "plt.plot(input_nz[:, 0], input_nz[:, 1]/(input_nz[:, 1].sum()*0.05), label='Input dN/dz')\n",
    "plt.hist(catalog['z'], histtype='step', density=True, label='Mock dN/dz')\n",
    "\n",
    "plt.legend()\n",
    "plt.xlabel('redshift')"
   ]
  },
  {
   "cell_type": "code",
   "execution_count": null,
   "metadata": {},
   "outputs": [],
   "source": [
    "den_field = hp.read_map('/home/mehdi/data/lognormal/v0/lrg-88-f1z1.fits', verbose=False)\n",
    "\n",
    "nside = 256\n",
    "\n",
    "\n",
    "# nbar_sqdeg = 800. # per sq. deg\n",
    "# nbar_sr = nbar_sqdeg * (180./np.pi)**(2)\n",
    "# noise = 1./nbar_sr\n",
    "# noise\n",
    "\n",
    "den_contrast = den_field/den_field.mean() - 1.0\n",
    "cl_obs = hp.anafast(den_contrast)\n",
    "noise = hp.nside2pixarea(nside)/den_field.mean()\n",
    "noise"
   ]
  },
  {
   "cell_type": "code",
   "execution_count": null,
   "metadata": {},
   "outputs": [],
   "source": [
    "hp.mollview(den_contrast, title=r'Mock $\\delta$')"
   ]
  },
  {
   "cell_type": "code",
   "execution_count": null,
   "metadata": {},
   "outputs": [],
   "source": [
    "_ = plt.hist(den_contrast, histtype='step', bins=16)\n",
    "plt.xlabel(r'Mock $\\delta$')"
   ]
  },
  {
   "cell_type": "markdown",
   "metadata": {},
   "source": [
    "## Power Spectra"
   ]
  },
  {
   "cell_type": "code",
   "execution_count": null,
   "metadata": {},
   "outputs": [],
   "source": [
    "cl_dr9 = np.load('/home/mehdi/data/rongpu/imaging_sys/clustering/v2/cl_lrg_bmzls_256_nn.npy', \n",
    "                allow_pickle=True).item()\n",
    "cl_dr9n = np.load('/home/mehdi/data/rongpu/imaging_sys/clustering/v2/cl_lrg_bmzls_256_noweight.npy', \n",
    "                allow_pickle=True).item()\n",
    "cl_model = np.loadtxt('/home/mehdi/github/flask/data/desiCl-f1z1f1z1.dat')\n",
    "\n",
    "list_clmocks = glob('/home/mehdi/data/lognormal/v0/clustering/clmock_*_lrg_bmzls_256_noweight.npy')\n",
    "print(len(list_clmocks))\n",
    "\n",
    "cl_mocks = []\n",
    "\n",
    "for fl in list_clmocks:\n",
    "    cl_i = np.load(fl, allow_pickle=True).item()\n",
    "    cl_mocks.append(cl_i['cl_gg']['cl'])\n",
    "    print('.', end='')\n",
    "    \n",
    "cl_min, cl_max = np.percentile(cl_mocks, [15, 85], axis=0)\n",
    "cl_mocks_mean = np.mean(cl_mocks, axis=0)"
   ]
  },
  {
   "cell_type": "code",
   "execution_count": null,
   "metadata": {},
   "outputs": [],
   "source": [
    "# mask\n",
    "\n",
    "dt = ft.read('/home/mehdi/data/rongpu/imaging_sys/tables/nlrg_features_bmzls_256.fits')\n",
    "mask_ = make_hp(256, dt['hpix'], 1.0) > 0.5\n",
    "mask = hp.ud_grade(mask_, 1024)\n",
    "weight = mask * 1.0\n",
    "\n",
    "noise = 5.247718593589074e-07\n",
    "el_m = np.arange(2*1024)\n",
    "wd = WindowSHT(weight, mask, el_m, ngauss=2*1024)\n",
    "cl_model_noise = cl_model[:, 1]+noise\n",
    "cl_model_wind_noise = wd.convolve(cl_model[:, 0], cl_model[:, 1])+noise"
   ]
  },
  {
   "cell_type": "code",
   "execution_count": null,
   "metadata": {},
   "outputs": [],
   "source": [
    "plt.plot(np.arccos(wd.x)*180./np.pi, wd.xi_mask)\n",
    "# plt.xscale('log')\n",
    "# plt.yscale('log')"
   ]
  },
  {
   "cell_type": "code",
   "execution_count": null,
   "metadata": {},
   "outputs": [],
   "source": [
    "plt.figure(figsize=(8, 6))\n",
    "\n",
    "# model\n",
    "plt.axhline(noise, color='r', ls=':', lw=1, label='shotnoise')\n",
    "plt.plot(cl_model_noise, 'r--', lw=1, alpha=0.6, label='Model+shotshoie')\n",
    "plt.plot(cl_model_wind_noise, 'r-', lw=3, alpha=0.6, label='ModelxWindow+shotnoise')\n",
    "\n",
    "# mocks\n",
    "plt.plot(cl_mocks_mean, color='k', label='Mean of the Mocks', zorder=-1)\n",
    "# for cl_mock_i in cl_mocks:\n",
    "#     plt.plot(cl_mock_i, color='grey', lw=1, ls='-', alpha=0.02, zorder=-10)\n",
    "plt.fill_between(np.arange(cl_min.size), cl_min, cl_max, alpha=0.1, color='grey', zorder=-10)\n",
    "\n",
    "\n",
    "# data\n",
    "plt.plot(*histogram_cell(cl_dr9['cl_gg']['cl'], bins=np.logspace(0, np.log10(769), 10)),\n",
    "            marker='s', mfc='w', ls='None',\n",
    "            color='k', label='DR9 LRGs (BASS/MzLS)')\n",
    "plt.plot(*histogram_cell(cl_dr9n['cl_gg']['cl'], bins=np.logspace(0, np.log10(769), 10)),\n",
    "            marker='s', color='k', alpha=0.5, ls='None')\n",
    "\n",
    "\n",
    "plt.legend(fontsize=12) #, bbox_to_anchor=(1., 1.2))\n",
    "# plt.ylim(1.0e-8, 1.0e-4)\n",
    "plt.yscale('symlog', linthreshy=2.0e-5)\n",
    "# plt.yticks([i*2.0e-6 for i in range(8)], labels=[f'{2*i}' for i in range(8)])\n",
    "plt.ylabel(r'$C_{\\ell}$')\n",
    "plt.xlabel(r'$\\ell$')\n",
    "plt.xscale('log')"
   ]
  },
  {
   "cell_type": "code",
   "execution_count": null,
   "metadata": {},
   "outputs": [],
   "source": [
    "lbins = np.arange(1, 769, 50)\n",
    "l_obs, cl_obs = histogram_cell(cl_dr9['cl_gg']['cl'], bins=lbins)\n",
    "\n",
    "\n",
    "cl_mb = []\n",
    "\n",
    "for cl_i in cl_mocks:\n",
    "    cl_ib = histogram_cell(cl_i, bins=lbins)[1] \n",
    "    cl_mb.append(cl_ib)\n",
    "\n",
    "clb_min, clb_max = np.percentile(cl_mb, [15, 85], axis=0)\n",
    "clb_mean = np.mean(cl_mb, axis=0)\n",
    "\n",
    "clb_model = histogram_cell(cl_model_wind_noise, bins=lbins)[1]"
   ]
  },
  {
   "cell_type": "code",
   "execution_count": null,
   "metadata": {},
   "outputs": [],
   "source": [
    "plt.scatter(l_obs, cl_obs/clb_model, marker='s', facecolor='w', \n",
    "            color='k', label='DR9 LRGs/Model')\n",
    "plt.plot(l_obs, clb_mean/clb_model, color='k', label='Mean of the Mocks/Model')\n",
    "\n",
    "plt.fill_between(l_obs, clb_min/clb_model, clb_max/clb_model, alpha=0.2, color='grey')\n",
    "\n",
    "plt.legend()\n",
    "plt.xlabel(r'$\\ell$')\n",
    "plt.ylim(0.5, 1.5)"
   ]
  },
  {
   "cell_type": "code",
   "execution_count": null,
   "metadata": {},
   "outputs": [],
   "source": [
    "lbins = np.arange(200, 601, 50)\n",
    "l_obs, cl_obs = histogram_cell(cl_dr9['cl_gg']['cl'], bins=lbins)\n",
    "\n",
    "\n",
    "cl_mb = []\n",
    "\n",
    "for cl_i in cl_mocks:\n",
    "    cl_ib = histogram_cell(cl_i, bins=lbins)[1] \n",
    "    cl_mb.append(cl_ib)\n",
    "\n",
    "clb_mean = np.mean(cl_mb, axis=0)\n",
    "clb_model = histogram_cell(cl_model_wind_noise, bins=lbins)[1]\n",
    "\n",
    "clcov = np.cov(cl_mb, rowvar=False)\n",
    "invcov = np.linalg.inv(clcov)"
   ]
  },
  {
   "cell_type": "code",
   "execution_count": null,
   "metadata": {},
   "outputs": [],
   "source": [
    "chi2_fn(cl_obs-clb_mean, invcov)"
   ]
  },
  {
   "cell_type": "code",
   "execution_count": null,
   "metadata": {},
   "outputs": [],
   "source": [
    "alphas = []\n",
    "chi2_list = []\n",
    "for beta in np.linspace(-0.06, 0.025):\n",
    "    alpha = 1.0+beta\n",
    "    alphas.append(alpha)\n",
    "    chi2_list.append(chi2_fn(cl_obs-alpha*clb_mean, invcov))"
   ]
  },
  {
   "cell_type": "code",
   "execution_count": null,
   "metadata": {},
   "outputs": [],
   "source": [
    "invcov.shape"
   ]
  },
  {
   "cell_type": "code",
   "execution_count": null,
   "metadata": {},
   "outputs": [],
   "source": [
    "plt.plot(alphas, chi2_list)\n",
    "plt.axhline(8.0, ls=':')\n",
    "plt.ylim(0, 50)\n",
    "plt.xlabel(r'$\\beta$')\n",
    "plt.ylabel(r'$\\chi^{2}$')"
   ]
  },
  {
   "cell_type": "code",
   "execution_count": null,
   "metadata": {},
   "outputs": [],
   "source": [
    "# chi-2\n",
    "vmin, vmax = np.percentile(clcov, [1, 99])\n",
    "plt.imshow(clcov, origin='lower', cmap=plt.cm.jet, vmin=vmin, vmax=vmax)"
   ]
  },
  {
   "cell_type": "markdown",
   "metadata": {},
   "source": [
    "## Mean Density"
   ]
  },
  {
   "cell_type": "code",
   "execution_count": null,
   "metadata": {},
   "outputs": [],
   "source": [
    "def make_chi2plot(region):\n",
    "    \n",
    "    print(f'region: {region}')\n",
    "\n",
    "    list_nbars = glob(f'/home/mehdi/data/lognormal/v0/clustering/nbarmock_*_lrg_{region}_256_noweight.npy')\n",
    "    \n",
    "    err_mat = read_nbmocks(list_nbars)\n",
    "    err_0 = read_nnbar(f'/home/mehdi/data/rongpu/imaging_sys/clustering/v2/nbar_lrg_{region}_256_noweight.npy')\n",
    "    err_1 = read_nnbar(f'/home/mehdi/data/rongpu/imaging_sys/clustering/v2/nbar_lrg_{region}_256_nn.npy')\n",
    "    err_2 = read_nnbar(f'/home/mehdi/data/rongpu/imaging_sys/clustering/v2/nbar_lrg_{region}_256_nn.npy')\n",
    "\n",
    "    \n",
    "    print('# mocks', len(list_nbars))\n",
    "    invcov, covmax = get_inv(err_mat, True)\n",
    "    \n",
    "    chi2_mocks = get_chi2pdf(err_mat)\n",
    "    chi2_before = chi2_fn(err_0, invcov)\n",
    "    chi2_after = chi2_fn(err_1, invcov)\n",
    "    \n",
    "    print(chi2_before, chi2_after)\n",
    "    plt.hist(chi2_mocks, alpha=0.1, label='leave-one-out')\n",
    "    plt.axvline(chi2_before, alpha=0.5, ls='--')\n",
    "    plt.axvline(chi2_after, label='Data (cleaned)')\n",
    "    plt.legend()\n",
    "    plt.xlabel(r'$\\chi^{2}$ of Mocks')\n",
    "    plt.show()\n",
    "    \n",
    "\n",
    "#     fg, ax = plt.subplots(ncols=3, figsize=(12, 6), sharey=True)\n",
    "#     fg.subplots_adjust(wspace=0.05, hspace=0.0)\n",
    "\n",
    "#     map0 = ax[0].imshow(covmax, origin='lower', cmap=plt.cm.bwr, vmin=-2.0e-5, vmax=2.0e-5)\n",
    "#     fg.colorbar(map0, ax=ax[0], orientation='horizontal', ticks=[-1.0e-5, 0, 1.0e-5], shrink=0.5)\n",
    "\n",
    "#     map1 = ax[1].imshow(invcov, origin='lower', cmap=plt.cm.bwr, vmin=-2.0e6, vmax=2.0e6,)\n",
    "#     fg.colorbar(map1, ax=ax[1], orientation='horizontal', shrink=0.5, ticks=[-1.0e6, 0, 1.0e6])\n",
    "\n",
    "\n",
    "#     map2 = ax[2].imshow(covmax.dot(invcov), origin='lower', cmap=plt.cm.viridis, vmin=0, vmax=2.0)\n",
    "#     fg.colorbar(map2, ax=ax[2], orientation='horizontal', ticks=[0., 1, 2.0], shrink=0.5)\n",
    "#     plt.show()"
   ]
  },
  {
   "cell_type": "code",
   "execution_count": null,
   "metadata": {},
   "outputs": [],
   "source": [
    "make_chi2plot('bmzls')"
   ]
  },
  {
   "cell_type": "code",
   "execution_count": null,
   "metadata": {},
   "outputs": [],
   "source": [
    "make_chi2plot('bmzls')"
   ]
  },
  {
   "cell_type": "code",
   "execution_count": null,
   "metadata": {},
   "outputs": [],
   "source": [
    "make_chi2plot('ndecals')"
   ]
  },
  {
   "cell_type": "code",
   "execution_count": null,
   "metadata": {},
   "outputs": [],
   "source": [
    "make_chi2plot('sdecals')"
   ]
  },
  {
   "cell_type": "code",
   "execution_count": null,
   "metadata": {},
   "outputs": [],
   "source": [
    "region = 'bmzls'\n",
    "print(f'region: {region}')\n",
    "\n",
    "list_nbars = glob(f'/home/mehdi/data/lognormal/v0/clustering/nbarmock_*_lrg_{region}_256_noweight.npy')\n",
    "err_mat = read_nbmocks(list_nbars)\n",
    "err_0 = read_nnbar(f'/home/mehdi/data/rongpu/imaging_sys/clustering/v2/nbar_lrg_{region}_256_noweight.npy')\n",
    "err_1 = read_nnbar(f'/home/mehdi/data/rongpu/imaging_sys/clustering/v2/nbar_lrg_{region}_256_nn.npy')\n",
    "\n",
    "print('# mocks', len(list_nbars))\n",
    "invcov, covmax = get_inv(err_mat, True)"
   ]
  },
  {
   "cell_type": "code",
   "execution_count": null,
   "metadata": {},
   "outputs": [],
   "source": [
    "err_min, err_max = np.percentile(err_mat, [15, 85], axis=0)"
   ]
  },
  {
   "cell_type": "code",
   "execution_count": null,
   "metadata": {},
   "outputs": [],
   "source": [
    "plt.figure(figsize=(20, 8))\n",
    "plt.plot(err_0, color='C0', label='Data', lw=2, zorder=-1)\n",
    "plt.plot(err_1, color='C1', ls='--', label='Data (w/ Weights)', lw=2)\n",
    "\n",
    "#for err_mi in err_mat:\n",
    "#    plt.plot(err_mi, color='C1', alpha=0.1, zorder=-2)\n",
    "# plt.fill_between(np.arange(err_min.size), err_min, err_max, color='C1', alpha=0.2)\n",
    "\n",
    "plt.xlabel('Bin Number')\n",
    "plt.ylabel('Mean Density - 1')\n",
    "plt.title('Mean Density vs Imaging Systematics')\n",
    "plt.legend(fontsize=20)\n",
    "_=plt.xticks([i*8+4 for i in range(13)], labels=maps_dr9, rotation=90)\n",
    "for i in range(13):\n",
    "    plt.axvline(i*8, ls=':', color='grey', lw=1)\n",
    "# plt.ylim(-0.02, 0.02)"
   ]
  },
  {
   "cell_type": "code",
   "execution_count": null,
   "metadata": {},
   "outputs": [],
   "source": [
    "plt.figure(figsize=(20, 8))\n",
    "plt.plot(err_0, color='C0', label='Data', lw=2, zorder=-1)\n",
    "plt.plot(err_1, color='C1', ls='--', label='Data (w/ Weights)', lw=2)\n",
    "\n",
    "#for err_mi in err_mat:\n",
    "#    plt.plot(err_mi, color='C1', alpha=0.1, zorder=-2)\n",
    "plt.fill_between(np.arange(err_min.size), err_min, err_max, color='grey', alpha=0.2, \n",
    "                label=r'$1\\sigma$ Mocks')\n",
    "\n",
    "plt.xlabel('Bin Number')\n",
    "plt.ylabel('Mean Density - 1')\n",
    "plt.title('Mean Density vs Imaging Systematics')\n",
    "plt.legend(fontsize=20)\n",
    "_=plt.xticks([i*8+4 for i in range(13)], labels=maps_dr9, rotation=90)\n",
    "for i in range(13):\n",
    "    plt.axvline(i*8, ls=':', color='grey', lw=1)\n",
    "# plt.ylim(-0.02, 0.02)"
   ]
  },
  {
   "cell_type": "code",
   "execution_count": null,
   "metadata": {},
   "outputs": [],
   "source": []
  },
  {
   "cell_type": "code",
   "execution_count": null,
   "metadata": {},
   "outputs": [],
   "source": []
  },
  {
   "cell_type": "code",
   "execution_count": null,
   "metadata": {},
   "outputs": [],
   "source": []
  },
  {
   "cell_type": "code",
   "execution_count": null,
   "metadata": {},
   "outputs": [],
   "source": []
  },
  {
   "cell_type": "code",
   "execution_count": null,
   "metadata": {},
   "outputs": [],
   "source": []
  },
  {
   "cell_type": "code",
   "execution_count": null,
   "metadata": {},
   "outputs": [],
   "source": []
  },
  {
   "cell_type": "code",
   "execution_count": null,
   "metadata": {},
   "outputs": [],
   "source": []
  },
  {
   "cell_type": "code",
   "execution_count": null,
   "metadata": {},
   "outputs": [],
   "source": [
    "err_scale = err_mat - err_mat.mean(axis=0)"
   ]
  },
  {
   "cell_type": "code",
   "execution_count": null,
   "metadata": {},
   "outputs": [],
   "source": [
    "covs = np.cov(err_scale, rowvar=False)"
   ]
  },
  {
   "cell_type": "code",
   "execution_count": null,
   "metadata": {},
   "outputs": [],
   "source": [
    "invcovs = np.linalg.inv(covs)"
   ]
  },
  {
   "cell_type": "code",
   "execution_count": null,
   "metadata": {},
   "outputs": [],
   "source": [
    "plt.imshow(covs.dot(invcovs))"
   ]
  },
  {
   "cell_type": "code",
   "execution_count": null,
   "metadata": {},
   "outputs": [],
   "source": []
  },
  {
   "cell_type": "code",
   "execution_count": null,
   "metadata": {},
   "outputs": [],
   "source": []
  },
  {
   "cell_type": "code",
   "execution_count": null,
   "metadata": {},
   "outputs": [],
   "source": []
  },
  {
   "cell_type": "code",
   "execution_count": null,
   "metadata": {},
   "outputs": [],
   "source": []
  },
  {
   "cell_type": "code",
   "execution_count": null,
   "metadata": {},
   "outputs": [],
   "source": []
  },
  {
   "cell_type": "code",
   "execution_count": null,
   "metadata": {},
   "outputs": [],
   "source": []
  },
  {
   "cell_type": "code",
   "execution_count": null,
   "metadata": {},
   "outputs": [],
   "source": [
    "d0 = np.load(list_nbars[0], allow_pickle=True)\n",
    "d1 = np.load(list_nbars[10], allow_pickle=True)"
   ]
  },
  {
   "cell_type": "code",
   "execution_count": null,
   "metadata": {},
   "outputs": [],
   "source": [
    "d0[0]"
   ]
  },
  {
   "cell_type": "code",
   "execution_count": null,
   "metadata": {},
   "outputs": [],
   "source": [
    "d1[0]"
   ]
  },
  {
   "cell_type": "code",
   "execution_count": null,
   "metadata": {},
   "outputs": [],
   "source": [
    "dd = np.load('/home/mehdi/data/rongpu/imaging_sys/clustering/v2/nbar_lrg_bmzls_256_nn.npy', allow_pickle=True)\n",
    "dd[0]"
   ]
  },
  {
   "cell_type": "code",
   "execution_count": null,
   "metadata": {},
   "outputs": [],
   "source": [
    "maps_dr9 = ['EBV', 'STARDENS']\\\n",
    "          + [f'galdepth_{b}mag_ebv' for b in ['r', 'g', 'z']]\\\n",
    "          + [f'psfdepth_{b}mag_ebv' for b in ['r', 'g', 'z', 'w1', 'w2']] \\\n",
    "          + [f'PSFSIZE_{b}' for b in ['R', 'G', 'Z']]\n",
    "for i, mapi in enumerate(maps_dr9):\n",
    "    print(i, mapi)"
   ]
  },
  {
   "cell_type": "code",
   "execution_count": null,
   "metadata": {},
   "outputs": [],
   "source": [
    "plt.imshow(covmax[8*8:,8*8:], origin='lower')"
   ]
  },
  {
   "cell_type": "code",
   "execution_count": null,
   "metadata": {},
   "outputs": [],
   "source": []
  },
  {
   "cell_type": "code",
   "execution_count": null,
   "metadata": {},
   "outputs": [],
   "source": []
  },
  {
   "cell_type": "code",
   "execution_count": null,
   "metadata": {},
   "outputs": [],
   "source": [
    "plt.imshow(errcov*hartlapf, origin='lower', \n",
    "           cmap=plt.cm.bwr, vmin=-5.0e-6, vmax=5.0e-6)\n",
    "plt.colorbar()"
   ]
  },
  {
   "cell_type": "code",
   "execution_count": null,
   "metadata": {},
   "outputs": [],
   "source": []
  },
  {
   "cell_type": "code",
   "execution_count": null,
   "metadata": {},
   "outputs": [],
   "source": []
  },
  {
   "cell_type": "code",
   "execution_count": null,
   "metadata": {},
   "outputs": [],
   "source": []
  },
  {
   "cell_type": "code",
   "execution_count": null,
   "metadata": {},
   "outputs": [],
   "source": []
  },
  {
   "cell_type": "code",
   "execution_count": null,
   "metadata": {},
   "outputs": [],
   "source": []
  },
  {
   "cell_type": "code",
   "execution_count": null,
   "metadata": {},
   "outputs": [],
   "source": []
  },
  {
   "cell_type": "code",
   "execution_count": null,
   "metadata": {},
   "outputs": [],
   "source": []
  },
  {
   "cell_type": "code",
   "execution_count": null,
   "metadata": {},
   "outputs": [],
   "source": []
  },
  {
   "cell_type": "code",
   "execution_count": null,
   "metadata": {},
   "outputs": [],
   "source": []
  },
  {
   "cell_type": "code",
   "execution_count": null,
   "metadata": {},
   "outputs": [],
   "source": [
    "for nbar_i in list_nbars:\n",
    "    d_i = np.load(nbar_i, allow_pickle=True)[0]\n",
    "    \n",
    "    plt.plot(d_i['bin_avg'], d_i['nnbar']-1, ls='-', color='C0', alpha=0.1)    \n",
    "    \n",
    "plt.plot(dd[0]['bin_avg'], dd[0]['nnbar']-1, 'k--')"
   ]
  },
  {
   "cell_type": "markdown",
   "metadata": {},
   "source": [
    "## Mean Density of Mocks"
   ]
  },
  {
   "cell_type": "code",
   "execution_count": null,
   "metadata": {},
   "outputs": [],
   "source": [
    "def read_nbar(filename):\n",
    "    # read nbar file\n",
    "    d = np.load(filename, allow_pickle=True)\n",
    "\n",
    "    bins = []\n",
    "    nbar = []\n",
    "    for d_i in d:\n",
    "        bins.append(d_i['bin_edges'])\n",
    "        nbar.append(d_i['nnbar'])\n",
    "\n",
    "    return np.concatenate(bins), np.concatenate(nbar)\n",
    "\n",
    "\n",
    "def get_nbars(r):\n",
    "\n",
    "    nnbar_list = glob(f'/fs/ess/PHS0336/data/lognormal/v0/clustering/nbarmock_*_lrg_{r}_256_noweight.npy')\n",
    "    print(r, len(nnbar_list))\n",
    "    bins, nbar_0 = read_nbar(nnbar_list[0])\n",
    "    nbar_mat = []\n",
    "    for nbar_i in nnbar_list:\n",
    "\n",
    "        bins_i, nbar_i = read_nbar(nbar_i)\n",
    "        assert np.array_equiv(bins_i, bins)\n",
    "\n",
    "        nbar_mat.append(nbar_i)\n",
    "        print('.', end='')\n",
    "\n",
    "\n",
    "    cov = np.cov(nbar_mat, rowvar=False)    \n",
    "\n",
    "    return (bins, cov)"
   ]
  },
  {
   "cell_type": "code",
   "execution_count": null,
   "metadata": {},
   "outputs": [],
   "source": [
    "\n",
    "covs = {}\n",
    "for r in ['bmzls', 'ndecals', 'sdecals']:\n",
    "    covs[r] = get_nbars(r)"
   ]
  },
  {
   "cell_type": "code",
   "execution_count": null,
   "metadata": {},
   "outputs": [],
   "source": [
    "plt.figure(figsize=(10, 6))\n",
    "plt.imshow(covs['bmzls'][1], \n",
    "           origin='lower', cmap='seismic', vmin=-3.0e-5, vmax=3.0e-5)\n",
    "plt.colorbar(extend='both')"
   ]
  },
  {
   "cell_type": "code",
   "execution_count": null,
   "metadata": {},
   "outputs": [],
   "source": [
    "np.savez('/fs/ess/PHS0336/data/lognormal/v0/clustering/cov_nbarmocks_nside256.npz', **covs)"
   ]
  },
  {
   "cell_type": "code",
   "execution_count": null,
   "metadata": {},
   "outputs": [],
   "source": [
    "covs['bmzls'][0].size"
   ]
  },
  {
   "cell_type": "code",
   "execution_count": null,
   "metadata": {},
   "outputs": [],
   "source": [
    "covs['bmzls'][1].shape"
   ]
  },
  {
   "cell_type": "code",
   "execution_count": null,
   "metadata": {},
   "outputs": [],
   "source": []
  },
  {
   "cell_type": "code",
   "execution_count": null,
   "metadata": {},
   "outputs": [],
   "source": []
  },
  {
   "cell_type": "code",
   "execution_count": null,
   "metadata": {},
   "outputs": [],
   "source": [
    "np.concatenate(bins).size"
   ]
  },
  {
   "cell_type": "code",
   "execution_count": null,
   "metadata": {},
   "outputs": [],
   "source": [
    "plt.plot(np.concatenate(nbar))"
   ]
  },
  {
   "cell_type": "code",
   "execution_count": null,
   "metadata": {},
   "outputs": [],
   "source": [
    "#---- Next\n",
    "\n",
    "# create ensemble of full sky log-normal mocks\n",
    "# check if the observed data cell agrees with the mock dispersion on high-ell (ell > 20)?\n",
    "# split into BASS / DECaLS North / DECaLS South\n",
    "# measure C_ell, mean density, etc \n",
    "# construct covariance matrices\n",
    "# test for remaining systematics,\n",
    "# create non-zero fNL mocks, something close to yield the observed C_ell after mitigation\n",
    "\n",
    "\n",
    "# keep in mind\n",
    "# look at the nbar after the mitigation\n",
    "# make sure high ell of the data matches that of the input model to FLASK\n",
    "# adjust the maximum volume density"
   ]
  }
 ],
 "metadata": {
  "kernelspec": {
   "display_name": "sysnet",
   "language": "python",
   "name": "sysnet"
  },
  "language_info": {
   "codemirror_mode": {
    "name": "ipython",
    "version": 3
   },
   "file_extension": ".py",
   "mimetype": "text/x-python",
   "name": "python",
   "nbconvert_exporter": "python",
   "pygments_lexer": "ipython3",
   "version": "3.8.12"
  }
 },
 "nbformat": 4,
 "nbformat_minor": 4
}
