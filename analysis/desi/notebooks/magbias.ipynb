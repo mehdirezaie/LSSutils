{
 "cells": [
  {
   "cell_type": "code",
   "execution_count": 1,
   "id": "6bdf8e4e",
   "metadata": {},
   "outputs": [
    {
     "name": "stdout",
     "output_type": "stream",
     "text": [
      "\r\n",
      "o0004.ten.osc.edu:\r\n",
      "                                                                               Req'd  Req'd   Elap \r\n",
      "Job id               Username Queue    Name                 SessID NDS   TSK   Memory Time Use S Time \r\n",
      "-------------------- -------- -------- -------------------- ------ ----- ----- ------ ----- - -----\r\n",
      "26916394             medirz90 serial   ondemand/sys/dashboa --         1     2     -- 02:00 R 00:05\r\n"
     ]
    }
   ],
   "source": [
    "!qstat -u medirz90"
   ]
  },
  {
   "cell_type": "code",
   "execution_count": 2,
   "id": "d2e636cb",
   "metadata": {},
   "outputs": [],
   "source": [
    "%load_ext autoreload\n",
    "%autoreload 2"
   ]
  },
  {
   "cell_type": "code",
   "execution_count": 3,
   "id": "9fff26bd",
   "metadata": {},
   "outputs": [],
   "source": [
    "import sys\n",
    "sys.path.insert(0, '/users/PHS0336/medirz90/github/LSSutils')\n",
    "from lssutils.theory.cell import Spectrum, init_sample\n",
    "import matplotlib.pyplot as plt\n",
    "from scipy.interpolate import InterpolatedUnivariateSpline as IUS\n",
    "from scipy.integrate import quad\n",
    "import numpy as np\n",
    "import nbodykit.cosmology as cosmology"
   ]
  },
  {
   "cell_type": "code",
   "execution_count": 4,
   "id": "0b479de5",
   "metadata": {},
   "outputs": [
    {
     "name": "stdout",
     "output_type": "stream",
     "text": [
      "lrg\n"
     ]
    }
   ],
   "source": [
    "z, b, dNdz = init_sample('lrg')"
   ]
  },
  {
   "cell_type": "code",
   "execution_count": 17,
   "id": "2bcd11b1",
   "metadata": {},
   "outputs": [
    {
     "name": "stdout",
     "output_type": "stream",
     "text": [
      "h         : 0.67556\n",
      "T0_cmb    : 2.7255\n",
      "Omega0_b  : 0.0482754208891869\n",
      "Omega0_cdm: 0.26377065934278865\n",
      "N_ur      : None\n",
      "m_ncdm    : [0.06]\n",
      "P_k_max   : 10.0\n",
      "P_z_max   : 100.0\n",
      "sigma8    : 0.8225\n",
      "gauge     : synchronous\n",
      "n_s       : 0.9667\n",
      "nonlinear : False\n",
      "p = 1.0\n",
      "39.77485539251425\n"
     ]
    }
   ],
   "source": [
    "sp = Spectrum()\n",
    "sp.add_tracer(z, b, dNdz)"
   ]
  },
  {
   "cell_type": "code",
   "execution_count": 7,
   "id": "63bee1f7",
   "metadata": {},
   "outputs": [],
   "source": [
    "r = np.linspace(sp.Dc(0.01), sp.Dc(2.0), 1000)"
   ]
  },
  {
   "cell_type": "code",
   "execution_count": 8,
   "id": "8cc9c40a",
   "metadata": {},
   "outputs": [
    {
     "data": {
      "text/plain": [
       "<matplotlib.legend.Legend at 0x2ab5d59a5910>"
      ]
     },
     "execution_count": 8,
     "metadata": {},
     "output_type": "execute_result"
    },
    {
     "data": {
      "image/png": "[encoded data removed]",
      "text/plain": [
       "<Figure size 432x288 with 1 Axes>"
      ]
     },
     "metadata": {
      "needs_background": "light"
     },
     "output_type": "display_data"
    }
   ],
   "source": [
    "plt.plot(r, sp.fr_wk(r), lw=4, label='Galaxy')\n",
    "plt.plot(r, sp.fr_wrk(r), label='RSD')\n",
    "plt.plot(r, sp.fr_wkfnl1(r)+sp.fr_wkfnl2(r), lw=4, label='FNL')\n",
    "plt.plot(r, sp.fr_wkmag(r), label='Magnification')\n",
    "plt.legend()"
   ]
  },
  {
   "cell_type": "code",
   "execution_count": 18,
   "id": "26b01163",
   "metadata": {},
   "outputs": [
    {
     "data": {
      "text/plain": [
       "(2, 2000)"
      ]
     },
     "execution_count": 18,
     "metadata": {},
     "output_type": "execute_result"
    }
   ],
   "source": [
    "cl_old = np.loadtxt('/users/PHS0336/medirz90/github/flask/data/desiClzero-f1z1f1z1.dat').T\n",
    "cl_old.shape"
   ]
  },
  {
   "cell_type": "code",
   "execution_count": 19,
   "id": "9d44562c",
   "metadata": {},
   "outputs": [
    {
     "name": "stderr",
     "output_type": "stream",
     "text": [
      "/users/PHS0336/medirz90/github/LSSutils/lssutils/theory/cell.py:316: RuntimeWarning: divide by zero encountered in true_divide\n",
      "  fnl_f = self.alpha_fnl/(k2*self.Tlin(k))\n",
      "/users/PHS0336/medirz90/github/LSSutils/lssutils/theory/cell.py:338: RuntimeWarning: invalid value encountered in multiply\n",
      "  i_mf1.append(self.simps(k3pk*w_m*w_f1, lnk))\n",
      "/users/PHS0336/medirz90/github/LSSutils/lssutils/theory/cell.py:339: RuntimeWarning: invalid value encountered in multiply\n",
      "  i_mf2.append(self.simps(k3pk*w_m*w_f2, lnk))\n",
      "/users/PHS0336/medirz90/github/LSSutils/lssutils/theory/cell.py:317: RuntimeWarning: invalid value encountered in multiply\n",
      "  w_f1 = self.wfnlk1[i][1]*fnl_f\n",
      "/users/PHS0336/medirz90/github/LSSutils/lssutils/theory/cell.py:318: RuntimeWarning: invalid value encountered in multiply\n",
      "  w_f2 = self.wfnlk2[i][1]*fnl_f\n",
      "/users/PHS0336/medirz90/github/LSSutils/lssutils/theory/cell.py:327: RuntimeWarning: invalid value encountered in multiply\n",
      "  i_f1f1.append(self.simps(k3pk*w_f1*w_f1, lnk))\n",
      "/users/PHS0336/medirz90/github/LSSutils/lssutils/theory/cell.py:328: RuntimeWarning: invalid value encountered in multiply\n",
      "  i_f2f2.append(self.simps(k3pk*w_f2*w_f2, lnk))\n",
      "/users/PHS0336/medirz90/github/LSSutils/lssutils/theory/cell.py:330: RuntimeWarning: invalid value encountered in multiply\n",
      "  i_gf1.append(self.simps(k3pk*w_g*w_f1, lnk))\n",
      "/users/PHS0336/medirz90/github/LSSutils/lssutils/theory/cell.py:331: RuntimeWarning: invalid value encountered in multiply\n",
      "  i_gf2.append(self.simps(k3pk*w_g*w_f2, lnk))\n",
      "/users/PHS0336/medirz90/github/LSSutils/lssutils/theory/cell.py:332: RuntimeWarning: invalid value encountered in multiply\n",
      "  i_rf1.append(self.simps(k3pk*w_r*w_f1, lnk))\n",
      "/users/PHS0336/medirz90/github/LSSutils/lssutils/theory/cell.py:333: RuntimeWarning: invalid value encountered in multiply\n",
      "  i_rf2.append(self.simps(k3pk*w_r*w_f2, lnk))\n",
      "/users/PHS0336/medirz90/github/LSSutils/lssutils/theory/cell.py:334: RuntimeWarning: invalid value encountered in multiply\n",
      "  i_f1f2.append(self.simps(k3pk*w_f1*w_f2, lnk))\n"
     ]
    }
   ],
   "source": [
    "sp.add_kernels(cl_old[0, :])"
   ]
  },
  {
   "cell_type": "code",
   "execution_count": 20,
   "id": "a3ea6ed2",
   "metadata": {},
   "outputs": [],
   "source": [
    "cl_new = sp(cl_old[0, :], fnl=0, b=1.4262343145500318)"
   ]
  },
  {
   "cell_type": "code",
   "execution_count": 40,
   "id": "1765c717",
   "metadata": {},
   "outputs": [],
   "source": [
    "from lssutils.dataviz import setup_color"
   ]
  },
  {
   "cell_type": "code",
   "execution_count": 41,
   "id": "9758c7e8",
   "metadata": {},
   "outputs": [],
   "source": [
    "setup_color()"
   ]
  },
  {
   "cell_type": "code",
   "execution_count": 48,
   "id": "f805fc7d",
   "metadata": {},
   "outputs": [
    {
     "data": {
      "text/plain": [
       "Text(0.5, 1.0, 'relative impact')"
      ]
     },
     "execution_count": 48,
     "metadata": {},
     "output_type": "execute_result"
    },
    {
     "data": {
      "image/png": "[encoded data removed]",
      "text/plain": [
       "<Figure size 432x360 with 2 Axes>"
      ]
     },
     "metadata": {},
     "output_type": "display_data"
    }
   ],
   "source": [
    "plt.figure(figsize=(6, 5))\n",
    "plt.loglog(cl_old[1], '-', lw=1, label='GG')\n",
    "plt.loglog(cl_new, '--', label='GG + mag bias (s$_{m}$=0.999)')\n",
    "\n",
    "plt.xlim(2, 1000.)\n",
    "plt.legend()\n",
    "plt.ylabel(r'C$_{\\ell}$')\n",
    "plt.xlabel(r'$\\ell$')\n",
    "\n",
    "plt.axes([0.25, 0.2, 0.4, 0.2])\n",
    "plt.semilogx(cl_new/cl_old[1]-1, '-')\n",
    "plt.xlim(2, 1000.)\n",
    "plt.ylim()\n",
    "plt.title('relative impact')"
   ]
  },
  {
   "cell_type": "code",
   "execution_count": 16,
   "id": "37887a65",
   "metadata": {},
   "outputs": [
    {
     "data": {
      "text/plain": [
       "[<matplotlib.lines.Line2D at 0x2ab5d7dbc2b0>]"
      ]
     },
     "execution_count": 16,
     "metadata": {},
     "output_type": "execute_result"
    },
    {
     "data": {
      "image/png": "[encoded data removed]",
      "text/plain": [
       "<Figure size 432x288 with 1 Axes>"
      ]
     },
     "metadata": {
      "needs_background": "light"
     },
     "output_type": "display_data"
    }
   ],
   "source": [
    "plt.semilogx(cl_new/cl_old[1])"
   ]
  },
  {
   "cell_type": "code",
   "execution_count": 32,
   "id": "413a9fec",
   "metadata": {},
   "outputs": [
    {
     "data": {
      "text/plain": [
       "array([1.15367898e-08, 1.52322827e-08, 1.86334627e-08, ...,\n",
       "       1.16023526e-10, 1.15889426e-10, 1.15755543e-10])"
      ]
     },
     "execution_count": 32,
     "metadata": {},
     "output_type": "execute_result"
    }
   ],
   "source": [
    "(cl_old[1]-cl_new)"
   ]
  },
  {
   "cell_type": "code",
   "execution_count": 44,
   "id": "51b65485",
   "metadata": {},
   "outputs": [
    {
     "data": {
      "text/plain": [
       "[<matplotlib.lines.Line2D at 0x2ae0e0282d60>]"
      ]
     },
     "execution_count": 44,
     "metadata": {},
     "output_type": "execute_result"
    },
    {
     "data": {
      "image/png": "[encoded data removed]",
      "text/plain": [
       "<Figure size 432x288 with 1 Axes>"
      ]
     },
     "metadata": {
      "needs_background": "light"
     },
     "output_type": "display_data"
    }
   ],
   "source": [
    "plt.semilogx(*sp.wmag[10])\n",
    "plt.semilogx(*sp.wmag[40])"
   ]
  },
  {
   "cell_type": "code",
   "execution_count": 42,
   "id": "afb0eec4",
   "metadata": {},
   "outputs": [
    {
     "data": {
      "text/plain": [
       "[<matplotlib.lines.Line2D at 0x2ae0dbeb5100>]"
      ]
     },
     "execution_count": 42,
     "metadata": {},
     "output_type": "execute_result"
    },
    {
     "data": {
      "image/png": "[encoded data removed]",
      "text/plain": [
       "<Figure size 432x288 with 1 Axes>"
      ]
     },
     "metadata": {
      "needs_background": "light"
     },
     "output_type": "display_data"
    }
   ],
   "source": [
    "plt.semilogx(*sp.wk[10])\n",
    "plt.semilogx(*sp.wk[44])"
   ]
  },
  {
   "cell_type": "code",
   "execution_count": 48,
   "id": "3c75cdc1",
   "metadata": {},
   "outputs": [],
   "source": [
    "ell2p1 = sp.ell*(sp.ell+1)"
   ]
  },
  {
   "cell_type": "code",
   "execution_count": 51,
   "id": "79549bac",
   "metadata": {},
   "outputs": [
    {
     "data": {
      "text/plain": [
       "array([1.00000000e-10, 1.00461625e-10, 1.00925382e-10, ...,\n",
       "       9.90831032e+09, 9.95404959e+09, 1.00000000e+10])"
      ]
     },
     "execution_count": 51,
     "metadata": {},
     "output_type": "execute_result"
    }
   ],
   "source": [
    "sp.wmag[0][0]"
   ]
  },
  {
   "cell_type": "code",
   "execution_count": 53,
   "id": "9cebbf6b",
   "metadata": {},
   "outputs": [
    {
     "data": {
      "text/plain": [
       "array([9.99999987e-01, 9.99999988e-01, 9.99999988e-01, ...,\n",
       "       6.28029137e-21, 6.28029136e-21, 6.28029137e-21])"
      ]
     },
     "execution_count": 53,
     "metadata": {},
     "output_type": "execute_result"
    }
   ],
   "source": [
    "sp.wk[0][1]"
   ]
  },
  {
   "cell_type": "code",
   "execution_count": 54,
   "id": "941c219b",
   "metadata": {},
   "outputs": [
    {
     "name": "stdout",
     "output_type": "stream",
     "text": [
      "\r\n",
      "o0004.ten.osc.edu:\r\n",
      "                                                                               Req'd  Req'd   Elap \r\n",
      "Job id               Username Queue    Name                 SessID NDS   TSK   Memory Time Use S Time \r\n",
      "-------------------- -------- -------- -------------------- ------ ----- ----- ------ ----- - -----\r\n",
      "26915986             medirz90 serial   ondemand/sys/dashboa --         1     2     -- 02:00 R 01:30\r\n"
     ]
    }
   ],
   "source": [
    "!qstat -u medirz90"
   ]
  },
  {
   "cell_type": "code",
   "execution_count": 55,
   "id": "691dc04b",
   "metadata": {},
   "outputs": [],
   "source": [
    "a = 2"
   ]
  },
  {
   "cell_type": "code",
   "execution_count": 56,
   "id": "b13b6f23",
   "metadata": {},
   "outputs": [
    {
     "data": {
      "text/plain": [
       "-2"
      ]
     },
     "execution_count": 56,
     "metadata": {},
     "output_type": "execute_result"
    }
   ],
   "source": [
    "-a"
   ]
  },
  {
   "cell_type": "code",
   "execution_count": 57,
   "id": "adff5dc0",
   "metadata": {},
   "outputs": [],
   "source": [
    "a = np.arange(4)"
   ]
  },
  {
   "cell_type": "code",
   "execution_count": 58,
   "id": "b998c972",
   "metadata": {},
   "outputs": [
    {
     "data": {
      "text/plain": [
       "array([0, 1, 2, 3])"
      ]
     },
     "execution_count": 58,
     "metadata": {},
     "output_type": "execute_result"
    }
   ],
   "source": [
    "a"
   ]
  },
  {
   "cell_type": "code",
   "execution_count": 59,
   "id": "77a4460c",
   "metadata": {},
   "outputs": [
    {
     "data": {
      "text/plain": [
       "array([ 0, -1, -2, -3])"
      ]
     },
     "execution_count": 59,
     "metadata": {},
     "output_type": "execute_result"
    }
   ],
   "source": [
    "-a"
   ]
  },
  {
   "cell_type": "code",
   "execution_count": null,
   "id": "9ce6f0a5",
   "metadata": {},
   "outputs": [],
   "source": []
  }
 ],
 "metadata": {
  "kernelspec": {
   "display_name": "sysnet",
   "language": "python",
   "name": "sysnet"
  },
  "language_info": {
   "codemirror_mode": {
    "name": "ipython",
    "version": 3
   },
   "file_extension": ".py",
   "mimetype": "text/x-python",
   "name": "python",
   "nbconvert_exporter": "python",
   "pygments_lexer": "ipython3",
   "version": "3.8.12"
  }
 },
 "nbformat": 4,
 "nbformat_minor": 5
}
