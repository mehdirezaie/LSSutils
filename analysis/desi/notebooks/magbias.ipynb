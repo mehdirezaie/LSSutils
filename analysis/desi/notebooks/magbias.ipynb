{
 "cells": [
  {
   "cell_type": "code",
   "execution_count": 1,
   "id": "6bdf8e4e",
   "metadata": {},
   "outputs": [
    {
     "name": "stdout",
     "output_type": "stream",
     "text": [
      "\n",
      "p0085.ten.osc.edu:\n",
      "                                                                               Req'd  Req'd   Elap \n",
      "Job id               Username Queue    Name                 SessID NDS   TSK   Memory Time Use S Time \n",
      "-------------------- -------- -------- -------------------- ------ ----- ----- ------ ----- - -----\n",
      "23925636             medirz90 condo-os ondemand/sys/dashboa --         1     2     -- 02:00 C 02:00\n",
      "23926020             medirz90 condo-os ondemand/sys/dashboa --         1     2     -- 01:00 R 00:01\n"
     ]
    }
   ],
   "source": [
    "!qstat -u medirz90"
   ]
  },
  {
   "cell_type": "code",
   "execution_count": 2,
   "id": "d2e636cb",
   "metadata": {},
   "outputs": [],
   "source": [
    "%load_ext autoreload\n",
    "%autoreload 2"
   ]
  },
  {
   "cell_type": "code",
   "execution_count": 3,
   "id": "9fff26bd",
   "metadata": {},
   "outputs": [],
   "source": [
    "import sys\n",
    "sys.path.insert(0, '/users/PHS0336/medirz90/github/LSSutils')\n",
    "from lssutils.theory.cell import Spectrum, init_sample\n",
    "import matplotlib.pyplot as plt\n",
    "from scipy.interpolate import InterpolatedUnivariateSpline as IUS\n",
    "from scipy.integrate import quad\n",
    "import numpy as np\n",
    "import nbodykit.cosmology as cosmology"
   ]
  },
  {
   "cell_type": "code",
   "execution_count": 4,
   "id": "91ec62b1",
   "metadata": {},
   "outputs": [],
   "source": [
    "cosmo = cosmology.Cosmology()"
   ]
  },
  {
   "cell_type": "code",
   "execution_count": 5,
   "id": "35db317c",
   "metadata": {},
   "outputs": [],
   "source": [
    "chi = cosmo.comoving_distance"
   ]
  },
  {
   "cell_type": "code",
   "execution_count": 6,
   "id": "0b479de5",
   "metadata": {},
   "outputs": [
    {
     "name": "stdout",
     "output_type": "stream",
     "text": [
      "lrg\n"
     ]
    }
   ],
   "source": [
    "z, b, dNdz = init_sample('lrg')"
   ]
  },
  {
   "cell_type": "code",
   "execution_count": 7,
   "id": "feca03de",
   "metadata": {},
   "outputs": [],
   "source": [
    "nz_spl = IUS(z, dNdz, ext=1)"
   ]
  },
  {
   "cell_type": "code",
   "execution_count": 8,
   "id": "de9f9cd2",
   "metadata": {},
   "outputs": [
    {
     "data": {
      "text/plain": [
       "39.77485539251425"
      ]
     },
     "execution_count": 8,
     "metadata": {},
     "output_type": "execute_result"
    }
   ],
   "source": [
    "dNdz_norm = quad(nz_spl, *np.percentile(z, [0, 100]), limit=100)[0]\n",
    "dNdz_norm"
   ]
  },
  {
   "cell_type": "code",
   "execution_count": 12,
   "id": "2bcd11b1",
   "metadata": {},
   "outputs": [
    {
     "name": "stdout",
     "output_type": "stream",
     "text": [
      "h         : 0.67556\n",
      "T0_cmb    : 2.7255\n",
      "Omega0_b  : 0.0482754208891869\n",
      "Omega0_cdm: 0.26377065934278865\n",
      "N_ur      : None\n",
      "m_ncdm    : [0.06]\n",
      "P_k_max   : 10.0\n",
      "P_z_max   : 100.0\n",
      "sigma8    : 0.8225\n",
      "gauge     : synchronous\n",
      "n_s       : 0.9667\n",
      "nonlinear : False\n",
      "p = 1.0\n"
     ]
    }
   ],
   "source": [
    "sp = Spectrum()\n",
    "sp.add_tracer(z, b, dNdz)"
   ]
  },
  {
   "cell_type": "code",
   "execution_count": 25,
   "id": "63bee1f7",
   "metadata": {},
   "outputs": [],
   "source": [
    "r = np.linspace(sp.Dc(0.01), sp.Dc(2.0), 1000)"
   ]
  },
  {
   "cell_type": "code",
   "execution_count": 35,
   "id": "8cc9c40a",
   "metadata": {},
   "outputs": [
    {
     "data": {
      "text/plain": [
       "<matplotlib.legend.Legend at 0x2b9e8f8d1cd0>"
      ]
     },
     "execution_count": 35,
     "metadata": {},
     "output_type": "execute_result"
    },
    {
     "data": {
      "image/png": "[encoded data removed]",
      "text/plain": [
       "<Figure size 432x288 with 1 Axes>"
      ]
     },
     "metadata": {
      "needs_background": "light"
     },
     "output_type": "display_data"
    }
   ],
   "source": [
    "plt.plot(r, sp.fr_wk(r), lw=4, label='Galaxy')\n",
    "plt.plot(r, sp.fr_wrk(r), label='RSD')\n",
    "plt.plot(r, sp.fr_wkfnl1(r)+sp.fr_wkfnl2(r), lw=4, label='FNL')\n",
    "plt.plot(r, sp.fr_wkmag(r), label='Magnification')\n",
    "plt.legend()"
   ]
  },
  {
   "cell_type": "code",
   "execution_count": null,
   "id": "5f407a9c",
   "metadata": {},
   "outputs": [],
   "source": []
  },
  {
   "cell_type": "code",
   "execution_count": null,
   "id": "a3ea6ed2",
   "metadata": {},
   "outputs": [],
   "source": []
  },
  {
   "cell_type": "code",
   "execution_count": 9,
   "id": "754d3c78",
   "metadata": {},
   "outputs": [],
   "source": [
    "nz = IUS(z, dNdz/dNdz_norm)"
   ]
  },
  {
   "cell_type": "code",
   "execution_count": 10,
   "id": "5b2f7796",
   "metadata": {},
   "outputs": [],
   "source": [
    "s = 0.999\n",
    "z_g = np.linspace(0.1, 1.5, 140)\n"
   ]
  },
  {
   "cell_type": "code",
   "execution_count": 11,
   "id": "b6616db7",
   "metadata": {},
   "outputs": [],
   "source": []
  },
  {
   "cell_type": "code",
   "execution_count": 12,
   "id": "070d1f08",
   "metadata": {},
   "outputs": [
    {
     "data": {
      "text/plain": [
       "[<matplotlib.lines.Line2D at 0x2af8fb5b6d30>]"
      ]
     },
     "execution_count": 12,
     "metadata": {},
     "output_type": "execute_result"
    },
    {
     "data": {
      "image/png": "[encoded data removed]",
      "text/plain": [
       "<Figure size 432x288 with 1 Axes>"
      ]
     },
     "metadata": {
      "needs_background": "light"
     },
     "output_type": "display_data"
    }
   ],
   "source": [
    "plt.plot(z, w_mag)"
   ]
  },
  {
   "cell_type": "code",
   "execution_count": null,
   "id": "f805fc7d",
   "metadata": {},
   "outputs": [],
   "source": []
  }
 ],
 "metadata": {
  "kernelspec": {
   "display_name": "sysnet",
   "language": "python",
   "name": "sysnet"
  },
  "language_info": {
   "codemirror_mode": {
    "name": "ipython",
    "version": 3
   },
   "file_extension": ".py",
   "mimetype": "text/x-python",
   "name": "python",
   "nbconvert_exporter": "python",
   "pygments_lexer": "ipython3",
   "version": "3.8.12"
  }
 },
 "nbformat": 4,
 "nbformat_minor": 5
}
