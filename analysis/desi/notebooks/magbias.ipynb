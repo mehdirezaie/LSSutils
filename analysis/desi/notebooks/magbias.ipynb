{
 "cells": [
  {
   "cell_type": "code",
   "execution_count": 1,
   "id": "d2e636cb",
   "metadata": {},
   "outputs": [],
   "source": [
    "%load_ext autoreload\n",
    "%autoreload 2"
   ]
  },
  {
   "cell_type": "code",
   "execution_count": 2,
   "id": "23b43f0b",
   "metadata": {},
   "outputs": [],
   "source": [
    "import sys\n",
    "sys.path.insert(0, '/users/PHS0336/medirz90/github/LSSutils')"
   ]
  },
  {
   "cell_type": "code",
   "execution_count": 3,
   "id": "9fff26bd",
   "metadata": {},
   "outputs": [],
   "source": [
    "from lssutils.theory.cell import Spectrum, init_sample\n",
    "import matplotlib.pyplot as plt\n",
    "from scipy.interpolate import InterpolatedUnivariateSpline as IUS\n",
    "from scipy.integrate import romberg\n",
    "import numpy as np"
   ]
  },
  {
   "cell_type": "code",
   "execution_count": 4,
   "id": "c2fbe5ee",
   "metadata": {},
   "outputs": [],
   "source": [
    "import nbodykit.cosmology as cosmology"
   ]
  },
  {
   "cell_type": "code",
   "execution_count": 5,
   "id": "fe9c21f3",
   "metadata": {},
   "outputs": [],
   "source": [
    "cosmo = cosmology.Planck15"
   ]
  },
  {
   "cell_type": "code",
   "execution_count": 9,
   "id": "2d7d4032",
   "metadata": {},
   "outputs": [],
   "source": [
    "chi = cosmo.comoving_distance"
   ]
  },
  {
   "cell_type": "code",
   "execution_count": 10,
   "id": "0b479de5",
   "metadata": {},
   "outputs": [
    {
     "name": "stdout",
     "output_type": "stream",
     "text": [
      "lrg\n"
     ]
    }
   ],
   "source": [
    "z, b, dNdz = init_sample('lrg')"
   ]
  },
  {
   "cell_type": "code",
   "execution_count": 63,
   "id": "32bab1e4",
   "metadata": {},
   "outputs": [],
   "source": [
    "nz_spl = IUS(z, dNdz, ext=1)"
   ]
  },
  {
   "cell_type": "code",
   "execution_count": 128,
   "id": "18a600f9",
   "metadata": {},
   "outputs": [
    {
     "data": {
      "text/plain": [
       "(0.1, 1.5)"
      ]
     },
     "execution_count": 128,
     "metadata": {},
     "output_type": "execute_result"
    },
    {
     "data": {
      "image/png": "[encoded data removed]",
      "text/plain": [
       "<Figure size 432x288 with 1 Axes>"
      ]
     },
     "metadata": {
      "needs_background": "light"
     },
     "output_type": "display_data"
    }
   ],
   "source": [
    "plt.plot(z, dNdz)\n",
    "plt.xlim(0.1, 1.5)"
   ]
  },
  {
   "cell_type": "code",
   "execution_count": 130,
   "id": "de9f9cd2",
   "metadata": {},
   "outputs": [
    {
     "name": "stderr",
     "output_type": "stream",
     "text": [
      "/tmp/slurmtmp.23924394/ipykernel_196264/3729171374.py:1: IntegrationWarning: The maximum number of subdivisions (50) has been achieved.\n",
      "  If increasing the limit yields no improvement it is advised to analyze \n",
      "  the integrand in order to determine the difficulties.  If the position of a \n",
      "  local difficulty can be determined (singularity, discontinuity) one will \n",
      "  probably gain from splitting up the interval and calling the integrator \n",
      "  on the subranges.  Perhaps a special-purpose integrator should be used.\n",
      "  dNdz_norm = quad(nz_spl, 0.1, 1.5)[0]\n"
     ]
    },
    {
     "data": {
      "text/plain": [
       "39.78059587641965"
      ]
     },
     "execution_count": 130,
     "metadata": {},
     "output_type": "execute_result"
    }
   ],
   "source": [
    "dNdz_norm = quad(nz_spl, 0.1, 1.5)[0]\n",
    "dNdz_norm"
   ]
  },
  {
   "cell_type": "code",
   "execution_count": 24,
   "id": "c92d7d05",
   "metadata": {},
   "outputs": [],
   "source": [
    "from scipy.integrate import quad"
   ]
  },
  {
   "cell_type": "code",
   "execution_count": 155,
   "id": "b6616db7",
   "metadata": {},
   "outputs": [],
   "source": [
    "s = 0.999\n",
    "z_g = np.linspace(0.1, 1.5, 140)\n",
    "w_mag = np.zeros(z_g.size)*np.nan\n",
    "\n",
    "for i, z_i in enumerate(z_g):\n",
    "    \n",
    "    intg = IUS(z, (dNdz/dNdz_norm) * chi(z) * (chi(z_i) - chi(z)) / chi(z_i), ext=1)\n",
    "    w_mag[i] = quad(intg, z_i, 1.5, limit=100)[0]"
   ]
  },
  {
   "cell_type": "code",
   "execution_count": 151,
   "id": "070d1f08",
   "metadata": {},
   "outputs": [
    {
     "data": {
      "text/plain": [
       "[<matplotlib.lines.Line2D at 0x2b0937b61550>]"
      ]
     },
     "execution_count": 151,
     "metadata": {},
     "output_type": "execute_result"
    },
    {
     "data": {
      "image/png": "[encoded data removed]",
      "text/plain": [
       "<Figure size 432x288 with 1 Axes>"
      ]
     },
     "metadata": {
      "needs_background": "light"
     },
     "output_type": "display_data"
    }
   ],
   "source": [
    "plt.plot(z_g, abs(w_mag))\n",
    "#plt.ylim(-1000, 100)"
   ]
  },
  {
   "cell_type": "code",
   "execution_count": null,
   "id": "1fac726d",
   "metadata": {},
   "outputs": [],
   "source": []
  }
 ],
 "metadata": {
  "kernelspec": {
   "display_name": "sysnet",
   "language": "python",
   "name": "sysnet"
  },
  "language_info": {
   "codemirror_mode": {
    "name": "ipython",
    "version": 3
   },
   "file_extension": ".py",
   "mimetype": "text/x-python",
   "name": "python",
   "nbconvert_exporter": "python",
   "pygments_lexer": "ipython3",
   "version": "3.8.12"
  }
 },
 "nbformat": 4,
 "nbformat_minor": 5
}
