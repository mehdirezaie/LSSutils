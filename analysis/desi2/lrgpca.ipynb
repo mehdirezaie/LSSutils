{
 "cells": [
  {
   "cell_type": "code",
   "execution_count": 13,
   "id": "95966573",
   "metadata": {},
   "outputs": [],
   "source": [
    "import fitsio as ft\n",
    "import numpy as np\n",
    "import matplotlib.pyplot as plt\n",
    "import healpy as hp\n",
    "import sys\n",
    "sys.path.append('/users/PHS0336/medirz90/github/LSSutils')\n",
    "from lssutils.utils import hpix2radec, maps_dr9"
   ]
  },
  {
   "cell_type": "code",
   "execution_count": 14,
   "id": "c5e90b96",
   "metadata": {},
   "outputs": [
    {
     "data": {
      "text/plain": [
       "['EBV',\n",
       " 'STARDENS',\n",
       " 'GALDEPTH_GMAG_EBV',\n",
       " 'GALDEPTH_RMAG_EBV',\n",
       " 'GALDEPTH_ZMAG_EBV',\n",
       " 'PSFDEPTH_W1MAG_EBV',\n",
       " 'PSFSIZE_G',\n",
       " 'PSFSIZE_R',\n",
       " 'PSFSIZE_Z']"
      ]
     },
     "execution_count": 14,
     "metadata": {},
     "output_type": "execute_result"
    }
   ],
   "source": [
    "maps_dr9"
   ]
  },
  {
   "cell_type": "code",
   "execution_count": 2,
   "id": "3e13aec9",
   "metadata": {},
   "outputs": [],
   "source": [
    "datapath = '/fs/ess/PHS0336' # on OSC\n",
    "region = 'bmzls'             # bmzls:BASS+MzLS, ndecalsc: DECaLS North, sdecalsc: DECaLS South, desic: full DESI\n",
    "data = ft.read(f'{datapath}/data/jaylrgpca/nlrg_features_{region}_256.fits')"
   ]
  },
  {
   "cell_type": "code",
   "execution_count": 3,
   "id": "7c651ce4",
   "metadata": {},
   "outputs": [
    {
     "data": {
      "text/plain": [
       "dtype([('features', '>f8', (9,)), ('label', '>f8'), ('fracgood', '>f8'), ('hpix', '>i8')])"
      ]
     },
     "execution_count": 3,
     "metadata": {},
     "output_type": "execute_result"
    }
   ],
   "source": [
    "data.dtype # features: imaging properties, label: galaxy counts, hpix: HEALPix pixel id (ring, nside=256)"
   ]
  },
  {
   "cell_type": "code",
   "execution_count": 4,
   "id": "775aa953",
   "metadata": {},
   "outputs": [],
   "source": [
    "ra,dec = hpix2radec(256, data['hpix'])"
   ]
  },
  {
   "cell_type": "code",
   "execution_count": 5,
   "id": "92185aa4",
   "metadata": {},
   "outputs": [
    {
     "data": {
      "text/plain": [
       "Text(0, 0.5, 'DEC')"
      ]
     },
     "execution_count": 5,
     "metadata": {},
     "output_type": "execute_result"
    },
    {
     "data": {
      "image/png": "[encoded data removed]",
      "text/plain": [
       "<Figure size 432x288 with 1 Axes>"
      ]
     },
     "metadata": {
      "needs_background": "light"
     },
     "output_type": "display_data"
    }
   ],
   "source": [
    "plt.scatter(ra, dec)\n",
    "plt.xlabel('RA')\n",
    "plt.ylabel('DEC')"
   ]
  },
  {
   "cell_type": "code",
   "execution_count": 6,
   "id": "5e72ce13",
   "metadata": {},
   "outputs": [
    {
     "data": {
      "text/plain": [
       "(9, 9)"
      ]
     },
     "execution_count": 6,
     "metadata": {},
     "output_type": "execute_result"
    }
   ],
   "source": [
    "cf = np.corrcoef(data['features'], rowvar=False) # make sure rowvar=False\n",
    "cf.shape"
   ]
  },
  {
   "cell_type": "code",
   "execution_count": 16,
   "id": "e5453642",
   "metadata": {},
   "outputs": [
    {
     "data": {
      "image/png": "[encoded data removed]",
      "text/plain": [
       "<Figure size 432x288 with 1 Axes>"
      ]
     },
     "metadata": {
      "needs_background": "light"
     },
     "output_type": "display_data"
    }
   ],
   "source": [
    "plt.imshow(cf, origin='lower')\n",
    "_ = plt.yticks(np.arange(9), maps_dr9)"
   ]
  },
  {
   "cell_type": "code",
   "execution_count": 17,
   "id": "5b413004",
   "metadata": {},
   "outputs": [],
   "source": [
    "from sklearn.decomposition import PCA"
   ]
  },
  {
   "cell_type": "code",
   "execution_count": 29,
   "id": "792ab258",
   "metadata": {},
   "outputs": [],
   "source": [
    "pca = PCA(n_components=9)"
   ]
  },
  {
   "cell_type": "code",
   "execution_count": 30,
   "id": "cc2ea0ae",
   "metadata": {},
   "outputs": [],
   "source": [
    "x = data['features']"
   ]
  },
  {
   "cell_type": "code",
   "execution_count": 31,
   "id": "bc882583",
   "metadata": {},
   "outputs": [],
   "source": [
    "xt = pca.fit_transform(x)"
   ]
  },
  {
   "cell_type": "code",
   "execution_count": 32,
   "id": "ee3a78cd",
   "metadata": {},
   "outputs": [],
   "source": [
    "cf_t = np.corrcoef(xt, rowvar=False)"
   ]
  },
  {
   "cell_type": "code",
   "execution_count": 33,
   "id": "ecf8823c",
   "metadata": {},
   "outputs": [
    {
     "data": {
      "text/plain": [
       "<matplotlib.image.AxesImage at 0x2baac59e5b20>"
      ]
     },
     "execution_count": 33,
     "metadata": {},
     "output_type": "execute_result"
    },
    {
     "data": {
      "image/png": "[encoded data removed]",
      "text/plain": [
       "<Figure size 432x288 with 1 Axes>"
      ]
     },
     "metadata": {
      "needs_background": "light"
     },
     "output_type": "display_data"
    }
   ],
   "source": [
    "plt.imshow(cf_t, origin='lower')"
   ]
  },
  {
   "cell_type": "code",
   "execution_count": 34,
   "id": "ca03ef29",
   "metadata": {},
   "outputs": [
    {
     "data": {
      "text/plain": [
       "array([5.09090685e+05, 5.83830040e-02, 4.44011202e-02, 3.27277707e-02,\n",
       "       2.62260749e-02, 2.00565376e-02, 1.12296502e-02, 9.84262249e-03,\n",
       "       4.23802633e-04])"
      ]
     },
     "execution_count": 34,
     "metadata": {},
     "output_type": "execute_result"
    }
   ],
   "source": [
    "pca.explained_variance_"
   ]
  },
  {
   "cell_type": "code",
   "execution_count": 45,
   "id": "e9b6a8b6",
   "metadata": {},
   "outputs": [
    {
     "data": {
      "text/plain": [
       "(98027, 9)"
      ]
     },
     "execution_count": 45,
     "metadata": {},
     "output_type": "execute_result"
    }
   ],
   "source": [
    "x.shape"
   ]
  },
  {
   "cell_type": "code",
   "execution_count": 47,
   "id": "013c35f6",
   "metadata": {},
   "outputs": [
    {
     "data": {
      "text/plain": [
       "(9, 9)"
      ]
     },
     "execution_count": 47,
     "metadata": {},
     "output_type": "execute_result"
    }
   ],
   "source": [
    "pca.components_.shape"
   ]
  },
  {
   "cell_type": "code",
   "execution_count": 48,
   "id": "364c6a40",
   "metadata": {},
   "outputs": [
    {
     "data": {
      "text/plain": [
       "array([[ 2.63328012e+01,  1.28645675e-01, -1.42300924e+02, ...,\n",
       "         4.57870352e+02,  7.08373082e+02,  1.10889228e+02],\n",
       "       [ 3.38629153e+01,  1.42177349e-01, -1.80322180e+02, ...,\n",
       "         5.96544466e+02,  9.37056844e+02,  1.42572669e+02],\n",
       "       [ 2.46378053e+01,  1.43816108e-01, -1.32142148e+02, ...,\n",
       "         4.20459730e+02,  6.47591944e+02,  1.02333666e+02],\n",
       "       ...,\n",
       "       [ 1.09728097e+02,  8.54086059e-02, -5.63614616e+02, ...,\n",
       "         1.99157951e+03,  3.24043672e+03,  4.62704120e+02],\n",
       "       [ 9.81998043e+01,  7.12857979e-02, -5.05523161e+02, ...,\n",
       "         1.77875475e+03,  2.88982195e+03,  4.13878285e+02],\n",
       "       [ 1.13465738e+02,  8.63667963e-02, -5.84167162e+02, ...,\n",
       "         2.06473067e+03,  3.36312452e+03,  4.79220906e+02]])"
      ]
     },
     "execution_count": 48,
     "metadata": {},
     "output_type": "execute_result"
    }
   ],
   "source": [
    "x.dot(pca.components_)"
   ]
  },
  {
   "cell_type": "code",
   "execution_count": 58,
   "id": "7f59f51c",
   "metadata": {},
   "outputs": [
    {
     "data": {
      "text/plain": [
       "<matplotlib.image.AxesImage at 0x2baac59e6580>"
      ]
     },
     "execution_count": 58,
     "metadata": {},
     "output_type": "execute_result"
    },
    {
     "data": {
      "image/png": "[encoded data removed]",
      "text/plain": [
       "<Figure size 432x288 with 1 Axes>"
      ]
     },
     "metadata": {
      "needs_background": "light"
     },
     "output_type": "display_data"
    }
   ],
   "source": [
    "plt.imshow(pca.components_)"
   ]
  },
  {
   "cell_type": "code",
   "execution_count": 52,
   "id": "aaba579e",
   "metadata": {},
   "outputs": [
    {
     "data": {
      "text/plain": [
       "array([[1.29611596e-01, 9.15055176e+02, 2.34855309e+01, ...,\n",
       "        1.79487324e+00, 2.17911959e+00, 1.22615516e+00],\n",
       "       [1.43033177e-01, 1.20100989e+03, 2.36261253e+01, ...,\n",
       "        1.91033542e+00, 2.15306735e+00, 1.23995674e+00],\n",
       "       [1.44845113e-01, 8.38800598e+02, 2.29834461e+01, ...,\n",
       "        2.13725019e+00, 2.11030626e+00, 1.52904129e+00],\n",
       "       ...,\n",
       "       [8.51117149e-02, 4.07962109e+03, 2.38312416e+01, ...,\n",
       "        2.40052199e+00, 2.47396922e+00, 1.29977417e+00],\n",
       "       [7.11834878e-02, 3.64115698e+03, 2.34857960e+01, ...,\n",
       "        3.03975916e+00, 2.52605581e+00, 1.27793860e+00],\n",
       "       [8.60183239e-02, 4.23213037e+03, 2.30137138e+01, ...,\n",
       "        3.32859850e+00, 2.57167172e+00, 9.77030218e-01]])"
      ]
     },
     "execution_count": 52,
     "metadata": {},
     "output_type": "execute_result"
    }
   ],
   "source": [
    "x"
   ]
  }
 ],
 "metadata": {
  "kernelspec": {
   "display_name": "sysnet",
   "language": "python",
   "name": "sysnet"
  },
  "language_info": {
   "codemirror_mode": {
    "name": "ipython",
    "version": 3
   },
   "file_extension": ".py",
   "mimetype": "text/x-python",
   "name": "python",
   "nbconvert_exporter": "python",
   "pygments_lexer": "ipython3",
   "version": "3.8.12"
  }
 },
 "nbformat": 4,
 "nbformat_minor": 5
}
