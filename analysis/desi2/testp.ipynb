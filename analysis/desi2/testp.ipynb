{
 "cells": [
  {
   "cell_type": "code",
   "execution_count": 1,
   "id": "789671c0",
   "metadata": {},
   "outputs": [],
   "source": [
    "import matplotlib.pyplot as plt\n",
    "import numpy as np"
   ]
  },
  {
   "cell_type": "code",
   "execution_count": 13,
   "id": "30ded29e",
   "metadata": {},
   "outputs": [],
   "source": [
    "d0 = np.load('/fs/ess/PHS0336/data/rongpu/imaging_sys/mcmc/0.57.0/logmcmc_lrg_zero_desic_dnnp_known1_steps10k_walkers50_elmin0.npz')\n",
    "d1 = np.load('/fs/ess/PHS0336/data/rongpu/imaging_sys/mcmc/0.57.0/logmcmc_lrg_zero_desicp1p6_dnnp_known1_steps10k_walkers50_elmin0.npz')"
   ]
  },
  {
   "cell_type": "code",
   "execution_count": 14,
   "id": "19e2093b",
   "metadata": {},
   "outputs": [],
   "source": [
    "a, b = 1.17, 13.95*1.3"
   ]
  },
  {
   "cell_type": "code",
   "execution_count": 15,
   "id": "ff739ba8",
   "metadata": {},
   "outputs": [],
   "source": [
    "fnl0 = (a*d0['chain'][5000:, :, 0].flatten()+b)/1.3\n",
    "fnl1 = (a*d1['chain'][5000:, :, 0].flatten()+b)/1.3"
   ]
  },
  {
   "cell_type": "code",
   "execution_count": 16,
   "id": "617ad335",
   "metadata": {},
   "outputs": [
    {
     "data": {
      "text/plain": [
       "([], <a list of 0 Text yticklabel objects>)"
      ]
     },
     "execution_count": 16,
     "metadata": {},
     "output_type": "execute_result"
    },
    {
     "data": {
      "image/png": "[encoded data removed]",
      "text/plain": [
       "<Figure size 432x288 with 1 Axes>"
      ]
     },
     "metadata": {
      "needs_background": "light"
     },
     "output_type": "display_data"
    }
   ],
   "source": [
    "plt.hist(fnl0, range=(-150, 250), bins=80, histtype='step', label='p = 1')\n",
    "plt.hist(fnl1, range=(-150, 250), bins=80, histtype='step', label='p = 1.6')\n",
    "#plt.hist((a*d1['chain'][5000:, :, 0].flatten()+b)/1.3/1.6, range=(-150, 250), bins=80, histtype='step', label='p = 1.6')\n",
    "plt.xlabel('fNL')\n",
    "plt.legend(title='DESI footprint')\n",
    "plt.yticks([])"
   ]
  },
  {
   "cell_type": "code",
   "execution_count": 21,
   "id": "d9b6399f",
   "metadata": {},
   "outputs": [
    {
     "data": {
      "text/plain": [
       "0.999992"
      ]
     },
     "execution_count": 21,
     "metadata": {},
     "output_type": "execute_result"
    }
   ],
   "source": [
    "(fnl0>0).mean()"
   ]
  },
  {
   "cell_type": "code",
   "execution_count": 22,
   "id": "29374134",
   "metadata": {},
   "outputs": [
    {
     "data": {
      "text/plain": [
       "0.999888"
      ]
     },
     "execution_count": 22,
     "metadata": {},
     "output_type": "execute_result"
    }
   ],
   "source": [
    "(fnl1>0).mean()"
   ]
  },
  {
   "cell_type": "code",
   "execution_count": 23,
   "id": "516f2674",
   "metadata": {},
   "outputs": [
    {
     "name": "stdout",
     "output_type": "stream",
     "text": [
      "\r\n",
      "o0027.ten.osc.edu:\r\n",
      "                                                                               Req'd  Req'd   Elap \r\n",
      "Job id               Username Queue    Name                 SessID NDS   TSK   Memory Time Use S Time \r\n",
      "-------------------- -------- -------- -------------------- ------ ----- ----- ------ ----- - -----\r\n",
      "26439053             medirz90 serial   ondemand/sys/dashboa --         1     2     -- 01:00 R 00:44\r\n"
     ]
    }
   ],
   "source": [
    "!qstat -u medirz90"
   ]
  },
  {
   "cell_type": "code",
   "execution_count": null,
   "id": "ccb0d0ab",
   "metadata": {},
   "outputs": [],
   "source": []
  }
 ],
 "metadata": {
  "kernelspec": {
   "display_name": "sysnet",
   "language": "python",
   "name": "sysnet"
  },
  "language_info": {
   "codemirror_mode": {
    "name": "ipython",
    "version": 3
   },
   "file_extension": ".py",
   "mimetype": "text/x-python",
   "name": "python",
   "nbconvert_exporter": "python",
   "pygments_lexer": "ipython3",
   "version": "3.8.12"
  }
 },
 "nbformat": 4,
 "nbformat_minor": 5
}
