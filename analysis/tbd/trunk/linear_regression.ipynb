{
 "cells": [
  {
   "cell_type": "markdown",
   "metadata": {},
   "source": [
    "# TensorFlow 2.x"
   ]
  },
  {
   "cell_type": "markdown",
   "metadata": {},
   "source": [
    "1. Create a mock dataset with a Gaussian noise\n",
    "2. Set up a linear model f(x) = w x + b where w and b are the slope and intercept (bias) respectively.\n",
    "3. Set up a cost function to be minimized in order to find the best values for w and b\n",
    "4. Perform Gradient descent to minimize the cost."
   ]
  },
  {
   "cell_type": "code",
   "execution_count": 1,
   "metadata": {},
   "outputs": [
    {
     "name": "stdout",
     "output_type": "stream",
     "text": [
      "2.0.0-beta1\n"
     ]
    }
   ],
   "source": [
    "%matplotlib inline\n",
    "import matplotlib.pyplot as plt\n",
    "import tensorflow as tf\n",
    "print(tf.__version__)"
   ]
  },
  {
   "cell_type": "code",
   "execution_count": 2,
   "metadata": {},
   "outputs": [],
   "source": [
    "plt.rc('font', family='fantasy', size=20)"
   ]
  },
  {
   "cell_type": "markdown",
   "metadata": {},
   "source": [
    "## Data"
   ]
  },
  {
   "cell_type": "markdown",
   "metadata": {},
   "source": [
    "Create a set of mock data"
   ]
  },
  {
   "cell_type": "code",
   "execution_count": 3,
   "metadata": {},
   "outputs": [],
   "source": [
    "tf.random.set_seed(12345)\n",
    "\n",
    "w_true   = 3.0\n",
    "b_true   = 2.0\n",
    "num_data = 100\n",
    "sigma    = 0.5\n",
    "\n",
    "inputs  = tf.random.uniform(minval=0, maxval=1., shape=[num_data, 1])\n",
    "noise   = tf.random.normal(mean=0.0, stddev=sigma, shape=[num_data, 1])\n",
    "outputs = inputs * w_true + b_true + noise\n",
    "\n",
    "\n",
    "# #\n",
    "# #   Z-score standardization\n",
    "# # \n",
    "# if scale:        \n",
    "#     mean    = tf.math.reduce_mean(inputs)\n",
    "#     std     = tf.math.reduce_std(inputs)\n",
    "#     tmean   = tf.math.reduce_mean(outputs)\n",
    "#     tstd    = tf.math.reduce_std(outputs)\n",
    "\n",
    "#     inputs  = tf.divide(tf.subtract(inputs, mean), std)\n",
    "#     outputs = tf.divide(tf.subtract(outputs, tmean), tstd)\n",
    "\n",
    "dataset = tf.data.Dataset.from_tensor_slices((inputs, outputs)) "
   ]
  },
  {
   "cell_type": "code",
   "execution_count": 4,
   "metadata": {},
   "outputs": [],
   "source": [
    "class Model(object):\n",
    "    def __init__(self):\n",
    "        nfeatures = 1\n",
    "        self.w_1 = tf.Variable(tf.random.truncated_normal([nfeatures, 1]), name='w_1')\n",
    "        self.b_1 = tf.Variable(tf.random.truncated_normal([1, 1]), name='b_1')        \n",
    "        #self.w_1 = tf.Variable(tf.zeros([nfeatures, 1]), name='w_1')\n",
    "        #self.b_1 = tf.Variable(tf.ones([1, 1]), name='b_1')\n",
    "\n",
    "    def __call__(self, a_0):\n",
    "        a_1  = tf.add(tf.matmul(a_0, self.w_1), self.b_1)\n",
    "        return a_1\n",
    "\n",
    "def train(model, dataset, learning_rate, batch_size=5, data_size=100):\n",
    "    #pbar = tqdm.tqdm(total=data_size)\n",
    "    for x,y in dataset.batch(batch_size):            \n",
    "        #\n",
    "        #with tf.GradientTape() as t:\n",
    "        #    current_loss = loss(model(x), y)\n",
    "        #    dw1, db1 = t.gradient(current_loss, [model.w_1, model.b_1])\n",
    "        #\n",
    "        diff = tf.subtract(model(x), y) \n",
    "        db1  = tf.reduce_sum(diff, axis=0)[:, tf.newaxis]\n",
    "        dw1  = tf.matmul(tf.transpose(x), diff)\n",
    "        model.w_1.assign_sub(learning_rate * dw1)\n",
    "        model.b_1.assign_sub(learning_rate * db1)\n",
    "        #pbar.update(batch_size)\n",
    "    #pbar.close()\n",
    "\n",
    "def loss(predicted_y, desired_y):\n",
    "    return tf.reduce_mean(tf.square(predicted_y - desired_y))"
   ]
  },
  {
   "cell_type": "markdown",
   "metadata": {},
   "source": [
    "## Unscaled data"
   ]
  },
  {
   "cell_type": "code",
   "execution_count": 5,
   "metadata": {},
   "outputs": [
    {
     "data": {
      "text/plain": [
       "<matplotlib.collections.PathCollection at 0x6287dcb38>"
      ]
     },
     "execution_count": 5,
     "metadata": {},
     "output_type": "execute_result"
    },
    {
     "data": {
      "image/png": "[encoded data removed]",
      "text/plain": [
       "<Figure size 432x288 with 1 Axes>"
      ]
     },
     "metadata": {
      "needs_background": "light"
     },
     "output_type": "display_data"
    }
   ],
   "source": [
    "model = Model()\n",
    "plt.scatter(inputs, outputs, marker='.', color='k')\n",
    "plt.scatter(inputs, model(inputs), marker='.', color='r')"
   ]
  },
  {
   "cell_type": "markdown",
   "metadata": {},
   "source": [
    "## Training"
   ]
  },
  {
   "cell_type": "code",
   "execution_count": 6,
   "metadata": {
    "scrolled": false
   },
   "outputs": [
    {
     "name": "stdout",
     "output_type": "stream",
     "text": [
      "Epoch  0 :     w= 0.43    b= 0.87    loss= 6.19891\n",
      "Epoch  1 :     w= 1.23    b= 2.21    loss= 0.89048\n",
      "Epoch  2 :     w= 1.51    b= 2.55    loss= 0.45363\n",
      "Epoch  3 :     w= 1.66    b= 2.62    loss= 0.40267\n",
      "Epoch  4 :     w= 1.75    b= 2.61    loss= 0.38376\n",
      "Epoch  5 :     w= 1.84    b= 2.58    loss= 0.36897\n",
      "Epoch  6 :     w= 1.91    b= 2.55    loss= 0.35598\n",
      "Epoch  7 :     w= 1.98    b= 2.52    loss= 0.34445\n",
      "Epoch  8 :     w= 2.04    b= 2.49    loss= 0.33422\n",
      "Epoch  9 :     w= 2.10    b= 2.46    loss= 0.32514\n",
      "Epoch 10 :     w= 2.16    b= 2.43    loss= 0.31709\n",
      "Epoch 11 :     w= 2.21    b= 2.40    loss= 0.30994\n",
      "Epoch 12 :     w= 2.26    b= 2.38    loss= 0.30361\n",
      "Epoch 13 :     w= 2.31    b= 2.35    loss= 0.29798\n",
      "Epoch 14 :     w= 2.36    b= 2.33    loss= 0.29299\n",
      "Epoch 15 :     w= 2.40    b= 2.31    loss= 0.28856\n",
      "Epoch 16 :     w= 2.44    b= 2.29    loss= 0.28464\n",
      "Epoch 17 :     w= 2.48    b= 2.27    loss= 0.28115\n",
      "Epoch 18 :     w= 2.51    b= 2.26    loss= 0.27806\n",
      "Epoch 19 :     w= 2.55    b= 2.24    loss= 0.27531\n",
      "Epoch 20 :     w= 2.58    b= 2.23    loss= 0.27288\n",
      "Epoch 21 :     w= 2.61    b= 2.21    loss= 0.27072\n",
      "Epoch 22 :     w= 2.63    b= 2.20    loss= 0.26880\n",
      "Epoch 23 :     w= 2.66    b= 2.18    loss= 0.26710\n",
      "Epoch 24 :     w= 2.68    b= 2.17    loss= 0.26559\n",
      "Epoch 25 :     w= 2.71    b= 2.16    loss= 0.26425\n",
      "Epoch 26 :     w= 2.73    b= 2.15    loss= 0.26306\n",
      "Epoch 27 :     w= 2.75    b= 2.14    loss= 0.26200\n",
      "Epoch 28 :     w= 2.77    b= 2.13    loss= 0.26106\n",
      "Epoch 29 :     w= 2.79    b= 2.12    loss= 0.26023\n",
      "Epoch 30 :     w= 2.81    b= 2.11    loss= 0.25949\n",
      "Epoch 31 :     w= 2.82    b= 2.11    loss= 0.25884\n",
      "Epoch 32 :     w= 2.84    b= 2.10    loss= 0.25826\n",
      "Epoch 33 :     w= 2.85    b= 2.09    loss= 0.25774\n",
      "Epoch 34 :     w= 2.86    b= 2.08    loss= 0.25728\n",
      "Epoch 35 :     w= 2.88    b= 2.08    loss= 0.25687\n",
      "Epoch 36 :     w= 2.89    b= 2.07    loss= 0.25651\n",
      "Epoch 37 :     w= 2.90    b= 2.07    loss= 0.25619\n",
      "Epoch 38 :     w= 2.91    b= 2.06    loss= 0.25590\n",
      "Epoch 39 :     w= 2.92    b= 2.06    loss= 0.25565\n",
      "Epoch 40 :     w= 2.93    b= 2.05    loss= 0.25543\n",
      "Epoch 41 :     w= 2.94    b= 2.05    loss= 0.25523\n",
      "Epoch 42 :     w= 2.95    b= 2.04    loss= 0.25505\n",
      "Epoch 43 :     w= 2.96    b= 2.04    loss= 0.25489\n",
      "Epoch 44 :     w= 2.96    b= 2.04    loss= 0.25475\n",
      "Epoch 45 :     w= 2.97    b= 2.03    loss= 0.25463\n",
      "Epoch 46 :     w= 2.98    b= 2.03    loss= 0.25451\n",
      "Epoch 47 :     w= 2.98    b= 2.03    loss= 0.25442\n",
      "Epoch 48 :     w= 2.99    b= 2.02    loss= 0.25433\n",
      "Epoch 49 :     w= 2.99    b= 2.02    loss= 0.25425\n"
     ]
    }
   ],
   "source": [
    "# Collect the history of W-values and b-values to plot later\n",
    "model = Model()\n",
    "w1 = []\n",
    "b1 = []\n",
    "num_epochs = 50\n",
    "\n",
    "for epoch in range(num_epochs):    \n",
    "    current_loss = loss(model(inputs), outputs)\n",
    "    print('Epoch %2d :     w=%5.2f    b=%5.2f    loss=%8.5f'\n",
    "         %(epoch, model.w_1.numpy(), model.b_1.numpy(), current_loss))\n",
    "    w1 += [model.w_1.numpy()[0][0]]\n",
    "    b1 += [model.b_1.numpy()[0][0]]\n",
    "    \n",
    "    train(model, dataset, learning_rate=0.01, batch_size=5)"
   ]
  },
  {
   "cell_type": "code",
   "execution_count": 7,
   "metadata": {},
   "outputs": [
    {
     "data": {
      "text/plain": [
       "<matplotlib.collections.PathCollection at 0x628906668>"
      ]
     },
     "execution_count": 7,
     "metadata": {},
     "output_type": "execute_result"
    },
    {
     "data": {
      "image/png": "[encoded data removed]",
      "text/plain": [
       "<Figure size 432x288 with 1 Axes>"
      ]
     },
     "metadata": {
      "needs_background": "light"
     },
     "output_type": "display_data"
    }
   ],
   "source": [
    "plt.scatter(inputs, outputs, marker='.', color='k')\n",
    "plt.scatter(inputs, model(inputs), marker='.', color='r')"
   ]
  },
  {
   "cell_type": "markdown",
   "metadata": {},
   "source": [
    "## Grid search "
   ]
  },
  {
   "cell_type": "code",
   "execution_count": 8,
   "metadata": {},
   "outputs": [],
   "source": [
    "model = Model()   # initiate the model\n",
    "\n",
    "w_grid = tf.range(-2.,  5, 0.1)\n",
    "b_grid = tf.range(-2., 5., 0.1)\n",
    "\n",
    "loss_value = []\n",
    "for w_i in w_grid:\n",
    "    for b_i in b_grid:        \n",
    "        model.w_1.assign([[w_i]])\n",
    "        model.b_1.assign([[b_i]])        \n",
    "        loss_value.append(loss(model(inputs), outputs))\n",
    "        \n",
    "Loss     = tf.Variable(loss_value)        \n",
    "Loss_min = tf.reduce_min(Loss)        \n",
    "dLoss    = tf.subtract(Loss, Loss_min)    # subtract the min\n",
    "dLoss    = tf.reshape(Loss, (w_grid.shape[0], b_grid.shape[0])) # reshape"
   ]
  },
  {
   "cell_type": "markdown",
   "metadata": {},
   "source": [
    "## Visualization"
   ]
  },
  {
   "cell_type": "code",
   "execution_count": 9,
   "metadata": {},
   "outputs": [
    {
     "data": {
      "text/plain": [
       "<matplotlib.colorbar.Colorbar at 0x628419b38>"
      ]
     },
     "execution_count": 9,
     "metadata": {},
     "output_type": "execute_result"
    },
    {
     "data": {
      "image/png": "[encoded data removed]",
      "text/plain": [
       "<Figure size 720x576 with 2 Axes>"
      ]
     },
     "metadata": {
      "needs_background": "light"
     },
     "output_type": "display_data"
    }
   ],
   "source": [
    "plt.figure(figsize=(10, 8))\n",
    "plt.contourf(b_grid, \n",
    "             w_grid, \n",
    "             dLoss,\n",
    "             alpha=0.5,\n",
    "             cmap=plt.cm.jet_r,\n",
    "             levels=[0, 0.5, 1., 1.5, 2., 4., 6., 10, 15, 20, 30, 50])\n",
    "\n",
    "plt.plot(b1, w1, 'k', marker='.') #levels=[0, 1, 10, 30, 50, 100])\n",
    "\n",
    "plt.xlabel('b')\n",
    "plt.ylabel('W')\n",
    "plt.colorbar(label='Loss - Loss_min')"
   ]
  },
  {
   "cell_type": "code",
   "execution_count": 29,
   "metadata": {},
   "outputs": [],
   "source": [
    "# Backpropagation for two layers\n",
    "\n",
    "# diff  = tf.subtract(a_2, y)\n",
    "# d_z_2 = tf.multiply(diff, sigmaprime(z_2))\n",
    "# d_b_2 = d_z_2\n",
    "# d_w_2 = tf.matmul(tf.transpose(a_1), d_z_2)\n",
    "# d_a_1 = tf.matmul(d_z_2, tf.transpose(w_2))\n",
    "# d_z_1 = tf.multiply(d_a_1, sigmaprime(z_1))\n",
    "# d_b_1 = d_z_1\n",
    "# d_w_1 = tf.matmul(tf.transpose(a_0), d_z_1)\n",
    "# eta = tf.constant(0.5)\n",
    "# w_1= tf.subtract(w_1, tf.multiply(eta, d_w_1))\n",
    "# b_1= tf.subtract(b_1, tf.multiply(eta,\n",
    "#                            tf.reduce_mean(d_b_1, axis=[0])))\n",
    "# w_2= tf.subtract(w_2, tf.multiply(eta, d_w_2))\n",
    "# b_2= tf.subtract(b_2, tf.multiply(eta,\n",
    "#                                   tf.reduce_mean(d_b_2, axis=[0])))"
   ]
  }
 ],
 "metadata": {
  "kernelspec": {
   "display_name": "Python 3",
   "language": "python",
   "name": "python3"
  },
  "language_info": {
   "codemirror_mode": {
    "name": "ipython",
    "version": 3
   },
   "file_extension": ".py",
   "mimetype": "text/x-python",
   "name": "python",
   "nbconvert_exporter": "python",
   "pygments_lexer": "ipython3",
   "version": "3.7.3"
  }
 },
 "nbformat": 4,
 "nbformat_minor": 2
}
